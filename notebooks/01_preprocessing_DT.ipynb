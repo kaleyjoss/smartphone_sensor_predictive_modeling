{
 "cells": [
  {
   "cell_type": "markdown",
   "metadata": {},
   "source": [
    "# Feature creation and translation to wide df"
   ]
  },
  {
   "cell_type": "code",
   "execution_count": null,
   "metadata": {},
   "outputs": [
    {
     "name": "stderr",
     "output_type": "stream",
     "text": [
      "/var/folders/fh/rstwtx7j73b0zwzkyzktnnrh0000gn/T/ipykernel_54572/3972348359.py:6: DtypeWarning: Columns (14,22,47,105,106,107,117,118,119,120,121,122,123,125,126,127,128) have mixed types. Specify dtype option on import or set low_memory=False.\n",
      "  df_alldays_int70 = pd.read_csv(os.path.join(brighten_dir, 'df_alldays_int70.csv'))\n",
      "/var/folders/fh/rstwtx7j73b0zwzkyzktnnrh0000gn/T/ipykernel_54572/3972348359.py:7: DtypeWarning: Columns (23,106,107,108) have mixed types. Specify dtype option on import or set low_memory=False.\n",
      "  week_df_int70 = pd.read_csv(os.path.join(brighten_dir, 'week_df_int70.csv'))\n"
     ]
    }
   ],
   "source": [
    "######################## LOAD IN FILES #############################\n",
    "import os\n",
    "import pandas as pd\n",
    "import sys\n",
    "import importlib\n",
    "\n",
    "# Get the absolute path of the project root\n",
    "project_root = os.path.abspath(os.path.join(os.getcwd(), \"..\"))\n",
    "# Define data directory\n",
    "brighten_dir = os.path.join(project_root, 'BRIGHTEN_data')\n",
    "\n",
    "# Add project root to sys.path for script usage\n",
    "sys.path.append(project_root)\n",
    "\n",
    "# Import and reload (optional) custom scripts\n",
    "from scripts import preprocessing as pre\n",
    "from scripts import visualization as vis\n",
    "importlib.reload(pre)\n",
    "importlib.reload(vis)\n",
    "\n",
    "df_alldays_int70 = pd.read_csv(os.path.join(brighten_dir, 'df_alldays_int70.csv'))\n",
    "week_df_int70 = pd.read_csv(os.path.join(brighten_dir, 'week_df_int70.csv'))\n",
    "\n",
    "\n",
    "## Weekly cols\n",
    "phq9_cols = ['phq9_1','phq9_2','phq9_3','phq9_4','phq9_5','phq9_6','phq9_7','phq9_8','phq9_9','phq9_sum','phq9_cat']\n",
    "sds_cols = ['sds_1','sds_2','sds_3','stress','support']\n",
    "sleep_cols = ['sleep_1','sleep_2','sleep_3']\n",
    "gic_cols = ['mood_1']\n",
    "\n",
    "phq2_cols = ['phq2_1','phq2_2','phq2_sum']\n",
    "\n",
    "daily_cols_v1 = ['aggregate_communication', 'call_count',\n",
    "       'call_duration', 'interaction_diversity', 'missed_interactions',\n",
    "       'mobility', 'mobility_radius', 'sms_count', 'sms_length',\n",
    "       'unreturned_calls']\n",
    "\n",
    "\n",
    "daily_cols_v2 = ['distance_walking', 'hours_active',\n",
    "       'hours_high_speed_transportation', 'hours_of_sleep',\n",
    "       'hours_powered_vehicle', 'hours_stationary', 'hours_stationary_nhw',\n",
    "       'hours_walking', 'location_variance',\n",
    "        'cloud_cover_mean','dew_point_mean',\n",
    "        'humidity_mean','temp_mean','dew_point_IQR','humidity_IQR',\n",
    "        'temp_IQR','cloud_cover_IQR','cloud_cover_std','dew_point_std',\n",
    "        'humidity_std','temp_std','cloud_cover_median','dew_point_median',\n",
    "        'humidity_median','temp_median']\n",
    "\n",
    "\n",
    "daily_cols_v3 = ['callDuration_incoming',\n",
    "       'callDuration_outgoing', 'textCount', 'textCount_received',\n",
    "       'textCount_sent', 'textLength_received', 'textLength_sent',\n",
    "       'uniqueNumbers_calls_incoming', 'uniqueNumbers_calls_missed',\n",
    "       'uniqueNumbers_calls_outgoing', 'uniqueNumbers_texts',\n",
    "       'uniqueNumbers_texts_received', 'uniqueNumbers_texts_sent']\n",
    "\n",
    "passive_cols = daily_cols_v1 + daily_cols_v2 + daily_cols_v3\n",
    "\n",
    "added_columns = ['phq9_sum_change', 'phq9_cat_change']\n",
    "\n",
    "mobility_cols = ['mobility', 'mobility_radius']\n",
    "\n",
    "\n"
   ]
  },
  {
   "cell_type": "code",
   "execution_count": null,
   "metadata": {},
   "outputs": [],
   "source": [
    "id_columns = ['dt','week','num_id','participant_id']\n",
    "\n",
    "# dt\n",
    "# Turn dt to datetime\n",
    "df_names = ['v1_day', 'v2_day', 'v1_week_phq9', 'v2_week_phq9']\n",
    "id_columns = ['dt','week','num_id','participant_id']\n",
    "\n",
    "for name in df_names:\n",
    "    df_pca = pd.read_csv(os.path.join(brighten_dir, f'{name}_pca.csv'))\n",
    "    if 'day' in name:\n",
    "        df_bin = df_pca.merge(df_alldays_int70[id_columns + ['phq2_bin']], on=id_columns, how='left')\n",
    "    if 'week' in name:\n",
    "        df_bin = df_pca.merge(df_alldays_int70[id_columns + ['phq2_bin', 'phq9_bin','phq9_cat']], on=id_columns, how='left')\n",
    "\n",
    "    df_bin.to_csv(os.path.join(brighten_dir, f'{name}_bin.csv'))\n",
    "\n",
    "\n",
    "\n"
   ]
  },
  {
   "cell_type": "code",
   "execution_count": null,
   "metadata": {},
   "outputs": [
    {
     "name": "stdout",
     "output_type": "stream",
     "text": [
      "\n",
      "FOR FEATURE:  sms_count\n"
     ]
    },
    {
     "name": "stderr",
     "output_type": "stream",
     "text": [
      "/var/folders/fh/rstwtx7j73b0zwzkyzktnnrh0000gn/T/ipykernel_54572/1590456300.py:44: DeprecationWarning: DataFrameGroupBy.apply operated on the grouping columns. This behavior is deprecated, and in a future version of pandas the grouping columns will be excluded from the operation. Either pass `include_groups=False` to exclude the groupings or explicitly select the grouping columns after groupby to silence this warning.\n",
      "  .apply(lambda g: compute_slope_of_feature(g, x_col=\"day\", y_col=feature))\n",
      "/var/folders/fh/rstwtx7j73b0zwzkyzktnnrh0000gn/T/ipykernel_54572/1590456300.py:59: DeprecationWarning: DataFrameGroupBy.apply operated on the grouping columns. This behavior is deprecated, and in a future version of pandas the grouping columns will be excluded from the operation. Either pass `include_groups=False` to exclude the groupings or explicitly select the grouping columns after groupby to silence this warning.\n",
      "  .apply(lambda g: compute_slope_of_feature(g, x_col=\"day\", y_col=feature))\n"
     ]
    },
    {
     "name": "stdout",
     "output_type": "stream",
     "text": [
      "\n",
      "FOR FEATURE:  phq2_sum\n",
      "\n",
      "FOR FEATURE:  unreturned_calls\n"
     ]
    },
    {
     "name": "stderr",
     "output_type": "stream",
     "text": [
      "/var/folders/fh/rstwtx7j73b0zwzkyzktnnrh0000gn/T/ipykernel_54572/1590456300.py:44: DeprecationWarning: DataFrameGroupBy.apply operated on the grouping columns. This behavior is deprecated, and in a future version of pandas the grouping columns will be excluded from the operation. Either pass `include_groups=False` to exclude the groupings or explicitly select the grouping columns after groupby to silence this warning.\n",
      "  .apply(lambda g: compute_slope_of_feature(g, x_col=\"day\", y_col=feature))\n",
      "/var/folders/fh/rstwtx7j73b0zwzkyzktnnrh0000gn/T/ipykernel_54572/1590456300.py:59: DeprecationWarning: DataFrameGroupBy.apply operated on the grouping columns. This behavior is deprecated, and in a future version of pandas the grouping columns will be excluded from the operation. Either pass `include_groups=False` to exclude the groupings or explicitly select the grouping columns after groupby to silence this warning.\n",
      "  .apply(lambda g: compute_slope_of_feature(g, x_col=\"day\", y_col=feature))\n",
      "/var/folders/fh/rstwtx7j73b0zwzkyzktnnrh0000gn/T/ipykernel_54572/1590456300.py:44: DeprecationWarning: DataFrameGroupBy.apply operated on the grouping columns. This behavior is deprecated, and in a future version of pandas the grouping columns will be excluded from the operation. Either pass `include_groups=False` to exclude the groupings or explicitly select the grouping columns after groupby to silence this warning.\n",
      "  .apply(lambda g: compute_slope_of_feature(g, x_col=\"day\", y_col=feature))\n",
      "/var/folders/fh/rstwtx7j73b0zwzkyzktnnrh0000gn/T/ipykernel_54572/1590456300.py:59: DeprecationWarning: DataFrameGroupBy.apply operated on the grouping columns. This behavior is deprecated, and in a future version of pandas the grouping columns will be excluded from the operation. Either pass `include_groups=False` to exclude the groupings or explicitly select the grouping columns after groupby to silence this warning.\n",
      "  .apply(lambda g: compute_slope_of_feature(g, x_col=\"day\", y_col=feature))\n"
     ]
    },
    {
     "name": "stdout",
     "output_type": "stream",
     "text": [
      "\n",
      "FOR FEATURE:  interaction_diversity\n"
     ]
    },
    {
     "name": "stderr",
     "output_type": "stream",
     "text": [
      "/var/folders/fh/rstwtx7j73b0zwzkyzktnnrh0000gn/T/ipykernel_54572/1590456300.py:44: DeprecationWarning: DataFrameGroupBy.apply operated on the grouping columns. This behavior is deprecated, and in a future version of pandas the grouping columns will be excluded from the operation. Either pass `include_groups=False` to exclude the groupings or explicitly select the grouping columns after groupby to silence this warning.\n",
      "  .apply(lambda g: compute_slope_of_feature(g, x_col=\"day\", y_col=feature))\n",
      "/var/folders/fh/rstwtx7j73b0zwzkyzktnnrh0000gn/T/ipykernel_54572/1590456300.py:59: DeprecationWarning: DataFrameGroupBy.apply operated on the grouping columns. This behavior is deprecated, and in a future version of pandas the grouping columns will be excluded from the operation. Either pass `include_groups=False` to exclude the groupings or explicitly select the grouping columns after groupby to silence this warning.\n",
      "  .apply(lambda g: compute_slope_of_feature(g, x_col=\"day\", y_col=feature))\n"
     ]
    },
    {
     "name": "stdout",
     "output_type": "stream",
     "text": [
      "\n",
      "FOR FEATURE:  call_duration\n"
     ]
    },
    {
     "name": "stderr",
     "output_type": "stream",
     "text": [
      "/var/folders/fh/rstwtx7j73b0zwzkyzktnnrh0000gn/T/ipykernel_54572/1590456300.py:44: DeprecationWarning: DataFrameGroupBy.apply operated on the grouping columns. This behavior is deprecated, and in a future version of pandas the grouping columns will be excluded from the operation. Either pass `include_groups=False` to exclude the groupings or explicitly select the grouping columns after groupby to silence this warning.\n",
      "  .apply(lambda g: compute_slope_of_feature(g, x_col=\"day\", y_col=feature))\n",
      "/var/folders/fh/rstwtx7j73b0zwzkyzktnnrh0000gn/T/ipykernel_54572/1590456300.py:59: DeprecationWarning: DataFrameGroupBy.apply operated on the grouping columns. This behavior is deprecated, and in a future version of pandas the grouping columns will be excluded from the operation. Either pass `include_groups=False` to exclude the groupings or explicitly select the grouping columns after groupby to silence this warning.\n",
      "  .apply(lambda g: compute_slope_of_feature(g, x_col=\"day\", y_col=feature))\n"
     ]
    },
    {
     "name": "stdout",
     "output_type": "stream",
     "text": [
      "\n",
      "FOR FEATURE:  pc_mobility\n"
     ]
    },
    {
     "name": "stderr",
     "output_type": "stream",
     "text": [
      "/var/folders/fh/rstwtx7j73b0zwzkyzktnnrh0000gn/T/ipykernel_54572/1590456300.py:44: DeprecationWarning: DataFrameGroupBy.apply operated on the grouping columns. This behavior is deprecated, and in a future version of pandas the grouping columns will be excluded from the operation. Either pass `include_groups=False` to exclude the groupings or explicitly select the grouping columns after groupby to silence this warning.\n",
      "  .apply(lambda g: compute_slope_of_feature(g, x_col=\"day\", y_col=feature))\n",
      "/var/folders/fh/rstwtx7j73b0zwzkyzktnnrh0000gn/T/ipykernel_54572/1590456300.py:59: DeprecationWarning: DataFrameGroupBy.apply operated on the grouping columns. This behavior is deprecated, and in a future version of pandas the grouping columns will be excluded from the operation. Either pass `include_groups=False` to exclude the groupings or explicitly select the grouping columns after groupby to silence this warning.\n",
      "  .apply(lambda g: compute_slope_of_feature(g, x_col=\"day\", y_col=feature))\n",
      "/var/folders/fh/rstwtx7j73b0zwzkyzktnnrh0000gn/T/ipykernel_54572/1590456300.py:44: DeprecationWarning: DataFrameGroupBy.apply operated on the grouping columns. This behavior is deprecated, and in a future version of pandas the grouping columns will be excluded from the operation. Either pass `include_groups=False` to exclude the groupings or explicitly select the grouping columns after groupby to silence this warning.\n",
      "  .apply(lambda g: compute_slope_of_feature(g, x_col=\"day\", y_col=feature))\n"
     ]
    },
    {
     "name": "stdout",
     "output_type": "stream",
     "text": [
      "\n",
      "FOR FEATURE:  missed_interactions\n",
      "\n",
      "FOR FEATURE:  mobility_radius\n"
     ]
    },
    {
     "name": "stderr",
     "output_type": "stream",
     "text": [
      "/var/folders/fh/rstwtx7j73b0zwzkyzktnnrh0000gn/T/ipykernel_54572/1590456300.py:59: DeprecationWarning: DataFrameGroupBy.apply operated on the grouping columns. This behavior is deprecated, and in a future version of pandas the grouping columns will be excluded from the operation. Either pass `include_groups=False` to exclude the groupings or explicitly select the grouping columns after groupby to silence this warning.\n",
      "  .apply(lambda g: compute_slope_of_feature(g, x_col=\"day\", y_col=feature))\n",
      "/var/folders/fh/rstwtx7j73b0zwzkyzktnnrh0000gn/T/ipykernel_54572/1590456300.py:44: DeprecationWarning: DataFrameGroupBy.apply operated on the grouping columns. This behavior is deprecated, and in a future version of pandas the grouping columns will be excluded from the operation. Either pass `include_groups=False` to exclude the groupings or explicitly select the grouping columns after groupby to silence this warning.\n",
      "  .apply(lambda g: compute_slope_of_feature(g, x_col=\"day\", y_col=feature))\n",
      "/var/folders/fh/rstwtx7j73b0zwzkyzktnnrh0000gn/T/ipykernel_54572/1590456300.py:59: DeprecationWarning: DataFrameGroupBy.apply operated on the grouping columns. This behavior is deprecated, and in a future version of pandas the grouping columns will be excluded from the operation. Either pass `include_groups=False` to exclude the groupings or explicitly select the grouping columns after groupby to silence this warning.\n",
      "  .apply(lambda g: compute_slope_of_feature(g, x_col=\"day\", y_col=feature))\n"
     ]
    },
    {
     "name": "stdout",
     "output_type": "stream",
     "text": [
      "\n",
      "FOR FEATURE:  call_count\n",
      "\n",
      "FOR FEATURE:  pc_missed_communications\n"
     ]
    },
    {
     "name": "stderr",
     "output_type": "stream",
     "text": [
      "/var/folders/fh/rstwtx7j73b0zwzkyzktnnrh0000gn/T/ipykernel_54572/1590456300.py:44: DeprecationWarning: DataFrameGroupBy.apply operated on the grouping columns. This behavior is deprecated, and in a future version of pandas the grouping columns will be excluded from the operation. Either pass `include_groups=False` to exclude the groupings or explicitly select the grouping columns after groupby to silence this warning.\n",
      "  .apply(lambda g: compute_slope_of_feature(g, x_col=\"day\", y_col=feature))\n",
      "/var/folders/fh/rstwtx7j73b0zwzkyzktnnrh0000gn/T/ipykernel_54572/1590456300.py:59: DeprecationWarning: DataFrameGroupBy.apply operated on the grouping columns. This behavior is deprecated, and in a future version of pandas the grouping columns will be excluded from the operation. Either pass `include_groups=False` to exclude the groupings or explicitly select the grouping columns after groupby to silence this warning.\n",
      "  .apply(lambda g: compute_slope_of_feature(g, x_col=\"day\", y_col=feature))\n",
      "/var/folders/fh/rstwtx7j73b0zwzkyzktnnrh0000gn/T/ipykernel_54572/1590456300.py:44: DeprecationWarning: DataFrameGroupBy.apply operated on the grouping columns. This behavior is deprecated, and in a future version of pandas the grouping columns will be excluded from the operation. Either pass `include_groups=False` to exclude the groupings or explicitly select the grouping columns after groupby to silence this warning.\n",
      "  .apply(lambda g: compute_slope_of_feature(g, x_col=\"day\", y_col=feature))\n",
      "/var/folders/fh/rstwtx7j73b0zwzkyzktnnrh0000gn/T/ipykernel_54572/1590456300.py:59: DeprecationWarning: DataFrameGroupBy.apply operated on the grouping columns. This behavior is deprecated, and in a future version of pandas the grouping columns will be excluded from the operation. Either pass `include_groups=False` to exclude the groupings or explicitly select the grouping columns after groupby to silence this warning.\n",
      "  .apply(lambda g: compute_slope_of_feature(g, x_col=\"day\", y_col=feature))\n",
      "/var/folders/fh/rstwtx7j73b0zwzkyzktnnrh0000gn/T/ipykernel_54572/1590456300.py:44: DeprecationWarning: DataFrameGroupBy.apply operated on the grouping columns. This behavior is deprecated, and in a future version of pandas the grouping columns will be excluded from the operation. Either pass `include_groups=False` to exclude the groupings or explicitly select the grouping columns after groupby to silence this warning.\n",
      "  .apply(lambda g: compute_slope_of_feature(g, x_col=\"day\", y_col=feature))\n"
     ]
    },
    {
     "name": "stdout",
     "output_type": "stream",
     "text": [
      "\n",
      "FOR FEATURE:  pc_communications\n",
      "\n",
      "FOR FEATURE:  mobility\n"
     ]
    },
    {
     "name": "stderr",
     "output_type": "stream",
     "text": [
      "/var/folders/fh/rstwtx7j73b0zwzkyzktnnrh0000gn/T/ipykernel_54572/1590456300.py:59: DeprecationWarning: DataFrameGroupBy.apply operated on the grouping columns. This behavior is deprecated, and in a future version of pandas the grouping columns will be excluded from the operation. Either pass `include_groups=False` to exclude the groupings or explicitly select the grouping columns after groupby to silence this warning.\n",
      "  .apply(lambda g: compute_slope_of_feature(g, x_col=\"day\", y_col=feature))\n",
      "/var/folders/fh/rstwtx7j73b0zwzkyzktnnrh0000gn/T/ipykernel_54572/1590456300.py:44: DeprecationWarning: DataFrameGroupBy.apply operated on the grouping columns. This behavior is deprecated, and in a future version of pandas the grouping columns will be excluded from the operation. Either pass `include_groups=False` to exclude the groupings or explicitly select the grouping columns after groupby to silence this warning.\n",
      "  .apply(lambda g: compute_slope_of_feature(g, x_col=\"day\", y_col=feature))\n",
      "/var/folders/fh/rstwtx7j73b0zwzkyzktnnrh0000gn/T/ipykernel_54572/1590456300.py:59: DeprecationWarning: DataFrameGroupBy.apply operated on the grouping columns. This behavior is deprecated, and in a future version of pandas the grouping columns will be excluded from the operation. Either pass `include_groups=False` to exclude the groupings or explicitly select the grouping columns after groupby to silence this warning.\n",
      "  .apply(lambda g: compute_slope_of_feature(g, x_col=\"day\", y_col=feature))\n"
     ]
    },
    {
     "name": "stdout",
     "output_type": "stream",
     "text": [
      "\n",
      "FOR FEATURE:  pc_depression\n"
     ]
    },
    {
     "name": "stderr",
     "output_type": "stream",
     "text": [
      "/var/folders/fh/rstwtx7j73b0zwzkyzktnnrh0000gn/T/ipykernel_54572/1590456300.py:44: DeprecationWarning: DataFrameGroupBy.apply operated on the grouping columns. This behavior is deprecated, and in a future version of pandas the grouping columns will be excluded from the operation. Either pass `include_groups=False` to exclude the groupings or explicitly select the grouping columns after groupby to silence this warning.\n",
      "  .apply(lambda g: compute_slope_of_feature(g, x_col=\"day\", y_col=feature))\n",
      "/var/folders/fh/rstwtx7j73b0zwzkyzktnnrh0000gn/T/ipykernel_54572/1590456300.py:59: DeprecationWarning: DataFrameGroupBy.apply operated on the grouping columns. This behavior is deprecated, and in a future version of pandas the grouping columns will be excluded from the operation. Either pass `include_groups=False` to exclude the groupings or explicitly select the grouping columns after groupby to silence this warning.\n",
      "  .apply(lambda g: compute_slope_of_feature(g, x_col=\"day\", y_col=feature))\n"
     ]
    },
    {
     "name": "stdout",
     "output_type": "stream",
     "text": [
      "\n",
      "FOR FEATURE:  sms_length\n"
     ]
    },
    {
     "name": "stderr",
     "output_type": "stream",
     "text": [
      "/var/folders/fh/rstwtx7j73b0zwzkyzktnnrh0000gn/T/ipykernel_54572/1590456300.py:44: DeprecationWarning: DataFrameGroupBy.apply operated on the grouping columns. This behavior is deprecated, and in a future version of pandas the grouping columns will be excluded from the operation. Either pass `include_groups=False` to exclude the groupings or explicitly select the grouping columns after groupby to silence this warning.\n",
      "  .apply(lambda g: compute_slope_of_feature(g, x_col=\"day\", y_col=feature))\n",
      "/var/folders/fh/rstwtx7j73b0zwzkyzktnnrh0000gn/T/ipykernel_54572/1590456300.py:59: DeprecationWarning: DataFrameGroupBy.apply operated on the grouping columns. This behavior is deprecated, and in a future version of pandas the grouping columns will be excluded from the operation. Either pass `include_groups=False` to exclude the groupings or explicitly select the grouping columns after groupby to silence this warning.\n",
      "  .apply(lambda g: compute_slope_of_feature(g, x_col=\"day\", y_col=feature))\n"
     ]
    },
    {
     "name": "stdout",
     "output_type": "stream",
     "text": [
      "\n",
      "FOR FEATURE:  phq2_2\n"
     ]
    },
    {
     "name": "stderr",
     "output_type": "stream",
     "text": [
      "/var/folders/fh/rstwtx7j73b0zwzkyzktnnrh0000gn/T/ipykernel_54572/1590456300.py:44: DeprecationWarning: DataFrameGroupBy.apply operated on the grouping columns. This behavior is deprecated, and in a future version of pandas the grouping columns will be excluded from the operation. Either pass `include_groups=False` to exclude the groupings or explicitly select the grouping columns after groupby to silence this warning.\n",
      "  .apply(lambda g: compute_slope_of_feature(g, x_col=\"day\", y_col=feature))\n",
      "/var/folders/fh/rstwtx7j73b0zwzkyzktnnrh0000gn/T/ipykernel_54572/1590456300.py:59: DeprecationWarning: DataFrameGroupBy.apply operated on the grouping columns. This behavior is deprecated, and in a future version of pandas the grouping columns will be excluded from the operation. Either pass `include_groups=False` to exclude the groupings or explicitly select the grouping columns after groupby to silence this warning.\n",
      "  .apply(lambda g: compute_slope_of_feature(g, x_col=\"day\", y_col=feature))\n"
     ]
    },
    {
     "name": "stdout",
     "output_type": "stream",
     "text": [
      "\n",
      "FOR FEATURE:  phq2_1\n"
     ]
    },
    {
     "name": "stderr",
     "output_type": "stream",
     "text": [
      "/var/folders/fh/rstwtx7j73b0zwzkyzktnnrh0000gn/T/ipykernel_54572/1590456300.py:44: DeprecationWarning: DataFrameGroupBy.apply operated on the grouping columns. This behavior is deprecated, and in a future version of pandas the grouping columns will be excluded from the operation. Either pass `include_groups=False` to exclude the groupings or explicitly select the grouping columns after groupby to silence this warning.\n",
      "  .apply(lambda g: compute_slope_of_feature(g, x_col=\"day\", y_col=feature))\n",
      "/var/folders/fh/rstwtx7j73b0zwzkyzktnnrh0000gn/T/ipykernel_54572/1590456300.py:59: DeprecationWarning: DataFrameGroupBy.apply operated on the grouping columns. This behavior is deprecated, and in a future version of pandas the grouping columns will be excluded from the operation. Either pass `include_groups=False` to exclude the groupings or explicitly select the grouping columns after groupby to silence this warning.\n",
      "  .apply(lambda g: compute_slope_of_feature(g, x_col=\"day\", y_col=feature))\n",
      "/var/folders/fh/rstwtx7j73b0zwzkyzktnnrh0000gn/T/ipykernel_54572/1590456300.py:44: DeprecationWarning: DataFrameGroupBy.apply operated on the grouping columns. This behavior is deprecated, and in a future version of pandas the grouping columns will be excluded from the operation. Either pass `include_groups=False` to exclude the groupings or explicitly select the grouping columns after groupby to silence this warning.\n",
      "  .apply(lambda g: compute_slope_of_feature(g, x_col=\"day\", y_col=feature))\n"
     ]
    },
    {
     "name": "stdout",
     "output_type": "stream",
     "text": [
      "\n",
      "FOR FEATURE:  aggregate_communication\n"
     ]
    },
    {
     "name": "stderr",
     "output_type": "stream",
     "text": [
      "/var/folders/fh/rstwtx7j73b0zwzkyzktnnrh0000gn/T/ipykernel_54572/1590456300.py:59: DeprecationWarning: DataFrameGroupBy.apply operated on the grouping columns. This behavior is deprecated, and in a future version of pandas the grouping columns will be excluded from the operation. Either pass `include_groups=False` to exclude the groupings or explicitly select the grouping columns after groupby to silence this warning.\n",
      "  .apply(lambda g: compute_slope_of_feature(g, x_col=\"day\", y_col=feature))\n"
     ]
    },
    {
     "name": "stdout",
     "output_type": "stream",
     "text": [
      "\n",
      "FOR FEATURE:  sms_count\n",
      "\n",
      "FOR FEATURE:  phq9_sum\n"
     ]
    },
    {
     "name": "stderr",
     "output_type": "stream",
     "text": [
      "/var/folders/fh/rstwtx7j73b0zwzkyzktnnrh0000gn/T/ipykernel_54572/1590456300.py:44: DeprecationWarning: DataFrameGroupBy.apply operated on the grouping columns. This behavior is deprecated, and in a future version of pandas the grouping columns will be excluded from the operation. Either pass `include_groups=False` to exclude the groupings or explicitly select the grouping columns after groupby to silence this warning.\n",
      "  .apply(lambda g: compute_slope_of_feature(g, x_col=\"day\", y_col=feature))\n",
      "/var/folders/fh/rstwtx7j73b0zwzkyzktnnrh0000gn/T/ipykernel_54572/1590456300.py:59: DeprecationWarning: DataFrameGroupBy.apply operated on the grouping columns. This behavior is deprecated, and in a future version of pandas the grouping columns will be excluded from the operation. Either pass `include_groups=False` to exclude the groupings or explicitly select the grouping columns after groupby to silence this warning.\n",
      "  .apply(lambda g: compute_slope_of_feature(g, x_col=\"day\", y_col=feature))\n",
      "/var/folders/fh/rstwtx7j73b0zwzkyzktnnrh0000gn/T/ipykernel_54572/1590456300.py:44: DeprecationWarning: DataFrameGroupBy.apply operated on the grouping columns. This behavior is deprecated, and in a future version of pandas the grouping columns will be excluded from the operation. Either pass `include_groups=False` to exclude the groupings or explicitly select the grouping columns after groupby to silence this warning.\n",
      "  .apply(lambda g: compute_slope_of_feature(g, x_col=\"day\", y_col=feature))\n",
      "/var/folders/fh/rstwtx7j73b0zwzkyzktnnrh0000gn/T/ipykernel_54572/1590456300.py:59: DeprecationWarning: DataFrameGroupBy.apply operated on the grouping columns. This behavior is deprecated, and in a future version of pandas the grouping columns will be excluded from the operation. Either pass `include_groups=False` to exclude the groupings or explicitly select the grouping columns after groupby to silence this warning.\n",
      "  .apply(lambda g: compute_slope_of_feature(g, x_col=\"day\", y_col=feature))\n",
      "/var/folders/fh/rstwtx7j73b0zwzkyzktnnrh0000gn/T/ipykernel_54572/1590456300.py:44: DeprecationWarning: DataFrameGroupBy.apply operated on the grouping columns. This behavior is deprecated, and in a future version of pandas the grouping columns will be excluded from the operation. Either pass `include_groups=False` to exclude the groupings or explicitly select the grouping columns after groupby to silence this warning.\n",
      "  .apply(lambda g: compute_slope_of_feature(g, x_col=\"day\", y_col=feature))\n"
     ]
    },
    {
     "name": "stdout",
     "output_type": "stream",
     "text": [
      "\n",
      "FOR FEATURE:  phq9_8\n",
      "\n",
      "FOR FEATURE:  phq9_3\n",
      "\n",
      "FOR FEATURE:  phq9_9\n"
     ]
    },
    {
     "name": "stderr",
     "output_type": "stream",
     "text": [
      "/var/folders/fh/rstwtx7j73b0zwzkyzktnnrh0000gn/T/ipykernel_54572/1590456300.py:59: DeprecationWarning: DataFrameGroupBy.apply operated on the grouping columns. This behavior is deprecated, and in a future version of pandas the grouping columns will be excluded from the operation. Either pass `include_groups=False` to exclude the groupings or explicitly select the grouping columns after groupby to silence this warning.\n",
      "  .apply(lambda g: compute_slope_of_feature(g, x_col=\"day\", y_col=feature))\n",
      "/var/folders/fh/rstwtx7j73b0zwzkyzktnnrh0000gn/T/ipykernel_54572/1590456300.py:44: DeprecationWarning: DataFrameGroupBy.apply operated on the grouping columns. This behavior is deprecated, and in a future version of pandas the grouping columns will be excluded from the operation. Either pass `include_groups=False` to exclude the groupings or explicitly select the grouping columns after groupby to silence this warning.\n",
      "  .apply(lambda g: compute_slope_of_feature(g, x_col=\"day\", y_col=feature))\n",
      "/var/folders/fh/rstwtx7j73b0zwzkyzktnnrh0000gn/T/ipykernel_54572/1590456300.py:59: DeprecationWarning: DataFrameGroupBy.apply operated on the grouping columns. This behavior is deprecated, and in a future version of pandas the grouping columns will be excluded from the operation. Either pass `include_groups=False` to exclude the groupings or explicitly select the grouping columns after groupby to silence this warning.\n",
      "  .apply(lambda g: compute_slope_of_feature(g, x_col=\"day\", y_col=feature))\n",
      "/var/folders/fh/rstwtx7j73b0zwzkyzktnnrh0000gn/T/ipykernel_54572/1590456300.py:44: DeprecationWarning: DataFrameGroupBy.apply operated on the grouping columns. This behavior is deprecated, and in a future version of pandas the grouping columns will be excluded from the operation. Either pass `include_groups=False` to exclude the groupings or explicitly select the grouping columns after groupby to silence this warning.\n",
      "  .apply(lambda g: compute_slope_of_feature(g, x_col=\"day\", y_col=feature))\n",
      "/var/folders/fh/rstwtx7j73b0zwzkyzktnnrh0000gn/T/ipykernel_54572/1590456300.py:59: DeprecationWarning: DataFrameGroupBy.apply operated on the grouping columns. This behavior is deprecated, and in a future version of pandas the grouping columns will be excluded from the operation. Either pass `include_groups=False` to exclude the groupings or explicitly select the grouping columns after groupby to silence this warning.\n",
      "  .apply(lambda g: compute_slope_of_feature(g, x_col=\"day\", y_col=feature))\n",
      "/var/folders/fh/rstwtx7j73b0zwzkyzktnnrh0000gn/T/ipykernel_54572/1590456300.py:44: DeprecationWarning: DataFrameGroupBy.apply operated on the grouping columns. This behavior is deprecated, and in a future version of pandas the grouping columns will be excluded from the operation. Either pass `include_groups=False` to exclude the groupings or explicitly select the grouping columns after groupby to silence this warning.\n",
      "  .apply(lambda g: compute_slope_of_feature(g, x_col=\"day\", y_col=feature))\n"
     ]
    },
    {
     "name": "stdout",
     "output_type": "stream",
     "text": [
      "\n",
      "FOR FEATURE:  phq9_1\n",
      "\n",
      "FOR FEATURE:  phq9_2\n",
      "\n",
      "FOR FEATURE:  pc_depression\n"
     ]
    },
    {
     "name": "stderr",
     "output_type": "stream",
     "text": [
      "/var/folders/fh/rstwtx7j73b0zwzkyzktnnrh0000gn/T/ipykernel_54572/1590456300.py:59: DeprecationWarning: DataFrameGroupBy.apply operated on the grouping columns. This behavior is deprecated, and in a future version of pandas the grouping columns will be excluded from the operation. Either pass `include_groups=False` to exclude the groupings or explicitly select the grouping columns after groupby to silence this warning.\n",
      "  .apply(lambda g: compute_slope_of_feature(g, x_col=\"day\", y_col=feature))\n",
      "/var/folders/fh/rstwtx7j73b0zwzkyzktnnrh0000gn/T/ipykernel_54572/1590456300.py:44: DeprecationWarning: DataFrameGroupBy.apply operated on the grouping columns. This behavior is deprecated, and in a future version of pandas the grouping columns will be excluded from the operation. Either pass `include_groups=False` to exclude the groupings or explicitly select the grouping columns after groupby to silence this warning.\n",
      "  .apply(lambda g: compute_slope_of_feature(g, x_col=\"day\", y_col=feature))\n",
      "/var/folders/fh/rstwtx7j73b0zwzkyzktnnrh0000gn/T/ipykernel_54572/1590456300.py:59: DeprecationWarning: DataFrameGroupBy.apply operated on the grouping columns. This behavior is deprecated, and in a future version of pandas the grouping columns will be excluded from the operation. Either pass `include_groups=False` to exclude the groupings or explicitly select the grouping columns after groupby to silence this warning.\n",
      "  .apply(lambda g: compute_slope_of_feature(g, x_col=\"day\", y_col=feature))\n",
      "/var/folders/fh/rstwtx7j73b0zwzkyzktnnrh0000gn/T/ipykernel_54572/1590456300.py:44: DeprecationWarning: DataFrameGroupBy.apply operated on the grouping columns. This behavior is deprecated, and in a future version of pandas the grouping columns will be excluded from the operation. Either pass `include_groups=False` to exclude the groupings or explicitly select the grouping columns after groupby to silence this warning.\n",
      "  .apply(lambda g: compute_slope_of_feature(g, x_col=\"day\", y_col=feature))\n",
      "/var/folders/fh/rstwtx7j73b0zwzkyzktnnrh0000gn/T/ipykernel_54572/1590456300.py:59: DeprecationWarning: DataFrameGroupBy.apply operated on the grouping columns. This behavior is deprecated, and in a future version of pandas the grouping columns will be excluded from the operation. Either pass `include_groups=False` to exclude the groupings or explicitly select the grouping columns after groupby to silence this warning.\n",
      "  .apply(lambda g: compute_slope_of_feature(g, x_col=\"day\", y_col=feature))\n",
      "/var/folders/fh/rstwtx7j73b0zwzkyzktnnrh0000gn/T/ipykernel_54572/1590456300.py:44: DeprecationWarning: DataFrameGroupBy.apply operated on the grouping columns. This behavior is deprecated, and in a future version of pandas the grouping columns will be excluded from the operation. Either pass `include_groups=False` to exclude the groupings or explicitly select the grouping columns after groupby to silence this warning.\n",
      "  .apply(lambda g: compute_slope_of_feature(g, x_col=\"day\", y_col=feature))\n"
     ]
    },
    {
     "name": "stdout",
     "output_type": "stream",
     "text": [
      "\n",
      "FOR FEATURE:  sms_length\n",
      "\n",
      "FOR FEATURE:  call_duration\n",
      "\n",
      "FOR FEATURE:  phq9_7\n"
     ]
    },
    {
     "name": "stderr",
     "output_type": "stream",
     "text": [
      "/var/folders/fh/rstwtx7j73b0zwzkyzktnnrh0000gn/T/ipykernel_54572/1590456300.py:59: DeprecationWarning: DataFrameGroupBy.apply operated on the grouping columns. This behavior is deprecated, and in a future version of pandas the grouping columns will be excluded from the operation. Either pass `include_groups=False` to exclude the groupings or explicitly select the grouping columns after groupby to silence this warning.\n",
      "  .apply(lambda g: compute_slope_of_feature(g, x_col=\"day\", y_col=feature))\n",
      "/var/folders/fh/rstwtx7j73b0zwzkyzktnnrh0000gn/T/ipykernel_54572/1590456300.py:44: DeprecationWarning: DataFrameGroupBy.apply operated on the grouping columns. This behavior is deprecated, and in a future version of pandas the grouping columns will be excluded from the operation. Either pass `include_groups=False` to exclude the groupings or explicitly select the grouping columns after groupby to silence this warning.\n",
      "  .apply(lambda g: compute_slope_of_feature(g, x_col=\"day\", y_col=feature))\n",
      "/var/folders/fh/rstwtx7j73b0zwzkyzktnnrh0000gn/T/ipykernel_54572/1590456300.py:59: DeprecationWarning: DataFrameGroupBy.apply operated on the grouping columns. This behavior is deprecated, and in a future version of pandas the grouping columns will be excluded from the operation. Either pass `include_groups=False` to exclude the groupings or explicitly select the grouping columns after groupby to silence this warning.\n",
      "  .apply(lambda g: compute_slope_of_feature(g, x_col=\"day\", y_col=feature))\n",
      "/var/folders/fh/rstwtx7j73b0zwzkyzktnnrh0000gn/T/ipykernel_54572/1590456300.py:44: DeprecationWarning: DataFrameGroupBy.apply operated on the grouping columns. This behavior is deprecated, and in a future version of pandas the grouping columns will be excluded from the operation. Either pass `include_groups=False` to exclude the groupings or explicitly select the grouping columns after groupby to silence this warning.\n",
      "  .apply(lambda g: compute_slope_of_feature(g, x_col=\"day\", y_col=feature))\n",
      "/var/folders/fh/rstwtx7j73b0zwzkyzktnnrh0000gn/T/ipykernel_54572/1590456300.py:59: DeprecationWarning: DataFrameGroupBy.apply operated on the grouping columns. This behavior is deprecated, and in a future version of pandas the grouping columns will be excluded from the operation. Either pass `include_groups=False` to exclude the groupings or explicitly select the grouping columns after groupby to silence this warning.\n",
      "  .apply(lambda g: compute_slope_of_feature(g, x_col=\"day\", y_col=feature))\n",
      "/var/folders/fh/rstwtx7j73b0zwzkyzktnnrh0000gn/T/ipykernel_54572/1590456300.py:44: DeprecationWarning: DataFrameGroupBy.apply operated on the grouping columns. This behavior is deprecated, and in a future version of pandas the grouping columns will be excluded from the operation. Either pass `include_groups=False` to exclude the groupings or explicitly select the grouping columns after groupby to silence this warning.\n",
      "  .apply(lambda g: compute_slope_of_feature(g, x_col=\"day\", y_col=feature))\n"
     ]
    },
    {
     "name": "stdout",
     "output_type": "stream",
     "text": [
      "\n",
      "FOR FEATURE:  unreturned_calls\n",
      "\n",
      "FOR FEATURE:  interaction_diversity\n",
      "\n",
      "FOR FEATURE:  phq9_6\n"
     ]
    },
    {
     "name": "stderr",
     "output_type": "stream",
     "text": [
      "/var/folders/fh/rstwtx7j73b0zwzkyzktnnrh0000gn/T/ipykernel_54572/1590456300.py:59: DeprecationWarning: DataFrameGroupBy.apply operated on the grouping columns. This behavior is deprecated, and in a future version of pandas the grouping columns will be excluded from the operation. Either pass `include_groups=False` to exclude the groupings or explicitly select the grouping columns after groupby to silence this warning.\n",
      "  .apply(lambda g: compute_slope_of_feature(g, x_col=\"day\", y_col=feature))\n",
      "/var/folders/fh/rstwtx7j73b0zwzkyzktnnrh0000gn/T/ipykernel_54572/1590456300.py:44: DeprecationWarning: DataFrameGroupBy.apply operated on the grouping columns. This behavior is deprecated, and in a future version of pandas the grouping columns will be excluded from the operation. Either pass `include_groups=False` to exclude the groupings or explicitly select the grouping columns after groupby to silence this warning.\n",
      "  .apply(lambda g: compute_slope_of_feature(g, x_col=\"day\", y_col=feature))\n",
      "/var/folders/fh/rstwtx7j73b0zwzkyzktnnrh0000gn/T/ipykernel_54572/1590456300.py:59: DeprecationWarning: DataFrameGroupBy.apply operated on the grouping columns. This behavior is deprecated, and in a future version of pandas the grouping columns will be excluded from the operation. Either pass `include_groups=False` to exclude the groupings or explicitly select the grouping columns after groupby to silence this warning.\n",
      "  .apply(lambda g: compute_slope_of_feature(g, x_col=\"day\", y_col=feature))\n",
      "/var/folders/fh/rstwtx7j73b0zwzkyzktnnrh0000gn/T/ipykernel_54572/1590456300.py:44: DeprecationWarning: DataFrameGroupBy.apply operated on the grouping columns. This behavior is deprecated, and in a future version of pandas the grouping columns will be excluded from the operation. Either pass `include_groups=False` to exclude the groupings or explicitly select the grouping columns after groupby to silence this warning.\n",
      "  .apply(lambda g: compute_slope_of_feature(g, x_col=\"day\", y_col=feature))\n",
      "/var/folders/fh/rstwtx7j73b0zwzkyzktnnrh0000gn/T/ipykernel_54572/1590456300.py:59: DeprecationWarning: DataFrameGroupBy.apply operated on the grouping columns. This behavior is deprecated, and in a future version of pandas the grouping columns will be excluded from the operation. Either pass `include_groups=False` to exclude the groupings or explicitly select the grouping columns after groupby to silence this warning.\n",
      "  .apply(lambda g: compute_slope_of_feature(g, x_col=\"day\", y_col=feature))\n",
      "/var/folders/fh/rstwtx7j73b0zwzkyzktnnrh0000gn/T/ipykernel_54572/1590456300.py:44: DeprecationWarning: DataFrameGroupBy.apply operated on the grouping columns. This behavior is deprecated, and in a future version of pandas the grouping columns will be excluded from the operation. Either pass `include_groups=False` to exclude the groupings or explicitly select the grouping columns after groupby to silence this warning.\n",
      "  .apply(lambda g: compute_slope_of_feature(g, x_col=\"day\", y_col=feature))\n"
     ]
    },
    {
     "name": "stdout",
     "output_type": "stream",
     "text": [
      "\n",
      "FOR FEATURE:  pc_suicidality\n",
      "\n",
      "FOR FEATURE:  pc_mobility\n",
      "\n",
      "FOR FEATURE:  missed_interactions\n"
     ]
    },
    {
     "name": "stderr",
     "output_type": "stream",
     "text": [
      "/var/folders/fh/rstwtx7j73b0zwzkyzktnnrh0000gn/T/ipykernel_54572/1590456300.py:59: DeprecationWarning: DataFrameGroupBy.apply operated on the grouping columns. This behavior is deprecated, and in a future version of pandas the grouping columns will be excluded from the operation. Either pass `include_groups=False` to exclude the groupings or explicitly select the grouping columns after groupby to silence this warning.\n",
      "  .apply(lambda g: compute_slope_of_feature(g, x_col=\"day\", y_col=feature))\n",
      "/var/folders/fh/rstwtx7j73b0zwzkyzktnnrh0000gn/T/ipykernel_54572/1590456300.py:44: DeprecationWarning: DataFrameGroupBy.apply operated on the grouping columns. This behavior is deprecated, and in a future version of pandas the grouping columns will be excluded from the operation. Either pass `include_groups=False` to exclude the groupings or explicitly select the grouping columns after groupby to silence this warning.\n",
      "  .apply(lambda g: compute_slope_of_feature(g, x_col=\"day\", y_col=feature))\n",
      "/var/folders/fh/rstwtx7j73b0zwzkyzktnnrh0000gn/T/ipykernel_54572/1590456300.py:59: DeprecationWarning: DataFrameGroupBy.apply operated on the grouping columns. This behavior is deprecated, and in a future version of pandas the grouping columns will be excluded from the operation. Either pass `include_groups=False` to exclude the groupings or explicitly select the grouping columns after groupby to silence this warning.\n",
      "  .apply(lambda g: compute_slope_of_feature(g, x_col=\"day\", y_col=feature))\n",
      "/var/folders/fh/rstwtx7j73b0zwzkyzktnnrh0000gn/T/ipykernel_54572/1590456300.py:44: DeprecationWarning: DataFrameGroupBy.apply operated on the grouping columns. This behavior is deprecated, and in a future version of pandas the grouping columns will be excluded from the operation. Either pass `include_groups=False` to exclude the groupings or explicitly select the grouping columns after groupby to silence this warning.\n",
      "  .apply(lambda g: compute_slope_of_feature(g, x_col=\"day\", y_col=feature))\n",
      "/var/folders/fh/rstwtx7j73b0zwzkyzktnnrh0000gn/T/ipykernel_54572/1590456300.py:59: DeprecationWarning: DataFrameGroupBy.apply operated on the grouping columns. This behavior is deprecated, and in a future version of pandas the grouping columns will be excluded from the operation. Either pass `include_groups=False` to exclude the groupings or explicitly select the grouping columns after groupby to silence this warning.\n",
      "  .apply(lambda g: compute_slope_of_feature(g, x_col=\"day\", y_col=feature))\n",
      "/var/folders/fh/rstwtx7j73b0zwzkyzktnnrh0000gn/T/ipykernel_54572/1590456300.py:44: DeprecationWarning: DataFrameGroupBy.apply operated on the grouping columns. This behavior is deprecated, and in a future version of pandas the grouping columns will be excluded from the operation. Either pass `include_groups=False` to exclude the groupings or explicitly select the grouping columns after groupby to silence this warning.\n",
      "  .apply(lambda g: compute_slope_of_feature(g, x_col=\"day\", y_col=feature))\n",
      "/var/folders/fh/rstwtx7j73b0zwzkyzktnnrh0000gn/T/ipykernel_54572/1590456300.py:59: DeprecationWarning: DataFrameGroupBy.apply operated on the grouping columns. This behavior is deprecated, and in a future version of pandas the grouping columns will be excluded from the operation. Either pass `include_groups=False` to exclude the groupings or explicitly select the grouping columns after groupby to silence this warning.\n",
      "  .apply(lambda g: compute_slope_of_feature(g, x_col=\"day\", y_col=feature))\n",
      "/var/folders/fh/rstwtx7j73b0zwzkyzktnnrh0000gn/T/ipykernel_54572/1590456300.py:44: DeprecationWarning: DataFrameGroupBy.apply operated on the grouping columns. This behavior is deprecated, and in a future version of pandas the grouping columns will be excluded from the operation. Either pass `include_groups=False` to exclude the groupings or explicitly select the grouping columns after groupby to silence this warning.\n",
      "  .apply(lambda g: compute_slope_of_feature(g, x_col=\"day\", y_col=feature))\n",
      "/var/folders/fh/rstwtx7j73b0zwzkyzktnnrh0000gn/T/ipykernel_54572/1590456300.py:59: DeprecationWarning: DataFrameGroupBy.apply operated on the grouping columns. This behavior is deprecated, and in a future version of pandas the grouping columns will be excluded from the operation. Either pass `include_groups=False` to exclude the groupings or explicitly select the grouping columns after groupby to silence this warning.\n",
      "  .apply(lambda g: compute_slope_of_feature(g, x_col=\"day\", y_col=feature))\n",
      "/var/folders/fh/rstwtx7j73b0zwzkyzktnnrh0000gn/T/ipykernel_54572/1590456300.py:44: DeprecationWarning: DataFrameGroupBy.apply operated on the grouping columns. This behavior is deprecated, and in a future version of pandas the grouping columns will be excluded from the operation. Either pass `include_groups=False` to exclude the groupings or explicitly select the grouping columns after groupby to silence this warning.\n",
      "  .apply(lambda g: compute_slope_of_feature(g, x_col=\"day\", y_col=feature))\n",
      "/var/folders/fh/rstwtx7j73b0zwzkyzktnnrh0000gn/T/ipykernel_54572/1590456300.py:59: DeprecationWarning: DataFrameGroupBy.apply operated on the grouping columns. This behavior is deprecated, and in a future version of pandas the grouping columns will be excluded from the operation. Either pass `include_groups=False` to exclude the groupings or explicitly select the grouping columns after groupby to silence this warning.\n",
      "  .apply(lambda g: compute_slope_of_feature(g, x_col=\"day\", y_col=feature))\n"
     ]
    },
    {
     "name": "stdout",
     "output_type": "stream",
     "text": [
      "\n",
      "FOR FEATURE:  call_count\n",
      "\n",
      "FOR FEATURE:  phq9_4\n",
      "\n",
      "FOR FEATURE:  pc_missed_communications\n",
      "\n",
      "FOR FEATURE:  pc_communications\n"
     ]
    },
    {
     "name": "stderr",
     "output_type": "stream",
     "text": [
      "/var/folders/fh/rstwtx7j73b0zwzkyzktnnrh0000gn/T/ipykernel_54572/1590456300.py:44: DeprecationWarning: DataFrameGroupBy.apply operated on the grouping columns. This behavior is deprecated, and in a future version of pandas the grouping columns will be excluded from the operation. Either pass `include_groups=False` to exclude the groupings or explicitly select the grouping columns after groupby to silence this warning.\n",
      "  .apply(lambda g: compute_slope_of_feature(g, x_col=\"day\", y_col=feature))\n",
      "/var/folders/fh/rstwtx7j73b0zwzkyzktnnrh0000gn/T/ipykernel_54572/1590456300.py:59: DeprecationWarning: DataFrameGroupBy.apply operated on the grouping columns. This behavior is deprecated, and in a future version of pandas the grouping columns will be excluded from the operation. Either pass `include_groups=False` to exclude the groupings or explicitly select the grouping columns after groupby to silence this warning.\n",
      "  .apply(lambda g: compute_slope_of_feature(g, x_col=\"day\", y_col=feature))\n",
      "/var/folders/fh/rstwtx7j73b0zwzkyzktnnrh0000gn/T/ipykernel_54572/1590456300.py:44: DeprecationWarning: DataFrameGroupBy.apply operated on the grouping columns. This behavior is deprecated, and in a future version of pandas the grouping columns will be excluded from the operation. Either pass `include_groups=False` to exclude the groupings or explicitly select the grouping columns after groupby to silence this warning.\n",
      "  .apply(lambda g: compute_slope_of_feature(g, x_col=\"day\", y_col=feature))\n",
      "/var/folders/fh/rstwtx7j73b0zwzkyzktnnrh0000gn/T/ipykernel_54572/1590456300.py:59: DeprecationWarning: DataFrameGroupBy.apply operated on the grouping columns. This behavior is deprecated, and in a future version of pandas the grouping columns will be excluded from the operation. Either pass `include_groups=False` to exclude the groupings or explicitly select the grouping columns after groupby to silence this warning.\n",
      "  .apply(lambda g: compute_slope_of_feature(g, x_col=\"day\", y_col=feature))\n",
      "/var/folders/fh/rstwtx7j73b0zwzkyzktnnrh0000gn/T/ipykernel_54572/1590456300.py:44: DeprecationWarning: DataFrameGroupBy.apply operated on the grouping columns. This behavior is deprecated, and in a future version of pandas the grouping columns will be excluded from the operation. Either pass `include_groups=False` to exclude the groupings or explicitly select the grouping columns after groupby to silence this warning.\n",
      "  .apply(lambda g: compute_slope_of_feature(g, x_col=\"day\", y_col=feature))\n",
      "/var/folders/fh/rstwtx7j73b0zwzkyzktnnrh0000gn/T/ipykernel_54572/1590456300.py:59: DeprecationWarning: DataFrameGroupBy.apply operated on the grouping columns. This behavior is deprecated, and in a future version of pandas the grouping columns will be excluded from the operation. Either pass `include_groups=False` to exclude the groupings or explicitly select the grouping columns after groupby to silence this warning.\n",
      "  .apply(lambda g: compute_slope_of_feature(g, x_col=\"day\", y_col=feature))\n"
     ]
    },
    {
     "name": "stdout",
     "output_type": "stream",
     "text": [
      "\n",
      "FOR FEATURE:  mobility\n",
      "\n",
      "FOR FEATURE:  mobility_radius\n",
      "\n",
      "FOR FEATURE:  phq9_5\n"
     ]
    },
    {
     "name": "stderr",
     "output_type": "stream",
     "text": [
      "/var/folders/fh/rstwtx7j73b0zwzkyzktnnrh0000gn/T/ipykernel_54572/1590456300.py:44: DeprecationWarning: DataFrameGroupBy.apply operated on the grouping columns. This behavior is deprecated, and in a future version of pandas the grouping columns will be excluded from the operation. Either pass `include_groups=False` to exclude the groupings or explicitly select the grouping columns after groupby to silence this warning.\n",
      "  .apply(lambda g: compute_slope_of_feature(g, x_col=\"day\", y_col=feature))\n",
      "/var/folders/fh/rstwtx7j73b0zwzkyzktnnrh0000gn/T/ipykernel_54572/1590456300.py:59: DeprecationWarning: DataFrameGroupBy.apply operated on the grouping columns. This behavior is deprecated, and in a future version of pandas the grouping columns will be excluded from the operation. Either pass `include_groups=False` to exclude the groupings or explicitly select the grouping columns after groupby to silence this warning.\n",
      "  .apply(lambda g: compute_slope_of_feature(g, x_col=\"day\", y_col=feature))\n",
      "/var/folders/fh/rstwtx7j73b0zwzkyzktnnrh0000gn/T/ipykernel_54572/1590456300.py:44: DeprecationWarning: DataFrameGroupBy.apply operated on the grouping columns. This behavior is deprecated, and in a future version of pandas the grouping columns will be excluded from the operation. Either pass `include_groups=False` to exclude the groupings or explicitly select the grouping columns after groupby to silence this warning.\n",
      "  .apply(lambda g: compute_slope_of_feature(g, x_col=\"day\", y_col=feature))\n",
      "/var/folders/fh/rstwtx7j73b0zwzkyzktnnrh0000gn/T/ipykernel_54572/1590456300.py:59: DeprecationWarning: DataFrameGroupBy.apply operated on the grouping columns. This behavior is deprecated, and in a future version of pandas the grouping columns will be excluded from the operation. Either pass `include_groups=False` to exclude the groupings or explicitly select the grouping columns after groupby to silence this warning.\n",
      "  .apply(lambda g: compute_slope_of_feature(g, x_col=\"day\", y_col=feature))\n"
     ]
    },
    {
     "name": "stdout",
     "output_type": "stream",
     "text": [
      "\n",
      "FOR FEATURE:  aggregate_communication\n",
      "\n",
      "FOR FEATURE:  sms_count\n"
     ]
    },
    {
     "name": "stderr",
     "output_type": "stream",
     "text": [
      "/var/folders/fh/rstwtx7j73b0zwzkyzktnnrh0000gn/T/ipykernel_54572/1590456300.py:44: DeprecationWarning: DataFrameGroupBy.apply operated on the grouping columns. This behavior is deprecated, and in a future version of pandas the grouping columns will be excluded from the operation. Either pass `include_groups=False` to exclude the groupings or explicitly select the grouping columns after groupby to silence this warning.\n",
      "  .apply(lambda g: compute_slope_of_feature(g, x_col=\"day\", y_col=feature))\n",
      "/var/folders/fh/rstwtx7j73b0zwzkyzktnnrh0000gn/T/ipykernel_54572/1590456300.py:59: DeprecationWarning: DataFrameGroupBy.apply operated on the grouping columns. This behavior is deprecated, and in a future version of pandas the grouping columns will be excluded from the operation. Either pass `include_groups=False` to exclude the groupings or explicitly select the grouping columns after groupby to silence this warning.\n",
      "  .apply(lambda g: compute_slope_of_feature(g, x_col=\"day\", y_col=feature))\n",
      "/var/folders/fh/rstwtx7j73b0zwzkyzktnnrh0000gn/T/ipykernel_54572/1590456300.py:44: DeprecationWarning: DataFrameGroupBy.apply operated on the grouping columns. This behavior is deprecated, and in a future version of pandas the grouping columns will be excluded from the operation. Either pass `include_groups=False` to exclude the groupings or explicitly select the grouping columns after groupby to silence this warning.\n",
      "  .apply(lambda g: compute_slope_of_feature(g, x_col=\"day\", y_col=feature))\n",
      "/var/folders/fh/rstwtx7j73b0zwzkyzktnnrh0000gn/T/ipykernel_54572/1590456300.py:59: DeprecationWarning: DataFrameGroupBy.apply operated on the grouping columns. This behavior is deprecated, and in a future version of pandas the grouping columns will be excluded from the operation. Either pass `include_groups=False` to exclude the groupings or explicitly select the grouping columns after groupby to silence this warning.\n",
      "  .apply(lambda g: compute_slope_of_feature(g, x_col=\"day\", y_col=feature))\n"
     ]
    },
    {
     "name": "stdout",
     "output_type": "stream",
     "text": [
      "\n",
      "FOR FEATURE:  phq2_sum\n",
      "\n",
      "FOR FEATURE:  unreturned_calls\n"
     ]
    },
    {
     "name": "stderr",
     "output_type": "stream",
     "text": [
      "/var/folders/fh/rstwtx7j73b0zwzkyzktnnrh0000gn/T/ipykernel_54572/1590456300.py:44: DeprecationWarning: DataFrameGroupBy.apply operated on the grouping columns. This behavior is deprecated, and in a future version of pandas the grouping columns will be excluded from the operation. Either pass `include_groups=False` to exclude the groupings or explicitly select the grouping columns after groupby to silence this warning.\n",
      "  .apply(lambda g: compute_slope_of_feature(g, x_col=\"day\", y_col=feature))\n",
      "/var/folders/fh/rstwtx7j73b0zwzkyzktnnrh0000gn/T/ipykernel_54572/1590456300.py:59: DeprecationWarning: DataFrameGroupBy.apply operated on the grouping columns. This behavior is deprecated, and in a future version of pandas the grouping columns will be excluded from the operation. Either pass `include_groups=False` to exclude the groupings or explicitly select the grouping columns after groupby to silence this warning.\n",
      "  .apply(lambda g: compute_slope_of_feature(g, x_col=\"day\", y_col=feature))\n"
     ]
    },
    {
     "name": "stdout",
     "output_type": "stream",
     "text": [
      "\n",
      "FOR FEATURE:  interaction_diversity\n"
     ]
    },
    {
     "name": "stderr",
     "output_type": "stream",
     "text": [
      "/var/folders/fh/rstwtx7j73b0zwzkyzktnnrh0000gn/T/ipykernel_54572/1590456300.py:44: DeprecationWarning: DataFrameGroupBy.apply operated on the grouping columns. This behavior is deprecated, and in a future version of pandas the grouping columns will be excluded from the operation. Either pass `include_groups=False` to exclude the groupings or explicitly select the grouping columns after groupby to silence this warning.\n",
      "  .apply(lambda g: compute_slope_of_feature(g, x_col=\"day\", y_col=feature))\n",
      "/var/folders/fh/rstwtx7j73b0zwzkyzktnnrh0000gn/T/ipykernel_54572/1590456300.py:59: DeprecationWarning: DataFrameGroupBy.apply operated on the grouping columns. This behavior is deprecated, and in a future version of pandas the grouping columns will be excluded from the operation. Either pass `include_groups=False` to exclude the groupings or explicitly select the grouping columns after groupby to silence this warning.\n",
      "  .apply(lambda g: compute_slope_of_feature(g, x_col=\"day\", y_col=feature))\n",
      "/var/folders/fh/rstwtx7j73b0zwzkyzktnnrh0000gn/T/ipykernel_54572/1590456300.py:44: DeprecationWarning: DataFrameGroupBy.apply operated on the grouping columns. This behavior is deprecated, and in a future version of pandas the grouping columns will be excluded from the operation. Either pass `include_groups=False` to exclude the groupings or explicitly select the grouping columns after groupby to silence this warning.\n",
      "  .apply(lambda g: compute_slope_of_feature(g, x_col=\"day\", y_col=feature))\n",
      "/var/folders/fh/rstwtx7j73b0zwzkyzktnnrh0000gn/T/ipykernel_54572/1590456300.py:59: DeprecationWarning: DataFrameGroupBy.apply operated on the grouping columns. This behavior is deprecated, and in a future version of pandas the grouping columns will be excluded from the operation. Either pass `include_groups=False` to exclude the groupings or explicitly select the grouping columns after groupby to silence this warning.\n",
      "  .apply(lambda g: compute_slope_of_feature(g, x_col=\"day\", y_col=feature))\n",
      "/var/folders/fh/rstwtx7j73b0zwzkyzktnnrh0000gn/T/ipykernel_54572/1590456300.py:44: DeprecationWarning: DataFrameGroupBy.apply operated on the grouping columns. This behavior is deprecated, and in a future version of pandas the grouping columns will be excluded from the operation. Either pass `include_groups=False` to exclude the groupings or explicitly select the grouping columns after groupby to silence this warning.\n",
      "  .apply(lambda g: compute_slope_of_feature(g, x_col=\"day\", y_col=feature))\n"
     ]
    },
    {
     "name": "stdout",
     "output_type": "stream",
     "text": [
      "\n",
      "FOR FEATURE:  call_duration\n",
      "\n",
      "FOR FEATURE:  pc_mobility\n",
      "\n",
      "FOR FEATURE:  missed_interactions\n"
     ]
    },
    {
     "name": "stderr",
     "output_type": "stream",
     "text": [
      "/var/folders/fh/rstwtx7j73b0zwzkyzktnnrh0000gn/T/ipykernel_54572/1590456300.py:59: DeprecationWarning: DataFrameGroupBy.apply operated on the grouping columns. This behavior is deprecated, and in a future version of pandas the grouping columns will be excluded from the operation. Either pass `include_groups=False` to exclude the groupings or explicitly select the grouping columns after groupby to silence this warning.\n",
      "  .apply(lambda g: compute_slope_of_feature(g, x_col=\"day\", y_col=feature))\n",
      "/var/folders/fh/rstwtx7j73b0zwzkyzktnnrh0000gn/T/ipykernel_54572/1590456300.py:44: DeprecationWarning: DataFrameGroupBy.apply operated on the grouping columns. This behavior is deprecated, and in a future version of pandas the grouping columns will be excluded from the operation. Either pass `include_groups=False` to exclude the groupings or explicitly select the grouping columns after groupby to silence this warning.\n",
      "  .apply(lambda g: compute_slope_of_feature(g, x_col=\"day\", y_col=feature))\n",
      "/var/folders/fh/rstwtx7j73b0zwzkyzktnnrh0000gn/T/ipykernel_54572/1590456300.py:59: DeprecationWarning: DataFrameGroupBy.apply operated on the grouping columns. This behavior is deprecated, and in a future version of pandas the grouping columns will be excluded from the operation. Either pass `include_groups=False` to exclude the groupings or explicitly select the grouping columns after groupby to silence this warning.\n",
      "  .apply(lambda g: compute_slope_of_feature(g, x_col=\"day\", y_col=feature))\n",
      "/var/folders/fh/rstwtx7j73b0zwzkyzktnnrh0000gn/T/ipykernel_54572/1590456300.py:44: DeprecationWarning: DataFrameGroupBy.apply operated on the grouping columns. This behavior is deprecated, and in a future version of pandas the grouping columns will be excluded from the operation. Either pass `include_groups=False` to exclude the groupings or explicitly select the grouping columns after groupby to silence this warning.\n",
      "  .apply(lambda g: compute_slope_of_feature(g, x_col=\"day\", y_col=feature))\n",
      "/var/folders/fh/rstwtx7j73b0zwzkyzktnnrh0000gn/T/ipykernel_54572/1590456300.py:59: DeprecationWarning: DataFrameGroupBy.apply operated on the grouping columns. This behavior is deprecated, and in a future version of pandas the grouping columns will be excluded from the operation. Either pass `include_groups=False` to exclude the groupings or explicitly select the grouping columns after groupby to silence this warning.\n",
      "  .apply(lambda g: compute_slope_of_feature(g, x_col=\"day\", y_col=feature))\n"
     ]
    },
    {
     "name": "stdout",
     "output_type": "stream",
     "text": [
      "\n",
      "FOR FEATURE:  mobility_radius\n",
      "\n",
      "FOR FEATURE:  call_count\n",
      "\n",
      "FOR FEATURE:  pc_missed_communications\n"
     ]
    },
    {
     "name": "stderr",
     "output_type": "stream",
     "text": [
      "/var/folders/fh/rstwtx7j73b0zwzkyzktnnrh0000gn/T/ipykernel_54572/1590456300.py:44: DeprecationWarning: DataFrameGroupBy.apply operated on the grouping columns. This behavior is deprecated, and in a future version of pandas the grouping columns will be excluded from the operation. Either pass `include_groups=False` to exclude the groupings or explicitly select the grouping columns after groupby to silence this warning.\n",
      "  .apply(lambda g: compute_slope_of_feature(g, x_col=\"day\", y_col=feature))\n",
      "/var/folders/fh/rstwtx7j73b0zwzkyzktnnrh0000gn/T/ipykernel_54572/1590456300.py:59: DeprecationWarning: DataFrameGroupBy.apply operated on the grouping columns. This behavior is deprecated, and in a future version of pandas the grouping columns will be excluded from the operation. Either pass `include_groups=False` to exclude the groupings or explicitly select the grouping columns after groupby to silence this warning.\n",
      "  .apply(lambda g: compute_slope_of_feature(g, x_col=\"day\", y_col=feature))\n",
      "/var/folders/fh/rstwtx7j73b0zwzkyzktnnrh0000gn/T/ipykernel_54572/1590456300.py:44: DeprecationWarning: DataFrameGroupBy.apply operated on the grouping columns. This behavior is deprecated, and in a future version of pandas the grouping columns will be excluded from the operation. Either pass `include_groups=False` to exclude the groupings or explicitly select the grouping columns after groupby to silence this warning.\n",
      "  .apply(lambda g: compute_slope_of_feature(g, x_col=\"day\", y_col=feature))\n",
      "/var/folders/fh/rstwtx7j73b0zwzkyzktnnrh0000gn/T/ipykernel_54572/1590456300.py:59: DeprecationWarning: DataFrameGroupBy.apply operated on the grouping columns. This behavior is deprecated, and in a future version of pandas the grouping columns will be excluded from the operation. Either pass `include_groups=False` to exclude the groupings or explicitly select the grouping columns after groupby to silence this warning.\n",
      "  .apply(lambda g: compute_slope_of_feature(g, x_col=\"day\", y_col=feature))\n",
      "/var/folders/fh/rstwtx7j73b0zwzkyzktnnrh0000gn/T/ipykernel_54572/1590456300.py:44: DeprecationWarning: DataFrameGroupBy.apply operated on the grouping columns. This behavior is deprecated, and in a future version of pandas the grouping columns will be excluded from the operation. Either pass `include_groups=False` to exclude the groupings or explicitly select the grouping columns after groupby to silence this warning.\n",
      "  .apply(lambda g: compute_slope_of_feature(g, x_col=\"day\", y_col=feature))\n"
     ]
    },
    {
     "name": "stdout",
     "output_type": "stream",
     "text": [
      "\n",
      "FOR FEATURE:  pc_communications\n",
      "\n",
      "FOR FEATURE:  mobility\n"
     ]
    },
    {
     "name": "stderr",
     "output_type": "stream",
     "text": [
      "/var/folders/fh/rstwtx7j73b0zwzkyzktnnrh0000gn/T/ipykernel_54572/1590456300.py:59: DeprecationWarning: DataFrameGroupBy.apply operated on the grouping columns. This behavior is deprecated, and in a future version of pandas the grouping columns will be excluded from the operation. Either pass `include_groups=False` to exclude the groupings or explicitly select the grouping columns after groupby to silence this warning.\n",
      "  .apply(lambda g: compute_slope_of_feature(g, x_col=\"day\", y_col=feature))\n",
      "/var/folders/fh/rstwtx7j73b0zwzkyzktnnrh0000gn/T/ipykernel_54572/1590456300.py:44: DeprecationWarning: DataFrameGroupBy.apply operated on the grouping columns. This behavior is deprecated, and in a future version of pandas the grouping columns will be excluded from the operation. Either pass `include_groups=False` to exclude the groupings or explicitly select the grouping columns after groupby to silence this warning.\n",
      "  .apply(lambda g: compute_slope_of_feature(g, x_col=\"day\", y_col=feature))\n",
      "/var/folders/fh/rstwtx7j73b0zwzkyzktnnrh0000gn/T/ipykernel_54572/1590456300.py:59: DeprecationWarning: DataFrameGroupBy.apply operated on the grouping columns. This behavior is deprecated, and in a future version of pandas the grouping columns will be excluded from the operation. Either pass `include_groups=False` to exclude the groupings or explicitly select the grouping columns after groupby to silence this warning.\n",
      "  .apply(lambda g: compute_slope_of_feature(g, x_col=\"day\", y_col=feature))\n",
      "/var/folders/fh/rstwtx7j73b0zwzkyzktnnrh0000gn/T/ipykernel_54572/1590456300.py:44: DeprecationWarning: DataFrameGroupBy.apply operated on the grouping columns. This behavior is deprecated, and in a future version of pandas the grouping columns will be excluded from the operation. Either pass `include_groups=False` to exclude the groupings or explicitly select the grouping columns after groupby to silence this warning.\n",
      "  .apply(lambda g: compute_slope_of_feature(g, x_col=\"day\", y_col=feature))\n",
      "/var/folders/fh/rstwtx7j73b0zwzkyzktnnrh0000gn/T/ipykernel_54572/1590456300.py:59: DeprecationWarning: DataFrameGroupBy.apply operated on the grouping columns. This behavior is deprecated, and in a future version of pandas the grouping columns will be excluded from the operation. Either pass `include_groups=False` to exclude the groupings or explicitly select the grouping columns after groupby to silence this warning.\n",
      "  .apply(lambda g: compute_slope_of_feature(g, x_col=\"day\", y_col=feature))\n"
     ]
    },
    {
     "name": "stdout",
     "output_type": "stream",
     "text": [
      "\n",
      "FOR FEATURE:  pc_depression\n",
      "\n",
      "FOR FEATURE:  sms_length\n",
      "\n",
      "FOR FEATURE:  phq2_2\n"
     ]
    },
    {
     "name": "stderr",
     "output_type": "stream",
     "text": [
      "/var/folders/fh/rstwtx7j73b0zwzkyzktnnrh0000gn/T/ipykernel_54572/1590456300.py:44: DeprecationWarning: DataFrameGroupBy.apply operated on the grouping columns. This behavior is deprecated, and in a future version of pandas the grouping columns will be excluded from the operation. Either pass `include_groups=False` to exclude the groupings or explicitly select the grouping columns after groupby to silence this warning.\n",
      "  .apply(lambda g: compute_slope_of_feature(g, x_col=\"day\", y_col=feature))\n",
      "/var/folders/fh/rstwtx7j73b0zwzkyzktnnrh0000gn/T/ipykernel_54572/1590456300.py:59: DeprecationWarning: DataFrameGroupBy.apply operated on the grouping columns. This behavior is deprecated, and in a future version of pandas the grouping columns will be excluded from the operation. Either pass `include_groups=False` to exclude the groupings or explicitly select the grouping columns after groupby to silence this warning.\n",
      "  .apply(lambda g: compute_slope_of_feature(g, x_col=\"day\", y_col=feature))\n",
      "/var/folders/fh/rstwtx7j73b0zwzkyzktnnrh0000gn/T/ipykernel_54572/1590456300.py:44: DeprecationWarning: DataFrameGroupBy.apply operated on the grouping columns. This behavior is deprecated, and in a future version of pandas the grouping columns will be excluded from the operation. Either pass `include_groups=False` to exclude the groupings or explicitly select the grouping columns after groupby to silence this warning.\n",
      "  .apply(lambda g: compute_slope_of_feature(g, x_col=\"day\", y_col=feature))\n",
      "/var/folders/fh/rstwtx7j73b0zwzkyzktnnrh0000gn/T/ipykernel_54572/1590456300.py:59: DeprecationWarning: DataFrameGroupBy.apply operated on the grouping columns. This behavior is deprecated, and in a future version of pandas the grouping columns will be excluded from the operation. Either pass `include_groups=False` to exclude the groupings or explicitly select the grouping columns after groupby to silence this warning.\n",
      "  .apply(lambda g: compute_slope_of_feature(g, x_col=\"day\", y_col=feature))\n",
      "/var/folders/fh/rstwtx7j73b0zwzkyzktnnrh0000gn/T/ipykernel_54572/1590456300.py:44: DeprecationWarning: DataFrameGroupBy.apply operated on the grouping columns. This behavior is deprecated, and in a future version of pandas the grouping columns will be excluded from the operation. Either pass `include_groups=False` to exclude the groupings or explicitly select the grouping columns after groupby to silence this warning.\n",
      "  .apply(lambda g: compute_slope_of_feature(g, x_col=\"day\", y_col=feature))\n"
     ]
    },
    {
     "name": "stdout",
     "output_type": "stream",
     "text": [
      "\n",
      "FOR FEATURE:  phq2_1\n",
      "\n",
      "FOR FEATURE:  aggregate_communication\n"
     ]
    },
    {
     "name": "stderr",
     "output_type": "stream",
     "text": [
      "/var/folders/fh/rstwtx7j73b0zwzkyzktnnrh0000gn/T/ipykernel_54572/1590456300.py:59: DeprecationWarning: DataFrameGroupBy.apply operated on the grouping columns. This behavior is deprecated, and in a future version of pandas the grouping columns will be excluded from the operation. Either pass `include_groups=False` to exclude the groupings or explicitly select the grouping columns after groupby to silence this warning.\n",
      "  .apply(lambda g: compute_slope_of_feature(g, x_col=\"day\", y_col=feature))\n",
      "/var/folders/fh/rstwtx7j73b0zwzkyzktnnrh0000gn/T/ipykernel_54572/1590456300.py:44: DeprecationWarning: DataFrameGroupBy.apply operated on the grouping columns. This behavior is deprecated, and in a future version of pandas the grouping columns will be excluded from the operation. Either pass `include_groups=False` to exclude the groupings or explicitly select the grouping columns after groupby to silence this warning.\n",
      "  .apply(lambda g: compute_slope_of_feature(g, x_col=\"day\", y_col=feature))\n",
      "/var/folders/fh/rstwtx7j73b0zwzkyzktnnrh0000gn/T/ipykernel_54572/1590456300.py:59: DeprecationWarning: DataFrameGroupBy.apply operated on the grouping columns. This behavior is deprecated, and in a future version of pandas the grouping columns will be excluded from the operation. Either pass `include_groups=False` to exclude the groupings or explicitly select the grouping columns after groupby to silence this warning.\n",
      "  .apply(lambda g: compute_slope_of_feature(g, x_col=\"day\", y_col=feature))\n",
      "/var/folders/fh/rstwtx7j73b0zwzkyzktnnrh0000gn/T/ipykernel_54572/1590456300.py:44: DeprecationWarning: DataFrameGroupBy.apply operated on the grouping columns. This behavior is deprecated, and in a future version of pandas the grouping columns will be excluded from the operation. Either pass `include_groups=False` to exclude the groupings or explicitly select the grouping columns after groupby to silence this warning.\n",
      "  .apply(lambda g: compute_slope_of_feature(g, x_col=\"day\", y_col=feature))\n"
     ]
    },
    {
     "name": "stdout",
     "output_type": "stream",
     "text": [
      "\n",
      "FOR FEATURE:  phq2_sum\n",
      "\n",
      "FOR FEATURE:  hours_of_sleep\n",
      "\n",
      "FOR FEATURE:  distance_powered_vehicle\n",
      "\n",
      "FOR FEATURE:  hours_active\n"
     ]
    },
    {
     "name": "stderr",
     "output_type": "stream",
     "text": [
      "/var/folders/fh/rstwtx7j73b0zwzkyzktnnrh0000gn/T/ipykernel_54572/1590456300.py:59: DeprecationWarning: DataFrameGroupBy.apply operated on the grouping columns. This behavior is deprecated, and in a future version of pandas the grouping columns will be excluded from the operation. Either pass `include_groups=False` to exclude the groupings or explicitly select the grouping columns after groupby to silence this warning.\n",
      "  .apply(lambda g: compute_slope_of_feature(g, x_col=\"day\", y_col=feature))\n",
      "/var/folders/fh/rstwtx7j73b0zwzkyzktnnrh0000gn/T/ipykernel_54572/1590456300.py:44: DeprecationWarning: DataFrameGroupBy.apply operated on the grouping columns. This behavior is deprecated, and in a future version of pandas the grouping columns will be excluded from the operation. Either pass `include_groups=False` to exclude the groupings or explicitly select the grouping columns after groupby to silence this warning.\n",
      "  .apply(lambda g: compute_slope_of_feature(g, x_col=\"day\", y_col=feature))\n",
      "/var/folders/fh/rstwtx7j73b0zwzkyzktnnrh0000gn/T/ipykernel_54572/1590456300.py:59: DeprecationWarning: DataFrameGroupBy.apply operated on the grouping columns. This behavior is deprecated, and in a future version of pandas the grouping columns will be excluded from the operation. Either pass `include_groups=False` to exclude the groupings or explicitly select the grouping columns after groupby to silence this warning.\n",
      "  .apply(lambda g: compute_slope_of_feature(g, x_col=\"day\", y_col=feature))\n",
      "/var/folders/fh/rstwtx7j73b0zwzkyzktnnrh0000gn/T/ipykernel_54572/1590456300.py:44: DeprecationWarning: DataFrameGroupBy.apply operated on the grouping columns. This behavior is deprecated, and in a future version of pandas the grouping columns will be excluded from the operation. Either pass `include_groups=False` to exclude the groupings or explicitly select the grouping columns after groupby to silence this warning.\n",
      "  .apply(lambda g: compute_slope_of_feature(g, x_col=\"day\", y_col=feature))\n",
      "/var/folders/fh/rstwtx7j73b0zwzkyzktnnrh0000gn/T/ipykernel_54572/1590456300.py:59: DeprecationWarning: DataFrameGroupBy.apply operated on the grouping columns. This behavior is deprecated, and in a future version of pandas the grouping columns will be excluded from the operation. Either pass `include_groups=False` to exclude the groupings or explicitly select the grouping columns after groupby to silence this warning.\n",
      "  .apply(lambda g: compute_slope_of_feature(g, x_col=\"day\", y_col=feature))\n",
      "/var/folders/fh/rstwtx7j73b0zwzkyzktnnrh0000gn/T/ipykernel_54572/1590456300.py:44: DeprecationWarning: DataFrameGroupBy.apply operated on the grouping columns. This behavior is deprecated, and in a future version of pandas the grouping columns will be excluded from the operation. Either pass `include_groups=False` to exclude the groupings or explicitly select the grouping columns after groupby to silence this warning.\n",
      "  .apply(lambda g: compute_slope_of_feature(g, x_col=\"day\", y_col=feature))\n",
      "/var/folders/fh/rstwtx7j73b0zwzkyzktnnrh0000gn/T/ipykernel_54572/1590456300.py:59: DeprecationWarning: DataFrameGroupBy.apply operated on the grouping columns. This behavior is deprecated, and in a future version of pandas the grouping columns will be excluded from the operation. Either pass `include_groups=False` to exclude the groupings or explicitly select the grouping columns after groupby to silence this warning.\n",
      "  .apply(lambda g: compute_slope_of_feature(g, x_col=\"day\", y_col=feature))\n",
      "/var/folders/fh/rstwtx7j73b0zwzkyzktnnrh0000gn/T/ipykernel_54572/1590456300.py:44: DeprecationWarning: DataFrameGroupBy.apply operated on the grouping columns. This behavior is deprecated, and in a future version of pandas the grouping columns will be excluded from the operation. Either pass `include_groups=False` to exclude the groupings or explicitly select the grouping columns after groupby to silence this warning.\n",
      "  .apply(lambda g: compute_slope_of_feature(g, x_col=\"day\", y_col=feature))\n"
     ]
    },
    {
     "name": "stdout",
     "output_type": "stream",
     "text": [
      "\n",
      "FOR FEATURE:  hours_stationary\n",
      "\n",
      "FOR FEATURE:  hours_stationary_nhw\n",
      "\n",
      "FOR FEATURE:  pc_sleep_hours\n"
     ]
    },
    {
     "name": "stderr",
     "output_type": "stream",
     "text": [
      "/var/folders/fh/rstwtx7j73b0zwzkyzktnnrh0000gn/T/ipykernel_54572/1590456300.py:59: DeprecationWarning: DataFrameGroupBy.apply operated on the grouping columns. This behavior is deprecated, and in a future version of pandas the grouping columns will be excluded from the operation. Either pass `include_groups=False` to exclude the groupings or explicitly select the grouping columns after groupby to silence this warning.\n",
      "  .apply(lambda g: compute_slope_of_feature(g, x_col=\"day\", y_col=feature))\n",
      "/var/folders/fh/rstwtx7j73b0zwzkyzktnnrh0000gn/T/ipykernel_54572/1590456300.py:44: DeprecationWarning: DataFrameGroupBy.apply operated on the grouping columns. This behavior is deprecated, and in a future version of pandas the grouping columns will be excluded from the operation. Either pass `include_groups=False` to exclude the groupings or explicitly select the grouping columns after groupby to silence this warning.\n",
      "  .apply(lambda g: compute_slope_of_feature(g, x_col=\"day\", y_col=feature))\n",
      "/var/folders/fh/rstwtx7j73b0zwzkyzktnnrh0000gn/T/ipykernel_54572/1590456300.py:59: DeprecationWarning: DataFrameGroupBy.apply operated on the grouping columns. This behavior is deprecated, and in a future version of pandas the grouping columns will be excluded from the operation. Either pass `include_groups=False` to exclude the groupings or explicitly select the grouping columns after groupby to silence this warning.\n",
      "  .apply(lambda g: compute_slope_of_feature(g, x_col=\"day\", y_col=feature))\n",
      "/var/folders/fh/rstwtx7j73b0zwzkyzktnnrh0000gn/T/ipykernel_54572/1590456300.py:44: DeprecationWarning: DataFrameGroupBy.apply operated on the grouping columns. This behavior is deprecated, and in a future version of pandas the grouping columns will be excluded from the operation. Either pass `include_groups=False` to exclude the groupings or explicitly select the grouping columns after groupby to silence this warning.\n",
      "  .apply(lambda g: compute_slope_of_feature(g, x_col=\"day\", y_col=feature))\n",
      "/var/folders/fh/rstwtx7j73b0zwzkyzktnnrh0000gn/T/ipykernel_54572/1590456300.py:59: DeprecationWarning: DataFrameGroupBy.apply operated on the grouping columns. This behavior is deprecated, and in a future version of pandas the grouping columns will be excluded from the operation. Either pass `include_groups=False` to exclude the groupings or explicitly select the grouping columns after groupby to silence this warning.\n",
      "  .apply(lambda g: compute_slope_of_feature(g, x_col=\"day\", y_col=feature))\n",
      "/var/folders/fh/rstwtx7j73b0zwzkyzktnnrh0000gn/T/ipykernel_54572/1590456300.py:44: DeprecationWarning: DataFrameGroupBy.apply operated on the grouping columns. This behavior is deprecated, and in a future version of pandas the grouping columns will be excluded from the operation. Either pass `include_groups=False` to exclude the groupings or explicitly select the grouping columns after groupby to silence this warning.\n",
      "  .apply(lambda g: compute_slope_of_feature(g, x_col=\"day\", y_col=feature))\n"
     ]
    },
    {
     "name": "stdout",
     "output_type": "stream",
     "text": [
      "\n",
      "FOR FEATURE:  pc_activity\n",
      "\n",
      "FOR FEATURE:  distance_active\n",
      "\n",
      "FOR FEATURE:  pc_stationary_hours\n"
     ]
    },
    {
     "name": "stderr",
     "output_type": "stream",
     "text": [
      "/var/folders/fh/rstwtx7j73b0zwzkyzktnnrh0000gn/T/ipykernel_54572/1590456300.py:59: DeprecationWarning: DataFrameGroupBy.apply operated on the grouping columns. This behavior is deprecated, and in a future version of pandas the grouping columns will be excluded from the operation. Either pass `include_groups=False` to exclude the groupings or explicitly select the grouping columns after groupby to silence this warning.\n",
      "  .apply(lambda g: compute_slope_of_feature(g, x_col=\"day\", y_col=feature))\n",
      "/var/folders/fh/rstwtx7j73b0zwzkyzktnnrh0000gn/T/ipykernel_54572/1590456300.py:44: DeprecationWarning: DataFrameGroupBy.apply operated on the grouping columns. This behavior is deprecated, and in a future version of pandas the grouping columns will be excluded from the operation. Either pass `include_groups=False` to exclude the groupings or explicitly select the grouping columns after groupby to silence this warning.\n",
      "  .apply(lambda g: compute_slope_of_feature(g, x_col=\"day\", y_col=feature))\n",
      "/var/folders/fh/rstwtx7j73b0zwzkyzktnnrh0000gn/T/ipykernel_54572/1590456300.py:59: DeprecationWarning: DataFrameGroupBy.apply operated on the grouping columns. This behavior is deprecated, and in a future version of pandas the grouping columns will be excluded from the operation. Either pass `include_groups=False` to exclude the groupings or explicitly select the grouping columns after groupby to silence this warning.\n",
      "  .apply(lambda g: compute_slope_of_feature(g, x_col=\"day\", y_col=feature))\n",
      "/var/folders/fh/rstwtx7j73b0zwzkyzktnnrh0000gn/T/ipykernel_54572/1590456300.py:44: DeprecationWarning: DataFrameGroupBy.apply operated on the grouping columns. This behavior is deprecated, and in a future version of pandas the grouping columns will be excluded from the operation. Either pass `include_groups=False` to exclude the groupings or explicitly select the grouping columns after groupby to silence this warning.\n",
      "  .apply(lambda g: compute_slope_of_feature(g, x_col=\"day\", y_col=feature))\n",
      "/var/folders/fh/rstwtx7j73b0zwzkyzktnnrh0000gn/T/ipykernel_54572/1590456300.py:59: DeprecationWarning: DataFrameGroupBy.apply operated on the grouping columns. This behavior is deprecated, and in a future version of pandas the grouping columns will be excluded from the operation. Either pass `include_groups=False` to exclude the groupings or explicitly select the grouping columns after groupby to silence this warning.\n",
      "  .apply(lambda g: compute_slope_of_feature(g, x_col=\"day\", y_col=feature))\n",
      "/var/folders/fh/rstwtx7j73b0zwzkyzktnnrh0000gn/T/ipykernel_54572/1590456300.py:44: DeprecationWarning: DataFrameGroupBy.apply operated on the grouping columns. This behavior is deprecated, and in a future version of pandas the grouping columns will be excluded from the operation. Either pass `include_groups=False` to exclude the groupings or explicitly select the grouping columns after groupby to silence this warning.\n",
      "  .apply(lambda g: compute_slope_of_feature(g, x_col=\"day\", y_col=feature))\n"
     ]
    },
    {
     "name": "stdout",
     "output_type": "stream",
     "text": [
      "\n",
      "FOR FEATURE:  distance_walking\n",
      "\n",
      "FOR FEATURE:  hours_powered_vehicle\n",
      "\n",
      "FOR FEATURE:  pc_vehicle\n"
     ]
    },
    {
     "name": "stderr",
     "output_type": "stream",
     "text": [
      "/var/folders/fh/rstwtx7j73b0zwzkyzktnnrh0000gn/T/ipykernel_54572/1590456300.py:59: DeprecationWarning: DataFrameGroupBy.apply operated on the grouping columns. This behavior is deprecated, and in a future version of pandas the grouping columns will be excluded from the operation. Either pass `include_groups=False` to exclude the groupings or explicitly select the grouping columns after groupby to silence this warning.\n",
      "  .apply(lambda g: compute_slope_of_feature(g, x_col=\"day\", y_col=feature))\n",
      "/var/folders/fh/rstwtx7j73b0zwzkyzktnnrh0000gn/T/ipykernel_54572/1590456300.py:44: DeprecationWarning: DataFrameGroupBy.apply operated on the grouping columns. This behavior is deprecated, and in a future version of pandas the grouping columns will be excluded from the operation. Either pass `include_groups=False` to exclude the groupings or explicitly select the grouping columns after groupby to silence this warning.\n",
      "  .apply(lambda g: compute_slope_of_feature(g, x_col=\"day\", y_col=feature))\n",
      "/var/folders/fh/rstwtx7j73b0zwzkyzktnnrh0000gn/T/ipykernel_54572/1590456300.py:59: DeprecationWarning: DataFrameGroupBy.apply operated on the grouping columns. This behavior is deprecated, and in a future version of pandas the grouping columns will be excluded from the operation. Either pass `include_groups=False` to exclude the groupings or explicitly select the grouping columns after groupby to silence this warning.\n",
      "  .apply(lambda g: compute_slope_of_feature(g, x_col=\"day\", y_col=feature))\n",
      "/var/folders/fh/rstwtx7j73b0zwzkyzktnnrh0000gn/T/ipykernel_54572/1590456300.py:44: DeprecationWarning: DataFrameGroupBy.apply operated on the grouping columns. This behavior is deprecated, and in a future version of pandas the grouping columns will be excluded from the operation. Either pass `include_groups=False` to exclude the groupings or explicitly select the grouping columns after groupby to silence this warning.\n",
      "  .apply(lambda g: compute_slope_of_feature(g, x_col=\"day\", y_col=feature))\n",
      "/var/folders/fh/rstwtx7j73b0zwzkyzktnnrh0000gn/T/ipykernel_54572/1590456300.py:59: DeprecationWarning: DataFrameGroupBy.apply operated on the grouping columns. This behavior is deprecated, and in a future version of pandas the grouping columns will be excluded from the operation. Either pass `include_groups=False` to exclude the groupings or explicitly select the grouping columns after groupby to silence this warning.\n",
      "  .apply(lambda g: compute_slope_of_feature(g, x_col=\"day\", y_col=feature))\n",
      "/var/folders/fh/rstwtx7j73b0zwzkyzktnnrh0000gn/T/ipykernel_54572/1590456300.py:44: DeprecationWarning: DataFrameGroupBy.apply operated on the grouping columns. This behavior is deprecated, and in a future version of pandas the grouping columns will be excluded from the operation. Either pass `include_groups=False` to exclude the groupings or explicitly select the grouping columns after groupby to silence this warning.\n",
      "  .apply(lambda g: compute_slope_of_feature(g, x_col=\"day\", y_col=feature))\n"
     ]
    },
    {
     "name": "stdout",
     "output_type": "stream",
     "text": [
      "\n",
      "FOR FEATURE:  phq2_2\n",
      "\n",
      "FOR FEATURE:  pc_depression\n",
      "\n",
      "FOR FEATURE:  hours_walking\n"
     ]
    },
    {
     "name": "stderr",
     "output_type": "stream",
     "text": [
      "/var/folders/fh/rstwtx7j73b0zwzkyzktnnrh0000gn/T/ipykernel_54572/1590456300.py:59: DeprecationWarning: DataFrameGroupBy.apply operated on the grouping columns. This behavior is deprecated, and in a future version of pandas the grouping columns will be excluded from the operation. Either pass `include_groups=False` to exclude the groupings or explicitly select the grouping columns after groupby to silence this warning.\n",
      "  .apply(lambda g: compute_slope_of_feature(g, x_col=\"day\", y_col=feature))\n",
      "/var/folders/fh/rstwtx7j73b0zwzkyzktnnrh0000gn/T/ipykernel_54572/1590456300.py:44: DeprecationWarning: DataFrameGroupBy.apply operated on the grouping columns. This behavior is deprecated, and in a future version of pandas the grouping columns will be excluded from the operation. Either pass `include_groups=False` to exclude the groupings or explicitly select the grouping columns after groupby to silence this warning.\n",
      "  .apply(lambda g: compute_slope_of_feature(g, x_col=\"day\", y_col=feature))\n",
      "/var/folders/fh/rstwtx7j73b0zwzkyzktnnrh0000gn/T/ipykernel_54572/1590456300.py:59: DeprecationWarning: DataFrameGroupBy.apply operated on the grouping columns. This behavior is deprecated, and in a future version of pandas the grouping columns will be excluded from the operation. Either pass `include_groups=False` to exclude the groupings or explicitly select the grouping columns after groupby to silence this warning.\n",
      "  .apply(lambda g: compute_slope_of_feature(g, x_col=\"day\", y_col=feature))\n",
      "/var/folders/fh/rstwtx7j73b0zwzkyzktnnrh0000gn/T/ipykernel_54572/1590456300.py:44: DeprecationWarning: DataFrameGroupBy.apply operated on the grouping columns. This behavior is deprecated, and in a future version of pandas the grouping columns will be excluded from the operation. Either pass `include_groups=False` to exclude the groupings or explicitly select the grouping columns after groupby to silence this warning.\n",
      "  .apply(lambda g: compute_slope_of_feature(g, x_col=\"day\", y_col=feature))\n",
      "/var/folders/fh/rstwtx7j73b0zwzkyzktnnrh0000gn/T/ipykernel_54572/1590456300.py:59: DeprecationWarning: DataFrameGroupBy.apply operated on the grouping columns. This behavior is deprecated, and in a future version of pandas the grouping columns will be excluded from the operation. Either pass `include_groups=False` to exclude the groupings or explicitly select the grouping columns after groupby to silence this warning.\n",
      "  .apply(lambda g: compute_slope_of_feature(g, x_col=\"day\", y_col=feature))\n"
     ]
    },
    {
     "name": "stdout",
     "output_type": "stream",
     "text": [
      "\n",
      "FOR FEATURE:  phq2_1\n"
     ]
    },
    {
     "name": "stderr",
     "output_type": "stream",
     "text": [
      "/var/folders/fh/rstwtx7j73b0zwzkyzktnnrh0000gn/T/ipykernel_54572/1590456300.py:44: DeprecationWarning: DataFrameGroupBy.apply operated on the grouping columns. This behavior is deprecated, and in a future version of pandas the grouping columns will be excluded from the operation. Either pass `include_groups=False` to exclude the groupings or explicitly select the grouping columns after groupby to silence this warning.\n",
      "  .apply(lambda g: compute_slope_of_feature(g, x_col=\"day\", y_col=feature))\n",
      "/var/folders/fh/rstwtx7j73b0zwzkyzktnnrh0000gn/T/ipykernel_54572/1590456300.py:59: DeprecationWarning: DataFrameGroupBy.apply operated on the grouping columns. This behavior is deprecated, and in a future version of pandas the grouping columns will be excluded from the operation. Either pass `include_groups=False` to exclude the groupings or explicitly select the grouping columns after groupby to silence this warning.\n",
      "  .apply(lambda g: compute_slope_of_feature(g, x_col=\"day\", y_col=feature))\n"
     ]
    },
    {
     "name": "stdout",
     "output_type": "stream",
     "text": [
      "\n",
      "FOR FEATURE:  hours_of_sleep\n",
      "\n",
      "FOR FEATURE:  phq9_sum\n",
      "\n",
      "FOR FEATURE:  hours_stationary\n",
      "\n",
      "FOR FEATURE:  phq9_8\n",
      "\n",
      "FOR FEATURE:  pc_activity\n"
     ]
    },
    {
     "name": "stderr",
     "output_type": "stream",
     "text": [
      "/var/folders/fh/rstwtx7j73b0zwzkyzktnnrh0000gn/T/ipykernel_54572/1590456300.py:44: DeprecationWarning: DataFrameGroupBy.apply operated on the grouping columns. This behavior is deprecated, and in a future version of pandas the grouping columns will be excluded from the operation. Either pass `include_groups=False` to exclude the groupings or explicitly select the grouping columns after groupby to silence this warning.\n",
      "  .apply(lambda g: compute_slope_of_feature(g, x_col=\"day\", y_col=feature))\n",
      "/var/folders/fh/rstwtx7j73b0zwzkyzktnnrh0000gn/T/ipykernel_54572/1590456300.py:59: DeprecationWarning: DataFrameGroupBy.apply operated on the grouping columns. This behavior is deprecated, and in a future version of pandas the grouping columns will be excluded from the operation. Either pass `include_groups=False` to exclude the groupings or explicitly select the grouping columns after groupby to silence this warning.\n",
      "  .apply(lambda g: compute_slope_of_feature(g, x_col=\"day\", y_col=feature))\n",
      "/var/folders/fh/rstwtx7j73b0zwzkyzktnnrh0000gn/T/ipykernel_54572/1590456300.py:44: DeprecationWarning: DataFrameGroupBy.apply operated on the grouping columns. This behavior is deprecated, and in a future version of pandas the grouping columns will be excluded from the operation. Either pass `include_groups=False` to exclude the groupings or explicitly select the grouping columns after groupby to silence this warning.\n",
      "  .apply(lambda g: compute_slope_of_feature(g, x_col=\"day\", y_col=feature))\n",
      "/var/folders/fh/rstwtx7j73b0zwzkyzktnnrh0000gn/T/ipykernel_54572/1590456300.py:59: DeprecationWarning: DataFrameGroupBy.apply operated on the grouping columns. This behavior is deprecated, and in a future version of pandas the grouping columns will be excluded from the operation. Either pass `include_groups=False` to exclude the groupings or explicitly select the grouping columns after groupby to silence this warning.\n",
      "  .apply(lambda g: compute_slope_of_feature(g, x_col=\"day\", y_col=feature))\n",
      "/var/folders/fh/rstwtx7j73b0zwzkyzktnnrh0000gn/T/ipykernel_54572/1590456300.py:44: DeprecationWarning: DataFrameGroupBy.apply operated on the grouping columns. This behavior is deprecated, and in a future version of pandas the grouping columns will be excluded from the operation. Either pass `include_groups=False` to exclude the groupings or explicitly select the grouping columns after groupby to silence this warning.\n",
      "  .apply(lambda g: compute_slope_of_feature(g, x_col=\"day\", y_col=feature))\n",
      "/var/folders/fh/rstwtx7j73b0zwzkyzktnnrh0000gn/T/ipykernel_54572/1590456300.py:59: DeprecationWarning: DataFrameGroupBy.apply operated on the grouping columns. This behavior is deprecated, and in a future version of pandas the grouping columns will be excluded from the operation. Either pass `include_groups=False` to exclude the groupings or explicitly select the grouping columns after groupby to silence this warning.\n",
      "  .apply(lambda g: compute_slope_of_feature(g, x_col=\"day\", y_col=feature))\n",
      "/var/folders/fh/rstwtx7j73b0zwzkyzktnnrh0000gn/T/ipykernel_54572/1590456300.py:44: DeprecationWarning: DataFrameGroupBy.apply operated on the grouping columns. This behavior is deprecated, and in a future version of pandas the grouping columns will be excluded from the operation. Either pass `include_groups=False` to exclude the groupings or explicitly select the grouping columns after groupby to silence this warning.\n",
      "  .apply(lambda g: compute_slope_of_feature(g, x_col=\"day\", y_col=feature))\n",
      "/var/folders/fh/rstwtx7j73b0zwzkyzktnnrh0000gn/T/ipykernel_54572/1590456300.py:59: DeprecationWarning: DataFrameGroupBy.apply operated on the grouping columns. This behavior is deprecated, and in a future version of pandas the grouping columns will be excluded from the operation. Either pass `include_groups=False` to exclude the groupings or explicitly select the grouping columns after groupby to silence this warning.\n",
      "  .apply(lambda g: compute_slope_of_feature(g, x_col=\"day\", y_col=feature))\n",
      "/var/folders/fh/rstwtx7j73b0zwzkyzktnnrh0000gn/T/ipykernel_54572/1590456300.py:44: DeprecationWarning: DataFrameGroupBy.apply operated on the grouping columns. This behavior is deprecated, and in a future version of pandas the grouping columns will be excluded from the operation. Either pass `include_groups=False` to exclude the groupings or explicitly select the grouping columns after groupby to silence this warning.\n",
      "  .apply(lambda g: compute_slope_of_feature(g, x_col=\"day\", y_col=feature))\n",
      "/var/folders/fh/rstwtx7j73b0zwzkyzktnnrh0000gn/T/ipykernel_54572/1590456300.py:59: DeprecationWarning: DataFrameGroupBy.apply operated on the grouping columns. This behavior is deprecated, and in a future version of pandas the grouping columns will be excluded from the operation. Either pass `include_groups=False` to exclude the groupings or explicitly select the grouping columns after groupby to silence this warning.\n",
      "  .apply(lambda g: compute_slope_of_feature(g, x_col=\"day\", y_col=feature))\n"
     ]
    },
    {
     "name": "stdout",
     "output_type": "stream",
     "text": [
      "\n",
      "FOR FEATURE:  phq9_3\n",
      "\n",
      "FOR FEATURE:  distance_active\n",
      "\n",
      "FOR FEATURE:  distance_walking\n",
      "\n",
      "FOR FEATURE:  hours_powered_vehicle\n"
     ]
    },
    {
     "name": "stderr",
     "output_type": "stream",
     "text": [
      "/var/folders/fh/rstwtx7j73b0zwzkyzktnnrh0000gn/T/ipykernel_54572/1590456300.py:44: DeprecationWarning: DataFrameGroupBy.apply operated on the grouping columns. This behavior is deprecated, and in a future version of pandas the grouping columns will be excluded from the operation. Either pass `include_groups=False` to exclude the groupings or explicitly select the grouping columns after groupby to silence this warning.\n",
      "  .apply(lambda g: compute_slope_of_feature(g, x_col=\"day\", y_col=feature))\n",
      "/var/folders/fh/rstwtx7j73b0zwzkyzktnnrh0000gn/T/ipykernel_54572/1590456300.py:59: DeprecationWarning: DataFrameGroupBy.apply operated on the grouping columns. This behavior is deprecated, and in a future version of pandas the grouping columns will be excluded from the operation. Either pass `include_groups=False` to exclude the groupings or explicitly select the grouping columns after groupby to silence this warning.\n",
      "  .apply(lambda g: compute_slope_of_feature(g, x_col=\"day\", y_col=feature))\n",
      "/var/folders/fh/rstwtx7j73b0zwzkyzktnnrh0000gn/T/ipykernel_54572/1590456300.py:44: DeprecationWarning: DataFrameGroupBy.apply operated on the grouping columns. This behavior is deprecated, and in a future version of pandas the grouping columns will be excluded from the operation. Either pass `include_groups=False` to exclude the groupings or explicitly select the grouping columns after groupby to silence this warning.\n",
      "  .apply(lambda g: compute_slope_of_feature(g, x_col=\"day\", y_col=feature))\n",
      "/var/folders/fh/rstwtx7j73b0zwzkyzktnnrh0000gn/T/ipykernel_54572/1590456300.py:59: DeprecationWarning: DataFrameGroupBy.apply operated on the grouping columns. This behavior is deprecated, and in a future version of pandas the grouping columns will be excluded from the operation. Either pass `include_groups=False` to exclude the groupings or explicitly select the grouping columns after groupby to silence this warning.\n",
      "  .apply(lambda g: compute_slope_of_feature(g, x_col=\"day\", y_col=feature))\n",
      "/var/folders/fh/rstwtx7j73b0zwzkyzktnnrh0000gn/T/ipykernel_54572/1590456300.py:44: DeprecationWarning: DataFrameGroupBy.apply operated on the grouping columns. This behavior is deprecated, and in a future version of pandas the grouping columns will be excluded from the operation. Either pass `include_groups=False` to exclude the groupings or explicitly select the grouping columns after groupby to silence this warning.\n",
      "  .apply(lambda g: compute_slope_of_feature(g, x_col=\"day\", y_col=feature))\n",
      "/var/folders/fh/rstwtx7j73b0zwzkyzktnnrh0000gn/T/ipykernel_54572/1590456300.py:59: DeprecationWarning: DataFrameGroupBy.apply operated on the grouping columns. This behavior is deprecated, and in a future version of pandas the grouping columns will be excluded from the operation. Either pass `include_groups=False` to exclude the groupings or explicitly select the grouping columns after groupby to silence this warning.\n",
      "  .apply(lambda g: compute_slope_of_feature(g, x_col=\"day\", y_col=feature))\n",
      "/var/folders/fh/rstwtx7j73b0zwzkyzktnnrh0000gn/T/ipykernel_54572/1590456300.py:44: DeprecationWarning: DataFrameGroupBy.apply operated on the grouping columns. This behavior is deprecated, and in a future version of pandas the grouping columns will be excluded from the operation. Either pass `include_groups=False` to exclude the groupings or explicitly select the grouping columns after groupby to silence this warning.\n",
      "  .apply(lambda g: compute_slope_of_feature(g, x_col=\"day\", y_col=feature))\n",
      "/var/folders/fh/rstwtx7j73b0zwzkyzktnnrh0000gn/T/ipykernel_54572/1590456300.py:59: DeprecationWarning: DataFrameGroupBy.apply operated on the grouping columns. This behavior is deprecated, and in a future version of pandas the grouping columns will be excluded from the operation. Either pass `include_groups=False` to exclude the groupings or explicitly select the grouping columns after groupby to silence this warning.\n",
      "  .apply(lambda g: compute_slope_of_feature(g, x_col=\"day\", y_col=feature))\n",
      "/var/folders/fh/rstwtx7j73b0zwzkyzktnnrh0000gn/T/ipykernel_54572/1590456300.py:44: DeprecationWarning: DataFrameGroupBy.apply operated on the grouping columns. This behavior is deprecated, and in a future version of pandas the grouping columns will be excluded from the operation. Either pass `include_groups=False` to exclude the groupings or explicitly select the grouping columns after groupby to silence this warning.\n",
      "  .apply(lambda g: compute_slope_of_feature(g, x_col=\"day\", y_col=feature))\n"
     ]
    },
    {
     "name": "stdout",
     "output_type": "stream",
     "text": [
      "\n",
      "FOR FEATURE:  phq9_9\n",
      "\n",
      "FOR FEATURE:  phq9_1\n",
      "\n",
      "FOR FEATURE:  phq9_2\n"
     ]
    },
    {
     "name": "stderr",
     "output_type": "stream",
     "text": [
      "/var/folders/fh/rstwtx7j73b0zwzkyzktnnrh0000gn/T/ipykernel_54572/1590456300.py:59: DeprecationWarning: DataFrameGroupBy.apply operated on the grouping columns. This behavior is deprecated, and in a future version of pandas the grouping columns will be excluded from the operation. Either pass `include_groups=False` to exclude the groupings or explicitly select the grouping columns after groupby to silence this warning.\n",
      "  .apply(lambda g: compute_slope_of_feature(g, x_col=\"day\", y_col=feature))\n",
      "/var/folders/fh/rstwtx7j73b0zwzkyzktnnrh0000gn/T/ipykernel_54572/1590456300.py:44: DeprecationWarning: DataFrameGroupBy.apply operated on the grouping columns. This behavior is deprecated, and in a future version of pandas the grouping columns will be excluded from the operation. Either pass `include_groups=False` to exclude the groupings or explicitly select the grouping columns after groupby to silence this warning.\n",
      "  .apply(lambda g: compute_slope_of_feature(g, x_col=\"day\", y_col=feature))\n",
      "/var/folders/fh/rstwtx7j73b0zwzkyzktnnrh0000gn/T/ipykernel_54572/1590456300.py:59: DeprecationWarning: DataFrameGroupBy.apply operated on the grouping columns. This behavior is deprecated, and in a future version of pandas the grouping columns will be excluded from the operation. Either pass `include_groups=False` to exclude the groupings or explicitly select the grouping columns after groupby to silence this warning.\n",
      "  .apply(lambda g: compute_slope_of_feature(g, x_col=\"day\", y_col=feature))\n",
      "/var/folders/fh/rstwtx7j73b0zwzkyzktnnrh0000gn/T/ipykernel_54572/1590456300.py:44: DeprecationWarning: DataFrameGroupBy.apply operated on the grouping columns. This behavior is deprecated, and in a future version of pandas the grouping columns will be excluded from the operation. Either pass `include_groups=False` to exclude the groupings or explicitly select the grouping columns after groupby to silence this warning.\n",
      "  .apply(lambda g: compute_slope_of_feature(g, x_col=\"day\", y_col=feature))\n",
      "/var/folders/fh/rstwtx7j73b0zwzkyzktnnrh0000gn/T/ipykernel_54572/1590456300.py:59: DeprecationWarning: DataFrameGroupBy.apply operated on the grouping columns. This behavior is deprecated, and in a future version of pandas the grouping columns will be excluded from the operation. Either pass `include_groups=False` to exclude the groupings or explicitly select the grouping columns after groupby to silence this warning.\n",
      "  .apply(lambda g: compute_slope_of_feature(g, x_col=\"day\", y_col=feature))\n"
     ]
    },
    {
     "name": "stdout",
     "output_type": "stream",
     "text": [
      "\n",
      "FOR FEATURE:  pc_depression\n",
      "\n",
      "FOR FEATURE:  phq9_7\n",
      "\n",
      "FOR FEATURE:  pc_suicidality\n",
      "\n",
      "FOR FEATURE:  distance_powered_vehicle\n",
      "\n",
      "FOR FEATURE:  phq9_6\n"
     ]
    },
    {
     "name": "stderr",
     "output_type": "stream",
     "text": [
      "/var/folders/fh/rstwtx7j73b0zwzkyzktnnrh0000gn/T/ipykernel_54572/1590456300.py:44: DeprecationWarning: DataFrameGroupBy.apply operated on the grouping columns. This behavior is deprecated, and in a future version of pandas the grouping columns will be excluded from the operation. Either pass `include_groups=False` to exclude the groupings or explicitly select the grouping columns after groupby to silence this warning.\n",
      "  .apply(lambda g: compute_slope_of_feature(g, x_col=\"day\", y_col=feature))\n",
      "/var/folders/fh/rstwtx7j73b0zwzkyzktnnrh0000gn/T/ipykernel_54572/1590456300.py:59: DeprecationWarning: DataFrameGroupBy.apply operated on the grouping columns. This behavior is deprecated, and in a future version of pandas the grouping columns will be excluded from the operation. Either pass `include_groups=False` to exclude the groupings or explicitly select the grouping columns after groupby to silence this warning.\n",
      "  .apply(lambda g: compute_slope_of_feature(g, x_col=\"day\", y_col=feature))\n",
      "/var/folders/fh/rstwtx7j73b0zwzkyzktnnrh0000gn/T/ipykernel_54572/1590456300.py:44: DeprecationWarning: DataFrameGroupBy.apply operated on the grouping columns. This behavior is deprecated, and in a future version of pandas the grouping columns will be excluded from the operation. Either pass `include_groups=False` to exclude the groupings or explicitly select the grouping columns after groupby to silence this warning.\n",
      "  .apply(lambda g: compute_slope_of_feature(g, x_col=\"day\", y_col=feature))\n",
      "/var/folders/fh/rstwtx7j73b0zwzkyzktnnrh0000gn/T/ipykernel_54572/1590456300.py:59: DeprecationWarning: DataFrameGroupBy.apply operated on the grouping columns. This behavior is deprecated, and in a future version of pandas the grouping columns will be excluded from the operation. Either pass `include_groups=False` to exclude the groupings or explicitly select the grouping columns after groupby to silence this warning.\n",
      "  .apply(lambda g: compute_slope_of_feature(g, x_col=\"day\", y_col=feature))\n",
      "/var/folders/fh/rstwtx7j73b0zwzkyzktnnrh0000gn/T/ipykernel_54572/1590456300.py:44: DeprecationWarning: DataFrameGroupBy.apply operated on the grouping columns. This behavior is deprecated, and in a future version of pandas the grouping columns will be excluded from the operation. Either pass `include_groups=False` to exclude the groupings or explicitly select the grouping columns after groupby to silence this warning.\n",
      "  .apply(lambda g: compute_slope_of_feature(g, x_col=\"day\", y_col=feature))\n",
      "/var/folders/fh/rstwtx7j73b0zwzkyzktnnrh0000gn/T/ipykernel_54572/1590456300.py:59: DeprecationWarning: DataFrameGroupBy.apply operated on the grouping columns. This behavior is deprecated, and in a future version of pandas the grouping columns will be excluded from the operation. Either pass `include_groups=False` to exclude the groupings or explicitly select the grouping columns after groupby to silence this warning.\n",
      "  .apply(lambda g: compute_slope_of_feature(g, x_col=\"day\", y_col=feature))\n",
      "/var/folders/fh/rstwtx7j73b0zwzkyzktnnrh0000gn/T/ipykernel_54572/1590456300.py:44: DeprecationWarning: DataFrameGroupBy.apply operated on the grouping columns. This behavior is deprecated, and in a future version of pandas the grouping columns will be excluded from the operation. Either pass `include_groups=False` to exclude the groupings or explicitly select the grouping columns after groupby to silence this warning.\n",
      "  .apply(lambda g: compute_slope_of_feature(g, x_col=\"day\", y_col=feature))\n",
      "/var/folders/fh/rstwtx7j73b0zwzkyzktnnrh0000gn/T/ipykernel_54572/1590456300.py:59: DeprecationWarning: DataFrameGroupBy.apply operated on the grouping columns. This behavior is deprecated, and in a future version of pandas the grouping columns will be excluded from the operation. Either pass `include_groups=False` to exclude the groupings or explicitly select the grouping columns after groupby to silence this warning.\n",
      "  .apply(lambda g: compute_slope_of_feature(g, x_col=\"day\", y_col=feature))\n",
      "/var/folders/fh/rstwtx7j73b0zwzkyzktnnrh0000gn/T/ipykernel_54572/1590456300.py:44: DeprecationWarning: DataFrameGroupBy.apply operated on the grouping columns. This behavior is deprecated, and in a future version of pandas the grouping columns will be excluded from the operation. Either pass `include_groups=False` to exclude the groupings or explicitly select the grouping columns after groupby to silence this warning.\n",
      "  .apply(lambda g: compute_slope_of_feature(g, x_col=\"day\", y_col=feature))\n",
      "/var/folders/fh/rstwtx7j73b0zwzkyzktnnrh0000gn/T/ipykernel_54572/1590456300.py:59: DeprecationWarning: DataFrameGroupBy.apply operated on the grouping columns. This behavior is deprecated, and in a future version of pandas the grouping columns will be excluded from the operation. Either pass `include_groups=False` to exclude the groupings or explicitly select the grouping columns after groupby to silence this warning.\n",
      "  .apply(lambda g: compute_slope_of_feature(g, x_col=\"day\", y_col=feature))\n"
     ]
    },
    {
     "name": "stdout",
     "output_type": "stream",
     "text": [
      "\n",
      "FOR FEATURE:  hours_active\n",
      "\n",
      "FOR FEATURE:  hours_stationary_nhw\n",
      "\n",
      "FOR FEATURE:  pc_sleep_hours\n",
      "\n",
      "FOR FEATURE:  pc_stationary_hours\n",
      "\n",
      "FOR FEATURE:  pc_phq9_8\n"
     ]
    },
    {
     "name": "stderr",
     "output_type": "stream",
     "text": [
      "/var/folders/fh/rstwtx7j73b0zwzkyzktnnrh0000gn/T/ipykernel_54572/1590456300.py:44: DeprecationWarning: DataFrameGroupBy.apply operated on the grouping columns. This behavior is deprecated, and in a future version of pandas the grouping columns will be excluded from the operation. Either pass `include_groups=False` to exclude the groupings or explicitly select the grouping columns after groupby to silence this warning.\n",
      "  .apply(lambda g: compute_slope_of_feature(g, x_col=\"day\", y_col=feature))\n",
      "/var/folders/fh/rstwtx7j73b0zwzkyzktnnrh0000gn/T/ipykernel_54572/1590456300.py:59: DeprecationWarning: DataFrameGroupBy.apply operated on the grouping columns. This behavior is deprecated, and in a future version of pandas the grouping columns will be excluded from the operation. Either pass `include_groups=False` to exclude the groupings or explicitly select the grouping columns after groupby to silence this warning.\n",
      "  .apply(lambda g: compute_slope_of_feature(g, x_col=\"day\", y_col=feature))\n",
      "/var/folders/fh/rstwtx7j73b0zwzkyzktnnrh0000gn/T/ipykernel_54572/1590456300.py:44: DeprecationWarning: DataFrameGroupBy.apply operated on the grouping columns. This behavior is deprecated, and in a future version of pandas the grouping columns will be excluded from the operation. Either pass `include_groups=False` to exclude the groupings or explicitly select the grouping columns after groupby to silence this warning.\n",
      "  .apply(lambda g: compute_slope_of_feature(g, x_col=\"day\", y_col=feature))\n",
      "/var/folders/fh/rstwtx7j73b0zwzkyzktnnrh0000gn/T/ipykernel_54572/1590456300.py:59: DeprecationWarning: DataFrameGroupBy.apply operated on the grouping columns. This behavior is deprecated, and in a future version of pandas the grouping columns will be excluded from the operation. Either pass `include_groups=False` to exclude the groupings or explicitly select the grouping columns after groupby to silence this warning.\n",
      "  .apply(lambda g: compute_slope_of_feature(g, x_col=\"day\", y_col=feature))\n",
      "/var/folders/fh/rstwtx7j73b0zwzkyzktnnrh0000gn/T/ipykernel_54572/1590456300.py:44: DeprecationWarning: DataFrameGroupBy.apply operated on the grouping columns. This behavior is deprecated, and in a future version of pandas the grouping columns will be excluded from the operation. Either pass `include_groups=False` to exclude the groupings or explicitly select the grouping columns after groupby to silence this warning.\n",
      "  .apply(lambda g: compute_slope_of_feature(g, x_col=\"day\", y_col=feature))\n",
      "/var/folders/fh/rstwtx7j73b0zwzkyzktnnrh0000gn/T/ipykernel_54572/1590456300.py:59: DeprecationWarning: DataFrameGroupBy.apply operated on the grouping columns. This behavior is deprecated, and in a future version of pandas the grouping columns will be excluded from the operation. Either pass `include_groups=False` to exclude the groupings or explicitly select the grouping columns after groupby to silence this warning.\n",
      "  .apply(lambda g: compute_slope_of_feature(g, x_col=\"day\", y_col=feature))\n",
      "/var/folders/fh/rstwtx7j73b0zwzkyzktnnrh0000gn/T/ipykernel_54572/1590456300.py:44: DeprecationWarning: DataFrameGroupBy.apply operated on the grouping columns. This behavior is deprecated, and in a future version of pandas the grouping columns will be excluded from the operation. Either pass `include_groups=False` to exclude the groupings or explicitly select the grouping columns after groupby to silence this warning.\n",
      "  .apply(lambda g: compute_slope_of_feature(g, x_col=\"day\", y_col=feature))\n",
      "/var/folders/fh/rstwtx7j73b0zwzkyzktnnrh0000gn/T/ipykernel_54572/1590456300.py:59: DeprecationWarning: DataFrameGroupBy.apply operated on the grouping columns. This behavior is deprecated, and in a future version of pandas the grouping columns will be excluded from the operation. Either pass `include_groups=False` to exclude the groupings or explicitly select the grouping columns after groupby to silence this warning.\n",
      "  .apply(lambda g: compute_slope_of_feature(g, x_col=\"day\", y_col=feature))\n",
      "/var/folders/fh/rstwtx7j73b0zwzkyzktnnrh0000gn/T/ipykernel_54572/1590456300.py:44: DeprecationWarning: DataFrameGroupBy.apply operated on the grouping columns. This behavior is deprecated, and in a future version of pandas the grouping columns will be excluded from the operation. Either pass `include_groups=False` to exclude the groupings or explicitly select the grouping columns after groupby to silence this warning.\n",
      "  .apply(lambda g: compute_slope_of_feature(g, x_col=\"day\", y_col=feature))\n",
      "/var/folders/fh/rstwtx7j73b0zwzkyzktnnrh0000gn/T/ipykernel_54572/1590456300.py:59: DeprecationWarning: DataFrameGroupBy.apply operated on the grouping columns. This behavior is deprecated, and in a future version of pandas the grouping columns will be excluded from the operation. Either pass `include_groups=False` to exclude the groupings or explicitly select the grouping columns after groupby to silence this warning.\n",
      "  .apply(lambda g: compute_slope_of_feature(g, x_col=\"day\", y_col=feature))\n"
     ]
    },
    {
     "name": "stdout",
     "output_type": "stream",
     "text": [
      "\n",
      "FOR FEATURE:  phq9_4\n",
      "\n",
      "FOR FEATURE:  hours_walking\n",
      "\n",
      "FOR FEATURE:  phq9_5\n"
     ]
    },
    {
     "name": "stderr",
     "output_type": "stream",
     "text": [
      "/var/folders/fh/rstwtx7j73b0zwzkyzktnnrh0000gn/T/ipykernel_54572/1590456300.py:44: DeprecationWarning: DataFrameGroupBy.apply operated on the grouping columns. This behavior is deprecated, and in a future version of pandas the grouping columns will be excluded from the operation. Either pass `include_groups=False` to exclude the groupings or explicitly select the grouping columns after groupby to silence this warning.\n",
      "  .apply(lambda g: compute_slope_of_feature(g, x_col=\"day\", y_col=feature))\n",
      "/var/folders/fh/rstwtx7j73b0zwzkyzktnnrh0000gn/T/ipykernel_54572/1590456300.py:59: DeprecationWarning: DataFrameGroupBy.apply operated on the grouping columns. This behavior is deprecated, and in a future version of pandas the grouping columns will be excluded from the operation. Either pass `include_groups=False` to exclude the groupings or explicitly select the grouping columns after groupby to silence this warning.\n",
      "  .apply(lambda g: compute_slope_of_feature(g, x_col=\"day\", y_col=feature))\n",
      "/var/folders/fh/rstwtx7j73b0zwzkyzktnnrh0000gn/T/ipykernel_54572/1590456300.py:44: DeprecationWarning: DataFrameGroupBy.apply operated on the grouping columns. This behavior is deprecated, and in a future version of pandas the grouping columns will be excluded from the operation. Either pass `include_groups=False` to exclude the groupings or explicitly select the grouping columns after groupby to silence this warning.\n",
      "  .apply(lambda g: compute_slope_of_feature(g, x_col=\"day\", y_col=feature))\n",
      "/var/folders/fh/rstwtx7j73b0zwzkyzktnnrh0000gn/T/ipykernel_54572/1590456300.py:59: DeprecationWarning: DataFrameGroupBy.apply operated on the grouping columns. This behavior is deprecated, and in a future version of pandas the grouping columns will be excluded from the operation. Either pass `include_groups=False` to exclude the groupings or explicitly select the grouping columns after groupby to silence this warning.\n",
      "  .apply(lambda g: compute_slope_of_feature(g, x_col=\"day\", y_col=feature))\n",
      "/var/folders/fh/rstwtx7j73b0zwzkyzktnnrh0000gn/T/ipykernel_54572/1590456300.py:44: DeprecationWarning: DataFrameGroupBy.apply operated on the grouping columns. This behavior is deprecated, and in a future version of pandas the grouping columns will be excluded from the operation. Either pass `include_groups=False` to exclude the groupings or explicitly select the grouping columns after groupby to silence this warning.\n",
      "  .apply(lambda g: compute_slope_of_feature(g, x_col=\"day\", y_col=feature))\n",
      "/var/folders/fh/rstwtx7j73b0zwzkyzktnnrh0000gn/T/ipykernel_54572/1590456300.py:59: DeprecationWarning: DataFrameGroupBy.apply operated on the grouping columns. This behavior is deprecated, and in a future version of pandas the grouping columns will be excluded from the operation. Either pass `include_groups=False` to exclude the groupings or explicitly select the grouping columns after groupby to silence this warning.\n",
      "  .apply(lambda g: compute_slope_of_feature(g, x_col=\"day\", y_col=feature))\n"
     ]
    },
    {
     "name": "stdout",
     "output_type": "stream",
     "text": [
      "\n",
      "FOR FEATURE:  phq2_sum\n",
      "\n",
      "FOR FEATURE:  hours_of_sleep\n",
      "\n",
      "FOR FEATURE:  distance_powered_vehicle\n",
      "\n",
      "FOR FEATURE:  hours_active\n",
      "\n",
      "FOR FEATURE:  hours_stationary\n"
     ]
    },
    {
     "name": "stderr",
     "output_type": "stream",
     "text": [
      "/var/folders/fh/rstwtx7j73b0zwzkyzktnnrh0000gn/T/ipykernel_54572/1590456300.py:44: DeprecationWarning: DataFrameGroupBy.apply operated on the grouping columns. This behavior is deprecated, and in a future version of pandas the grouping columns will be excluded from the operation. Either pass `include_groups=False` to exclude the groupings or explicitly select the grouping columns after groupby to silence this warning.\n",
      "  .apply(lambda g: compute_slope_of_feature(g, x_col=\"day\", y_col=feature))\n",
      "/var/folders/fh/rstwtx7j73b0zwzkyzktnnrh0000gn/T/ipykernel_54572/1590456300.py:59: DeprecationWarning: DataFrameGroupBy.apply operated on the grouping columns. This behavior is deprecated, and in a future version of pandas the grouping columns will be excluded from the operation. Either pass `include_groups=False` to exclude the groupings or explicitly select the grouping columns after groupby to silence this warning.\n",
      "  .apply(lambda g: compute_slope_of_feature(g, x_col=\"day\", y_col=feature))\n",
      "/var/folders/fh/rstwtx7j73b0zwzkyzktnnrh0000gn/T/ipykernel_54572/1590456300.py:44: DeprecationWarning: DataFrameGroupBy.apply operated on the grouping columns. This behavior is deprecated, and in a future version of pandas the grouping columns will be excluded from the operation. Either pass `include_groups=False` to exclude the groupings or explicitly select the grouping columns after groupby to silence this warning.\n",
      "  .apply(lambda g: compute_slope_of_feature(g, x_col=\"day\", y_col=feature))\n",
      "/var/folders/fh/rstwtx7j73b0zwzkyzktnnrh0000gn/T/ipykernel_54572/1590456300.py:59: DeprecationWarning: DataFrameGroupBy.apply operated on the grouping columns. This behavior is deprecated, and in a future version of pandas the grouping columns will be excluded from the operation. Either pass `include_groups=False` to exclude the groupings or explicitly select the grouping columns after groupby to silence this warning.\n",
      "  .apply(lambda g: compute_slope_of_feature(g, x_col=\"day\", y_col=feature))\n",
      "/var/folders/fh/rstwtx7j73b0zwzkyzktnnrh0000gn/T/ipykernel_54572/1590456300.py:44: DeprecationWarning: DataFrameGroupBy.apply operated on the grouping columns. This behavior is deprecated, and in a future version of pandas the grouping columns will be excluded from the operation. Either pass `include_groups=False` to exclude the groupings or explicitly select the grouping columns after groupby to silence this warning.\n",
      "  .apply(lambda g: compute_slope_of_feature(g, x_col=\"day\", y_col=feature))\n",
      "/var/folders/fh/rstwtx7j73b0zwzkyzktnnrh0000gn/T/ipykernel_54572/1590456300.py:59: DeprecationWarning: DataFrameGroupBy.apply operated on the grouping columns. This behavior is deprecated, and in a future version of pandas the grouping columns will be excluded from the operation. Either pass `include_groups=False` to exclude the groupings or explicitly select the grouping columns after groupby to silence this warning.\n",
      "  .apply(lambda g: compute_slope_of_feature(g, x_col=\"day\", y_col=feature))\n",
      "/var/folders/fh/rstwtx7j73b0zwzkyzktnnrh0000gn/T/ipykernel_54572/1590456300.py:44: DeprecationWarning: DataFrameGroupBy.apply operated on the grouping columns. This behavior is deprecated, and in a future version of pandas the grouping columns will be excluded from the operation. Either pass `include_groups=False` to exclude the groupings or explicitly select the grouping columns after groupby to silence this warning.\n",
      "  .apply(lambda g: compute_slope_of_feature(g, x_col=\"day\", y_col=feature))\n",
      "/var/folders/fh/rstwtx7j73b0zwzkyzktnnrh0000gn/T/ipykernel_54572/1590456300.py:59: DeprecationWarning: DataFrameGroupBy.apply operated on the grouping columns. This behavior is deprecated, and in a future version of pandas the grouping columns will be excluded from the operation. Either pass `include_groups=False` to exclude the groupings or explicitly select the grouping columns after groupby to silence this warning.\n",
      "  .apply(lambda g: compute_slope_of_feature(g, x_col=\"day\", y_col=feature))\n",
      "/var/folders/fh/rstwtx7j73b0zwzkyzktnnrh0000gn/T/ipykernel_54572/1590456300.py:44: DeprecationWarning: DataFrameGroupBy.apply operated on the grouping columns. This behavior is deprecated, and in a future version of pandas the grouping columns will be excluded from the operation. Either pass `include_groups=False` to exclude the groupings or explicitly select the grouping columns after groupby to silence this warning.\n",
      "  .apply(lambda g: compute_slope_of_feature(g, x_col=\"day\", y_col=feature))\n",
      "/var/folders/fh/rstwtx7j73b0zwzkyzktnnrh0000gn/T/ipykernel_54572/1590456300.py:59: DeprecationWarning: DataFrameGroupBy.apply operated on the grouping columns. This behavior is deprecated, and in a future version of pandas the grouping columns will be excluded from the operation. Either pass `include_groups=False` to exclude the groupings or explicitly select the grouping columns after groupby to silence this warning.\n",
      "  .apply(lambda g: compute_slope_of_feature(g, x_col=\"day\", y_col=feature))\n",
      "/var/folders/fh/rstwtx7j73b0zwzkyzktnnrh0000gn/T/ipykernel_54572/1590456300.py:44: DeprecationWarning: DataFrameGroupBy.apply operated on the grouping columns. This behavior is deprecated, and in a future version of pandas the grouping columns will be excluded from the operation. Either pass `include_groups=False` to exclude the groupings or explicitly select the grouping columns after groupby to silence this warning.\n",
      "  .apply(lambda g: compute_slope_of_feature(g, x_col=\"day\", y_col=feature))\n",
      "/var/folders/fh/rstwtx7j73b0zwzkyzktnnrh0000gn/T/ipykernel_54572/1590456300.py:59: DeprecationWarning: DataFrameGroupBy.apply operated on the grouping columns. This behavior is deprecated, and in a future version of pandas the grouping columns will be excluded from the operation. Either pass `include_groups=False` to exclude the groupings or explicitly select the grouping columns after groupby to silence this warning.\n",
      "  .apply(lambda g: compute_slope_of_feature(g, x_col=\"day\", y_col=feature))\n"
     ]
    },
    {
     "name": "stdout",
     "output_type": "stream",
     "text": [
      "\n",
      "FOR FEATURE:  hours_stationary_nhw\n",
      "\n",
      "FOR FEATURE:  pc_sleep_hours\n"
     ]
    },
    {
     "name": "stderr",
     "output_type": "stream",
     "text": [
      "/var/folders/fh/rstwtx7j73b0zwzkyzktnnrh0000gn/T/ipykernel_54572/1590456300.py:44: DeprecationWarning: DataFrameGroupBy.apply operated on the grouping columns. This behavior is deprecated, and in a future version of pandas the grouping columns will be excluded from the operation. Either pass `include_groups=False` to exclude the groupings or explicitly select the grouping columns after groupby to silence this warning.\n",
      "  .apply(lambda g: compute_slope_of_feature(g, x_col=\"day\", y_col=feature))\n",
      "/var/folders/fh/rstwtx7j73b0zwzkyzktnnrh0000gn/T/ipykernel_54572/1590456300.py:59: DeprecationWarning: DataFrameGroupBy.apply operated on the grouping columns. This behavior is deprecated, and in a future version of pandas the grouping columns will be excluded from the operation. Either pass `include_groups=False` to exclude the groupings or explicitly select the grouping columns after groupby to silence this warning.\n",
      "  .apply(lambda g: compute_slope_of_feature(g, x_col=\"day\", y_col=feature))\n",
      "/var/folders/fh/rstwtx7j73b0zwzkyzktnnrh0000gn/T/ipykernel_54572/1590456300.py:44: DeprecationWarning: DataFrameGroupBy.apply operated on the grouping columns. This behavior is deprecated, and in a future version of pandas the grouping columns will be excluded from the operation. Either pass `include_groups=False` to exclude the groupings or explicitly select the grouping columns after groupby to silence this warning.\n",
      "  .apply(lambda g: compute_slope_of_feature(g, x_col=\"day\", y_col=feature))\n",
      "/var/folders/fh/rstwtx7j73b0zwzkyzktnnrh0000gn/T/ipykernel_54572/1590456300.py:59: DeprecationWarning: DataFrameGroupBy.apply operated on the grouping columns. This behavior is deprecated, and in a future version of pandas the grouping columns will be excluded from the operation. Either pass `include_groups=False` to exclude the groupings or explicitly select the grouping columns after groupby to silence this warning.\n",
      "  .apply(lambda g: compute_slope_of_feature(g, x_col=\"day\", y_col=feature))\n",
      "/var/folders/fh/rstwtx7j73b0zwzkyzktnnrh0000gn/T/ipykernel_54572/1590456300.py:44: DeprecationWarning: DataFrameGroupBy.apply operated on the grouping columns. This behavior is deprecated, and in a future version of pandas the grouping columns will be excluded from the operation. Either pass `include_groups=False` to exclude the groupings or explicitly select the grouping columns after groupby to silence this warning.\n",
      "  .apply(lambda g: compute_slope_of_feature(g, x_col=\"day\", y_col=feature))\n",
      "/var/folders/fh/rstwtx7j73b0zwzkyzktnnrh0000gn/T/ipykernel_54572/1590456300.py:59: DeprecationWarning: DataFrameGroupBy.apply operated on the grouping columns. This behavior is deprecated, and in a future version of pandas the grouping columns will be excluded from the operation. Either pass `include_groups=False` to exclude the groupings or explicitly select the grouping columns after groupby to silence this warning.\n",
      "  .apply(lambda g: compute_slope_of_feature(g, x_col=\"day\", y_col=feature))\n",
      "/var/folders/fh/rstwtx7j73b0zwzkyzktnnrh0000gn/T/ipykernel_54572/1590456300.py:44: DeprecationWarning: DataFrameGroupBy.apply operated on the grouping columns. This behavior is deprecated, and in a future version of pandas the grouping columns will be excluded from the operation. Either pass `include_groups=False` to exclude the groupings or explicitly select the grouping columns after groupby to silence this warning.\n",
      "  .apply(lambda g: compute_slope_of_feature(g, x_col=\"day\", y_col=feature))\n"
     ]
    },
    {
     "name": "stdout",
     "output_type": "stream",
     "text": [
      "\n",
      "FOR FEATURE:  pc_activity\n",
      "\n",
      "FOR FEATURE:  distance_active\n",
      "\n",
      "FOR FEATURE:  pc_stationary_hours\n"
     ]
    },
    {
     "name": "stderr",
     "output_type": "stream",
     "text": [
      "/var/folders/fh/rstwtx7j73b0zwzkyzktnnrh0000gn/T/ipykernel_54572/1590456300.py:59: DeprecationWarning: DataFrameGroupBy.apply operated on the grouping columns. This behavior is deprecated, and in a future version of pandas the grouping columns will be excluded from the operation. Either pass `include_groups=False` to exclude the groupings or explicitly select the grouping columns after groupby to silence this warning.\n",
      "  .apply(lambda g: compute_slope_of_feature(g, x_col=\"day\", y_col=feature))\n",
      "/var/folders/fh/rstwtx7j73b0zwzkyzktnnrh0000gn/T/ipykernel_54572/1590456300.py:44: DeprecationWarning: DataFrameGroupBy.apply operated on the grouping columns. This behavior is deprecated, and in a future version of pandas the grouping columns will be excluded from the operation. Either pass `include_groups=False` to exclude the groupings or explicitly select the grouping columns after groupby to silence this warning.\n",
      "  .apply(lambda g: compute_slope_of_feature(g, x_col=\"day\", y_col=feature))\n",
      "/var/folders/fh/rstwtx7j73b0zwzkyzktnnrh0000gn/T/ipykernel_54572/1590456300.py:59: DeprecationWarning: DataFrameGroupBy.apply operated on the grouping columns. This behavior is deprecated, and in a future version of pandas the grouping columns will be excluded from the operation. Either pass `include_groups=False` to exclude the groupings or explicitly select the grouping columns after groupby to silence this warning.\n",
      "  .apply(lambda g: compute_slope_of_feature(g, x_col=\"day\", y_col=feature))\n",
      "/var/folders/fh/rstwtx7j73b0zwzkyzktnnrh0000gn/T/ipykernel_54572/1590456300.py:44: DeprecationWarning: DataFrameGroupBy.apply operated on the grouping columns. This behavior is deprecated, and in a future version of pandas the grouping columns will be excluded from the operation. Either pass `include_groups=False` to exclude the groupings or explicitly select the grouping columns after groupby to silence this warning.\n",
      "  .apply(lambda g: compute_slope_of_feature(g, x_col=\"day\", y_col=feature))\n",
      "/var/folders/fh/rstwtx7j73b0zwzkyzktnnrh0000gn/T/ipykernel_54572/1590456300.py:59: DeprecationWarning: DataFrameGroupBy.apply operated on the grouping columns. This behavior is deprecated, and in a future version of pandas the grouping columns will be excluded from the operation. Either pass `include_groups=False` to exclude the groupings or explicitly select the grouping columns after groupby to silence this warning.\n",
      "  .apply(lambda g: compute_slope_of_feature(g, x_col=\"day\", y_col=feature))\n"
     ]
    },
    {
     "name": "stdout",
     "output_type": "stream",
     "text": [
      "\n",
      "FOR FEATURE:  distance_walking\n",
      "\n",
      "FOR FEATURE:  hours_powered_vehicle\n",
      "\n",
      "FOR FEATURE:  pc_vehicle\n"
     ]
    },
    {
     "name": "stderr",
     "output_type": "stream",
     "text": [
      "/var/folders/fh/rstwtx7j73b0zwzkyzktnnrh0000gn/T/ipykernel_54572/1590456300.py:44: DeprecationWarning: DataFrameGroupBy.apply operated on the grouping columns. This behavior is deprecated, and in a future version of pandas the grouping columns will be excluded from the operation. Either pass `include_groups=False` to exclude the groupings or explicitly select the grouping columns after groupby to silence this warning.\n",
      "  .apply(lambda g: compute_slope_of_feature(g, x_col=\"day\", y_col=feature))\n",
      "/var/folders/fh/rstwtx7j73b0zwzkyzktnnrh0000gn/T/ipykernel_54572/1590456300.py:59: DeprecationWarning: DataFrameGroupBy.apply operated on the grouping columns. This behavior is deprecated, and in a future version of pandas the grouping columns will be excluded from the operation. Either pass `include_groups=False` to exclude the groupings or explicitly select the grouping columns after groupby to silence this warning.\n",
      "  .apply(lambda g: compute_slope_of_feature(g, x_col=\"day\", y_col=feature))\n",
      "/var/folders/fh/rstwtx7j73b0zwzkyzktnnrh0000gn/T/ipykernel_54572/1590456300.py:44: DeprecationWarning: DataFrameGroupBy.apply operated on the grouping columns. This behavior is deprecated, and in a future version of pandas the grouping columns will be excluded from the operation. Either pass `include_groups=False` to exclude the groupings or explicitly select the grouping columns after groupby to silence this warning.\n",
      "  .apply(lambda g: compute_slope_of_feature(g, x_col=\"day\", y_col=feature))\n",
      "/var/folders/fh/rstwtx7j73b0zwzkyzktnnrh0000gn/T/ipykernel_54572/1590456300.py:59: DeprecationWarning: DataFrameGroupBy.apply operated on the grouping columns. This behavior is deprecated, and in a future version of pandas the grouping columns will be excluded from the operation. Either pass `include_groups=False` to exclude the groupings or explicitly select the grouping columns after groupby to silence this warning.\n",
      "  .apply(lambda g: compute_slope_of_feature(g, x_col=\"day\", y_col=feature))\n",
      "/var/folders/fh/rstwtx7j73b0zwzkyzktnnrh0000gn/T/ipykernel_54572/1590456300.py:44: DeprecationWarning: DataFrameGroupBy.apply operated on the grouping columns. This behavior is deprecated, and in a future version of pandas the grouping columns will be excluded from the operation. Either pass `include_groups=False` to exclude the groupings or explicitly select the grouping columns after groupby to silence this warning.\n",
      "  .apply(lambda g: compute_slope_of_feature(g, x_col=\"day\", y_col=feature))\n",
      "/var/folders/fh/rstwtx7j73b0zwzkyzktnnrh0000gn/T/ipykernel_54572/1590456300.py:59: DeprecationWarning: DataFrameGroupBy.apply operated on the grouping columns. This behavior is deprecated, and in a future version of pandas the grouping columns will be excluded from the operation. Either pass `include_groups=False` to exclude the groupings or explicitly select the grouping columns after groupby to silence this warning.\n",
      "  .apply(lambda g: compute_slope_of_feature(g, x_col=\"day\", y_col=feature))\n",
      "/var/folders/fh/rstwtx7j73b0zwzkyzktnnrh0000gn/T/ipykernel_54572/1590456300.py:44: DeprecationWarning: DataFrameGroupBy.apply operated on the grouping columns. This behavior is deprecated, and in a future version of pandas the grouping columns will be excluded from the operation. Either pass `include_groups=False` to exclude the groupings or explicitly select the grouping columns after groupby to silence this warning.\n",
      "  .apply(lambda g: compute_slope_of_feature(g, x_col=\"day\", y_col=feature))\n"
     ]
    },
    {
     "name": "stdout",
     "output_type": "stream",
     "text": [
      "\n",
      "FOR FEATURE:  phq2_2\n",
      "\n",
      "FOR FEATURE:  pc_depression\n",
      "\n",
      "FOR FEATURE:  hours_walking\n"
     ]
    },
    {
     "name": "stderr",
     "output_type": "stream",
     "text": [
      "/var/folders/fh/rstwtx7j73b0zwzkyzktnnrh0000gn/T/ipykernel_54572/1590456300.py:59: DeprecationWarning: DataFrameGroupBy.apply operated on the grouping columns. This behavior is deprecated, and in a future version of pandas the grouping columns will be excluded from the operation. Either pass `include_groups=False` to exclude the groupings or explicitly select the grouping columns after groupby to silence this warning.\n",
      "  .apply(lambda g: compute_slope_of_feature(g, x_col=\"day\", y_col=feature))\n",
      "/var/folders/fh/rstwtx7j73b0zwzkyzktnnrh0000gn/T/ipykernel_54572/1590456300.py:44: DeprecationWarning: DataFrameGroupBy.apply operated on the grouping columns. This behavior is deprecated, and in a future version of pandas the grouping columns will be excluded from the operation. Either pass `include_groups=False` to exclude the groupings or explicitly select the grouping columns after groupby to silence this warning.\n",
      "  .apply(lambda g: compute_slope_of_feature(g, x_col=\"day\", y_col=feature))\n",
      "/var/folders/fh/rstwtx7j73b0zwzkyzktnnrh0000gn/T/ipykernel_54572/1590456300.py:59: DeprecationWarning: DataFrameGroupBy.apply operated on the grouping columns. This behavior is deprecated, and in a future version of pandas the grouping columns will be excluded from the operation. Either pass `include_groups=False` to exclude the groupings or explicitly select the grouping columns after groupby to silence this warning.\n",
      "  .apply(lambda g: compute_slope_of_feature(g, x_col=\"day\", y_col=feature))\n"
     ]
    },
    {
     "name": "stdout",
     "output_type": "stream",
     "text": [
      "\n",
      "FOR FEATURE:  phq2_1\n",
      "\n",
      "FOR FEATURE:  sms_count\n"
     ]
    },
    {
     "name": "stderr",
     "output_type": "stream",
     "text": [
      "/var/folders/fh/rstwtx7j73b0zwzkyzktnnrh0000gn/T/ipykernel_54572/1590456300.py:44: DeprecationWarning: DataFrameGroupBy.apply operated on the grouping columns. This behavior is deprecated, and in a future version of pandas the grouping columns will be excluded from the operation. Either pass `include_groups=False` to exclude the groupings or explicitly select the grouping columns after groupby to silence this warning.\n",
      "  .apply(lambda g: compute_slope_of_feature(g, x_col=\"day\", y_col=feature))\n",
      "/var/folders/fh/rstwtx7j73b0zwzkyzktnnrh0000gn/T/ipykernel_54572/1590456300.py:59: DeprecationWarning: DataFrameGroupBy.apply operated on the grouping columns. This behavior is deprecated, and in a future version of pandas the grouping columns will be excluded from the operation. Either pass `include_groups=False` to exclude the groupings or explicitly select the grouping columns after groupby to silence this warning.\n",
      "  .apply(lambda g: compute_slope_of_feature(g, x_col=\"day\", y_col=feature))\n",
      "/var/folders/fh/rstwtx7j73b0zwzkyzktnnrh0000gn/T/ipykernel_54572/1590456300.py:44: DeprecationWarning: DataFrameGroupBy.apply operated on the grouping columns. This behavior is deprecated, and in a future version of pandas the grouping columns will be excluded from the operation. Either pass `include_groups=False` to exclude the groupings or explicitly select the grouping columns after groupby to silence this warning.\n",
      "  .apply(lambda g: compute_slope_of_feature(g, x_col=\"day\", y_col=feature))\n"
     ]
    },
    {
     "name": "stdout",
     "output_type": "stream",
     "text": [
      "\n",
      "FOR FEATURE:  phq2_sum\n",
      "\n",
      "FOR FEATURE:  unreturned_calls\n"
     ]
    },
    {
     "name": "stderr",
     "output_type": "stream",
     "text": [
      "/var/folders/fh/rstwtx7j73b0zwzkyzktnnrh0000gn/T/ipykernel_54572/1590456300.py:59: DeprecationWarning: DataFrameGroupBy.apply operated on the grouping columns. This behavior is deprecated, and in a future version of pandas the grouping columns will be excluded from the operation. Either pass `include_groups=False` to exclude the groupings or explicitly select the grouping columns after groupby to silence this warning.\n",
      "  .apply(lambda g: compute_slope_of_feature(g, x_col=\"day\", y_col=feature))\n",
      "/var/folders/fh/rstwtx7j73b0zwzkyzktnnrh0000gn/T/ipykernel_54572/1590456300.py:44: DeprecationWarning: DataFrameGroupBy.apply operated on the grouping columns. This behavior is deprecated, and in a future version of pandas the grouping columns will be excluded from the operation. Either pass `include_groups=False` to exclude the groupings or explicitly select the grouping columns after groupby to silence this warning.\n",
      "  .apply(lambda g: compute_slope_of_feature(g, x_col=\"day\", y_col=feature))\n",
      "/var/folders/fh/rstwtx7j73b0zwzkyzktnnrh0000gn/T/ipykernel_54572/1590456300.py:59: DeprecationWarning: DataFrameGroupBy.apply operated on the grouping columns. This behavior is deprecated, and in a future version of pandas the grouping columns will be excluded from the operation. Either pass `include_groups=False` to exclude the groupings or explicitly select the grouping columns after groupby to silence this warning.\n",
      "  .apply(lambda g: compute_slope_of_feature(g, x_col=\"day\", y_col=feature))\n"
     ]
    },
    {
     "name": "stdout",
     "output_type": "stream",
     "text": [
      "\n",
      "FOR FEATURE:  interaction_diversity\n",
      "\n",
      "FOR FEATURE:  call_duration\n"
     ]
    },
    {
     "name": "stderr",
     "output_type": "stream",
     "text": [
      "/var/folders/fh/rstwtx7j73b0zwzkyzktnnrh0000gn/T/ipykernel_54572/1590456300.py:44: DeprecationWarning: DataFrameGroupBy.apply operated on the grouping columns. This behavior is deprecated, and in a future version of pandas the grouping columns will be excluded from the operation. Either pass `include_groups=False` to exclude the groupings or explicitly select the grouping columns after groupby to silence this warning.\n",
      "  .apply(lambda g: compute_slope_of_feature(g, x_col=\"day\", y_col=feature))\n",
      "/var/folders/fh/rstwtx7j73b0zwzkyzktnnrh0000gn/T/ipykernel_54572/1590456300.py:59: DeprecationWarning: DataFrameGroupBy.apply operated on the grouping columns. This behavior is deprecated, and in a future version of pandas the grouping columns will be excluded from the operation. Either pass `include_groups=False` to exclude the groupings or explicitly select the grouping columns after groupby to silence this warning.\n",
      "  .apply(lambda g: compute_slope_of_feature(g, x_col=\"day\", y_col=feature))\n",
      "/var/folders/fh/rstwtx7j73b0zwzkyzktnnrh0000gn/T/ipykernel_54572/1590456300.py:44: DeprecationWarning: DataFrameGroupBy.apply operated on the grouping columns. This behavior is deprecated, and in a future version of pandas the grouping columns will be excluded from the operation. Either pass `include_groups=False` to exclude the groupings or explicitly select the grouping columns after groupby to silence this warning.\n",
      "  .apply(lambda g: compute_slope_of_feature(g, x_col=\"day\", y_col=feature))\n",
      "/var/folders/fh/rstwtx7j73b0zwzkyzktnnrh0000gn/T/ipykernel_54572/1590456300.py:59: DeprecationWarning: DataFrameGroupBy.apply operated on the grouping columns. This behavior is deprecated, and in a future version of pandas the grouping columns will be excluded from the operation. Either pass `include_groups=False` to exclude the groupings or explicitly select the grouping columns after groupby to silence this warning.\n",
      "  .apply(lambda g: compute_slope_of_feature(g, x_col=\"day\", y_col=feature))\n"
     ]
    },
    {
     "name": "stdout",
     "output_type": "stream",
     "text": [
      "\n",
      "FOR FEATURE:  pc_mobility\n",
      "\n",
      "FOR FEATURE:  missed_interactions\n"
     ]
    },
    {
     "name": "stderr",
     "output_type": "stream",
     "text": [
      "/var/folders/fh/rstwtx7j73b0zwzkyzktnnrh0000gn/T/ipykernel_54572/1590456300.py:44: DeprecationWarning: DataFrameGroupBy.apply operated on the grouping columns. This behavior is deprecated, and in a future version of pandas the grouping columns will be excluded from the operation. Either pass `include_groups=False` to exclude the groupings or explicitly select the grouping columns after groupby to silence this warning.\n",
      "  .apply(lambda g: compute_slope_of_feature(g, x_col=\"day\", y_col=feature))\n",
      "/var/folders/fh/rstwtx7j73b0zwzkyzktnnrh0000gn/T/ipykernel_54572/1590456300.py:59: DeprecationWarning: DataFrameGroupBy.apply operated on the grouping columns. This behavior is deprecated, and in a future version of pandas the grouping columns will be excluded from the operation. Either pass `include_groups=False` to exclude the groupings or explicitly select the grouping columns after groupby to silence this warning.\n",
      "  .apply(lambda g: compute_slope_of_feature(g, x_col=\"day\", y_col=feature))\n",
      "/var/folders/fh/rstwtx7j73b0zwzkyzktnnrh0000gn/T/ipykernel_54572/1590456300.py:44: DeprecationWarning: DataFrameGroupBy.apply operated on the grouping columns. This behavior is deprecated, and in a future version of pandas the grouping columns will be excluded from the operation. Either pass `include_groups=False` to exclude the groupings or explicitly select the grouping columns after groupby to silence this warning.\n",
      "  .apply(lambda g: compute_slope_of_feature(g, x_col=\"day\", y_col=feature))\n",
      "/var/folders/fh/rstwtx7j73b0zwzkyzktnnrh0000gn/T/ipykernel_54572/1590456300.py:59: DeprecationWarning: DataFrameGroupBy.apply operated on the grouping columns. This behavior is deprecated, and in a future version of pandas the grouping columns will be excluded from the operation. Either pass `include_groups=False` to exclude the groupings or explicitly select the grouping columns after groupby to silence this warning.\n",
      "  .apply(lambda g: compute_slope_of_feature(g, x_col=\"day\", y_col=feature))\n",
      "/var/folders/fh/rstwtx7j73b0zwzkyzktnnrh0000gn/T/ipykernel_54572/1590456300.py:44: DeprecationWarning: DataFrameGroupBy.apply operated on the grouping columns. This behavior is deprecated, and in a future version of pandas the grouping columns will be excluded from the operation. Either pass `include_groups=False` to exclude the groupings or explicitly select the grouping columns after groupby to silence this warning.\n",
      "  .apply(lambda g: compute_slope_of_feature(g, x_col=\"day\", y_col=feature))\n",
      "/var/folders/fh/rstwtx7j73b0zwzkyzktnnrh0000gn/T/ipykernel_54572/1590456300.py:59: DeprecationWarning: DataFrameGroupBy.apply operated on the grouping columns. This behavior is deprecated, and in a future version of pandas the grouping columns will be excluded from the operation. Either pass `include_groups=False` to exclude the groupings or explicitly select the grouping columns after groupby to silence this warning.\n",
      "  .apply(lambda g: compute_slope_of_feature(g, x_col=\"day\", y_col=feature))\n"
     ]
    },
    {
     "name": "stdout",
     "output_type": "stream",
     "text": [
      "\n",
      "FOR FEATURE:  mobility_radius\n",
      "\n",
      "FOR FEATURE:  call_count\n"
     ]
    },
    {
     "name": "stderr",
     "output_type": "stream",
     "text": [
      "/var/folders/fh/rstwtx7j73b0zwzkyzktnnrh0000gn/T/ipykernel_54572/1590456300.py:44: DeprecationWarning: DataFrameGroupBy.apply operated on the grouping columns. This behavior is deprecated, and in a future version of pandas the grouping columns will be excluded from the operation. Either pass `include_groups=False` to exclude the groupings or explicitly select the grouping columns after groupby to silence this warning.\n",
      "  .apply(lambda g: compute_slope_of_feature(g, x_col=\"day\", y_col=feature))\n",
      "/var/folders/fh/rstwtx7j73b0zwzkyzktnnrh0000gn/T/ipykernel_54572/1590456300.py:59: DeprecationWarning: DataFrameGroupBy.apply operated on the grouping columns. This behavior is deprecated, and in a future version of pandas the grouping columns will be excluded from the operation. Either pass `include_groups=False` to exclude the groupings or explicitly select the grouping columns after groupby to silence this warning.\n",
      "  .apply(lambda g: compute_slope_of_feature(g, x_col=\"day\", y_col=feature))\n",
      "/var/folders/fh/rstwtx7j73b0zwzkyzktnnrh0000gn/T/ipykernel_54572/1590456300.py:44: DeprecationWarning: DataFrameGroupBy.apply operated on the grouping columns. This behavior is deprecated, and in a future version of pandas the grouping columns will be excluded from the operation. Either pass `include_groups=False` to exclude the groupings or explicitly select the grouping columns after groupby to silence this warning.\n",
      "  .apply(lambda g: compute_slope_of_feature(g, x_col=\"day\", y_col=feature))\n"
     ]
    },
    {
     "name": "stdout",
     "output_type": "stream",
     "text": [
      "\n",
      "FOR FEATURE:  phq2_bin\n",
      "\n",
      "FOR FEATURE:  pc_missed_communications\n"
     ]
    },
    {
     "name": "stderr",
     "output_type": "stream",
     "text": [
      "/var/folders/fh/rstwtx7j73b0zwzkyzktnnrh0000gn/T/ipykernel_54572/1590456300.py:59: DeprecationWarning: DataFrameGroupBy.apply operated on the grouping columns. This behavior is deprecated, and in a future version of pandas the grouping columns will be excluded from the operation. Either pass `include_groups=False` to exclude the groupings or explicitly select the grouping columns after groupby to silence this warning.\n",
      "  .apply(lambda g: compute_slope_of_feature(g, x_col=\"day\", y_col=feature))\n",
      "/var/folders/fh/rstwtx7j73b0zwzkyzktnnrh0000gn/T/ipykernel_54572/1590456300.py:44: DeprecationWarning: DataFrameGroupBy.apply operated on the grouping columns. This behavior is deprecated, and in a future version of pandas the grouping columns will be excluded from the operation. Either pass `include_groups=False` to exclude the groupings or explicitly select the grouping columns after groupby to silence this warning.\n",
      "  .apply(lambda g: compute_slope_of_feature(g, x_col=\"day\", y_col=feature))\n",
      "/var/folders/fh/rstwtx7j73b0zwzkyzktnnrh0000gn/T/ipykernel_54572/1590456300.py:59: DeprecationWarning: DataFrameGroupBy.apply operated on the grouping columns. This behavior is deprecated, and in a future version of pandas the grouping columns will be excluded from the operation. Either pass `include_groups=False` to exclude the groupings or explicitly select the grouping columns after groupby to silence this warning.\n",
      "  .apply(lambda g: compute_slope_of_feature(g, x_col=\"day\", y_col=feature))\n",
      "/var/folders/fh/rstwtx7j73b0zwzkyzktnnrh0000gn/T/ipykernel_54572/1590456300.py:44: DeprecationWarning: DataFrameGroupBy.apply operated on the grouping columns. This behavior is deprecated, and in a future version of pandas the grouping columns will be excluded from the operation. Either pass `include_groups=False` to exclude the groupings or explicitly select the grouping columns after groupby to silence this warning.\n",
      "  .apply(lambda g: compute_slope_of_feature(g, x_col=\"day\", y_col=feature))\n",
      "/var/folders/fh/rstwtx7j73b0zwzkyzktnnrh0000gn/T/ipykernel_54572/1590456300.py:59: DeprecationWarning: DataFrameGroupBy.apply operated on the grouping columns. This behavior is deprecated, and in a future version of pandas the grouping columns will be excluded from the operation. Either pass `include_groups=False` to exclude the groupings or explicitly select the grouping columns after groupby to silence this warning.\n",
      "  .apply(lambda g: compute_slope_of_feature(g, x_col=\"day\", y_col=feature))\n"
     ]
    },
    {
     "name": "stdout",
     "output_type": "stream",
     "text": [
      "\n",
      "FOR FEATURE:  pc_communications\n",
      "\n",
      "FOR FEATURE:  mobility\n"
     ]
    },
    {
     "name": "stderr",
     "output_type": "stream",
     "text": [
      "/var/folders/fh/rstwtx7j73b0zwzkyzktnnrh0000gn/T/ipykernel_54572/1590456300.py:44: DeprecationWarning: DataFrameGroupBy.apply operated on the grouping columns. This behavior is deprecated, and in a future version of pandas the grouping columns will be excluded from the operation. Either pass `include_groups=False` to exclude the groupings or explicitly select the grouping columns after groupby to silence this warning.\n",
      "  .apply(lambda g: compute_slope_of_feature(g, x_col=\"day\", y_col=feature))\n",
      "/var/folders/fh/rstwtx7j73b0zwzkyzktnnrh0000gn/T/ipykernel_54572/1590456300.py:59: DeprecationWarning: DataFrameGroupBy.apply operated on the grouping columns. This behavior is deprecated, and in a future version of pandas the grouping columns will be excluded from the operation. Either pass `include_groups=False` to exclude the groupings or explicitly select the grouping columns after groupby to silence this warning.\n",
      "  .apply(lambda g: compute_slope_of_feature(g, x_col=\"day\", y_col=feature))\n"
     ]
    },
    {
     "name": "stdout",
     "output_type": "stream",
     "text": [
      "\n",
      "FOR FEATURE:  pc_depression\n",
      "\n",
      "FOR FEATURE:  sms_length\n"
     ]
    },
    {
     "name": "stderr",
     "output_type": "stream",
     "text": [
      "/var/folders/fh/rstwtx7j73b0zwzkyzktnnrh0000gn/T/ipykernel_54572/1590456300.py:44: DeprecationWarning: DataFrameGroupBy.apply operated on the grouping columns. This behavior is deprecated, and in a future version of pandas the grouping columns will be excluded from the operation. Either pass `include_groups=False` to exclude the groupings or explicitly select the grouping columns after groupby to silence this warning.\n",
      "  .apply(lambda g: compute_slope_of_feature(g, x_col=\"day\", y_col=feature))\n",
      "/var/folders/fh/rstwtx7j73b0zwzkyzktnnrh0000gn/T/ipykernel_54572/1590456300.py:59: DeprecationWarning: DataFrameGroupBy.apply operated on the grouping columns. This behavior is deprecated, and in a future version of pandas the grouping columns will be excluded from the operation. Either pass `include_groups=False` to exclude the groupings or explicitly select the grouping columns after groupby to silence this warning.\n",
      "  .apply(lambda g: compute_slope_of_feature(g, x_col=\"day\", y_col=feature))\n",
      "/var/folders/fh/rstwtx7j73b0zwzkyzktnnrh0000gn/T/ipykernel_54572/1590456300.py:44: DeprecationWarning: DataFrameGroupBy.apply operated on the grouping columns. This behavior is deprecated, and in a future version of pandas the grouping columns will be excluded from the operation. Either pass `include_groups=False` to exclude the groupings or explicitly select the grouping columns after groupby to silence this warning.\n",
      "  .apply(lambda g: compute_slope_of_feature(g, x_col=\"day\", y_col=feature))\n",
      "/var/folders/fh/rstwtx7j73b0zwzkyzktnnrh0000gn/T/ipykernel_54572/1590456300.py:59: DeprecationWarning: DataFrameGroupBy.apply operated on the grouping columns. This behavior is deprecated, and in a future version of pandas the grouping columns will be excluded from the operation. Either pass `include_groups=False` to exclude the groupings or explicitly select the grouping columns after groupby to silence this warning.\n",
      "  .apply(lambda g: compute_slope_of_feature(g, x_col=\"day\", y_col=feature))\n",
      "/var/folders/fh/rstwtx7j73b0zwzkyzktnnrh0000gn/T/ipykernel_54572/1590456300.py:44: DeprecationWarning: DataFrameGroupBy.apply operated on the grouping columns. This behavior is deprecated, and in a future version of pandas the grouping columns will be excluded from the operation. Either pass `include_groups=False` to exclude the groupings or explicitly select the grouping columns after groupby to silence this warning.\n",
      "  .apply(lambda g: compute_slope_of_feature(g, x_col=\"day\", y_col=feature))\n"
     ]
    },
    {
     "name": "stdout",
     "output_type": "stream",
     "text": [
      "\n",
      "FOR FEATURE:  phq2_2\n"
     ]
    },
    {
     "name": "stderr",
     "output_type": "stream",
     "text": [
      "/var/folders/fh/rstwtx7j73b0zwzkyzktnnrh0000gn/T/ipykernel_54572/1590456300.py:59: DeprecationWarning: DataFrameGroupBy.apply operated on the grouping columns. This behavior is deprecated, and in a future version of pandas the grouping columns will be excluded from the operation. Either pass `include_groups=False` to exclude the groupings or explicitly select the grouping columns after groupby to silence this warning.\n",
      "  .apply(lambda g: compute_slope_of_feature(g, x_col=\"day\", y_col=feature))\n",
      "/var/folders/fh/rstwtx7j73b0zwzkyzktnnrh0000gn/T/ipykernel_54572/1590456300.py:44: DeprecationWarning: DataFrameGroupBy.apply operated on the grouping columns. This behavior is deprecated, and in a future version of pandas the grouping columns will be excluded from the operation. Either pass `include_groups=False` to exclude the groupings or explicitly select the grouping columns after groupby to silence this warning.\n",
      "  .apply(lambda g: compute_slope_of_feature(g, x_col=\"day\", y_col=feature))\n",
      "/var/folders/fh/rstwtx7j73b0zwzkyzktnnrh0000gn/T/ipykernel_54572/1590456300.py:59: DeprecationWarning: DataFrameGroupBy.apply operated on the grouping columns. This behavior is deprecated, and in a future version of pandas the grouping columns will be excluded from the operation. Either pass `include_groups=False` to exclude the groupings or explicitly select the grouping columns after groupby to silence this warning.\n",
      "  .apply(lambda g: compute_slope_of_feature(g, x_col=\"day\", y_col=feature))\n"
     ]
    },
    {
     "name": "stdout",
     "output_type": "stream",
     "text": [
      "\n",
      "FOR FEATURE:  phq2_1\n",
      "\n",
      "FOR FEATURE:  aggregate_communication\n"
     ]
    },
    {
     "name": "stderr",
     "output_type": "stream",
     "text": [
      "/var/folders/fh/rstwtx7j73b0zwzkyzktnnrh0000gn/T/ipykernel_54572/1590456300.py:44: DeprecationWarning: DataFrameGroupBy.apply operated on the grouping columns. This behavior is deprecated, and in a future version of pandas the grouping columns will be excluded from the operation. Either pass `include_groups=False` to exclude the groupings or explicitly select the grouping columns after groupby to silence this warning.\n",
      "  .apply(lambda g: compute_slope_of_feature(g, x_col=\"day\", y_col=feature))\n",
      "/var/folders/fh/rstwtx7j73b0zwzkyzktnnrh0000gn/T/ipykernel_54572/1590456300.py:59: DeprecationWarning: DataFrameGroupBy.apply operated on the grouping columns. This behavior is deprecated, and in a future version of pandas the grouping columns will be excluded from the operation. Either pass `include_groups=False` to exclude the groupings or explicitly select the grouping columns after groupby to silence this warning.\n",
      "  .apply(lambda g: compute_slope_of_feature(g, x_col=\"day\", y_col=feature))\n"
     ]
    },
    {
     "name": "stdout",
     "output_type": "stream",
     "text": [
      "\n",
      "FOR FEATURE:  sms_count\n",
      "\n",
      "FOR FEATURE:  phq9_9\n"
     ]
    },
    {
     "name": "stderr",
     "output_type": "stream",
     "text": [
      "/var/folders/fh/rstwtx7j73b0zwzkyzktnnrh0000gn/T/ipykernel_54572/1590456300.py:44: DeprecationWarning: DataFrameGroupBy.apply operated on the grouping columns. This behavior is deprecated, and in a future version of pandas the grouping columns will be excluded from the operation. Either pass `include_groups=False` to exclude the groupings or explicitly select the grouping columns after groupby to silence this warning.\n",
      "  .apply(lambda g: compute_slope_of_feature(g, x_col=\"day\", y_col=feature))\n",
      "/var/folders/fh/rstwtx7j73b0zwzkyzktnnrh0000gn/T/ipykernel_54572/1590456300.py:59: DeprecationWarning: DataFrameGroupBy.apply operated on the grouping columns. This behavior is deprecated, and in a future version of pandas the grouping columns will be excluded from the operation. Either pass `include_groups=False` to exclude the groupings or explicitly select the grouping columns after groupby to silence this warning.\n",
      "  .apply(lambda g: compute_slope_of_feature(g, x_col=\"day\", y_col=feature))\n",
      "/var/folders/fh/rstwtx7j73b0zwzkyzktnnrh0000gn/T/ipykernel_54572/1590456300.py:44: DeprecationWarning: DataFrameGroupBy.apply operated on the grouping columns. This behavior is deprecated, and in a future version of pandas the grouping columns will be excluded from the operation. Either pass `include_groups=False` to exclude the groupings or explicitly select the grouping columns after groupby to silence this warning.\n",
      "  .apply(lambda g: compute_slope_of_feature(g, x_col=\"day\", y_col=feature))\n",
      "/var/folders/fh/rstwtx7j73b0zwzkyzktnnrh0000gn/T/ipykernel_54572/1590456300.py:59: DeprecationWarning: DataFrameGroupBy.apply operated on the grouping columns. This behavior is deprecated, and in a future version of pandas the grouping columns will be excluded from the operation. Either pass `include_groups=False` to exclude the groupings or explicitly select the grouping columns after groupby to silence this warning.\n",
      "  .apply(lambda g: compute_slope_of_feature(g, x_col=\"day\", y_col=feature))\n"
     ]
    },
    {
     "name": "stdout",
     "output_type": "stream",
     "text": [
      "\n",
      "FOR FEATURE:  sms_length\n",
      "\n",
      "FOR FEATURE:  call_duration\n",
      "\n",
      "FOR FEATURE:  unreturned_calls\n"
     ]
    },
    {
     "name": "stderr",
     "output_type": "stream",
     "text": [
      "/var/folders/fh/rstwtx7j73b0zwzkyzktnnrh0000gn/T/ipykernel_54572/1590456300.py:44: DeprecationWarning: DataFrameGroupBy.apply operated on the grouping columns. This behavior is deprecated, and in a future version of pandas the grouping columns will be excluded from the operation. Either pass `include_groups=False` to exclude the groupings or explicitly select the grouping columns after groupby to silence this warning.\n",
      "  .apply(lambda g: compute_slope_of_feature(g, x_col=\"day\", y_col=feature))\n",
      "/var/folders/fh/rstwtx7j73b0zwzkyzktnnrh0000gn/T/ipykernel_54572/1590456300.py:59: DeprecationWarning: DataFrameGroupBy.apply operated on the grouping columns. This behavior is deprecated, and in a future version of pandas the grouping columns will be excluded from the operation. Either pass `include_groups=False` to exclude the groupings or explicitly select the grouping columns after groupby to silence this warning.\n",
      "  .apply(lambda g: compute_slope_of_feature(g, x_col=\"day\", y_col=feature))\n",
      "/var/folders/fh/rstwtx7j73b0zwzkyzktnnrh0000gn/T/ipykernel_54572/1590456300.py:44: DeprecationWarning: DataFrameGroupBy.apply operated on the grouping columns. This behavior is deprecated, and in a future version of pandas the grouping columns will be excluded from the operation. Either pass `include_groups=False` to exclude the groupings or explicitly select the grouping columns after groupby to silence this warning.\n",
      "  .apply(lambda g: compute_slope_of_feature(g, x_col=\"day\", y_col=feature))\n",
      "/var/folders/fh/rstwtx7j73b0zwzkyzktnnrh0000gn/T/ipykernel_54572/1590456300.py:59: DeprecationWarning: DataFrameGroupBy.apply operated on the grouping columns. This behavior is deprecated, and in a future version of pandas the grouping columns will be excluded from the operation. Either pass `include_groups=False` to exclude the groupings or explicitly select the grouping columns after groupby to silence this warning.\n",
      "  .apply(lambda g: compute_slope_of_feature(g, x_col=\"day\", y_col=feature))\n",
      "/var/folders/fh/rstwtx7j73b0zwzkyzktnnrh0000gn/T/ipykernel_54572/1590456300.py:44: DeprecationWarning: DataFrameGroupBy.apply operated on the grouping columns. This behavior is deprecated, and in a future version of pandas the grouping columns will be excluded from the operation. Either pass `include_groups=False` to exclude the groupings or explicitly select the grouping columns after groupby to silence this warning.\n",
      "  .apply(lambda g: compute_slope_of_feature(g, x_col=\"day\", y_col=feature))\n",
      "/var/folders/fh/rstwtx7j73b0zwzkyzktnnrh0000gn/T/ipykernel_54572/1590456300.py:59: DeprecationWarning: DataFrameGroupBy.apply operated on the grouping columns. This behavior is deprecated, and in a future version of pandas the grouping columns will be excluded from the operation. Either pass `include_groups=False` to exclude the groupings or explicitly select the grouping columns after groupby to silence this warning.\n",
      "  .apply(lambda g: compute_slope_of_feature(g, x_col=\"day\", y_col=feature))\n"
     ]
    },
    {
     "name": "stdout",
     "output_type": "stream",
     "text": [
      "\n",
      "FOR FEATURE:  interaction_diversity\n",
      "\n",
      "FOR FEATURE:  phq9_6\n"
     ]
    },
    {
     "name": "stderr",
     "output_type": "stream",
     "text": [
      "/var/folders/fh/rstwtx7j73b0zwzkyzktnnrh0000gn/T/ipykernel_54572/1590456300.py:44: DeprecationWarning: DataFrameGroupBy.apply operated on the grouping columns. This behavior is deprecated, and in a future version of pandas the grouping columns will be excluded from the operation. Either pass `include_groups=False` to exclude the groupings or explicitly select the grouping columns after groupby to silence this warning.\n",
      "  .apply(lambda g: compute_slope_of_feature(g, x_col=\"day\", y_col=feature))\n",
      "/var/folders/fh/rstwtx7j73b0zwzkyzktnnrh0000gn/T/ipykernel_54572/1590456300.py:59: DeprecationWarning: DataFrameGroupBy.apply operated on the grouping columns. This behavior is deprecated, and in a future version of pandas the grouping columns will be excluded from the operation. Either pass `include_groups=False` to exclude the groupings or explicitly select the grouping columns after groupby to silence this warning.\n",
      "  .apply(lambda g: compute_slope_of_feature(g, x_col=\"day\", y_col=feature))\n",
      "/var/folders/fh/rstwtx7j73b0zwzkyzktnnrh0000gn/T/ipykernel_54572/1590456300.py:44: DeprecationWarning: DataFrameGroupBy.apply operated on the grouping columns. This behavior is deprecated, and in a future version of pandas the grouping columns will be excluded from the operation. Either pass `include_groups=False` to exclude the groupings or explicitly select the grouping columns after groupby to silence this warning.\n",
      "  .apply(lambda g: compute_slope_of_feature(g, x_col=\"day\", y_col=feature))\n",
      "/var/folders/fh/rstwtx7j73b0zwzkyzktnnrh0000gn/T/ipykernel_54572/1590456300.py:59: DeprecationWarning: DataFrameGroupBy.apply operated on the grouping columns. This behavior is deprecated, and in a future version of pandas the grouping columns will be excluded from the operation. Either pass `include_groups=False` to exclude the groupings or explicitly select the grouping columns after groupby to silence this warning.\n",
      "  .apply(lambda g: compute_slope_of_feature(g, x_col=\"day\", y_col=feature))\n"
     ]
    },
    {
     "name": "stdout",
     "output_type": "stream",
     "text": [
      "\n",
      "FOR FEATURE:  pc_mobility\n",
      "\n",
      "FOR FEATURE:  missed_interactions\n",
      "\n",
      "FOR FEATURE:  call_count\n"
     ]
    },
    {
     "name": "stderr",
     "output_type": "stream",
     "text": [
      "/var/folders/fh/rstwtx7j73b0zwzkyzktnnrh0000gn/T/ipykernel_54572/1590456300.py:44: DeprecationWarning: DataFrameGroupBy.apply operated on the grouping columns. This behavior is deprecated, and in a future version of pandas the grouping columns will be excluded from the operation. Either pass `include_groups=False` to exclude the groupings or explicitly select the grouping columns after groupby to silence this warning.\n",
      "  .apply(lambda g: compute_slope_of_feature(g, x_col=\"day\", y_col=feature))\n",
      "/var/folders/fh/rstwtx7j73b0zwzkyzktnnrh0000gn/T/ipykernel_54572/1590456300.py:59: DeprecationWarning: DataFrameGroupBy.apply operated on the grouping columns. This behavior is deprecated, and in a future version of pandas the grouping columns will be excluded from the operation. Either pass `include_groups=False` to exclude the groupings or explicitly select the grouping columns after groupby to silence this warning.\n",
      "  .apply(lambda g: compute_slope_of_feature(g, x_col=\"day\", y_col=feature))\n",
      "/var/folders/fh/rstwtx7j73b0zwzkyzktnnrh0000gn/T/ipykernel_54572/1590456300.py:44: DeprecationWarning: DataFrameGroupBy.apply operated on the grouping columns. This behavior is deprecated, and in a future version of pandas the grouping columns will be excluded from the operation. Either pass `include_groups=False` to exclude the groupings or explicitly select the grouping columns after groupby to silence this warning.\n",
      "  .apply(lambda g: compute_slope_of_feature(g, x_col=\"day\", y_col=feature))\n",
      "/var/folders/fh/rstwtx7j73b0zwzkyzktnnrh0000gn/T/ipykernel_54572/1590456300.py:59: DeprecationWarning: DataFrameGroupBy.apply operated on the grouping columns. This behavior is deprecated, and in a future version of pandas the grouping columns will be excluded from the operation. Either pass `include_groups=False` to exclude the groupings or explicitly select the grouping columns after groupby to silence this warning.\n",
      "  .apply(lambda g: compute_slope_of_feature(g, x_col=\"day\", y_col=feature))\n",
      "/var/folders/fh/rstwtx7j73b0zwzkyzktnnrh0000gn/T/ipykernel_54572/1590456300.py:44: DeprecationWarning: DataFrameGroupBy.apply operated on the grouping columns. This behavior is deprecated, and in a future version of pandas the grouping columns will be excluded from the operation. Either pass `include_groups=False` to exclude the groupings or explicitly select the grouping columns after groupby to silence this warning.\n",
      "  .apply(lambda g: compute_slope_of_feature(g, x_col=\"day\", y_col=feature))\n",
      "/var/folders/fh/rstwtx7j73b0zwzkyzktnnrh0000gn/T/ipykernel_54572/1590456300.py:59: DeprecationWarning: DataFrameGroupBy.apply operated on the grouping columns. This behavior is deprecated, and in a future version of pandas the grouping columns will be excluded from the operation. Either pass `include_groups=False` to exclude the groupings or explicitly select the grouping columns after groupby to silence this warning.\n",
      "  .apply(lambda g: compute_slope_of_feature(g, x_col=\"day\", y_col=feature))\n"
     ]
    },
    {
     "name": "stdout",
     "output_type": "stream",
     "text": [
      "\n",
      "FOR FEATURE:  phq9_4\n",
      "\n",
      "FOR FEATURE:  pc_missed_communications\n",
      "\n",
      "FOR FEATURE:  mobility\n"
     ]
    },
    {
     "name": "stderr",
     "output_type": "stream",
     "text": [
      "/var/folders/fh/rstwtx7j73b0zwzkyzktnnrh0000gn/T/ipykernel_54572/1590456300.py:44: DeprecationWarning: DataFrameGroupBy.apply operated on the grouping columns. This behavior is deprecated, and in a future version of pandas the grouping columns will be excluded from the operation. Either pass `include_groups=False` to exclude the groupings or explicitly select the grouping columns after groupby to silence this warning.\n",
      "  .apply(lambda g: compute_slope_of_feature(g, x_col=\"day\", y_col=feature))\n",
      "/var/folders/fh/rstwtx7j73b0zwzkyzktnnrh0000gn/T/ipykernel_54572/1590456300.py:59: DeprecationWarning: DataFrameGroupBy.apply operated on the grouping columns. This behavior is deprecated, and in a future version of pandas the grouping columns will be excluded from the operation. Either pass `include_groups=False` to exclude the groupings or explicitly select the grouping columns after groupby to silence this warning.\n",
      "  .apply(lambda g: compute_slope_of_feature(g, x_col=\"day\", y_col=feature))\n",
      "/var/folders/fh/rstwtx7j73b0zwzkyzktnnrh0000gn/T/ipykernel_54572/1590456300.py:44: DeprecationWarning: DataFrameGroupBy.apply operated on the grouping columns. This behavior is deprecated, and in a future version of pandas the grouping columns will be excluded from the operation. Either pass `include_groups=False` to exclude the groupings or explicitly select the grouping columns after groupby to silence this warning.\n",
      "  .apply(lambda g: compute_slope_of_feature(g, x_col=\"day\", y_col=feature))\n",
      "/var/folders/fh/rstwtx7j73b0zwzkyzktnnrh0000gn/T/ipykernel_54572/1590456300.py:59: DeprecationWarning: DataFrameGroupBy.apply operated on the grouping columns. This behavior is deprecated, and in a future version of pandas the grouping columns will be excluded from the operation. Either pass `include_groups=False` to exclude the groupings or explicitly select the grouping columns after groupby to silence this warning.\n",
      "  .apply(lambda g: compute_slope_of_feature(g, x_col=\"day\", y_col=feature))\n",
      "/var/folders/fh/rstwtx7j73b0zwzkyzktnnrh0000gn/T/ipykernel_54572/1590456300.py:44: DeprecationWarning: DataFrameGroupBy.apply operated on the grouping columns. This behavior is deprecated, and in a future version of pandas the grouping columns will be excluded from the operation. Either pass `include_groups=False` to exclude the groupings or explicitly select the grouping columns after groupby to silence this warning.\n",
      "  .apply(lambda g: compute_slope_of_feature(g, x_col=\"day\", y_col=feature))\n",
      "/var/folders/fh/rstwtx7j73b0zwzkyzktnnrh0000gn/T/ipykernel_54572/1590456300.py:59: DeprecationWarning: DataFrameGroupBy.apply operated on the grouping columns. This behavior is deprecated, and in a future version of pandas the grouping columns will be excluded from the operation. Either pass `include_groups=False` to exclude the groupings or explicitly select the grouping columns after groupby to silence this warning.\n",
      "  .apply(lambda g: compute_slope_of_feature(g, x_col=\"day\", y_col=feature))\n",
      "/var/folders/fh/rstwtx7j73b0zwzkyzktnnrh0000gn/T/ipykernel_54572/1590456300.py:44: DeprecationWarning: DataFrameGroupBy.apply operated on the grouping columns. This behavior is deprecated, and in a future version of pandas the grouping columns will be excluded from the operation. Either pass `include_groups=False` to exclude the groupings or explicitly select the grouping columns after groupby to silence this warning.\n",
      "  .apply(lambda g: compute_slope_of_feature(g, x_col=\"day\", y_col=feature))\n",
      "/var/folders/fh/rstwtx7j73b0zwzkyzktnnrh0000gn/T/ipykernel_54572/1590456300.py:59: DeprecationWarning: DataFrameGroupBy.apply operated on the grouping columns. This behavior is deprecated, and in a future version of pandas the grouping columns will be excluded from the operation. Either pass `include_groups=False` to exclude the groupings or explicitly select the grouping columns after groupby to silence this warning.\n",
      "  .apply(lambda g: compute_slope_of_feature(g, x_col=\"day\", y_col=feature))\n",
      "/var/folders/fh/rstwtx7j73b0zwzkyzktnnrh0000gn/T/ipykernel_54572/1590456300.py:44: DeprecationWarning: DataFrameGroupBy.apply operated on the grouping columns. This behavior is deprecated, and in a future version of pandas the grouping columns will be excluded from the operation. Either pass `include_groups=False` to exclude the groupings or explicitly select the grouping columns after groupby to silence this warning.\n",
      "  .apply(lambda g: compute_slope_of_feature(g, x_col=\"day\", y_col=feature))\n",
      "/var/folders/fh/rstwtx7j73b0zwzkyzktnnrh0000gn/T/ipykernel_54572/1590456300.py:59: DeprecationWarning: DataFrameGroupBy.apply operated on the grouping columns. This behavior is deprecated, and in a future version of pandas the grouping columns will be excluded from the operation. Either pass `include_groups=False` to exclude the groupings or explicitly select the grouping columns after groupby to silence this warning.\n",
      "  .apply(lambda g: compute_slope_of_feature(g, x_col=\"day\", y_col=feature))\n"
     ]
    },
    {
     "name": "stdout",
     "output_type": "stream",
     "text": [
      "\n",
      "FOR FEATURE:  phq9_5\n",
      "\n",
      "FOR FEATURE:  aggregate_communication\n",
      "\n",
      "FOR FEATURE:  phq9_sum\n"
     ]
    },
    {
     "name": "stderr",
     "output_type": "stream",
     "text": [
      "/var/folders/fh/rstwtx7j73b0zwzkyzktnnrh0000gn/T/ipykernel_54572/1590456300.py:44: DeprecationWarning: DataFrameGroupBy.apply operated on the grouping columns. This behavior is deprecated, and in a future version of pandas the grouping columns will be excluded from the operation. Either pass `include_groups=False` to exclude the groupings or explicitly select the grouping columns after groupby to silence this warning.\n",
      "  .apply(lambda g: compute_slope_of_feature(g, x_col=\"day\", y_col=feature))\n",
      "/var/folders/fh/rstwtx7j73b0zwzkyzktnnrh0000gn/T/ipykernel_54572/1590456300.py:59: DeprecationWarning: DataFrameGroupBy.apply operated on the grouping columns. This behavior is deprecated, and in a future version of pandas the grouping columns will be excluded from the operation. Either pass `include_groups=False` to exclude the groupings or explicitly select the grouping columns after groupby to silence this warning.\n",
      "  .apply(lambda g: compute_slope_of_feature(g, x_col=\"day\", y_col=feature))\n",
      "/var/folders/fh/rstwtx7j73b0zwzkyzktnnrh0000gn/T/ipykernel_54572/1590456300.py:44: DeprecationWarning: DataFrameGroupBy.apply operated on the grouping columns. This behavior is deprecated, and in a future version of pandas the grouping columns will be excluded from the operation. Either pass `include_groups=False` to exclude the groupings or explicitly select the grouping columns after groupby to silence this warning.\n",
      "  .apply(lambda g: compute_slope_of_feature(g, x_col=\"day\", y_col=feature))\n",
      "/var/folders/fh/rstwtx7j73b0zwzkyzktnnrh0000gn/T/ipykernel_54572/1590456300.py:59: DeprecationWarning: DataFrameGroupBy.apply operated on the grouping columns. This behavior is deprecated, and in a future version of pandas the grouping columns will be excluded from the operation. Either pass `include_groups=False` to exclude the groupings or explicitly select the grouping columns after groupby to silence this warning.\n",
      "  .apply(lambda g: compute_slope_of_feature(g, x_col=\"day\", y_col=feature))\n",
      "/var/folders/fh/rstwtx7j73b0zwzkyzktnnrh0000gn/T/ipykernel_54572/1590456300.py:44: DeprecationWarning: DataFrameGroupBy.apply operated on the grouping columns. This behavior is deprecated, and in a future version of pandas the grouping columns will be excluded from the operation. Either pass `include_groups=False` to exclude the groupings or explicitly select the grouping columns after groupby to silence this warning.\n",
      "  .apply(lambda g: compute_slope_of_feature(g, x_col=\"day\", y_col=feature))\n",
      "/var/folders/fh/rstwtx7j73b0zwzkyzktnnrh0000gn/T/ipykernel_54572/1590456300.py:59: DeprecationWarning: DataFrameGroupBy.apply operated on the grouping columns. This behavior is deprecated, and in a future version of pandas the grouping columns will be excluded from the operation. Either pass `include_groups=False` to exclude the groupings or explicitly select the grouping columns after groupby to silence this warning.\n",
      "  .apply(lambda g: compute_slope_of_feature(g, x_col=\"day\", y_col=feature))\n"
     ]
    },
    {
     "name": "stdout",
     "output_type": "stream",
     "text": [
      "\n",
      "FOR FEATURE:  phq9_8\n",
      "\n",
      "FOR FEATURE:  phq9_3\n",
      "\n",
      "FOR FEATURE:  phq9_1\n"
     ]
    },
    {
     "name": "stderr",
     "output_type": "stream",
     "text": [
      "/var/folders/fh/rstwtx7j73b0zwzkyzktnnrh0000gn/T/ipykernel_54572/1590456300.py:44: DeprecationWarning: DataFrameGroupBy.apply operated on the grouping columns. This behavior is deprecated, and in a future version of pandas the grouping columns will be excluded from the operation. Either pass `include_groups=False` to exclude the groupings or explicitly select the grouping columns after groupby to silence this warning.\n",
      "  .apply(lambda g: compute_slope_of_feature(g, x_col=\"day\", y_col=feature))\n",
      "/var/folders/fh/rstwtx7j73b0zwzkyzktnnrh0000gn/T/ipykernel_54572/1590456300.py:59: DeprecationWarning: DataFrameGroupBy.apply operated on the grouping columns. This behavior is deprecated, and in a future version of pandas the grouping columns will be excluded from the operation. Either pass `include_groups=False` to exclude the groupings or explicitly select the grouping columns after groupby to silence this warning.\n",
      "  .apply(lambda g: compute_slope_of_feature(g, x_col=\"day\", y_col=feature))\n",
      "/var/folders/fh/rstwtx7j73b0zwzkyzktnnrh0000gn/T/ipykernel_54572/1590456300.py:44: DeprecationWarning: DataFrameGroupBy.apply operated on the grouping columns. This behavior is deprecated, and in a future version of pandas the grouping columns will be excluded from the operation. Either pass `include_groups=False` to exclude the groupings or explicitly select the grouping columns after groupby to silence this warning.\n",
      "  .apply(lambda g: compute_slope_of_feature(g, x_col=\"day\", y_col=feature))\n",
      "/var/folders/fh/rstwtx7j73b0zwzkyzktnnrh0000gn/T/ipykernel_54572/1590456300.py:59: DeprecationWarning: DataFrameGroupBy.apply operated on the grouping columns. This behavior is deprecated, and in a future version of pandas the grouping columns will be excluded from the operation. Either pass `include_groups=False` to exclude the groupings or explicitly select the grouping columns after groupby to silence this warning.\n",
      "  .apply(lambda g: compute_slope_of_feature(g, x_col=\"day\", y_col=feature))\n",
      "/var/folders/fh/rstwtx7j73b0zwzkyzktnnrh0000gn/T/ipykernel_54572/1590456300.py:44: DeprecationWarning: DataFrameGroupBy.apply operated on the grouping columns. This behavior is deprecated, and in a future version of pandas the grouping columns will be excluded from the operation. Either pass `include_groups=False` to exclude the groupings or explicitly select the grouping columns after groupby to silence this warning.\n",
      "  .apply(lambda g: compute_slope_of_feature(g, x_col=\"day\", y_col=feature))\n"
     ]
    },
    {
     "name": "stdout",
     "output_type": "stream",
     "text": [
      "\n",
      "FOR FEATURE:  phq9_2\n",
      "\n",
      "FOR FEATURE:  pc_depression\n",
      "\n",
      "FOR FEATURE:  phq9_7\n"
     ]
    },
    {
     "name": "stderr",
     "output_type": "stream",
     "text": [
      "/var/folders/fh/rstwtx7j73b0zwzkyzktnnrh0000gn/T/ipykernel_54572/1590456300.py:59: DeprecationWarning: DataFrameGroupBy.apply operated on the grouping columns. This behavior is deprecated, and in a future version of pandas the grouping columns will be excluded from the operation. Either pass `include_groups=False` to exclude the groupings or explicitly select the grouping columns after groupby to silence this warning.\n",
      "  .apply(lambda g: compute_slope_of_feature(g, x_col=\"day\", y_col=feature))\n",
      "/var/folders/fh/rstwtx7j73b0zwzkyzktnnrh0000gn/T/ipykernel_54572/1590456300.py:44: DeprecationWarning: DataFrameGroupBy.apply operated on the grouping columns. This behavior is deprecated, and in a future version of pandas the grouping columns will be excluded from the operation. Either pass `include_groups=False` to exclude the groupings or explicitly select the grouping columns after groupby to silence this warning.\n",
      "  .apply(lambda g: compute_slope_of_feature(g, x_col=\"day\", y_col=feature))\n",
      "/var/folders/fh/rstwtx7j73b0zwzkyzktnnrh0000gn/T/ipykernel_54572/1590456300.py:59: DeprecationWarning: DataFrameGroupBy.apply operated on the grouping columns. This behavior is deprecated, and in a future version of pandas the grouping columns will be excluded from the operation. Either pass `include_groups=False` to exclude the groupings or explicitly select the grouping columns after groupby to silence this warning.\n",
      "  .apply(lambda g: compute_slope_of_feature(g, x_col=\"day\", y_col=feature))\n",
      "/var/folders/fh/rstwtx7j73b0zwzkyzktnnrh0000gn/T/ipykernel_54572/1590456300.py:44: DeprecationWarning: DataFrameGroupBy.apply operated on the grouping columns. This behavior is deprecated, and in a future version of pandas the grouping columns will be excluded from the operation. Either pass `include_groups=False` to exclude the groupings or explicitly select the grouping columns after groupby to silence this warning.\n",
      "  .apply(lambda g: compute_slope_of_feature(g, x_col=\"day\", y_col=feature))\n",
      "/var/folders/fh/rstwtx7j73b0zwzkyzktnnrh0000gn/T/ipykernel_54572/1590456300.py:59: DeprecationWarning: DataFrameGroupBy.apply operated on the grouping columns. This behavior is deprecated, and in a future version of pandas the grouping columns will be excluded from the operation. Either pass `include_groups=False` to exclude the groupings or explicitly select the grouping columns after groupby to silence this warning.\n",
      "  .apply(lambda g: compute_slope_of_feature(g, x_col=\"day\", y_col=feature))\n"
     ]
    },
    {
     "name": "stdout",
     "output_type": "stream",
     "text": [
      "\n",
      "FOR FEATURE:  pc_suicidality\n",
      "\n",
      "FOR FEATURE:  phq9_bin\n",
      "\n",
      "FOR FEATURE:  phq9_cat\n"
     ]
    },
    {
     "name": "stderr",
     "output_type": "stream",
     "text": [
      "/var/folders/fh/rstwtx7j73b0zwzkyzktnnrh0000gn/T/ipykernel_54572/1590456300.py:44: DeprecationWarning: DataFrameGroupBy.apply operated on the grouping columns. This behavior is deprecated, and in a future version of pandas the grouping columns will be excluded from the operation. Either pass `include_groups=False` to exclude the groupings or explicitly select the grouping columns after groupby to silence this warning.\n",
      "  .apply(lambda g: compute_slope_of_feature(g, x_col=\"day\", y_col=feature))\n",
      "/var/folders/fh/rstwtx7j73b0zwzkyzktnnrh0000gn/T/ipykernel_54572/1590456300.py:59: DeprecationWarning: DataFrameGroupBy.apply operated on the grouping columns. This behavior is deprecated, and in a future version of pandas the grouping columns will be excluded from the operation. Either pass `include_groups=False` to exclude the groupings or explicitly select the grouping columns after groupby to silence this warning.\n",
      "  .apply(lambda g: compute_slope_of_feature(g, x_col=\"day\", y_col=feature))\n",
      "/var/folders/fh/rstwtx7j73b0zwzkyzktnnrh0000gn/T/ipykernel_54572/1590456300.py:44: DeprecationWarning: DataFrameGroupBy.apply operated on the grouping columns. This behavior is deprecated, and in a future version of pandas the grouping columns will be excluded from the operation. Either pass `include_groups=False` to exclude the groupings or explicitly select the grouping columns after groupby to silence this warning.\n",
      "  .apply(lambda g: compute_slope_of_feature(g, x_col=\"day\", y_col=feature))\n",
      "/var/folders/fh/rstwtx7j73b0zwzkyzktnnrh0000gn/T/ipykernel_54572/1590456300.py:59: DeprecationWarning: DataFrameGroupBy.apply operated on the grouping columns. This behavior is deprecated, and in a future version of pandas the grouping columns will be excluded from the operation. Either pass `include_groups=False` to exclude the groupings or explicitly select the grouping columns after groupby to silence this warning.\n",
      "  .apply(lambda g: compute_slope_of_feature(g, x_col=\"day\", y_col=feature))\n",
      "/var/folders/fh/rstwtx7j73b0zwzkyzktnnrh0000gn/T/ipykernel_54572/1590456300.py:44: DeprecationWarning: DataFrameGroupBy.apply operated on the grouping columns. This behavior is deprecated, and in a future version of pandas the grouping columns will be excluded from the operation. Either pass `include_groups=False` to exclude the groupings or explicitly select the grouping columns after groupby to silence this warning.\n",
      "  .apply(lambda g: compute_slope_of_feature(g, x_col=\"day\", y_col=feature))\n"
     ]
    },
    {
     "name": "stdout",
     "output_type": "stream",
     "text": [
      "\n",
      "FOR FEATURE:  pc_communications\n",
      "\n",
      "FOR FEATURE:  mobility_radius\n"
     ]
    },
    {
     "name": "stderr",
     "output_type": "stream",
     "text": [
      "/var/folders/fh/rstwtx7j73b0zwzkyzktnnrh0000gn/T/ipykernel_54572/1590456300.py:59: DeprecationWarning: DataFrameGroupBy.apply operated on the grouping columns. This behavior is deprecated, and in a future version of pandas the grouping columns will be excluded from the operation. Either pass `include_groups=False` to exclude the groupings or explicitly select the grouping columns after groupby to silence this warning.\n",
      "  .apply(lambda g: compute_slope_of_feature(g, x_col=\"day\", y_col=feature))\n",
      "/var/folders/fh/rstwtx7j73b0zwzkyzktnnrh0000gn/T/ipykernel_54572/1590456300.py:44: DeprecationWarning: DataFrameGroupBy.apply operated on the grouping columns. This behavior is deprecated, and in a future version of pandas the grouping columns will be excluded from the operation. Either pass `include_groups=False` to exclude the groupings or explicitly select the grouping columns after groupby to silence this warning.\n",
      "  .apply(lambda g: compute_slope_of_feature(g, x_col=\"day\", y_col=feature))\n",
      "/var/folders/fh/rstwtx7j73b0zwzkyzktnnrh0000gn/T/ipykernel_54572/1590456300.py:59: DeprecationWarning: DataFrameGroupBy.apply operated on the grouping columns. This behavior is deprecated, and in a future version of pandas the grouping columns will be excluded from the operation. Either pass `include_groups=False` to exclude the groupings or explicitly select the grouping columns after groupby to silence this warning.\n",
      "  .apply(lambda g: compute_slope_of_feature(g, x_col=\"day\", y_col=feature))\n"
     ]
    },
    {
     "name": "stdout",
     "output_type": "stream",
     "text": [
      "\n",
      "FOR FEATURE:  sms_count\n",
      "\n",
      "FOR FEATURE:  phq2_sum\n"
     ]
    },
    {
     "name": "stderr",
     "output_type": "stream",
     "text": [
      "/var/folders/fh/rstwtx7j73b0zwzkyzktnnrh0000gn/T/ipykernel_54572/1590456300.py:44: DeprecationWarning: DataFrameGroupBy.apply operated on the grouping columns. This behavior is deprecated, and in a future version of pandas the grouping columns will be excluded from the operation. Either pass `include_groups=False` to exclude the groupings or explicitly select the grouping columns after groupby to silence this warning.\n",
      "  .apply(lambda g: compute_slope_of_feature(g, x_col=\"day\", y_col=feature))\n",
      "/var/folders/fh/rstwtx7j73b0zwzkyzktnnrh0000gn/T/ipykernel_54572/1590456300.py:59: DeprecationWarning: DataFrameGroupBy.apply operated on the grouping columns. This behavior is deprecated, and in a future version of pandas the grouping columns will be excluded from the operation. Either pass `include_groups=False` to exclude the groupings or explicitly select the grouping columns after groupby to silence this warning.\n",
      "  .apply(lambda g: compute_slope_of_feature(g, x_col=\"day\", y_col=feature))\n",
      "/var/folders/fh/rstwtx7j73b0zwzkyzktnnrh0000gn/T/ipykernel_54572/1590456300.py:44: DeprecationWarning: DataFrameGroupBy.apply operated on the grouping columns. This behavior is deprecated, and in a future version of pandas the grouping columns will be excluded from the operation. Either pass `include_groups=False` to exclude the groupings or explicitly select the grouping columns after groupby to silence this warning.\n",
      "  .apply(lambda g: compute_slope_of_feature(g, x_col=\"day\", y_col=feature))\n",
      "/var/folders/fh/rstwtx7j73b0zwzkyzktnnrh0000gn/T/ipykernel_54572/1590456300.py:59: DeprecationWarning: DataFrameGroupBy.apply operated on the grouping columns. This behavior is deprecated, and in a future version of pandas the grouping columns will be excluded from the operation. Either pass `include_groups=False` to exclude the groupings or explicitly select the grouping columns after groupby to silence this warning.\n",
      "  .apply(lambda g: compute_slope_of_feature(g, x_col=\"day\", y_col=feature))\n",
      "/var/folders/fh/rstwtx7j73b0zwzkyzktnnrh0000gn/T/ipykernel_54572/1590456300.py:44: DeprecationWarning: DataFrameGroupBy.apply operated on the grouping columns. This behavior is deprecated, and in a future version of pandas the grouping columns will be excluded from the operation. Either pass `include_groups=False` to exclude the groupings or explicitly select the grouping columns after groupby to silence this warning.\n",
      "  .apply(lambda g: compute_slope_of_feature(g, x_col=\"day\", y_col=feature))\n",
      "/var/folders/fh/rstwtx7j73b0zwzkyzktnnrh0000gn/T/ipykernel_54572/1590456300.py:59: DeprecationWarning: DataFrameGroupBy.apply operated on the grouping columns. This behavior is deprecated, and in a future version of pandas the grouping columns will be excluded from the operation. Either pass `include_groups=False` to exclude the groupings or explicitly select the grouping columns after groupby to silence this warning.\n",
      "  .apply(lambda g: compute_slope_of_feature(g, x_col=\"day\", y_col=feature))\n"
     ]
    },
    {
     "name": "stdout",
     "output_type": "stream",
     "text": [
      "\n",
      "FOR FEATURE:  unreturned_calls\n",
      "\n",
      "FOR FEATURE:  interaction_diversity\n"
     ]
    },
    {
     "name": "stderr",
     "output_type": "stream",
     "text": [
      "/var/folders/fh/rstwtx7j73b0zwzkyzktnnrh0000gn/T/ipykernel_54572/1590456300.py:44: DeprecationWarning: DataFrameGroupBy.apply operated on the grouping columns. This behavior is deprecated, and in a future version of pandas the grouping columns will be excluded from the operation. Either pass `include_groups=False` to exclude the groupings or explicitly select the grouping columns after groupby to silence this warning.\n",
      "  .apply(lambda g: compute_slope_of_feature(g, x_col=\"day\", y_col=feature))\n",
      "/var/folders/fh/rstwtx7j73b0zwzkyzktnnrh0000gn/T/ipykernel_54572/1590456300.py:59: DeprecationWarning: DataFrameGroupBy.apply operated on the grouping columns. This behavior is deprecated, and in a future version of pandas the grouping columns will be excluded from the operation. Either pass `include_groups=False` to exclude the groupings or explicitly select the grouping columns after groupby to silence this warning.\n",
      "  .apply(lambda g: compute_slope_of_feature(g, x_col=\"day\", y_col=feature))\n",
      "/var/folders/fh/rstwtx7j73b0zwzkyzktnnrh0000gn/T/ipykernel_54572/1590456300.py:44: DeprecationWarning: DataFrameGroupBy.apply operated on the grouping columns. This behavior is deprecated, and in a future version of pandas the grouping columns will be excluded from the operation. Either pass `include_groups=False` to exclude the groupings or explicitly select the grouping columns after groupby to silence this warning.\n",
      "  .apply(lambda g: compute_slope_of_feature(g, x_col=\"day\", y_col=feature))\n"
     ]
    },
    {
     "name": "stdout",
     "output_type": "stream",
     "text": [
      "\n",
      "FOR FEATURE:  call_duration\n",
      "\n",
      "FOR FEATURE:  pc_mobility\n"
     ]
    },
    {
     "name": "stderr",
     "output_type": "stream",
     "text": [
      "/var/folders/fh/rstwtx7j73b0zwzkyzktnnrh0000gn/T/ipykernel_54572/1590456300.py:59: DeprecationWarning: DataFrameGroupBy.apply operated on the grouping columns. This behavior is deprecated, and in a future version of pandas the grouping columns will be excluded from the operation. Either pass `include_groups=False` to exclude the groupings or explicitly select the grouping columns after groupby to silence this warning.\n",
      "  .apply(lambda g: compute_slope_of_feature(g, x_col=\"day\", y_col=feature))\n",
      "/var/folders/fh/rstwtx7j73b0zwzkyzktnnrh0000gn/T/ipykernel_54572/1590456300.py:44: DeprecationWarning: DataFrameGroupBy.apply operated on the grouping columns. This behavior is deprecated, and in a future version of pandas the grouping columns will be excluded from the operation. Either pass `include_groups=False` to exclude the groupings or explicitly select the grouping columns after groupby to silence this warning.\n",
      "  .apply(lambda g: compute_slope_of_feature(g, x_col=\"day\", y_col=feature))\n",
      "/var/folders/fh/rstwtx7j73b0zwzkyzktnnrh0000gn/T/ipykernel_54572/1590456300.py:59: DeprecationWarning: DataFrameGroupBy.apply operated on the grouping columns. This behavior is deprecated, and in a future version of pandas the grouping columns will be excluded from the operation. Either pass `include_groups=False` to exclude the groupings or explicitly select the grouping columns after groupby to silence this warning.\n",
      "  .apply(lambda g: compute_slope_of_feature(g, x_col=\"day\", y_col=feature))\n"
     ]
    },
    {
     "name": "stdout",
     "output_type": "stream",
     "text": [
      "\n",
      "FOR FEATURE:  missed_interactions\n",
      "\n",
      "FOR FEATURE:  mobility_radius\n"
     ]
    },
    {
     "name": "stderr",
     "output_type": "stream",
     "text": [
      "/var/folders/fh/rstwtx7j73b0zwzkyzktnnrh0000gn/T/ipykernel_54572/1590456300.py:44: DeprecationWarning: DataFrameGroupBy.apply operated on the grouping columns. This behavior is deprecated, and in a future version of pandas the grouping columns will be excluded from the operation. Either pass `include_groups=False` to exclude the groupings or explicitly select the grouping columns after groupby to silence this warning.\n",
      "  .apply(lambda g: compute_slope_of_feature(g, x_col=\"day\", y_col=feature))\n",
      "/var/folders/fh/rstwtx7j73b0zwzkyzktnnrh0000gn/T/ipykernel_54572/1590456300.py:59: DeprecationWarning: DataFrameGroupBy.apply operated on the grouping columns. This behavior is deprecated, and in a future version of pandas the grouping columns will be excluded from the operation. Either pass `include_groups=False` to exclude the groupings or explicitly select the grouping columns after groupby to silence this warning.\n",
      "  .apply(lambda g: compute_slope_of_feature(g, x_col=\"day\", y_col=feature))\n",
      "/var/folders/fh/rstwtx7j73b0zwzkyzktnnrh0000gn/T/ipykernel_54572/1590456300.py:44: DeprecationWarning: DataFrameGroupBy.apply operated on the grouping columns. This behavior is deprecated, and in a future version of pandas the grouping columns will be excluded from the operation. Either pass `include_groups=False` to exclude the groupings or explicitly select the grouping columns after groupby to silence this warning.\n",
      "  .apply(lambda g: compute_slope_of_feature(g, x_col=\"day\", y_col=feature))\n",
      "/var/folders/fh/rstwtx7j73b0zwzkyzktnnrh0000gn/T/ipykernel_54572/1590456300.py:59: DeprecationWarning: DataFrameGroupBy.apply operated on the grouping columns. This behavior is deprecated, and in a future version of pandas the grouping columns will be excluded from the operation. Either pass `include_groups=False` to exclude the groupings or explicitly select the grouping columns after groupby to silence this warning.\n",
      "  .apply(lambda g: compute_slope_of_feature(g, x_col=\"day\", y_col=feature))\n"
     ]
    },
    {
     "name": "stdout",
     "output_type": "stream",
     "text": [
      "\n",
      "FOR FEATURE:  call_count\n",
      "\n",
      "FOR FEATURE:  phq2_bin\n"
     ]
    },
    {
     "name": "stderr",
     "output_type": "stream",
     "text": [
      "/var/folders/fh/rstwtx7j73b0zwzkyzktnnrh0000gn/T/ipykernel_54572/1590456300.py:44: DeprecationWarning: DataFrameGroupBy.apply operated on the grouping columns. This behavior is deprecated, and in a future version of pandas the grouping columns will be excluded from the operation. Either pass `include_groups=False` to exclude the groupings or explicitly select the grouping columns after groupby to silence this warning.\n",
      "  .apply(lambda g: compute_slope_of_feature(g, x_col=\"day\", y_col=feature))\n",
      "/var/folders/fh/rstwtx7j73b0zwzkyzktnnrh0000gn/T/ipykernel_54572/1590456300.py:59: DeprecationWarning: DataFrameGroupBy.apply operated on the grouping columns. This behavior is deprecated, and in a future version of pandas the grouping columns will be excluded from the operation. Either pass `include_groups=False` to exclude the groupings or explicitly select the grouping columns after groupby to silence this warning.\n",
      "  .apply(lambda g: compute_slope_of_feature(g, x_col=\"day\", y_col=feature))\n",
      "/var/folders/fh/rstwtx7j73b0zwzkyzktnnrh0000gn/T/ipykernel_54572/1590456300.py:44: DeprecationWarning: DataFrameGroupBy.apply operated on the grouping columns. This behavior is deprecated, and in a future version of pandas the grouping columns will be excluded from the operation. Either pass `include_groups=False` to exclude the groupings or explicitly select the grouping columns after groupby to silence this warning.\n",
      "  .apply(lambda g: compute_slope_of_feature(g, x_col=\"day\", y_col=feature))\n",
      "/var/folders/fh/rstwtx7j73b0zwzkyzktnnrh0000gn/T/ipykernel_54572/1590456300.py:59: DeprecationWarning: DataFrameGroupBy.apply operated on the grouping columns. This behavior is deprecated, and in a future version of pandas the grouping columns will be excluded from the operation. Either pass `include_groups=False` to exclude the groupings or explicitly select the grouping columns after groupby to silence this warning.\n",
      "  .apply(lambda g: compute_slope_of_feature(g, x_col=\"day\", y_col=feature))\n"
     ]
    },
    {
     "name": "stdout",
     "output_type": "stream",
     "text": [
      "\n",
      "FOR FEATURE:  pc_missed_communications\n",
      "\n",
      "FOR FEATURE:  pc_communications\n"
     ]
    },
    {
     "name": "stderr",
     "output_type": "stream",
     "text": [
      "/var/folders/fh/rstwtx7j73b0zwzkyzktnnrh0000gn/T/ipykernel_54572/1590456300.py:44: DeprecationWarning: DataFrameGroupBy.apply operated on the grouping columns. This behavior is deprecated, and in a future version of pandas the grouping columns will be excluded from the operation. Either pass `include_groups=False` to exclude the groupings or explicitly select the grouping columns after groupby to silence this warning.\n",
      "  .apply(lambda g: compute_slope_of_feature(g, x_col=\"day\", y_col=feature))\n",
      "/var/folders/fh/rstwtx7j73b0zwzkyzktnnrh0000gn/T/ipykernel_54572/1590456300.py:59: DeprecationWarning: DataFrameGroupBy.apply operated on the grouping columns. This behavior is deprecated, and in a future version of pandas the grouping columns will be excluded from the operation. Either pass `include_groups=False` to exclude the groupings or explicitly select the grouping columns after groupby to silence this warning.\n",
      "  .apply(lambda g: compute_slope_of_feature(g, x_col=\"day\", y_col=feature))\n",
      "/var/folders/fh/rstwtx7j73b0zwzkyzktnnrh0000gn/T/ipykernel_54572/1590456300.py:44: DeprecationWarning: DataFrameGroupBy.apply operated on the grouping columns. This behavior is deprecated, and in a future version of pandas the grouping columns will be excluded from the operation. Either pass `include_groups=False` to exclude the groupings or explicitly select the grouping columns after groupby to silence this warning.\n",
      "  .apply(lambda g: compute_slope_of_feature(g, x_col=\"day\", y_col=feature))\n",
      "/var/folders/fh/rstwtx7j73b0zwzkyzktnnrh0000gn/T/ipykernel_54572/1590456300.py:59: DeprecationWarning: DataFrameGroupBy.apply operated on the grouping columns. This behavior is deprecated, and in a future version of pandas the grouping columns will be excluded from the operation. Either pass `include_groups=False` to exclude the groupings or explicitly select the grouping columns after groupby to silence this warning.\n",
      "  .apply(lambda g: compute_slope_of_feature(g, x_col=\"day\", y_col=feature))\n"
     ]
    },
    {
     "name": "stdout",
     "output_type": "stream",
     "text": [
      "\n",
      "FOR FEATURE:  mobility\n",
      "\n",
      "FOR FEATURE:  pc_depression\n"
     ]
    },
    {
     "name": "stderr",
     "output_type": "stream",
     "text": [
      "/var/folders/fh/rstwtx7j73b0zwzkyzktnnrh0000gn/T/ipykernel_54572/1590456300.py:44: DeprecationWarning: DataFrameGroupBy.apply operated on the grouping columns. This behavior is deprecated, and in a future version of pandas the grouping columns will be excluded from the operation. Either pass `include_groups=False` to exclude the groupings or explicitly select the grouping columns after groupby to silence this warning.\n",
      "  .apply(lambda g: compute_slope_of_feature(g, x_col=\"day\", y_col=feature))\n",
      "/var/folders/fh/rstwtx7j73b0zwzkyzktnnrh0000gn/T/ipykernel_54572/1590456300.py:59: DeprecationWarning: DataFrameGroupBy.apply operated on the grouping columns. This behavior is deprecated, and in a future version of pandas the grouping columns will be excluded from the operation. Either pass `include_groups=False` to exclude the groupings or explicitly select the grouping columns after groupby to silence this warning.\n",
      "  .apply(lambda g: compute_slope_of_feature(g, x_col=\"day\", y_col=feature))\n",
      "/var/folders/fh/rstwtx7j73b0zwzkyzktnnrh0000gn/T/ipykernel_54572/1590456300.py:44: DeprecationWarning: DataFrameGroupBy.apply operated on the grouping columns. This behavior is deprecated, and in a future version of pandas the grouping columns will be excluded from the operation. Either pass `include_groups=False` to exclude the groupings or explicitly select the grouping columns after groupby to silence this warning.\n",
      "  .apply(lambda g: compute_slope_of_feature(g, x_col=\"day\", y_col=feature))\n",
      "/var/folders/fh/rstwtx7j73b0zwzkyzktnnrh0000gn/T/ipykernel_54572/1590456300.py:59: DeprecationWarning: DataFrameGroupBy.apply operated on the grouping columns. This behavior is deprecated, and in a future version of pandas the grouping columns will be excluded from the operation. Either pass `include_groups=False` to exclude the groupings or explicitly select the grouping columns after groupby to silence this warning.\n",
      "  .apply(lambda g: compute_slope_of_feature(g, x_col=\"day\", y_col=feature))\n"
     ]
    },
    {
     "name": "stdout",
     "output_type": "stream",
     "text": [
      "\n",
      "FOR FEATURE:  sms_length\n",
      "\n",
      "FOR FEATURE:  phq2_2\n"
     ]
    },
    {
     "name": "stderr",
     "output_type": "stream",
     "text": [
      "/var/folders/fh/rstwtx7j73b0zwzkyzktnnrh0000gn/T/ipykernel_54572/1590456300.py:44: DeprecationWarning: DataFrameGroupBy.apply operated on the grouping columns. This behavior is deprecated, and in a future version of pandas the grouping columns will be excluded from the operation. Either pass `include_groups=False` to exclude the groupings or explicitly select the grouping columns after groupby to silence this warning.\n",
      "  .apply(lambda g: compute_slope_of_feature(g, x_col=\"day\", y_col=feature))\n",
      "/var/folders/fh/rstwtx7j73b0zwzkyzktnnrh0000gn/T/ipykernel_54572/1590456300.py:59: DeprecationWarning: DataFrameGroupBy.apply operated on the grouping columns. This behavior is deprecated, and in a future version of pandas the grouping columns will be excluded from the operation. Either pass `include_groups=False` to exclude the groupings or explicitly select the grouping columns after groupby to silence this warning.\n",
      "  .apply(lambda g: compute_slope_of_feature(g, x_col=\"day\", y_col=feature))\n",
      "/var/folders/fh/rstwtx7j73b0zwzkyzktnnrh0000gn/T/ipykernel_54572/1590456300.py:44: DeprecationWarning: DataFrameGroupBy.apply operated on the grouping columns. This behavior is deprecated, and in a future version of pandas the grouping columns will be excluded from the operation. Either pass `include_groups=False` to exclude the groupings or explicitly select the grouping columns after groupby to silence this warning.\n",
      "  .apply(lambda g: compute_slope_of_feature(g, x_col=\"day\", y_col=feature))\n",
      "/var/folders/fh/rstwtx7j73b0zwzkyzktnnrh0000gn/T/ipykernel_54572/1590456300.py:59: DeprecationWarning: DataFrameGroupBy.apply operated on the grouping columns. This behavior is deprecated, and in a future version of pandas the grouping columns will be excluded from the operation. Either pass `include_groups=False` to exclude the groupings or explicitly select the grouping columns after groupby to silence this warning.\n",
      "  .apply(lambda g: compute_slope_of_feature(g, x_col=\"day\", y_col=feature))\n"
     ]
    },
    {
     "name": "stdout",
     "output_type": "stream",
     "text": [
      "\n",
      "FOR FEATURE:  phq2_1\n",
      "\n",
      "FOR FEATURE:  aggregate_communication\n"
     ]
    },
    {
     "name": "stderr",
     "output_type": "stream",
     "text": [
      "/var/folders/fh/rstwtx7j73b0zwzkyzktnnrh0000gn/T/ipykernel_54572/1590456300.py:44: DeprecationWarning: DataFrameGroupBy.apply operated on the grouping columns. This behavior is deprecated, and in a future version of pandas the grouping columns will be excluded from the operation. Either pass `include_groups=False` to exclude the groupings or explicitly select the grouping columns after groupby to silence this warning.\n",
      "  .apply(lambda g: compute_slope_of_feature(g, x_col=\"day\", y_col=feature))\n",
      "/var/folders/fh/rstwtx7j73b0zwzkyzktnnrh0000gn/T/ipykernel_54572/1590456300.py:59: DeprecationWarning: DataFrameGroupBy.apply operated on the grouping columns. This behavior is deprecated, and in a future version of pandas the grouping columns will be excluded from the operation. Either pass `include_groups=False` to exclude the groupings or explicitly select the grouping columns after groupby to silence this warning.\n",
      "  .apply(lambda g: compute_slope_of_feature(g, x_col=\"day\", y_col=feature))\n",
      "/var/folders/fh/rstwtx7j73b0zwzkyzktnnrh0000gn/T/ipykernel_54572/1590456300.py:44: DeprecationWarning: DataFrameGroupBy.apply operated on the grouping columns. This behavior is deprecated, and in a future version of pandas the grouping columns will be excluded from the operation. Either pass `include_groups=False` to exclude the groupings or explicitly select the grouping columns after groupby to silence this warning.\n",
      "  .apply(lambda g: compute_slope_of_feature(g, x_col=\"day\", y_col=feature))\n",
      "/var/folders/fh/rstwtx7j73b0zwzkyzktnnrh0000gn/T/ipykernel_54572/1590456300.py:59: DeprecationWarning: DataFrameGroupBy.apply operated on the grouping columns. This behavior is deprecated, and in a future version of pandas the grouping columns will be excluded from the operation. Either pass `include_groups=False` to exclude the groupings or explicitly select the grouping columns after groupby to silence this warning.\n",
      "  .apply(lambda g: compute_slope_of_feature(g, x_col=\"day\", y_col=feature))\n"
     ]
    },
    {
     "name": "stdout",
     "output_type": "stream",
     "text": [
      "\n",
      "FOR FEATURE:  phq2_sum\n",
      "\n",
      "FOR FEATURE:  hours_of_sleep\n",
      "\n",
      "FOR FEATURE:  distance_powered_vehicle\n"
     ]
    },
    {
     "name": "stderr",
     "output_type": "stream",
     "text": [
      "/var/folders/fh/rstwtx7j73b0zwzkyzktnnrh0000gn/T/ipykernel_54572/1590456300.py:44: DeprecationWarning: DataFrameGroupBy.apply operated on the grouping columns. This behavior is deprecated, and in a future version of pandas the grouping columns will be excluded from the operation. Either pass `include_groups=False` to exclude the groupings or explicitly select the grouping columns after groupby to silence this warning.\n",
      "  .apply(lambda g: compute_slope_of_feature(g, x_col=\"day\", y_col=feature))\n",
      "/var/folders/fh/rstwtx7j73b0zwzkyzktnnrh0000gn/T/ipykernel_54572/1590456300.py:59: DeprecationWarning: DataFrameGroupBy.apply operated on the grouping columns. This behavior is deprecated, and in a future version of pandas the grouping columns will be excluded from the operation. Either pass `include_groups=False` to exclude the groupings or explicitly select the grouping columns after groupby to silence this warning.\n",
      "  .apply(lambda g: compute_slope_of_feature(g, x_col=\"day\", y_col=feature))\n",
      "/var/folders/fh/rstwtx7j73b0zwzkyzktnnrh0000gn/T/ipykernel_54572/1590456300.py:44: DeprecationWarning: DataFrameGroupBy.apply operated on the grouping columns. This behavior is deprecated, and in a future version of pandas the grouping columns will be excluded from the operation. Either pass `include_groups=False` to exclude the groupings or explicitly select the grouping columns after groupby to silence this warning.\n",
      "  .apply(lambda g: compute_slope_of_feature(g, x_col=\"day\", y_col=feature))\n",
      "/var/folders/fh/rstwtx7j73b0zwzkyzktnnrh0000gn/T/ipykernel_54572/1590456300.py:59: DeprecationWarning: DataFrameGroupBy.apply operated on the grouping columns. This behavior is deprecated, and in a future version of pandas the grouping columns will be excluded from the operation. Either pass `include_groups=False` to exclude the groupings or explicitly select the grouping columns after groupby to silence this warning.\n",
      "  .apply(lambda g: compute_slope_of_feature(g, x_col=\"day\", y_col=feature))\n",
      "/var/folders/fh/rstwtx7j73b0zwzkyzktnnrh0000gn/T/ipykernel_54572/1590456300.py:44: DeprecationWarning: DataFrameGroupBy.apply operated on the grouping columns. This behavior is deprecated, and in a future version of pandas the grouping columns will be excluded from the operation. Either pass `include_groups=False` to exclude the groupings or explicitly select the grouping columns after groupby to silence this warning.\n",
      "  .apply(lambda g: compute_slope_of_feature(g, x_col=\"day\", y_col=feature))\n",
      "/var/folders/fh/rstwtx7j73b0zwzkyzktnnrh0000gn/T/ipykernel_54572/1590456300.py:59: DeprecationWarning: DataFrameGroupBy.apply operated on the grouping columns. This behavior is deprecated, and in a future version of pandas the grouping columns will be excluded from the operation. Either pass `include_groups=False` to exclude the groupings or explicitly select the grouping columns after groupby to silence this warning.\n",
      "  .apply(lambda g: compute_slope_of_feature(g, x_col=\"day\", y_col=feature))\n"
     ]
    },
    {
     "name": "stdout",
     "output_type": "stream",
     "text": [
      "\n",
      "FOR FEATURE:  hours_active\n",
      "\n",
      "FOR FEATURE:  hours_stationary\n",
      "\n",
      "FOR FEATURE:  hours_stationary_nhw\n",
      "\n",
      "FOR FEATURE:  pc_sleep_hours\n"
     ]
    },
    {
     "name": "stderr",
     "output_type": "stream",
     "text": [
      "/var/folders/fh/rstwtx7j73b0zwzkyzktnnrh0000gn/T/ipykernel_54572/1590456300.py:44: DeprecationWarning: DataFrameGroupBy.apply operated on the grouping columns. This behavior is deprecated, and in a future version of pandas the grouping columns will be excluded from the operation. Either pass `include_groups=False` to exclude the groupings or explicitly select the grouping columns after groupby to silence this warning.\n",
      "  .apply(lambda g: compute_slope_of_feature(g, x_col=\"day\", y_col=feature))\n",
      "/var/folders/fh/rstwtx7j73b0zwzkyzktnnrh0000gn/T/ipykernel_54572/1590456300.py:59: DeprecationWarning: DataFrameGroupBy.apply operated on the grouping columns. This behavior is deprecated, and in a future version of pandas the grouping columns will be excluded from the operation. Either pass `include_groups=False` to exclude the groupings or explicitly select the grouping columns after groupby to silence this warning.\n",
      "  .apply(lambda g: compute_slope_of_feature(g, x_col=\"day\", y_col=feature))\n",
      "/var/folders/fh/rstwtx7j73b0zwzkyzktnnrh0000gn/T/ipykernel_54572/1590456300.py:44: DeprecationWarning: DataFrameGroupBy.apply operated on the grouping columns. This behavior is deprecated, and in a future version of pandas the grouping columns will be excluded from the operation. Either pass `include_groups=False` to exclude the groupings or explicitly select the grouping columns after groupby to silence this warning.\n",
      "  .apply(lambda g: compute_slope_of_feature(g, x_col=\"day\", y_col=feature))\n",
      "/var/folders/fh/rstwtx7j73b0zwzkyzktnnrh0000gn/T/ipykernel_54572/1590456300.py:59: DeprecationWarning: DataFrameGroupBy.apply operated on the grouping columns. This behavior is deprecated, and in a future version of pandas the grouping columns will be excluded from the operation. Either pass `include_groups=False` to exclude the groupings or explicitly select the grouping columns after groupby to silence this warning.\n",
      "  .apply(lambda g: compute_slope_of_feature(g, x_col=\"day\", y_col=feature))\n",
      "/var/folders/fh/rstwtx7j73b0zwzkyzktnnrh0000gn/T/ipykernel_54572/1590456300.py:44: DeprecationWarning: DataFrameGroupBy.apply operated on the grouping columns. This behavior is deprecated, and in a future version of pandas the grouping columns will be excluded from the operation. Either pass `include_groups=False` to exclude the groupings or explicitly select the grouping columns after groupby to silence this warning.\n",
      "  .apply(lambda g: compute_slope_of_feature(g, x_col=\"day\", y_col=feature))\n",
      "/var/folders/fh/rstwtx7j73b0zwzkyzktnnrh0000gn/T/ipykernel_54572/1590456300.py:59: DeprecationWarning: DataFrameGroupBy.apply operated on the grouping columns. This behavior is deprecated, and in a future version of pandas the grouping columns will be excluded from the operation. Either pass `include_groups=False` to exclude the groupings or explicitly select the grouping columns after groupby to silence this warning.\n",
      "  .apply(lambda g: compute_slope_of_feature(g, x_col=\"day\", y_col=feature))\n",
      "/var/folders/fh/rstwtx7j73b0zwzkyzktnnrh0000gn/T/ipykernel_54572/1590456300.py:44: DeprecationWarning: DataFrameGroupBy.apply operated on the grouping columns. This behavior is deprecated, and in a future version of pandas the grouping columns will be excluded from the operation. Either pass `include_groups=False` to exclude the groupings or explicitly select the grouping columns after groupby to silence this warning.\n",
      "  .apply(lambda g: compute_slope_of_feature(g, x_col=\"day\", y_col=feature))\n",
      "/var/folders/fh/rstwtx7j73b0zwzkyzktnnrh0000gn/T/ipykernel_54572/1590456300.py:59: DeprecationWarning: DataFrameGroupBy.apply operated on the grouping columns. This behavior is deprecated, and in a future version of pandas the grouping columns will be excluded from the operation. Either pass `include_groups=False` to exclude the groupings or explicitly select the grouping columns after groupby to silence this warning.\n",
      "  .apply(lambda g: compute_slope_of_feature(g, x_col=\"day\", y_col=feature))\n"
     ]
    },
    {
     "name": "stdout",
     "output_type": "stream",
     "text": [
      "\n",
      "FOR FEATURE:  pc_activity\n",
      "\n",
      "FOR FEATURE:  distance_active\n",
      "\n",
      "FOR FEATURE:  pc_stationary_hours\n",
      "\n",
      "FOR FEATURE:  distance_walking\n"
     ]
    },
    {
     "name": "stderr",
     "output_type": "stream",
     "text": [
      "/var/folders/fh/rstwtx7j73b0zwzkyzktnnrh0000gn/T/ipykernel_54572/1590456300.py:44: DeprecationWarning: DataFrameGroupBy.apply operated on the grouping columns. This behavior is deprecated, and in a future version of pandas the grouping columns will be excluded from the operation. Either pass `include_groups=False` to exclude the groupings or explicitly select the grouping columns after groupby to silence this warning.\n",
      "  .apply(lambda g: compute_slope_of_feature(g, x_col=\"day\", y_col=feature))\n",
      "/var/folders/fh/rstwtx7j73b0zwzkyzktnnrh0000gn/T/ipykernel_54572/1590456300.py:59: DeprecationWarning: DataFrameGroupBy.apply operated on the grouping columns. This behavior is deprecated, and in a future version of pandas the grouping columns will be excluded from the operation. Either pass `include_groups=False` to exclude the groupings or explicitly select the grouping columns after groupby to silence this warning.\n",
      "  .apply(lambda g: compute_slope_of_feature(g, x_col=\"day\", y_col=feature))\n",
      "/var/folders/fh/rstwtx7j73b0zwzkyzktnnrh0000gn/T/ipykernel_54572/1590456300.py:44: DeprecationWarning: DataFrameGroupBy.apply operated on the grouping columns. This behavior is deprecated, and in a future version of pandas the grouping columns will be excluded from the operation. Either pass `include_groups=False` to exclude the groupings or explicitly select the grouping columns after groupby to silence this warning.\n",
      "  .apply(lambda g: compute_slope_of_feature(g, x_col=\"day\", y_col=feature))\n",
      "/var/folders/fh/rstwtx7j73b0zwzkyzktnnrh0000gn/T/ipykernel_54572/1590456300.py:59: DeprecationWarning: DataFrameGroupBy.apply operated on the grouping columns. This behavior is deprecated, and in a future version of pandas the grouping columns will be excluded from the operation. Either pass `include_groups=False` to exclude the groupings or explicitly select the grouping columns after groupby to silence this warning.\n",
      "  .apply(lambda g: compute_slope_of_feature(g, x_col=\"day\", y_col=feature))\n",
      "/var/folders/fh/rstwtx7j73b0zwzkyzktnnrh0000gn/T/ipykernel_54572/1590456300.py:44: DeprecationWarning: DataFrameGroupBy.apply operated on the grouping columns. This behavior is deprecated, and in a future version of pandas the grouping columns will be excluded from the operation. Either pass `include_groups=False` to exclude the groupings or explicitly select the grouping columns after groupby to silence this warning.\n",
      "  .apply(lambda g: compute_slope_of_feature(g, x_col=\"day\", y_col=feature))\n",
      "/var/folders/fh/rstwtx7j73b0zwzkyzktnnrh0000gn/T/ipykernel_54572/1590456300.py:59: DeprecationWarning: DataFrameGroupBy.apply operated on the grouping columns. This behavior is deprecated, and in a future version of pandas the grouping columns will be excluded from the operation. Either pass `include_groups=False` to exclude the groupings or explicitly select the grouping columns after groupby to silence this warning.\n",
      "  .apply(lambda g: compute_slope_of_feature(g, x_col=\"day\", y_col=feature))\n",
      "/var/folders/fh/rstwtx7j73b0zwzkyzktnnrh0000gn/T/ipykernel_54572/1590456300.py:44: DeprecationWarning: DataFrameGroupBy.apply operated on the grouping columns. This behavior is deprecated, and in a future version of pandas the grouping columns will be excluded from the operation. Either pass `include_groups=False` to exclude the groupings or explicitly select the grouping columns after groupby to silence this warning.\n",
      "  .apply(lambda g: compute_slope_of_feature(g, x_col=\"day\", y_col=feature))\n",
      "/var/folders/fh/rstwtx7j73b0zwzkyzktnnrh0000gn/T/ipykernel_54572/1590456300.py:59: DeprecationWarning: DataFrameGroupBy.apply operated on the grouping columns. This behavior is deprecated, and in a future version of pandas the grouping columns will be excluded from the operation. Either pass `include_groups=False` to exclude the groupings or explicitly select the grouping columns after groupby to silence this warning.\n",
      "  .apply(lambda g: compute_slope_of_feature(g, x_col=\"day\", y_col=feature))\n",
      "/var/folders/fh/rstwtx7j73b0zwzkyzktnnrh0000gn/T/ipykernel_54572/1590456300.py:44: DeprecationWarning: DataFrameGroupBy.apply operated on the grouping columns. This behavior is deprecated, and in a future version of pandas the grouping columns will be excluded from the operation. Either pass `include_groups=False` to exclude the groupings or explicitly select the grouping columns after groupby to silence this warning.\n",
      "  .apply(lambda g: compute_slope_of_feature(g, x_col=\"day\", y_col=feature))\n",
      "/var/folders/fh/rstwtx7j73b0zwzkyzktnnrh0000gn/T/ipykernel_54572/1590456300.py:59: DeprecationWarning: DataFrameGroupBy.apply operated on the grouping columns. This behavior is deprecated, and in a future version of pandas the grouping columns will be excluded from the operation. Either pass `include_groups=False` to exclude the groupings or explicitly select the grouping columns after groupby to silence this warning.\n",
      "  .apply(lambda g: compute_slope_of_feature(g, x_col=\"day\", y_col=feature))\n",
      "/var/folders/fh/rstwtx7j73b0zwzkyzktnnrh0000gn/T/ipykernel_54572/1590456300.py:44: DeprecationWarning: DataFrameGroupBy.apply operated on the grouping columns. This behavior is deprecated, and in a future version of pandas the grouping columns will be excluded from the operation. Either pass `include_groups=False` to exclude the groupings or explicitly select the grouping columns after groupby to silence this warning.\n",
      "  .apply(lambda g: compute_slope_of_feature(g, x_col=\"day\", y_col=feature))\n",
      "/var/folders/fh/rstwtx7j73b0zwzkyzktnnrh0000gn/T/ipykernel_54572/1590456300.py:59: DeprecationWarning: DataFrameGroupBy.apply operated on the grouping columns. This behavior is deprecated, and in a future version of pandas the grouping columns will be excluded from the operation. Either pass `include_groups=False` to exclude the groupings or explicitly select the grouping columns after groupby to silence this warning.\n",
      "  .apply(lambda g: compute_slope_of_feature(g, x_col=\"day\", y_col=feature))\n",
      "/var/folders/fh/rstwtx7j73b0zwzkyzktnnrh0000gn/T/ipykernel_54572/1590456300.py:44: DeprecationWarning: DataFrameGroupBy.apply operated on the grouping columns. This behavior is deprecated, and in a future version of pandas the grouping columns will be excluded from the operation. Either pass `include_groups=False` to exclude the groupings or explicitly select the grouping columns after groupby to silence this warning.\n",
      "  .apply(lambda g: compute_slope_of_feature(g, x_col=\"day\", y_col=feature))\n",
      "/var/folders/fh/rstwtx7j73b0zwzkyzktnnrh0000gn/T/ipykernel_54572/1590456300.py:59: DeprecationWarning: DataFrameGroupBy.apply operated on the grouping columns. This behavior is deprecated, and in a future version of pandas the grouping columns will be excluded from the operation. Either pass `include_groups=False` to exclude the groupings or explicitly select the grouping columns after groupby to silence this warning.\n",
      "  .apply(lambda g: compute_slope_of_feature(g, x_col=\"day\", y_col=feature))\n"
     ]
    },
    {
     "name": "stdout",
     "output_type": "stream",
     "text": [
      "\n",
      "FOR FEATURE:  hours_powered_vehicle\n",
      "\n",
      "FOR FEATURE:  phq2_bin\n",
      "\n",
      "FOR FEATURE:  pc_vehicle\n",
      "\n",
      "FOR FEATURE:  phq2_2\n"
     ]
    },
    {
     "name": "stderr",
     "output_type": "stream",
     "text": [
      "/var/folders/fh/rstwtx7j73b0zwzkyzktnnrh0000gn/T/ipykernel_54572/1590456300.py:44: DeprecationWarning: DataFrameGroupBy.apply operated on the grouping columns. This behavior is deprecated, and in a future version of pandas the grouping columns will be excluded from the operation. Either pass `include_groups=False` to exclude the groupings or explicitly select the grouping columns after groupby to silence this warning.\n",
      "  .apply(lambda g: compute_slope_of_feature(g, x_col=\"day\", y_col=feature))\n",
      "/var/folders/fh/rstwtx7j73b0zwzkyzktnnrh0000gn/T/ipykernel_54572/1590456300.py:59: DeprecationWarning: DataFrameGroupBy.apply operated on the grouping columns. This behavior is deprecated, and in a future version of pandas the grouping columns will be excluded from the operation. Either pass `include_groups=False` to exclude the groupings or explicitly select the grouping columns after groupby to silence this warning.\n",
      "  .apply(lambda g: compute_slope_of_feature(g, x_col=\"day\", y_col=feature))\n",
      "/var/folders/fh/rstwtx7j73b0zwzkyzktnnrh0000gn/T/ipykernel_54572/1590456300.py:44: DeprecationWarning: DataFrameGroupBy.apply operated on the grouping columns. This behavior is deprecated, and in a future version of pandas the grouping columns will be excluded from the operation. Either pass `include_groups=False` to exclude the groupings or explicitly select the grouping columns after groupby to silence this warning.\n",
      "  .apply(lambda g: compute_slope_of_feature(g, x_col=\"day\", y_col=feature))\n",
      "/var/folders/fh/rstwtx7j73b0zwzkyzktnnrh0000gn/T/ipykernel_54572/1590456300.py:59: DeprecationWarning: DataFrameGroupBy.apply operated on the grouping columns. This behavior is deprecated, and in a future version of pandas the grouping columns will be excluded from the operation. Either pass `include_groups=False` to exclude the groupings or explicitly select the grouping columns after groupby to silence this warning.\n",
      "  .apply(lambda g: compute_slope_of_feature(g, x_col=\"day\", y_col=feature))\n",
      "/var/folders/fh/rstwtx7j73b0zwzkyzktnnrh0000gn/T/ipykernel_54572/1590456300.py:44: DeprecationWarning: DataFrameGroupBy.apply operated on the grouping columns. This behavior is deprecated, and in a future version of pandas the grouping columns will be excluded from the operation. Either pass `include_groups=False` to exclude the groupings or explicitly select the grouping columns after groupby to silence this warning.\n",
      "  .apply(lambda g: compute_slope_of_feature(g, x_col=\"day\", y_col=feature))\n",
      "/var/folders/fh/rstwtx7j73b0zwzkyzktnnrh0000gn/T/ipykernel_54572/1590456300.py:59: DeprecationWarning: DataFrameGroupBy.apply operated on the grouping columns. This behavior is deprecated, and in a future version of pandas the grouping columns will be excluded from the operation. Either pass `include_groups=False` to exclude the groupings or explicitly select the grouping columns after groupby to silence this warning.\n",
      "  .apply(lambda g: compute_slope_of_feature(g, x_col=\"day\", y_col=feature))\n",
      "/var/folders/fh/rstwtx7j73b0zwzkyzktnnrh0000gn/T/ipykernel_54572/1590456300.py:44: DeprecationWarning: DataFrameGroupBy.apply operated on the grouping columns. This behavior is deprecated, and in a future version of pandas the grouping columns will be excluded from the operation. Either pass `include_groups=False` to exclude the groupings or explicitly select the grouping columns after groupby to silence this warning.\n",
      "  .apply(lambda g: compute_slope_of_feature(g, x_col=\"day\", y_col=feature))\n"
     ]
    },
    {
     "name": "stdout",
     "output_type": "stream",
     "text": [
      "\n",
      "FOR FEATURE:  pc_depression\n",
      "\n",
      "FOR FEATURE:  hours_walking\n",
      "\n",
      "FOR FEATURE:  phq2_1\n"
     ]
    },
    {
     "name": "stderr",
     "output_type": "stream",
     "text": [
      "/var/folders/fh/rstwtx7j73b0zwzkyzktnnrh0000gn/T/ipykernel_54572/1590456300.py:59: DeprecationWarning: DataFrameGroupBy.apply operated on the grouping columns. This behavior is deprecated, and in a future version of pandas the grouping columns will be excluded from the operation. Either pass `include_groups=False` to exclude the groupings or explicitly select the grouping columns after groupby to silence this warning.\n",
      "  .apply(lambda g: compute_slope_of_feature(g, x_col=\"day\", y_col=feature))\n",
      "/var/folders/fh/rstwtx7j73b0zwzkyzktnnrh0000gn/T/ipykernel_54572/1590456300.py:44: DeprecationWarning: DataFrameGroupBy.apply operated on the grouping columns. This behavior is deprecated, and in a future version of pandas the grouping columns will be excluded from the operation. Either pass `include_groups=False` to exclude the groupings or explicitly select the grouping columns after groupby to silence this warning.\n",
      "  .apply(lambda g: compute_slope_of_feature(g, x_col=\"day\", y_col=feature))\n",
      "/var/folders/fh/rstwtx7j73b0zwzkyzktnnrh0000gn/T/ipykernel_54572/1590456300.py:59: DeprecationWarning: DataFrameGroupBy.apply operated on the grouping columns. This behavior is deprecated, and in a future version of pandas the grouping columns will be excluded from the operation. Either pass `include_groups=False` to exclude the groupings or explicitly select the grouping columns after groupby to silence this warning.\n",
      "  .apply(lambda g: compute_slope_of_feature(g, x_col=\"day\", y_col=feature))\n",
      "/var/folders/fh/rstwtx7j73b0zwzkyzktnnrh0000gn/T/ipykernel_54572/1590456300.py:44: DeprecationWarning: DataFrameGroupBy.apply operated on the grouping columns. This behavior is deprecated, and in a future version of pandas the grouping columns will be excluded from the operation. Either pass `include_groups=False` to exclude the groupings or explicitly select the grouping columns after groupby to silence this warning.\n",
      "  .apply(lambda g: compute_slope_of_feature(g, x_col=\"day\", y_col=feature))\n",
      "/var/folders/fh/rstwtx7j73b0zwzkyzktnnrh0000gn/T/ipykernel_54572/1590456300.py:59: DeprecationWarning: DataFrameGroupBy.apply operated on the grouping columns. This behavior is deprecated, and in a future version of pandas the grouping columns will be excluded from the operation. Either pass `include_groups=False` to exclude the groupings or explicitly select the grouping columns after groupby to silence this warning.\n",
      "  .apply(lambda g: compute_slope_of_feature(g, x_col=\"day\", y_col=feature))\n",
      "/var/folders/fh/rstwtx7j73b0zwzkyzktnnrh0000gn/T/ipykernel_54572/1590456300.py:44: DeprecationWarning: DataFrameGroupBy.apply operated on the grouping columns. This behavior is deprecated, and in a future version of pandas the grouping columns will be excluded from the operation. Either pass `include_groups=False` to exclude the groupings or explicitly select the grouping columns after groupby to silence this warning.\n",
      "  .apply(lambda g: compute_slope_of_feature(g, x_col=\"day\", y_col=feature))\n",
      "/var/folders/fh/rstwtx7j73b0zwzkyzktnnrh0000gn/T/ipykernel_54572/1590456300.py:59: DeprecationWarning: DataFrameGroupBy.apply operated on the grouping columns. This behavior is deprecated, and in a future version of pandas the grouping columns will be excluded from the operation. Either pass `include_groups=False` to exclude the groupings or explicitly select the grouping columns after groupby to silence this warning.\n",
      "  .apply(lambda g: compute_slope_of_feature(g, x_col=\"day\", y_col=feature))\n",
      "/var/folders/fh/rstwtx7j73b0zwzkyzktnnrh0000gn/T/ipykernel_54572/1590456300.py:44: DeprecationWarning: DataFrameGroupBy.apply operated on the grouping columns. This behavior is deprecated, and in a future version of pandas the grouping columns will be excluded from the operation. Either pass `include_groups=False` to exclude the groupings or explicitly select the grouping columns after groupby to silence this warning.\n",
      "  .apply(lambda g: compute_slope_of_feature(g, x_col=\"day\", y_col=feature))\n"
     ]
    },
    {
     "name": "stdout",
     "output_type": "stream",
     "text": [
      "\n",
      "FOR FEATURE:  hours_of_sleep\n",
      "\n",
      "FOR FEATURE:  distance_active\n",
      "\n",
      "FOR FEATURE:  phq9_9\n",
      "\n",
      "FOR FEATURE:  distance_powered_vehicle\n",
      "\n",
      "FOR FEATURE:  phq9_6\n",
      "\n",
      "FOR FEATURE:  pc_sleep_hours\n"
     ]
    },
    {
     "name": "stderr",
     "output_type": "stream",
     "text": [
      "/var/folders/fh/rstwtx7j73b0zwzkyzktnnrh0000gn/T/ipykernel_54572/1590456300.py:59: DeprecationWarning: DataFrameGroupBy.apply operated on the grouping columns. This behavior is deprecated, and in a future version of pandas the grouping columns will be excluded from the operation. Either pass `include_groups=False` to exclude the groupings or explicitly select the grouping columns after groupby to silence this warning.\n",
      "  .apply(lambda g: compute_slope_of_feature(g, x_col=\"day\", y_col=feature))\n",
      "/var/folders/fh/rstwtx7j73b0zwzkyzktnnrh0000gn/T/ipykernel_54572/1590456300.py:44: DeprecationWarning: DataFrameGroupBy.apply operated on the grouping columns. This behavior is deprecated, and in a future version of pandas the grouping columns will be excluded from the operation. Either pass `include_groups=False` to exclude the groupings or explicitly select the grouping columns after groupby to silence this warning.\n",
      "  .apply(lambda g: compute_slope_of_feature(g, x_col=\"day\", y_col=feature))\n",
      "/var/folders/fh/rstwtx7j73b0zwzkyzktnnrh0000gn/T/ipykernel_54572/1590456300.py:59: DeprecationWarning: DataFrameGroupBy.apply operated on the grouping columns. This behavior is deprecated, and in a future version of pandas the grouping columns will be excluded from the operation. Either pass `include_groups=False` to exclude the groupings or explicitly select the grouping columns after groupby to silence this warning.\n",
      "  .apply(lambda g: compute_slope_of_feature(g, x_col=\"day\", y_col=feature))\n",
      "/var/folders/fh/rstwtx7j73b0zwzkyzktnnrh0000gn/T/ipykernel_54572/1590456300.py:44: DeprecationWarning: DataFrameGroupBy.apply operated on the grouping columns. This behavior is deprecated, and in a future version of pandas the grouping columns will be excluded from the operation. Either pass `include_groups=False` to exclude the groupings or explicitly select the grouping columns after groupby to silence this warning.\n",
      "  .apply(lambda g: compute_slope_of_feature(g, x_col=\"day\", y_col=feature))\n",
      "/var/folders/fh/rstwtx7j73b0zwzkyzktnnrh0000gn/T/ipykernel_54572/1590456300.py:59: DeprecationWarning: DataFrameGroupBy.apply operated on the grouping columns. This behavior is deprecated, and in a future version of pandas the grouping columns will be excluded from the operation. Either pass `include_groups=False` to exclude the groupings or explicitly select the grouping columns after groupby to silence this warning.\n",
      "  .apply(lambda g: compute_slope_of_feature(g, x_col=\"day\", y_col=feature))\n",
      "/var/folders/fh/rstwtx7j73b0zwzkyzktnnrh0000gn/T/ipykernel_54572/1590456300.py:44: DeprecationWarning: DataFrameGroupBy.apply operated on the grouping columns. This behavior is deprecated, and in a future version of pandas the grouping columns will be excluded from the operation. Either pass `include_groups=False` to exclude the groupings or explicitly select the grouping columns after groupby to silence this warning.\n",
      "  .apply(lambda g: compute_slope_of_feature(g, x_col=\"day\", y_col=feature))\n",
      "/var/folders/fh/rstwtx7j73b0zwzkyzktnnrh0000gn/T/ipykernel_54572/1590456300.py:59: DeprecationWarning: DataFrameGroupBy.apply operated on the grouping columns. This behavior is deprecated, and in a future version of pandas the grouping columns will be excluded from the operation. Either pass `include_groups=False` to exclude the groupings or explicitly select the grouping columns after groupby to silence this warning.\n",
      "  .apply(lambda g: compute_slope_of_feature(g, x_col=\"day\", y_col=feature))\n",
      "/var/folders/fh/rstwtx7j73b0zwzkyzktnnrh0000gn/T/ipykernel_54572/1590456300.py:44: DeprecationWarning: DataFrameGroupBy.apply operated on the grouping columns. This behavior is deprecated, and in a future version of pandas the grouping columns will be excluded from the operation. Either pass `include_groups=False` to exclude the groupings or explicitly select the grouping columns after groupby to silence this warning.\n",
      "  .apply(lambda g: compute_slope_of_feature(g, x_col=\"day\", y_col=feature))\n",
      "/var/folders/fh/rstwtx7j73b0zwzkyzktnnrh0000gn/T/ipykernel_54572/1590456300.py:59: DeprecationWarning: DataFrameGroupBy.apply operated on the grouping columns. This behavior is deprecated, and in a future version of pandas the grouping columns will be excluded from the operation. Either pass `include_groups=False` to exclude the groupings or explicitly select the grouping columns after groupby to silence this warning.\n",
      "  .apply(lambda g: compute_slope_of_feature(g, x_col=\"day\", y_col=feature))\n",
      "/var/folders/fh/rstwtx7j73b0zwzkyzktnnrh0000gn/T/ipykernel_54572/1590456300.py:44: DeprecationWarning: DataFrameGroupBy.apply operated on the grouping columns. This behavior is deprecated, and in a future version of pandas the grouping columns will be excluded from the operation. Either pass `include_groups=False` to exclude the groupings or explicitly select the grouping columns after groupby to silence this warning.\n",
      "  .apply(lambda g: compute_slope_of_feature(g, x_col=\"day\", y_col=feature))\n",
      "/var/folders/fh/rstwtx7j73b0zwzkyzktnnrh0000gn/T/ipykernel_54572/1590456300.py:59: DeprecationWarning: DataFrameGroupBy.apply operated on the grouping columns. This behavior is deprecated, and in a future version of pandas the grouping columns will be excluded from the operation. Either pass `include_groups=False` to exclude the groupings or explicitly select the grouping columns after groupby to silence this warning.\n",
      "  .apply(lambda g: compute_slope_of_feature(g, x_col=\"day\", y_col=feature))\n",
      "/var/folders/fh/rstwtx7j73b0zwzkyzktnnrh0000gn/T/ipykernel_54572/1590456300.py:44: DeprecationWarning: DataFrameGroupBy.apply operated on the grouping columns. This behavior is deprecated, and in a future version of pandas the grouping columns will be excluded from the operation. Either pass `include_groups=False` to exclude the groupings or explicitly select the grouping columns after groupby to silence this warning.\n",
      "  .apply(lambda g: compute_slope_of_feature(g, x_col=\"day\", y_col=feature))\n",
      "/var/folders/fh/rstwtx7j73b0zwzkyzktnnrh0000gn/T/ipykernel_54572/1590456300.py:59: DeprecationWarning: DataFrameGroupBy.apply operated on the grouping columns. This behavior is deprecated, and in a future version of pandas the grouping columns will be excluded from the operation. Either pass `include_groups=False` to exclude the groupings or explicitly select the grouping columns after groupby to silence this warning.\n",
      "  .apply(lambda g: compute_slope_of_feature(g, x_col=\"day\", y_col=feature))\n",
      "/var/folders/fh/rstwtx7j73b0zwzkyzktnnrh0000gn/T/ipykernel_54572/1590456300.py:44: DeprecationWarning: DataFrameGroupBy.apply operated on the grouping columns. This behavior is deprecated, and in a future version of pandas the grouping columns will be excluded from the operation. Either pass `include_groups=False` to exclude the groupings or explicitly select the grouping columns after groupby to silence this warning.\n",
      "  .apply(lambda g: compute_slope_of_feature(g, x_col=\"day\", y_col=feature))\n"
     ]
    },
    {
     "name": "stdout",
     "output_type": "stream",
     "text": [
      "\n",
      "FOR FEATURE:  pc_stationary_hours\n",
      "\n",
      "FOR FEATURE:  pc_phq9_8\n",
      "\n",
      "FOR FEATURE:  phq9_4\n",
      "\n",
      "FOR FEATURE:  hours_walking\n",
      "\n",
      "FOR FEATURE:  phq9_5\n",
      "\n",
      "FOR FEATURE:  phq9_sum\n",
      "\n",
      "FOR FEATURE:  hours_stationary\n"
     ]
    },
    {
     "name": "stderr",
     "output_type": "stream",
     "text": [
      "/var/folders/fh/rstwtx7j73b0zwzkyzktnnrh0000gn/T/ipykernel_54572/1590456300.py:59: DeprecationWarning: DataFrameGroupBy.apply operated on the grouping columns. This behavior is deprecated, and in a future version of pandas the grouping columns will be excluded from the operation. Either pass `include_groups=False` to exclude the groupings or explicitly select the grouping columns after groupby to silence this warning.\n",
      "  .apply(lambda g: compute_slope_of_feature(g, x_col=\"day\", y_col=feature))\n",
      "/var/folders/fh/rstwtx7j73b0zwzkyzktnnrh0000gn/T/ipykernel_54572/1590456300.py:44: DeprecationWarning: DataFrameGroupBy.apply operated on the grouping columns. This behavior is deprecated, and in a future version of pandas the grouping columns will be excluded from the operation. Either pass `include_groups=False` to exclude the groupings or explicitly select the grouping columns after groupby to silence this warning.\n",
      "  .apply(lambda g: compute_slope_of_feature(g, x_col=\"day\", y_col=feature))\n",
      "/var/folders/fh/rstwtx7j73b0zwzkyzktnnrh0000gn/T/ipykernel_54572/1590456300.py:59: DeprecationWarning: DataFrameGroupBy.apply operated on the grouping columns. This behavior is deprecated, and in a future version of pandas the grouping columns will be excluded from the operation. Either pass `include_groups=False` to exclude the groupings or explicitly select the grouping columns after groupby to silence this warning.\n",
      "  .apply(lambda g: compute_slope_of_feature(g, x_col=\"day\", y_col=feature))\n",
      "/var/folders/fh/rstwtx7j73b0zwzkyzktnnrh0000gn/T/ipykernel_54572/1590456300.py:44: DeprecationWarning: DataFrameGroupBy.apply operated on the grouping columns. This behavior is deprecated, and in a future version of pandas the grouping columns will be excluded from the operation. Either pass `include_groups=False` to exclude the groupings or explicitly select the grouping columns after groupby to silence this warning.\n",
      "  .apply(lambda g: compute_slope_of_feature(g, x_col=\"day\", y_col=feature))\n",
      "/var/folders/fh/rstwtx7j73b0zwzkyzktnnrh0000gn/T/ipykernel_54572/1590456300.py:59: DeprecationWarning: DataFrameGroupBy.apply operated on the grouping columns. This behavior is deprecated, and in a future version of pandas the grouping columns will be excluded from the operation. Either pass `include_groups=False` to exclude the groupings or explicitly select the grouping columns after groupby to silence this warning.\n",
      "  .apply(lambda g: compute_slope_of_feature(g, x_col=\"day\", y_col=feature))\n",
      "/var/folders/fh/rstwtx7j73b0zwzkyzktnnrh0000gn/T/ipykernel_54572/1590456300.py:44: DeprecationWarning: DataFrameGroupBy.apply operated on the grouping columns. This behavior is deprecated, and in a future version of pandas the grouping columns will be excluded from the operation. Either pass `include_groups=False` to exclude the groupings or explicitly select the grouping columns after groupby to silence this warning.\n",
      "  .apply(lambda g: compute_slope_of_feature(g, x_col=\"day\", y_col=feature))\n",
      "/var/folders/fh/rstwtx7j73b0zwzkyzktnnrh0000gn/T/ipykernel_54572/1590456300.py:59: DeprecationWarning: DataFrameGroupBy.apply operated on the grouping columns. This behavior is deprecated, and in a future version of pandas the grouping columns will be excluded from the operation. Either pass `include_groups=False` to exclude the groupings or explicitly select the grouping columns after groupby to silence this warning.\n",
      "  .apply(lambda g: compute_slope_of_feature(g, x_col=\"day\", y_col=feature))\n",
      "/var/folders/fh/rstwtx7j73b0zwzkyzktnnrh0000gn/T/ipykernel_54572/1590456300.py:44: DeprecationWarning: DataFrameGroupBy.apply operated on the grouping columns. This behavior is deprecated, and in a future version of pandas the grouping columns will be excluded from the operation. Either pass `include_groups=False` to exclude the groupings or explicitly select the grouping columns after groupby to silence this warning.\n",
      "  .apply(lambda g: compute_slope_of_feature(g, x_col=\"day\", y_col=feature))\n",
      "/var/folders/fh/rstwtx7j73b0zwzkyzktnnrh0000gn/T/ipykernel_54572/1590456300.py:59: DeprecationWarning: DataFrameGroupBy.apply operated on the grouping columns. This behavior is deprecated, and in a future version of pandas the grouping columns will be excluded from the operation. Either pass `include_groups=False` to exclude the groupings or explicitly select the grouping columns after groupby to silence this warning.\n",
      "  .apply(lambda g: compute_slope_of_feature(g, x_col=\"day\", y_col=feature))\n",
      "/var/folders/fh/rstwtx7j73b0zwzkyzktnnrh0000gn/T/ipykernel_54572/1590456300.py:44: DeprecationWarning: DataFrameGroupBy.apply operated on the grouping columns. This behavior is deprecated, and in a future version of pandas the grouping columns will be excluded from the operation. Either pass `include_groups=False` to exclude the groupings or explicitly select the grouping columns after groupby to silence this warning.\n",
      "  .apply(lambda g: compute_slope_of_feature(g, x_col=\"day\", y_col=feature))\n",
      "/var/folders/fh/rstwtx7j73b0zwzkyzktnnrh0000gn/T/ipykernel_54572/1590456300.py:59: DeprecationWarning: DataFrameGroupBy.apply operated on the grouping columns. This behavior is deprecated, and in a future version of pandas the grouping columns will be excluded from the operation. Either pass `include_groups=False` to exclude the groupings or explicitly select the grouping columns after groupby to silence this warning.\n",
      "  .apply(lambda g: compute_slope_of_feature(g, x_col=\"day\", y_col=feature))\n",
      "/var/folders/fh/rstwtx7j73b0zwzkyzktnnrh0000gn/T/ipykernel_54572/1590456300.py:44: DeprecationWarning: DataFrameGroupBy.apply operated on the grouping columns. This behavior is deprecated, and in a future version of pandas the grouping columns will be excluded from the operation. Either pass `include_groups=False` to exclude the groupings or explicitly select the grouping columns after groupby to silence this warning.\n",
      "  .apply(lambda g: compute_slope_of_feature(g, x_col=\"day\", y_col=feature))\n",
      "/var/folders/fh/rstwtx7j73b0zwzkyzktnnrh0000gn/T/ipykernel_54572/1590456300.py:59: DeprecationWarning: DataFrameGroupBy.apply operated on the grouping columns. This behavior is deprecated, and in a future version of pandas the grouping columns will be excluded from the operation. Either pass `include_groups=False` to exclude the groupings or explicitly select the grouping columns after groupby to silence this warning.\n",
      "  .apply(lambda g: compute_slope_of_feature(g, x_col=\"day\", y_col=feature))\n"
     ]
    },
    {
     "name": "stdout",
     "output_type": "stream",
     "text": [
      "\n",
      "FOR FEATURE:  phq9_8\n",
      "\n",
      "FOR FEATURE:  pc_activity\n",
      "\n",
      "FOR FEATURE:  phq9_3\n",
      "\n",
      "FOR FEATURE:  distance_walking\n",
      "\n",
      "FOR FEATURE:  hours_powered_vehicle\n",
      "\n",
      "FOR FEATURE:  phq9_1\n"
     ]
    },
    {
     "name": "stderr",
     "output_type": "stream",
     "text": [
      "/var/folders/fh/rstwtx7j73b0zwzkyzktnnrh0000gn/T/ipykernel_54572/1590456300.py:44: DeprecationWarning: DataFrameGroupBy.apply operated on the grouping columns. This behavior is deprecated, and in a future version of pandas the grouping columns will be excluded from the operation. Either pass `include_groups=False` to exclude the groupings or explicitly select the grouping columns after groupby to silence this warning.\n",
      "  .apply(lambda g: compute_slope_of_feature(g, x_col=\"day\", y_col=feature))\n",
      "/var/folders/fh/rstwtx7j73b0zwzkyzktnnrh0000gn/T/ipykernel_54572/1590456300.py:59: DeprecationWarning: DataFrameGroupBy.apply operated on the grouping columns. This behavior is deprecated, and in a future version of pandas the grouping columns will be excluded from the operation. Either pass `include_groups=False` to exclude the groupings or explicitly select the grouping columns after groupby to silence this warning.\n",
      "  .apply(lambda g: compute_slope_of_feature(g, x_col=\"day\", y_col=feature))\n",
      "/var/folders/fh/rstwtx7j73b0zwzkyzktnnrh0000gn/T/ipykernel_54572/1590456300.py:44: DeprecationWarning: DataFrameGroupBy.apply operated on the grouping columns. This behavior is deprecated, and in a future version of pandas the grouping columns will be excluded from the operation. Either pass `include_groups=False` to exclude the groupings or explicitly select the grouping columns after groupby to silence this warning.\n",
      "  .apply(lambda g: compute_slope_of_feature(g, x_col=\"day\", y_col=feature))\n",
      "/var/folders/fh/rstwtx7j73b0zwzkyzktnnrh0000gn/T/ipykernel_54572/1590456300.py:59: DeprecationWarning: DataFrameGroupBy.apply operated on the grouping columns. This behavior is deprecated, and in a future version of pandas the grouping columns will be excluded from the operation. Either pass `include_groups=False` to exclude the groupings or explicitly select the grouping columns after groupby to silence this warning.\n",
      "  .apply(lambda g: compute_slope_of_feature(g, x_col=\"day\", y_col=feature))\n",
      "/var/folders/fh/rstwtx7j73b0zwzkyzktnnrh0000gn/T/ipykernel_54572/1590456300.py:44: DeprecationWarning: DataFrameGroupBy.apply operated on the grouping columns. This behavior is deprecated, and in a future version of pandas the grouping columns will be excluded from the operation. Either pass `include_groups=False` to exclude the groupings or explicitly select the grouping columns after groupby to silence this warning.\n",
      "  .apply(lambda g: compute_slope_of_feature(g, x_col=\"day\", y_col=feature))\n",
      "/var/folders/fh/rstwtx7j73b0zwzkyzktnnrh0000gn/T/ipykernel_54572/1590456300.py:59: DeprecationWarning: DataFrameGroupBy.apply operated on the grouping columns. This behavior is deprecated, and in a future version of pandas the grouping columns will be excluded from the operation. Either pass `include_groups=False` to exclude the groupings or explicitly select the grouping columns after groupby to silence this warning.\n",
      "  .apply(lambda g: compute_slope_of_feature(g, x_col=\"day\", y_col=feature))\n",
      "/var/folders/fh/rstwtx7j73b0zwzkyzktnnrh0000gn/T/ipykernel_54572/1590456300.py:44: DeprecationWarning: DataFrameGroupBy.apply operated on the grouping columns. This behavior is deprecated, and in a future version of pandas the grouping columns will be excluded from the operation. Either pass `include_groups=False` to exclude the groupings or explicitly select the grouping columns after groupby to silence this warning.\n",
      "  .apply(lambda g: compute_slope_of_feature(g, x_col=\"day\", y_col=feature))\n",
      "/var/folders/fh/rstwtx7j73b0zwzkyzktnnrh0000gn/T/ipykernel_54572/1590456300.py:59: DeprecationWarning: DataFrameGroupBy.apply operated on the grouping columns. This behavior is deprecated, and in a future version of pandas the grouping columns will be excluded from the operation. Either pass `include_groups=False` to exclude the groupings or explicitly select the grouping columns after groupby to silence this warning.\n",
      "  .apply(lambda g: compute_slope_of_feature(g, x_col=\"day\", y_col=feature))\n"
     ]
    },
    {
     "name": "stdout",
     "output_type": "stream",
     "text": [
      "\n",
      "FOR FEATURE:  phq9_2\n",
      "\n",
      "FOR FEATURE:  pc_depression\n",
      "\n",
      "FOR FEATURE:  phq9_7\n",
      "\n",
      "FOR FEATURE:  pc_suicidality\n"
     ]
    },
    {
     "name": "stderr",
     "output_type": "stream",
     "text": [
      "/var/folders/fh/rstwtx7j73b0zwzkyzktnnrh0000gn/T/ipykernel_54572/1590456300.py:44: DeprecationWarning: DataFrameGroupBy.apply operated on the grouping columns. This behavior is deprecated, and in a future version of pandas the grouping columns will be excluded from the operation. Either pass `include_groups=False` to exclude the groupings or explicitly select the grouping columns after groupby to silence this warning.\n",
      "  .apply(lambda g: compute_slope_of_feature(g, x_col=\"day\", y_col=feature))\n",
      "/var/folders/fh/rstwtx7j73b0zwzkyzktnnrh0000gn/T/ipykernel_54572/1590456300.py:59: DeprecationWarning: DataFrameGroupBy.apply operated on the grouping columns. This behavior is deprecated, and in a future version of pandas the grouping columns will be excluded from the operation. Either pass `include_groups=False` to exclude the groupings or explicitly select the grouping columns after groupby to silence this warning.\n",
      "  .apply(lambda g: compute_slope_of_feature(g, x_col=\"day\", y_col=feature))\n",
      "/var/folders/fh/rstwtx7j73b0zwzkyzktnnrh0000gn/T/ipykernel_54572/1590456300.py:44: DeprecationWarning: DataFrameGroupBy.apply operated on the grouping columns. This behavior is deprecated, and in a future version of pandas the grouping columns will be excluded from the operation. Either pass `include_groups=False` to exclude the groupings or explicitly select the grouping columns after groupby to silence this warning.\n",
      "  .apply(lambda g: compute_slope_of_feature(g, x_col=\"day\", y_col=feature))\n",
      "/var/folders/fh/rstwtx7j73b0zwzkyzktnnrh0000gn/T/ipykernel_54572/1590456300.py:59: DeprecationWarning: DataFrameGroupBy.apply operated on the grouping columns. This behavior is deprecated, and in a future version of pandas the grouping columns will be excluded from the operation. Either pass `include_groups=False` to exclude the groupings or explicitly select the grouping columns after groupby to silence this warning.\n",
      "  .apply(lambda g: compute_slope_of_feature(g, x_col=\"day\", y_col=feature))\n",
      "/var/folders/fh/rstwtx7j73b0zwzkyzktnnrh0000gn/T/ipykernel_54572/1590456300.py:44: DeprecationWarning: DataFrameGroupBy.apply operated on the grouping columns. This behavior is deprecated, and in a future version of pandas the grouping columns will be excluded from the operation. Either pass `include_groups=False` to exclude the groupings or explicitly select the grouping columns after groupby to silence this warning.\n",
      "  .apply(lambda g: compute_slope_of_feature(g, x_col=\"day\", y_col=feature))\n",
      "/var/folders/fh/rstwtx7j73b0zwzkyzktnnrh0000gn/T/ipykernel_54572/1590456300.py:59: DeprecationWarning: DataFrameGroupBy.apply operated on the grouping columns. This behavior is deprecated, and in a future version of pandas the grouping columns will be excluded from the operation. Either pass `include_groups=False` to exclude the groupings or explicitly select the grouping columns after groupby to silence this warning.\n",
      "  .apply(lambda g: compute_slope_of_feature(g, x_col=\"day\", y_col=feature))\n",
      "/var/folders/fh/rstwtx7j73b0zwzkyzktnnrh0000gn/T/ipykernel_54572/1590456300.py:44: DeprecationWarning: DataFrameGroupBy.apply operated on the grouping columns. This behavior is deprecated, and in a future version of pandas the grouping columns will be excluded from the operation. Either pass `include_groups=False` to exclude the groupings or explicitly select the grouping columns after groupby to silence this warning.\n",
      "  .apply(lambda g: compute_slope_of_feature(g, x_col=\"day\", y_col=feature))\n",
      "/var/folders/fh/rstwtx7j73b0zwzkyzktnnrh0000gn/T/ipykernel_54572/1590456300.py:59: DeprecationWarning: DataFrameGroupBy.apply operated on the grouping columns. This behavior is deprecated, and in a future version of pandas the grouping columns will be excluded from the operation. Either pass `include_groups=False` to exclude the groupings or explicitly select the grouping columns after groupby to silence this warning.\n",
      "  .apply(lambda g: compute_slope_of_feature(g, x_col=\"day\", y_col=feature))\n",
      "/var/folders/fh/rstwtx7j73b0zwzkyzktnnrh0000gn/T/ipykernel_54572/1590456300.py:44: DeprecationWarning: DataFrameGroupBy.apply operated on the grouping columns. This behavior is deprecated, and in a future version of pandas the grouping columns will be excluded from the operation. Either pass `include_groups=False` to exclude the groupings or explicitly select the grouping columns after groupby to silence this warning.\n",
      "  .apply(lambda g: compute_slope_of_feature(g, x_col=\"day\", y_col=feature))\n",
      "/var/folders/fh/rstwtx7j73b0zwzkyzktnnrh0000gn/T/ipykernel_54572/1590456300.py:59: DeprecationWarning: DataFrameGroupBy.apply operated on the grouping columns. This behavior is deprecated, and in a future version of pandas the grouping columns will be excluded from the operation. Either pass `include_groups=False` to exclude the groupings or explicitly select the grouping columns after groupby to silence this warning.\n",
      "  .apply(lambda g: compute_slope_of_feature(g, x_col=\"day\", y_col=feature))\n",
      "/var/folders/fh/rstwtx7j73b0zwzkyzktnnrh0000gn/T/ipykernel_54572/1590456300.py:44: DeprecationWarning: DataFrameGroupBy.apply operated on the grouping columns. This behavior is deprecated, and in a future version of pandas the grouping columns will be excluded from the operation. Either pass `include_groups=False` to exclude the groupings or explicitly select the grouping columns after groupby to silence this warning.\n",
      "  .apply(lambda g: compute_slope_of_feature(g, x_col=\"day\", y_col=feature))\n",
      "/var/folders/fh/rstwtx7j73b0zwzkyzktnnrh0000gn/T/ipykernel_54572/1590456300.py:59: DeprecationWarning: DataFrameGroupBy.apply operated on the grouping columns. This behavior is deprecated, and in a future version of pandas the grouping columns will be excluded from the operation. Either pass `include_groups=False` to exclude the groupings or explicitly select the grouping columns after groupby to silence this warning.\n",
      "  .apply(lambda g: compute_slope_of_feature(g, x_col=\"day\", y_col=feature))\n"
     ]
    },
    {
     "name": "stdout",
     "output_type": "stream",
     "text": [
      "\n",
      "FOR FEATURE:  hours_active\n",
      "\n",
      "FOR FEATURE:  hours_stationary_nhw\n",
      "\n",
      "FOR FEATURE:  phq9_bin\n",
      "\n",
      "FOR FEATURE:  phq9_cat\n",
      "\n",
      "FOR FEATURE:  phq2_sum\n"
     ]
    },
    {
     "name": "stderr",
     "output_type": "stream",
     "text": [
      "/var/folders/fh/rstwtx7j73b0zwzkyzktnnrh0000gn/T/ipykernel_54572/1590456300.py:44: DeprecationWarning: DataFrameGroupBy.apply operated on the grouping columns. This behavior is deprecated, and in a future version of pandas the grouping columns will be excluded from the operation. Either pass `include_groups=False` to exclude the groupings or explicitly select the grouping columns after groupby to silence this warning.\n",
      "  .apply(lambda g: compute_slope_of_feature(g, x_col=\"day\", y_col=feature))\n",
      "/var/folders/fh/rstwtx7j73b0zwzkyzktnnrh0000gn/T/ipykernel_54572/1590456300.py:59: DeprecationWarning: DataFrameGroupBy.apply operated on the grouping columns. This behavior is deprecated, and in a future version of pandas the grouping columns will be excluded from the operation. Either pass `include_groups=False` to exclude the groupings or explicitly select the grouping columns after groupby to silence this warning.\n",
      "  .apply(lambda g: compute_slope_of_feature(g, x_col=\"day\", y_col=feature))\n",
      "/var/folders/fh/rstwtx7j73b0zwzkyzktnnrh0000gn/T/ipykernel_54572/1590456300.py:44: DeprecationWarning: DataFrameGroupBy.apply operated on the grouping columns. This behavior is deprecated, and in a future version of pandas the grouping columns will be excluded from the operation. Either pass `include_groups=False` to exclude the groupings or explicitly select the grouping columns after groupby to silence this warning.\n",
      "  .apply(lambda g: compute_slope_of_feature(g, x_col=\"day\", y_col=feature))\n",
      "/var/folders/fh/rstwtx7j73b0zwzkyzktnnrh0000gn/T/ipykernel_54572/1590456300.py:59: DeprecationWarning: DataFrameGroupBy.apply operated on the grouping columns. This behavior is deprecated, and in a future version of pandas the grouping columns will be excluded from the operation. Either pass `include_groups=False` to exclude the groupings or explicitly select the grouping columns after groupby to silence this warning.\n",
      "  .apply(lambda g: compute_slope_of_feature(g, x_col=\"day\", y_col=feature))\n",
      "/var/folders/fh/rstwtx7j73b0zwzkyzktnnrh0000gn/T/ipykernel_54572/1590456300.py:44: DeprecationWarning: DataFrameGroupBy.apply operated on the grouping columns. This behavior is deprecated, and in a future version of pandas the grouping columns will be excluded from the operation. Either pass `include_groups=False` to exclude the groupings or explicitly select the grouping columns after groupby to silence this warning.\n",
      "  .apply(lambda g: compute_slope_of_feature(g, x_col=\"day\", y_col=feature))\n",
      "/var/folders/fh/rstwtx7j73b0zwzkyzktnnrh0000gn/T/ipykernel_54572/1590456300.py:59: DeprecationWarning: DataFrameGroupBy.apply operated on the grouping columns. This behavior is deprecated, and in a future version of pandas the grouping columns will be excluded from the operation. Either pass `include_groups=False` to exclude the groupings or explicitly select the grouping columns after groupby to silence this warning.\n",
      "  .apply(lambda g: compute_slope_of_feature(g, x_col=\"day\", y_col=feature))\n",
      "/var/folders/fh/rstwtx7j73b0zwzkyzktnnrh0000gn/T/ipykernel_54572/1590456300.py:44: DeprecationWarning: DataFrameGroupBy.apply operated on the grouping columns. This behavior is deprecated, and in a future version of pandas the grouping columns will be excluded from the operation. Either pass `include_groups=False` to exclude the groupings or explicitly select the grouping columns after groupby to silence this warning.\n",
      "  .apply(lambda g: compute_slope_of_feature(g, x_col=\"day\", y_col=feature))\n",
      "/var/folders/fh/rstwtx7j73b0zwzkyzktnnrh0000gn/T/ipykernel_54572/1590456300.py:59: DeprecationWarning: DataFrameGroupBy.apply operated on the grouping columns. This behavior is deprecated, and in a future version of pandas the grouping columns will be excluded from the operation. Either pass `include_groups=False` to exclude the groupings or explicitly select the grouping columns after groupby to silence this warning.\n",
      "  .apply(lambda g: compute_slope_of_feature(g, x_col=\"day\", y_col=feature))\n",
      "/var/folders/fh/rstwtx7j73b0zwzkyzktnnrh0000gn/T/ipykernel_54572/1590456300.py:44: DeprecationWarning: DataFrameGroupBy.apply operated on the grouping columns. This behavior is deprecated, and in a future version of pandas the grouping columns will be excluded from the operation. Either pass `include_groups=False` to exclude the groupings or explicitly select the grouping columns after groupby to silence this warning.\n",
      "  .apply(lambda g: compute_slope_of_feature(g, x_col=\"day\", y_col=feature))\n",
      "/var/folders/fh/rstwtx7j73b0zwzkyzktnnrh0000gn/T/ipykernel_54572/1590456300.py:59: DeprecationWarning: DataFrameGroupBy.apply operated on the grouping columns. This behavior is deprecated, and in a future version of pandas the grouping columns will be excluded from the operation. Either pass `include_groups=False` to exclude the groupings or explicitly select the grouping columns after groupby to silence this warning.\n",
      "  .apply(lambda g: compute_slope_of_feature(g, x_col=\"day\", y_col=feature))\n"
     ]
    },
    {
     "name": "stdout",
     "output_type": "stream",
     "text": [
      "\n",
      "FOR FEATURE:  hours_of_sleep\n",
      "\n",
      "FOR FEATURE:  distance_powered_vehicle\n",
      "\n",
      "FOR FEATURE:  hours_active\n",
      "\n",
      "FOR FEATURE:  hours_stationary\n",
      "\n",
      "FOR FEATURE:  hours_stationary_nhw\n"
     ]
    },
    {
     "name": "stderr",
     "output_type": "stream",
     "text": [
      "/var/folders/fh/rstwtx7j73b0zwzkyzktnnrh0000gn/T/ipykernel_54572/1590456300.py:44: DeprecationWarning: DataFrameGroupBy.apply operated on the grouping columns. This behavior is deprecated, and in a future version of pandas the grouping columns will be excluded from the operation. Either pass `include_groups=False` to exclude the groupings or explicitly select the grouping columns after groupby to silence this warning.\n",
      "  .apply(lambda g: compute_slope_of_feature(g, x_col=\"day\", y_col=feature))\n",
      "/var/folders/fh/rstwtx7j73b0zwzkyzktnnrh0000gn/T/ipykernel_54572/1590456300.py:59: DeprecationWarning: DataFrameGroupBy.apply operated on the grouping columns. This behavior is deprecated, and in a future version of pandas the grouping columns will be excluded from the operation. Either pass `include_groups=False` to exclude the groupings or explicitly select the grouping columns after groupby to silence this warning.\n",
      "  .apply(lambda g: compute_slope_of_feature(g, x_col=\"day\", y_col=feature))\n",
      "/var/folders/fh/rstwtx7j73b0zwzkyzktnnrh0000gn/T/ipykernel_54572/1590456300.py:44: DeprecationWarning: DataFrameGroupBy.apply operated on the grouping columns. This behavior is deprecated, and in a future version of pandas the grouping columns will be excluded from the operation. Either pass `include_groups=False` to exclude the groupings or explicitly select the grouping columns after groupby to silence this warning.\n",
      "  .apply(lambda g: compute_slope_of_feature(g, x_col=\"day\", y_col=feature))\n",
      "/var/folders/fh/rstwtx7j73b0zwzkyzktnnrh0000gn/T/ipykernel_54572/1590456300.py:59: DeprecationWarning: DataFrameGroupBy.apply operated on the grouping columns. This behavior is deprecated, and in a future version of pandas the grouping columns will be excluded from the operation. Either pass `include_groups=False` to exclude the groupings or explicitly select the grouping columns after groupby to silence this warning.\n",
      "  .apply(lambda g: compute_slope_of_feature(g, x_col=\"day\", y_col=feature))\n",
      "/var/folders/fh/rstwtx7j73b0zwzkyzktnnrh0000gn/T/ipykernel_54572/1590456300.py:44: DeprecationWarning: DataFrameGroupBy.apply operated on the grouping columns. This behavior is deprecated, and in a future version of pandas the grouping columns will be excluded from the operation. Either pass `include_groups=False` to exclude the groupings or explicitly select the grouping columns after groupby to silence this warning.\n",
      "  .apply(lambda g: compute_slope_of_feature(g, x_col=\"day\", y_col=feature))\n",
      "/var/folders/fh/rstwtx7j73b0zwzkyzktnnrh0000gn/T/ipykernel_54572/1590456300.py:59: DeprecationWarning: DataFrameGroupBy.apply operated on the grouping columns. This behavior is deprecated, and in a future version of pandas the grouping columns will be excluded from the operation. Either pass `include_groups=False` to exclude the groupings or explicitly select the grouping columns after groupby to silence this warning.\n",
      "  .apply(lambda g: compute_slope_of_feature(g, x_col=\"day\", y_col=feature))\n",
      "/var/folders/fh/rstwtx7j73b0zwzkyzktnnrh0000gn/T/ipykernel_54572/1590456300.py:44: DeprecationWarning: DataFrameGroupBy.apply operated on the grouping columns. This behavior is deprecated, and in a future version of pandas the grouping columns will be excluded from the operation. Either pass `include_groups=False` to exclude the groupings or explicitly select the grouping columns after groupby to silence this warning.\n",
      "  .apply(lambda g: compute_slope_of_feature(g, x_col=\"day\", y_col=feature))\n",
      "/var/folders/fh/rstwtx7j73b0zwzkyzktnnrh0000gn/T/ipykernel_54572/1590456300.py:59: DeprecationWarning: DataFrameGroupBy.apply operated on the grouping columns. This behavior is deprecated, and in a future version of pandas the grouping columns will be excluded from the operation. Either pass `include_groups=False` to exclude the groupings or explicitly select the grouping columns after groupby to silence this warning.\n",
      "  .apply(lambda g: compute_slope_of_feature(g, x_col=\"day\", y_col=feature))\n"
     ]
    },
    {
     "name": "stdout",
     "output_type": "stream",
     "text": [
      "\n",
      "FOR FEATURE:  pc_sleep_hours\n",
      "\n",
      "FOR FEATURE:  pc_activity\n",
      "\n",
      "FOR FEATURE:  distance_active\n",
      "\n",
      "FOR FEATURE:  pc_stationary_hours\n"
     ]
    },
    {
     "name": "stderr",
     "output_type": "stream",
     "text": [
      "/var/folders/fh/rstwtx7j73b0zwzkyzktnnrh0000gn/T/ipykernel_54572/1590456300.py:44: DeprecationWarning: DataFrameGroupBy.apply operated on the grouping columns. This behavior is deprecated, and in a future version of pandas the grouping columns will be excluded from the operation. Either pass `include_groups=False` to exclude the groupings or explicitly select the grouping columns after groupby to silence this warning.\n",
      "  .apply(lambda g: compute_slope_of_feature(g, x_col=\"day\", y_col=feature))\n",
      "/var/folders/fh/rstwtx7j73b0zwzkyzktnnrh0000gn/T/ipykernel_54572/1590456300.py:59: DeprecationWarning: DataFrameGroupBy.apply operated on the grouping columns. This behavior is deprecated, and in a future version of pandas the grouping columns will be excluded from the operation. Either pass `include_groups=False` to exclude the groupings or explicitly select the grouping columns after groupby to silence this warning.\n",
      "  .apply(lambda g: compute_slope_of_feature(g, x_col=\"day\", y_col=feature))\n",
      "/var/folders/fh/rstwtx7j73b0zwzkyzktnnrh0000gn/T/ipykernel_54572/1590456300.py:44: DeprecationWarning: DataFrameGroupBy.apply operated on the grouping columns. This behavior is deprecated, and in a future version of pandas the grouping columns will be excluded from the operation. Either pass `include_groups=False` to exclude the groupings or explicitly select the grouping columns after groupby to silence this warning.\n",
      "  .apply(lambda g: compute_slope_of_feature(g, x_col=\"day\", y_col=feature))\n",
      "/var/folders/fh/rstwtx7j73b0zwzkyzktnnrh0000gn/T/ipykernel_54572/1590456300.py:59: DeprecationWarning: DataFrameGroupBy.apply operated on the grouping columns. This behavior is deprecated, and in a future version of pandas the grouping columns will be excluded from the operation. Either pass `include_groups=False` to exclude the groupings or explicitly select the grouping columns after groupby to silence this warning.\n",
      "  .apply(lambda g: compute_slope_of_feature(g, x_col=\"day\", y_col=feature))\n",
      "/var/folders/fh/rstwtx7j73b0zwzkyzktnnrh0000gn/T/ipykernel_54572/1590456300.py:44: DeprecationWarning: DataFrameGroupBy.apply operated on the grouping columns. This behavior is deprecated, and in a future version of pandas the grouping columns will be excluded from the operation. Either pass `include_groups=False` to exclude the groupings or explicitly select the grouping columns after groupby to silence this warning.\n",
      "  .apply(lambda g: compute_slope_of_feature(g, x_col=\"day\", y_col=feature))\n",
      "/var/folders/fh/rstwtx7j73b0zwzkyzktnnrh0000gn/T/ipykernel_54572/1590456300.py:59: DeprecationWarning: DataFrameGroupBy.apply operated on the grouping columns. This behavior is deprecated, and in a future version of pandas the grouping columns will be excluded from the operation. Either pass `include_groups=False` to exclude the groupings or explicitly select the grouping columns after groupby to silence this warning.\n",
      "  .apply(lambda g: compute_slope_of_feature(g, x_col=\"day\", y_col=feature))\n",
      "/var/folders/fh/rstwtx7j73b0zwzkyzktnnrh0000gn/T/ipykernel_54572/1590456300.py:44: DeprecationWarning: DataFrameGroupBy.apply operated on the grouping columns. This behavior is deprecated, and in a future version of pandas the grouping columns will be excluded from the operation. Either pass `include_groups=False` to exclude the groupings or explicitly select the grouping columns after groupby to silence this warning.\n",
      "  .apply(lambda g: compute_slope_of_feature(g, x_col=\"day\", y_col=feature))\n"
     ]
    },
    {
     "name": "stdout",
     "output_type": "stream",
     "text": [
      "\n",
      "FOR FEATURE:  distance_walking\n",
      "\n",
      "FOR FEATURE:  hours_powered_vehicle\n",
      "\n",
      "FOR FEATURE:  phq2_bin\n"
     ]
    },
    {
     "name": "stderr",
     "output_type": "stream",
     "text": [
      "/var/folders/fh/rstwtx7j73b0zwzkyzktnnrh0000gn/T/ipykernel_54572/1590456300.py:59: DeprecationWarning: DataFrameGroupBy.apply operated on the grouping columns. This behavior is deprecated, and in a future version of pandas the grouping columns will be excluded from the operation. Either pass `include_groups=False` to exclude the groupings or explicitly select the grouping columns after groupby to silence this warning.\n",
      "  .apply(lambda g: compute_slope_of_feature(g, x_col=\"day\", y_col=feature))\n",
      "/var/folders/fh/rstwtx7j73b0zwzkyzktnnrh0000gn/T/ipykernel_54572/1590456300.py:44: DeprecationWarning: DataFrameGroupBy.apply operated on the grouping columns. This behavior is deprecated, and in a future version of pandas the grouping columns will be excluded from the operation. Either pass `include_groups=False` to exclude the groupings or explicitly select the grouping columns after groupby to silence this warning.\n",
      "  .apply(lambda g: compute_slope_of_feature(g, x_col=\"day\", y_col=feature))\n",
      "/var/folders/fh/rstwtx7j73b0zwzkyzktnnrh0000gn/T/ipykernel_54572/1590456300.py:59: DeprecationWarning: DataFrameGroupBy.apply operated on the grouping columns. This behavior is deprecated, and in a future version of pandas the grouping columns will be excluded from the operation. Either pass `include_groups=False` to exclude the groupings or explicitly select the grouping columns after groupby to silence this warning.\n",
      "  .apply(lambda g: compute_slope_of_feature(g, x_col=\"day\", y_col=feature))\n",
      "/var/folders/fh/rstwtx7j73b0zwzkyzktnnrh0000gn/T/ipykernel_54572/1590456300.py:44: DeprecationWarning: DataFrameGroupBy.apply operated on the grouping columns. This behavior is deprecated, and in a future version of pandas the grouping columns will be excluded from the operation. Either pass `include_groups=False` to exclude the groupings or explicitly select the grouping columns after groupby to silence this warning.\n",
      "  .apply(lambda g: compute_slope_of_feature(g, x_col=\"day\", y_col=feature))\n",
      "/var/folders/fh/rstwtx7j73b0zwzkyzktnnrh0000gn/T/ipykernel_54572/1590456300.py:59: DeprecationWarning: DataFrameGroupBy.apply operated on the grouping columns. This behavior is deprecated, and in a future version of pandas the grouping columns will be excluded from the operation. Either pass `include_groups=False` to exclude the groupings or explicitly select the grouping columns after groupby to silence this warning.\n",
      "  .apply(lambda g: compute_slope_of_feature(g, x_col=\"day\", y_col=feature))\n",
      "/var/folders/fh/rstwtx7j73b0zwzkyzktnnrh0000gn/T/ipykernel_54572/1590456300.py:44: DeprecationWarning: DataFrameGroupBy.apply operated on the grouping columns. This behavior is deprecated, and in a future version of pandas the grouping columns will be excluded from the operation. Either pass `include_groups=False` to exclude the groupings or explicitly select the grouping columns after groupby to silence this warning.\n",
      "  .apply(lambda g: compute_slope_of_feature(g, x_col=\"day\", y_col=feature))\n",
      "/var/folders/fh/rstwtx7j73b0zwzkyzktnnrh0000gn/T/ipykernel_54572/1590456300.py:59: DeprecationWarning: DataFrameGroupBy.apply operated on the grouping columns. This behavior is deprecated, and in a future version of pandas the grouping columns will be excluded from the operation. Either pass `include_groups=False` to exclude the groupings or explicitly select the grouping columns after groupby to silence this warning.\n",
      "  .apply(lambda g: compute_slope_of_feature(g, x_col=\"day\", y_col=feature))\n",
      "/var/folders/fh/rstwtx7j73b0zwzkyzktnnrh0000gn/T/ipykernel_54572/1590456300.py:44: DeprecationWarning: DataFrameGroupBy.apply operated on the grouping columns. This behavior is deprecated, and in a future version of pandas the grouping columns will be excluded from the operation. Either pass `include_groups=False` to exclude the groupings or explicitly select the grouping columns after groupby to silence this warning.\n",
      "  .apply(lambda g: compute_slope_of_feature(g, x_col=\"day\", y_col=feature))\n",
      "/var/folders/fh/rstwtx7j73b0zwzkyzktnnrh0000gn/T/ipykernel_54572/1590456300.py:59: DeprecationWarning: DataFrameGroupBy.apply operated on the grouping columns. This behavior is deprecated, and in a future version of pandas the grouping columns will be excluded from the operation. Either pass `include_groups=False` to exclude the groupings or explicitly select the grouping columns after groupby to silence this warning.\n",
      "  .apply(lambda g: compute_slope_of_feature(g, x_col=\"day\", y_col=feature))\n"
     ]
    },
    {
     "name": "stdout",
     "output_type": "stream",
     "text": [
      "\n",
      "FOR FEATURE:  pc_vehicle\n",
      "\n",
      "FOR FEATURE:  phq2_2\n",
      "\n",
      "FOR FEATURE:  pc_depression\n",
      "\n",
      "FOR FEATURE:  hours_walking\n",
      "\n",
      "FOR FEATURE:  phq2_1\n"
     ]
    },
    {
     "name": "stderr",
     "output_type": "stream",
     "text": [
      "/var/folders/fh/rstwtx7j73b0zwzkyzktnnrh0000gn/T/ipykernel_54572/1590456300.py:44: DeprecationWarning: DataFrameGroupBy.apply operated on the grouping columns. This behavior is deprecated, and in a future version of pandas the grouping columns will be excluded from the operation. Either pass `include_groups=False` to exclude the groupings or explicitly select the grouping columns after groupby to silence this warning.\n",
      "  .apply(lambda g: compute_slope_of_feature(g, x_col=\"day\", y_col=feature))\n",
      "/var/folders/fh/rstwtx7j73b0zwzkyzktnnrh0000gn/T/ipykernel_54572/1590456300.py:59: DeprecationWarning: DataFrameGroupBy.apply operated on the grouping columns. This behavior is deprecated, and in a future version of pandas the grouping columns will be excluded from the operation. Either pass `include_groups=False` to exclude the groupings or explicitly select the grouping columns after groupby to silence this warning.\n",
      "  .apply(lambda g: compute_slope_of_feature(g, x_col=\"day\", y_col=feature))\n"
     ]
    }
   ],
   "source": [
    "### making features -- averaging of time data\n",
    "id_columns = ['dt','week','num_id','participant_id','day']\n",
    "\n",
    "\n",
    "\n",
    "for name in df_names:\n",
    "    df_pca_bin = pd.read_csv(os.path.join(brighten_dir, f'{name}_bin.csv'))\n",
    "    wide_df_pca_bin = pre.make_wide_df(df_pca_bin, id_columns, brighten_dir, f'wide_{name}_bin')\n",
    "\n",
    "\n",
    "\n"
   ]
  },
  {
   "cell_type": "code",
   "execution_count": null,
   "metadata": {},
   "outputs": [],
   "source": [
    "\n",
    "# Add binary\n",
    "for name in df_names:\n",
    "    df_pca_bin = pd.read_csv(os.path.join(brighten_dir, f'{name}_bin.csv'))\n",
    "    if 'day' in name:\n",
    "        df_pca_bin_day = pre.round_vars_phq2(df_pca_bin)\n",
    "        df_pca_bin_day = df_pca_bin_day.dropna()\n",
    "        df_pca_bin_day.to_csv(os.path.join(brighten_dir, f'{name}_bin.csv'))\n",
    "    if 'week' in name:\n",
    "        df_pca_bin_week = pre.round_vars_phq9(df_pca_bin)\n",
    "        df_pca_bin_week.to_csv(os.path.join(brighten_dir, f'{name}_bin.csv'))\n"
   ]
  },
  {
   "cell_type": "code",
   "execution_count": null,
   "metadata": {},
   "outputs": [],
   "source": [
    "id_columns = ['dt','week','num_id','participant_id','day']\n",
    "demo_clusters = pd.read_csv(os.path.join(brighten_dir, 'demo_clusters.csv'))\n",
    "\n",
    "# Merge in demographic clusters\n",
    "for name in df_names:\n",
    "    df_bin = pd.read_csv(os.path.join(brighten_dir, f'{name}_bin.csv'))\n",
    "    df_clusters = df_bin.merge(demo_clusters[['participant_id', 'Cluster']], on=['participant_id'], how='left')\n",
    "    df_clusters = df_clusters.merge(df_alldays_int70[['participant_id', 'phq9_base_cluster']], on=['participant_id'], how='left')\n",
    "    df_clusters = df_clusters.drop_duplicates().dropna()\n",
    "    df_clusters.to_csv(os.path.join(brighten_dir, f'wide_{name}_clusters.csv'))\n"
   ]
  },
  {
   "cell_type": "code",
   "execution_count": null,
   "metadata": {},
   "outputs": [],
   "source": []
  }
 ],
 "metadata": {
  "kernelspec": {
   "display_name": "Python 3",
   "language": "python",
   "name": "python3"
  },
  "language_info": {
   "codemirror_mode": {
    "name": "ipython",
    "version": 3
   },
   "file_extension": ".py",
   "mimetype": "text/x-python",
   "name": "python",
   "nbconvert_exporter": "python",
   "pygments_lexer": "ipython3",
   "version": "3.12.2"
  }
 },
 "nbformat": 4,
 "nbformat_minor": 2
}

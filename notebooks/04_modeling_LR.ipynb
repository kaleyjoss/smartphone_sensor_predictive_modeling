{
 "cells": [
  {
   "cell_type": "code",
   "execution_count": 46,
   "metadata": {},
   "outputs": [
    {
     "name": "stdout",
     "output_type": "stream",
     "text": [
      "/Users/demo/Library/CloudStorage/Box-Box/Holmes_lab_kaley/git_repos/hyperopt_repo/hyperopt/__init__.py\n"
     ]
    }
   ],
   "source": [
    "import sys\n",
    "import os\n",
    "import pandas as pd\n",
    "import matplotlib.pyplot as plt\n",
    "import importlib\n",
    "import pandas as pd\n",
    "import numpy as np\n",
    "import seaborn as sns\n",
    "import matplotlib.pyplot as plt\n",
    "from scipy.stats import randint, uniform\n",
    "import json\n",
    "\n",
    "from sklearn.pipeline import Pipeline\n",
    "from sklearn.preprocessing import OneHotEncoder, OrdinalEncoder, StandardScaler\n",
    "from sklearn.impute import SimpleImputer, KNNImputer\n",
    "from sklearn.base import BaseEstimator, TransformerMixin\n",
    "from sklearn.compose import ColumnTransformer\n",
    "from sklearn.model_selection import train_test_split, cross_val_score, RandomizedSearchCV, GridSearchCV, KFold\n",
    "from sklearn.linear_model import LogisticRegression, LinearRegression, SGDRegressor\n",
    "from sklearn.ensemble import RandomForestClassifier, AdaBoostClassifier, GradientBoostingClassifier, BaggingClassifier, RandomForestRegressor\n",
    "from sklearn.neighbors import KNeighborsClassifier, KNeighborsRegressor\n",
    "from sklearn.svm import LinearSVC, SVR\n",
    "from sklearn.tree import DecisionTreeClassifier, DecisionTreeRegressor\n",
    "from sklearn.metrics import ConfusionMatrixDisplay, f1_score, make_scorer, confusion_matrix, mean_squared_error, mean_absolute_error\n",
    "\n",
    "from statsmodels.stats.outliers_influence import variance_inflation_factor\n",
    "from statsmodels.tools.tools import add_constant\n",
    "\n",
    "from xgboost import XGBClassifier, XGBRegressor\n",
    "from catboost import CatBoostClassifier\n",
    "from catboost import Pool\n",
    "import catboost as cb\n",
    "from sklearn.model_selection import GridSearchCV\n",
    "from sklearn.model_selection import KFold\n",
    "from itertools import product,chain\n",
    "\n",
    "import plotly.express as px\n",
    "\n",
    "\n",
    "# Get the absolute path of the project root\n",
    "project_root = os.path.abspath(os.path.join(os.getcwd(), \"..\"))\n",
    "# Add project root to sys.path\n",
    "sys.path.append(project_root)\n",
    "# Define data directory\n",
    "brighten_dir = os.path.join(project_root, 'BRIGHTEN_data')\n",
    "\n",
    "# Import and reload my custom scripts\n",
    "from scripts import preprocessing as pre\n",
    "from scripts import visualization as vis\n",
    "from scripts import feature_selection as fs\n",
    "from scripts import clustering as cl\n",
    "from scripts import variables as var\n",
    "importlib.reload(pre)\n",
    "importlib.reload(vis)\n",
    "importlib.reload(fs)\n",
    "importlib.reload(cl)\n",
    "importlib.reload(var)\n",
    "\n",
    "\n",
    "# Import from cloned github repos\n",
    "import hyperopt\n",
    "print(hyperopt.__file__)\n",
    "from hyperopt import tpe, hp, fmin, STATUS_OK, Trials\n",
    "from hyperopt import tpe, hp, fmin, STATUS_OK, Trials\n",
    "import hyperopt.pyll.stochastic\n",
    "################ DEFINE column variables from data ###################\n",
    "from scripts.variables import id_columns, daily_cols_v1, daily_v2_common \n",
    "from scripts.variables import phq2_cols, phq9_cols, weekly_cols, passive_cols, survey_cols\n",
    "\n",
    "## Load in dfs scaled\n",
    "df_names = ['v1_day', 'v2_day', 'v1_week']\n",
    "df_pca = ['v1_day_pca', 'v1_week_pca']\n",
    "df_all = df_names + df_pca"
   ]
  },
  {
   "cell_type": "code",
   "execution_count": 5,
   "metadata": {},
   "outputs": [
    {
     "name": "stdout",
     "output_type": "stream",
     "text": [
      "0.0032143094652498094\n",
      "[[0.00429332 0.00113432 0.09436832]]\n",
      "[0.0440816]\n"
     ]
    }
   ],
   "source": [
    "#### Simple linear regression\n",
    "from sklearn.linear_model import LinearRegression\n",
    "# Step 1: Set x_cols to the various V1 PCs\n",
    "y_var = 'pc_depression_phq2'\n",
    "data = pd.read_csv(os.path.join(brighten_dir, 'v1_day_pca.csv'))\n",
    "#print(data.columns.to_list())\n",
    "results = pd.DataFrame()\n",
    "count=0\n",
    "x_cols = [col for col in data.columns.to_list() if 'pc_' in col and col!=y_var]\n",
    "y_col = [y_var]\n",
    "\n",
    "reg = LinearRegression().fit(data[x_cols], data[y_col])\n",
    "print(reg.score(data[x_cols], data[y_col]))\n",
    "print(reg.coef_)\n",
    "print(reg.intercept_)"
   ]
  },
  {
   "cell_type": "code",
   "execution_count": 9,
   "metadata": {},
   "outputs": [
    {
     "data": {
      "text/html": [
       "<div>\n",
       "<style scoped>\n",
       "    .dataframe tbody tr th:only-of-type {\n",
       "        vertical-align: middle;\n",
       "    }\n",
       "\n",
       "    .dataframe tbody tr th {\n",
       "        vertical-align: top;\n",
       "    }\n",
       "\n",
       "    .dataframe thead th {\n",
       "        text-align: right;\n",
       "    }\n",
       "</style>\n",
       "<table border=\"1\" class=\"dataframe\">\n",
       "  <thead>\n",
       "    <tr style=\"text-align: right;\">\n",
       "      <th></th>\n",
       "      <th>Unnamed: 0</th>\n",
       "      <th>mobility</th>\n",
       "      <th>mobility_radius</th>\n",
       "      <th>gender</th>\n",
       "      <th>age</th>\n",
       "      <th>aggregate_communication</th>\n",
       "      <th>call_count</th>\n",
       "      <th>interaction_diversity</th>\n",
       "      <th>missed_interactions</th>\n",
       "      <th>sms_count</th>\n",
       "      <th>unreturned_calls</th>\n",
       "      <th>phq2_1</th>\n",
       "      <th>phq2_2</th>\n",
       "      <th>phq2_sum</th>\n",
       "      <th>phq9_sum</th>\n",
       "      <th>num_id</th>\n",
       "    </tr>\n",
       "  </thead>\n",
       "  <tbody>\n",
       "    <tr>\n",
       "      <th>0</th>\n",
       "      <td>0</td>\n",
       "      <td>-1.922677</td>\n",
       "      <td>-0.844628</td>\n",
       "      <td>-0.607847</td>\n",
       "      <td>0.047498</td>\n",
       "      <td>-0.307222</td>\n",
       "      <td>-0.951653</td>\n",
       "      <td>-1.052668</td>\n",
       "      <td>-0.491618</td>\n",
       "      <td>-0.079512</td>\n",
       "      <td>-0.409568</td>\n",
       "      <td>-0.053653</td>\n",
       "      <td>-0.063443</td>\n",
       "      <td>-0.036595</td>\n",
       "      <td>0.484128</td>\n",
       "      <td>21.0</td>\n",
       "    </tr>\n",
       "    <tr>\n",
       "      <th>3</th>\n",
       "      <td>3</td>\n",
       "      <td>1.206361</td>\n",
       "      <td>0.807768</td>\n",
       "      <td>-0.607847</td>\n",
       "      <td>-1.467091</td>\n",
       "      <td>1.121347</td>\n",
       "      <td>-0.768855</td>\n",
       "      <td>-0.231999</td>\n",
       "      <td>-1.084741</td>\n",
       "      <td>1.197651</td>\n",
       "      <td>-0.861808</td>\n",
       "      <td>0.301431</td>\n",
       "      <td>-0.252726</td>\n",
       "      <td>0.056274</td>\n",
       "      <td>0.484128</td>\n",
       "      <td>22.0</td>\n",
       "    </tr>\n",
       "    <tr>\n",
       "      <th>4</th>\n",
       "      <td>4</td>\n",
       "      <td>-0.259382</td>\n",
       "      <td>0.046046</td>\n",
       "      <td>-0.607847</td>\n",
       "      <td>-1.467091</td>\n",
       "      <td>0.810392</td>\n",
       "      <td>-0.213791</td>\n",
       "      <td>-0.231999</td>\n",
       "      <td>-1.161496</td>\n",
       "      <td>0.900872</td>\n",
       "      <td>-1.253555</td>\n",
       "      <td>-0.390953</td>\n",
       "      <td>-0.536673</td>\n",
       "      <td>-0.473189</td>\n",
       "      <td>0.360830</td>\n",
       "      <td>22.0</td>\n",
       "    </tr>\n",
       "    <tr>\n",
       "      <th>5</th>\n",
       "      <td>5</td>\n",
       "      <td>-0.302232</td>\n",
       "      <td>-1.224821</td>\n",
       "      <td>-0.607847</td>\n",
       "      <td>-0.775707</td>\n",
       "      <td>0.823721</td>\n",
       "      <td>0.180032</td>\n",
       "      <td>0.167011</td>\n",
       "      <td>1.218648</td>\n",
       "      <td>0.891035</td>\n",
       "      <td>0.779964</td>\n",
       "      <td>-0.053653</td>\n",
       "      <td>-0.063443</td>\n",
       "      <td>-0.036595</td>\n",
       "      <td>0.700237</td>\n",
       "      <td>25.0</td>\n",
       "    </tr>\n",
       "    <tr>\n",
       "      <th>6</th>\n",
       "      <td>6</td>\n",
       "      <td>0.330737</td>\n",
       "      <td>-0.208479</td>\n",
       "      <td>-0.607847</td>\n",
       "      <td>-0.775707</td>\n",
       "      <td>0.875321</td>\n",
       "      <td>1.781806</td>\n",
       "      <td>1.056433</td>\n",
       "      <td>0.135854</td>\n",
       "      <td>0.728100</td>\n",
       "      <td>-0.861808</td>\n",
       "      <td>0.128563</td>\n",
       "      <td>0.115603</td>\n",
       "      <td>0.146194</td>\n",
       "      <td>0.224530</td>\n",
       "      <td>25.0</td>\n",
       "    </tr>\n",
       "    <tr>\n",
       "      <th>...</th>\n",
       "      <td>...</td>\n",
       "      <td>...</td>\n",
       "      <td>...</td>\n",
       "      <td>...</td>\n",
       "      <td>...</td>\n",
       "      <td>...</td>\n",
       "      <td>...</td>\n",
       "      <td>...</td>\n",
       "      <td>...</td>\n",
       "      <td>...</td>\n",
       "      <td>...</td>\n",
       "      <td>...</td>\n",
       "      <td>...</td>\n",
       "      <td>...</td>\n",
       "      <td>...</td>\n",
       "      <td>...</td>\n",
       "    </tr>\n",
       "    <tr>\n",
       "      <th>1018</th>\n",
       "      <td>1018</td>\n",
       "      <td>0.157073</td>\n",
       "      <td>-0.507615</td>\n",
       "      <td>-0.607847</td>\n",
       "      <td>-1.795339</td>\n",
       "      <td>0.232296</td>\n",
       "      <td>-0.024670</td>\n",
       "      <td>0.957066</td>\n",
       "      <td>1.647698</td>\n",
       "      <td>0.299811</td>\n",
       "      <td>2.236386</td>\n",
       "      <td>-0.383866</td>\n",
       "      <td>-0.152950</td>\n",
       "      <td>-0.248231</td>\n",
       "      <td>0.484128</td>\n",
       "      <td>2073.0</td>\n",
       "    </tr>\n",
       "    <tr>\n",
       "      <th>1019</th>\n",
       "      <td>1019</td>\n",
       "      <td>-0.143673</td>\n",
       "      <td>0.210471</td>\n",
       "      <td>-0.607847</td>\n",
       "      <td>-0.972134</td>\n",
       "      <td>1.091445</td>\n",
       "      <td>1.605735</td>\n",
       "      <td>1.104119</td>\n",
       "      <td>1.486059</td>\n",
       "      <td>1.006567</td>\n",
       "      <td>-1.253555</td>\n",
       "      <td>1.667924</td>\n",
       "      <td>1.812203</td>\n",
       "      <td>1.716680</td>\n",
       "      <td>0.700237</td>\n",
       "      <td>2074.0</td>\n",
       "    </tr>\n",
       "    <tr>\n",
       "      <th>1020</th>\n",
       "      <td>1020</td>\n",
       "      <td>-0.550205</td>\n",
       "      <td>1.232813</td>\n",
       "      <td>-0.607847</td>\n",
       "      <td>-0.972134</td>\n",
       "      <td>-0.288840</td>\n",
       "      <td>0.101785</td>\n",
       "      <td>0.206313</td>\n",
       "      <td>-0.827841</td>\n",
       "      <td>-0.211814</td>\n",
       "      <td>-0.801316</td>\n",
       "      <td>1.570230</td>\n",
       "      <td>1.532187</td>\n",
       "      <td>1.536794</td>\n",
       "      <td>0.224530</td>\n",
       "      <td>2074.0</td>\n",
       "    </tr>\n",
       "    <tr>\n",
       "      <th>1021</th>\n",
       "      <td>1021</td>\n",
       "      <td>1.130227</td>\n",
       "      <td>2.024079</td>\n",
       "      <td>-0.607847</td>\n",
       "      <td>-0.972134</td>\n",
       "      <td>1.017969</td>\n",
       "      <td>2.187381</td>\n",
       "      <td>0.931337</td>\n",
       "      <td>0.135854</td>\n",
       "      <td>0.788709</td>\n",
       "      <td>-0.861808</td>\n",
       "      <td>1.053466</td>\n",
       "      <td>0.812987</td>\n",
       "      <td>1.048135</td>\n",
       "      <td>0.143833</td>\n",
       "      <td>2074.0</td>\n",
       "    </tr>\n",
       "    <tr>\n",
       "      <th>1022</th>\n",
       "      <td>1022</td>\n",
       "      <td>-0.316519</td>\n",
       "      <td>-0.109203</td>\n",
       "      <td>-0.607847</td>\n",
       "      <td>-0.972134</td>\n",
       "      <td>0.435262</td>\n",
       "      <td>1.683982</td>\n",
       "      <td>0.337347</td>\n",
       "      <td>-0.025785</td>\n",
       "      <td>0.599280</td>\n",
       "      <td>0.327725</td>\n",
       "      <td>1.148407</td>\n",
       "      <td>1.117703</td>\n",
       "      <td>0.519805</td>\n",
       "      <td>0.318665</td>\n",
       "      <td>2074.0</td>\n",
       "    </tr>\n",
       "  </tbody>\n",
       "</table>\n",
       "<p>920 rows × 16 columns</p>\n",
       "</div>"
      ],
      "text/plain": [
       "      Unnamed: 0  mobility  mobility_radius    gender       age  \\\n",
       "0              0 -1.922677        -0.844628 -0.607847  0.047498   \n",
       "3              3  1.206361         0.807768 -0.607847 -1.467091   \n",
       "4              4 -0.259382         0.046046 -0.607847 -1.467091   \n",
       "5              5 -0.302232        -1.224821 -0.607847 -0.775707   \n",
       "6              6  0.330737        -0.208479 -0.607847 -0.775707   \n",
       "...          ...       ...              ...       ...       ...   \n",
       "1018        1018  0.157073        -0.507615 -0.607847 -1.795339   \n",
       "1019        1019 -0.143673         0.210471 -0.607847 -0.972134   \n",
       "1020        1020 -0.550205         1.232813 -0.607847 -0.972134   \n",
       "1021        1021  1.130227         2.024079 -0.607847 -0.972134   \n",
       "1022        1022 -0.316519        -0.109203 -0.607847 -0.972134   \n",
       "\n",
       "      aggregate_communication  call_count  interaction_diversity  \\\n",
       "0                   -0.307222   -0.951653              -1.052668   \n",
       "3                    1.121347   -0.768855              -0.231999   \n",
       "4                    0.810392   -0.213791              -0.231999   \n",
       "5                    0.823721    0.180032               0.167011   \n",
       "6                    0.875321    1.781806               1.056433   \n",
       "...                       ...         ...                    ...   \n",
       "1018                 0.232296   -0.024670               0.957066   \n",
       "1019                 1.091445    1.605735               1.104119   \n",
       "1020                -0.288840    0.101785               0.206313   \n",
       "1021                 1.017969    2.187381               0.931337   \n",
       "1022                 0.435262    1.683982               0.337347   \n",
       "\n",
       "      missed_interactions  sms_count  unreturned_calls    phq2_1    phq2_2  \\\n",
       "0               -0.491618  -0.079512         -0.409568 -0.053653 -0.063443   \n",
       "3               -1.084741   1.197651         -0.861808  0.301431 -0.252726   \n",
       "4               -1.161496   0.900872         -1.253555 -0.390953 -0.536673   \n",
       "5                1.218648   0.891035          0.779964 -0.053653 -0.063443   \n",
       "6                0.135854   0.728100         -0.861808  0.128563  0.115603   \n",
       "...                   ...        ...               ...       ...       ...   \n",
       "1018             1.647698   0.299811          2.236386 -0.383866 -0.152950   \n",
       "1019             1.486059   1.006567         -1.253555  1.667924  1.812203   \n",
       "1020            -0.827841  -0.211814         -0.801316  1.570230  1.532187   \n",
       "1021             0.135854   0.788709         -0.861808  1.053466  0.812987   \n",
       "1022            -0.025785   0.599280          0.327725  1.148407  1.117703   \n",
       "\n",
       "      phq2_sum  phq9_sum  num_id  \n",
       "0    -0.036595  0.484128    21.0  \n",
       "3     0.056274  0.484128    22.0  \n",
       "4    -0.473189  0.360830    22.0  \n",
       "5    -0.036595  0.700237    25.0  \n",
       "6     0.146194  0.224530    25.0  \n",
       "...        ...       ...     ...  \n",
       "1018 -0.248231  0.484128  2073.0  \n",
       "1019  1.716680  0.700237  2074.0  \n",
       "1020  1.536794  0.224530  2074.0  \n",
       "1021  1.048135  0.143833  2074.0  \n",
       "1022  0.519805  0.318665  2074.0  \n",
       "\n",
       "[920 rows x 16 columns]"
      ]
     },
     "metadata": {},
     "output_type": "display_data"
    },
    {
     "name": "stdout",
     "output_type": "stream",
     "text": [
      "Relationship to y_col phq9_sum, Nested Linear Regression on \"num_id\"\n",
      "           Mixed Linear Model Regression Results\n",
      "===========================================================\n",
      "Model:              MixedLM  Dependent Variable:  phq9_sum \n",
      "No. Observations:   920      Method:              REML     \n",
      "No. Groups:         200      Scale:               0.3427   \n",
      "Min. group size:    1        Log-Likelihood:      -939.4623\n",
      "Max. group size:    8        Converged:           Yes      \n",
      "Mean group size:    4.6                                    \n",
      "-----------------------------------------------------------\n",
      "                 Coef.  Std.Err.   z    P>|z| [0.025 0.975]\n",
      "-----------------------------------------------------------\n",
      "Intercept         0.041    0.037  1.120 0.263 -0.031  0.114\n",
      "mobility         -0.061    0.027 -2.305 0.021 -0.113 -0.009\n",
      "sms_count         0.032    0.031  1.028 0.304 -0.029  0.094\n",
      "unreturned_calls -0.001    0.026 -0.038 0.970 -0.052  0.050\n",
      "phq2_sum          0.581    0.030 19.211 0.000  0.522  0.640\n",
      "Group Var         0.180    0.053                           \n",
      "===========================================================\n",
      "\n"
     ]
    }
   ],
   "source": [
    "######### Mixed LM Model V1 vs phq2_sum #########\n",
    "###### V1 PCs vs phq2_sum #########\n",
    "from statsmodels.regression.mixed_linear_model import MixedLM\n",
    "import statsmodels.api as sm\n",
    "import statsmodels.formula.api as smf\n",
    "\n",
    "ignore_cols = ['num_id', 'dt', 'week', 'day']\n",
    "y_var = 'phq9_sum'\n",
    "data = pd.read_csv(os.path.join(brighten_dir, 'v1_week_imp.csv'))\n",
    "results = pd.DataFrame()\n",
    "count = 0\n",
    "x_cols = [col for col in data.columns.to_list() if 'phq9' not in col and col not in ignore_cols]\n",
    "data_full = data[x_cols + [y_var, 'num_id']].copy().dropna()\n",
    "data_full[\"num_id\"] = data_full[\"num_id\"].astype(\"category\")\n",
    "display(data_full)\n",
    "from statsmodels.stats.outliers_influence import variance_inflation_factor\n",
    "import pandas as pd\n",
    "\n",
    "model = smf.mixedlm(f\"{y_var} ~ mobility  + sms_count + unreturned_calls + phq2_sum\", \n",
    "                    data=data_full, \n",
    "                    groups=data_full[\"num_id\"])\n",
    "result = model.fit()\n",
    "print(f'Relationship to y_col {y_var}, Nested Linear Regression on \"num_id\"')\n",
    "print(result.summary())\n",
    "\n"
   ]
  },
  {
   "cell_type": "markdown",
   "metadata": {},
   "source": [
    "### Model Selection - Classfication\n",
    "\n",
    "We'll start by using several of the most popular classifiers with default parameters and compare how well they perform to indentify which might be best to proceed with.\n"
   ]
  },
  {
   "cell_type": "code",
   "execution_count": 64,
   "metadata": {},
   "outputs": [],
   "source": [
    "from sklearn.linear_model import LogisticRegression\n",
    "from sklearn.neighbors import KNeighborsClassifier, KNeighborsRegressor\n",
    "from sklearn.tree import DecisionTreeClassifier, DecisionTreeRegressor\n",
    "from sklearn.ensemble import RandomForestClassifier, AdaBoostClassifier, GradientBoostingClassifier, BaggingClassifier\n",
    "from sklearn.ensemble import RandomForestRegressor, AdaBoostRegressor, GradientBoostingRegressor, BaggingRegressor\n",
    "from sklearn.svm import LinearSVC, LinearSVR\n",
    "from xgboost import XGBClassifier, XGBRegressor\n",
    "from catboost import CatBoostClassifier, CatBoostRegressor\n",
    "\n",
    "clfs = [\n",
    "    ('Logistic Regression', LogisticRegression(solver='liblinear', max_iter=2000)),\n",
    "    ('KNN', KNeighborsClassifier()),\n",
    "    ('Decision Tree', DecisionTreeClassifier()),\n",
    "    ('Random Forest', RandomForestClassifier(random_state=42)),\n",
    "    ('Linear SVM', LinearSVC(random_state=42, max_iter=1000, dual='auto')),\n",
    "    #('XGBoost', XGBClassifier(objective='reg:squarederror', random_state=42)),\n",
    "    ('AdaBoost', AdaBoostClassifier(random_state=42)),\n",
    "    ('Gradient Boost', GradientBoostingClassifier(random_state=42)),\n",
    "    ('Bagging', BaggingClassifier(random_state=42)),\n",
    "    ('CatBoost', CatBoostClassifier(random_state=42, verbose=0))\n",
    "]\n",
    "\n",
    "regs = [\n",
    "    ('Logistic Regression', LogisticRegression(solver='liblinear', max_iter=2000)),\n",
    "    ('KNN', KNeighborsRegressor()),\n",
    "    ('Decision Tree', DecisionTreeRegressor()),\n",
    "    ('Random Forest', RandomForestRegressor(random_state=42)),\n",
    "    ('Linear SVM', LinearSVR(random_state=42, max_iter=1000, dual='auto')),\n",
    "    #('XGBoost', XGBRegressor(objective='reg:squarederror', random_state=42)),\n",
    "    ('AdaBoost', AdaBoostRegressor(random_state=42)),\n",
    "    ('Gradient Boost', GradientBoostingRegressor(random_state=42)),\n",
    "    ('Bagging', BaggingRegressor(random_state=42)),\n",
    "    ('CatBoost', CatBoostRegressor(random_state=42, verbose=0))\n",
    "]\n",
    "\n"
   ]
  },
  {
   "cell_type": "markdown",
   "metadata": {},
   "source": [
    "We'll use cross-validation to get a better understanding of each models performance, rather than just a single test. Let's create a KFold object so we can use the same folds for each classifier.\n"
   ]
  },
  {
   "cell_type": "code",
   "execution_count": 58,
   "metadata": {},
   "outputs": [
    {
     "name": "stdout",
     "output_type": "stream",
     "text": [
      "id columns ignoring: ['num_id', 'dt', 'week', 'day', 'idx']\n",
      "X columns Index(['aggregate_communication', 'call_count', 'call_duration',\n",
      "       'interaction_diversity', 'mobility', 'mobility_radius', 'sms_count'],\n",
      "      dtype='object')\n",
      "X columns Index(['distance_walking_hr', 'distance_active_hr',\n",
      "       'distance_powered_vehicle_hr', 'hours_high_speed_transportation_hr',\n",
      "       'distance_high_speed_transportation_hr', 'hours_powered_vehicle_hr',\n",
      "       'hours_walking_hr', 'location_variance_hr', 'cloud_cover_mean',\n",
      "       'humidity_mean', 'temp_mean', 'dew_point_IQR', 'humidity_IQR',\n",
      "       'temp_IQR', 'cloud_cover_IQR', 'cloud_cover_std', 'dew_point_std',\n",
      "       'humidity_std', 'temp_std', 'cloud_cover_median', 'humidity_median',\n",
      "       'temp_median'],\n",
      "      dtype='object')\n",
      "X columns Index(['aggregate_communication', 'call_count', 'interaction_diversity',\n",
      "       'mobility', 'mobility_radius', 'sms_count', 'unreturned_calls'],\n",
      "      dtype='object')\n"
     ]
    }
   ],
   "source": [
    "print('id columns ignoring:',id_columns)\n",
    "for name in df_names:\n",
    "    results[name] = {}\n",
    "    X_train = pd.read_csv(os.path.join(brighten_dir, f'{name}_X_train.csv'))\n",
    "    y_train= pd.read_csv(os.path.join(brighten_dir, f'{name}_y_train.csv'))\n",
    "    \n",
    "    X_train_cleaned = X_train.drop(columns=[col for col in X_train.columns if col in id_columns or 'Unnamed' in col])\n",
    "    y_train_cleaned = y_train.drop(columns=[col for col in y_train.columns if 'Unnamed' in col]).squeeze()\n",
    "    print(f'X columns {X_train_cleaned.columns}')\n"
   ]
  },
  {
   "cell_type": "markdown",
   "metadata": {},
   "source": [
    "## Run the classifiers (binary variable targets-- V1 Day and V2 Day)"
   ]
  },
  {
   "cell_type": "code",
   "execution_count": 61,
   "metadata": {},
   "outputs": [],
   "source": [
    "results = {}\n",
    "for name in df_names:\n",
    "    if 'day' in name:\n",
    "        results[name] = {}\n",
    "        X_train = pd.read_csv(os.path.join(brighten_dir, f'{name}_X_train.csv'))\n",
    "        y_train= pd.read_csv(os.path.join(brighten_dir, f'{name}_y_train.csv'))\n",
    "\n",
    "        X_train_cleaned = X_train.drop(columns=[col for col in X_train.columns if col in id_columns or 'Unnamed' in col])\n",
    "        y_train_cleaned = y_train.drop(columns=[col for col in y_train.columns if 'Unnamed' in col]).squeeze()\n",
    "        # Create KFold object with 10 folds\n",
    "        kf = KFold(n_splits=10, shuffle=True, random_state=42)\n",
    "\n",
    "        # Evaluate each classifier using cross-validation\n",
    "        for clf_name, clf in clfs:\n",
    "            cv_scores = cross_val_score(clf, X_train_cleaned, y_train_cleaned, cv=kf)\n",
    "            results[name][clf_name] = cv_scores\n"
   ]
  },
  {
   "cell_type": "code",
   "execution_count": 62,
   "metadata": {},
   "outputs": [
    {
     "data": {
      "image/png": "[encoded data removed]",
      "text/plain": [
       "<Figure size 1400x800 with 1 Axes>"
      ]
     },
     "metadata": {},
     "output_type": "display_data"
    }
   ],
   "source": [
    "# Extract data to flattened df for plotting\n",
    "flat_results = []\n",
    "\n",
    "for dataset_name, clf_results in results.items():\n",
    "    for clf_name, scores in clf_results.items():\n",
    "        for score in scores:\n",
    "            flat_results.append({\n",
    "                'Dataset': dataset_name,\n",
    "                'Classifier': clf_name,\n",
    "                'Score': score\n",
    "            })\n",
    "\n",
    "results_df = pd.DataFrame(flat_results)\n",
    "\n",
    "plt.figure(figsize=(14, 8))\n",
    "sns.boxplot(x='Classifier', y='Score', hue='Dataset', data=results_df)\n",
    "plt.xticks(rotation=45)\n",
    "plt.title('Cross-Validation Scores by Classifier and Dataset')\n",
    "plt.show()\n"
   ]
  },
  {
   "cell_type": "code",
   "execution_count": 66,
   "metadata": {},
   "outputs": [
    {
     "name": "stdout",
     "output_type": "stream",
     "text": [
      "v1_week shape (838, 14)\n"
     ]
    },
    {
     "data": {
      "image/png": "[encoded data removed]",
      "text/plain": [
       "<Figure size 1400x800 with 1 Axes>"
      ]
     },
     "metadata": {},
     "output_type": "display_data"
    }
   ],
   "source": [
    "results = {}\n",
    "for name in df_names:\n",
    "    if 'v1_week' in name:\n",
    "        results[name] = {}\n",
    "        X_train = pd.read_csv(os.path.join(brighten_dir, f'{name}_X_train.csv'))\n",
    "        print(f'{name} shape {X_train.shape}')\n",
    "        y_train= pd.read_csv(os.path.join(brighten_dir, f'{name}_y_train.csv'))\n",
    "\n",
    "        X_train_cleaned = X_train.drop(columns=[col for col in X_train.columns if col in id_columns or 'Unnamed' in col])\n",
    "        y_train_cleaned = y_train.drop(columns=[col for col in y_train.columns if 'Unnamed' in col]).squeeze()\n",
    "        # Create KFold object with 10 folds\n",
    "        kf = KFold(n_splits=10, shuffle=True, random_state=42)\n",
    "\n",
    "        # Evaluate each classifier using cross-validation\n",
    "        for reg_name, reg in regs:\n",
    "            cv_scores = cross_val_score(reg, X_train_cleaned, y_train_cleaned, cv=kf)\n",
    "            results[name][reg_name] = cv_scores\n",
    "\n",
    "# Extract data to flattened df for plotting\n",
    "flat_results = []\n",
    "\n",
    "for dataset_name, reg_results in results.items():\n",
    "    for reg_name, scores in reg_results.items():\n",
    "        for score in scores:\n",
    "            flat_results.append({\n",
    "                'Dataset': dataset_name,\n",
    "                'Regressor': reg_name,\n",
    "                'Score': score\n",
    "            })\n",
    "\n",
    "results_df = pd.DataFrame(flat_results)\n",
    "\n",
    "plt.figure(figsize=(14, 8))\n",
    "sns.boxplot(x='Regressor', y='Score', hue='Dataset', data=results_df)\n",
    "plt.xticks(rotation=45)\n",
    "plt.title('Cross-Validation Scores by Regressor and Dataset')\n",
    "plt.show()\n"
   ]
  },
  {
   "cell_type": "markdown",
   "metadata": {},
   "source": [
    "## From this we can see many algorithms are doing well for the classifiers, and almost none for the regressors.\n",
    "\n",
    "Since we have much more data for V1 day than V2 day, and also have communication features in V1 day, it makes sense that it has a higher accuracy.\n",
    "Also, since V1 and V2 day both are binary classifiers, it makes sense they're doing better.\n",
    "\n",
    "We'll focus on the day classifiers, and on gradient boost, as it does well for both V1 day and V2 day."
   ]
  },
  {
   "cell_type": "code",
   "execution_count": 97,
   "metadata": {},
   "outputs": [
    {
     "name": "stdout",
     "output_type": "stream",
     "text": [
      "--- Dataset: v1_day ---\n",
      "{'best_params': {'subsample': 0.6138383838383838, 'n_estimators': 51, 'learning_rate': 0.05}, 'best_score': 0.673939393939394}\n",
      "--- Dataset: v2_day ---\n",
      "{'best_params': {'subsample': 0.9207070707070707, 'n_estimators': 146, 'learning_rate': 0.05}, 'best_score': 0.5548926014319809}\n",
      "--- Dataset: v1_week ---\n",
      "{'best_params': {'subsample': 0.6138383838383838, 'n_estimators': 51, 'learning_rate': 0.05}, 'best_score': 0.19523809523809524}\n"
     ]
    }
   ],
   "source": [
    "results = {}\n",
    "for name in df_names:\n",
    "    print(f\"--- Dataset: {name} ---\")\n",
    "    X_train_unclean = pd.read_csv(os.path.join(brighten_dir, f'{name}_X_train.csv'))\n",
    "    y_train_unclean = pd.read_csv(os.path.join(brighten_dir, f'{name}_y_train.csv'))\n",
    "    # test\n",
    "    X_test_unclean = pd.read_csv(os.path.join(brighten_dir, f'{name}_X_test.csv'))\n",
    "    y_test_unclean = pd.read_csv(os.path.join(brighten_dir, f'{name}_y_test.csv'))\n",
    "\n",
    "    X_train = X_train_unclean.drop(columns=[col for col in X_train_unclean.columns if col in id_columns or 'Unnamed' in col])\n",
    "    y_train = y_train_unclean.drop(columns=[col for col in y_train_unclean.columns if 'Unnamed' in col]).squeeze()\n",
    "    X_test = X_test_unclean.drop(columns=[col for col in X_test_unclean.columns if col in id_columns or 'Unnamed' in col])\n",
    "    y_test = y_test_unclean.drop(columns=[col for col in y_test_unclean.columns if 'Unnamed' in col]).squeeze()\n",
    "\n",
    "    # Define parameter grid based on dataset\n",
    "    if name == \"v1_day\":\n",
    "        param_grid = {\n",
    "                'n_estimators': [i for i in range(50, 200)],\n",
    "                'learning_rate': [round(x, 2) for x in np.arange(0.05, 1.05, 100)],\n",
    "                'subsample': [i for i in np.linspace(0.01, 0.99, 100)],\n",
    "            }\n",
    "    elif name == \"v2_day\":\n",
    "        param_grid = {\n",
    "                'n_estimators': [i for i in range(50, 200)],\n",
    "                'learning_rate': [round(x, 2) for x in np.arange(0.05, 1.05, 100)],\n",
    "                'subsample': [i for i in np.linspace(0.01, 0.99, 100)],\n",
    "            }\n",
    "\n",
    "    # Initialize the CatBoostClassifier\n",
    "    model = GradientBoostingClassifier(random_state=42, verbose=0)\n",
    "\n",
    "    # Perform grid search\n",
    "    grid = RandomizedSearchCV(\n",
    "        estimator=model,\n",
    "        param_distributions=param_grid,\n",
    "        n_iter=100,\n",
    "        scoring='accuracy',\n",
    "        n_jobs=-1,\n",
    "        random_state=42,\n",
    "        error_score='raise'\n",
    "    )\n",
    "\n",
    "    # Log best results\n",
    "    grid.fit(X_train, y_train)\n",
    "\n",
    "    best_params = grid.best_params_\n",
    "\n",
    "    final_model = GradientBoostingClassifier(**best_params, random_state=42)\n",
    "\n",
    "    final_model.fit(X_train, y_train)\n",
    "    score = final_model.score(X_test, y_test)\n",
    "\n",
    "    results[name] = {\n",
    "        \"best_params\": best_params,\n",
    "        \"best_score\": score\n",
    "        }\n",
    "\n",
    "    print(results[name])\n",
    "\n"
   ]
  },
  {
   "cell_type": "markdown",
   "metadata": {},
   "source": [
    "The best parameters for each model are saved into {name}_catboost_gridsearch_results.json. From this we've gotten the 'best parameters' found, as well as an accuracy score. We can use these accuracy scores to compare to the increases in accuracy from optimizing hyperparameters."
   ]
  },
  {
   "cell_type": "code",
   "execution_count": 98,
   "metadata": {},
   "outputs": [
    {
     "data": {
      "text/plain": [
       "{'v1_day': {'best_params': {'subsample': 0.6138383838383838,\n",
       "   'n_estimators': 51,\n",
       "   'learning_rate': 0.05},\n",
       "  'best_score': 0.673939393939394},\n",
       " 'v2_day': {'best_params': {'subsample': 0.9207070707070707,\n",
       "   'n_estimators': 146,\n",
       "   'learning_rate': 0.05},\n",
       "  'best_score': 0.5548926014319809},\n",
       " 'v1_week': {'best_params': {'subsample': 0.6138383838383838,\n",
       "   'n_estimators': 51,\n",
       "   'learning_rate': 0.05},\n",
       "  'best_score': 0.19523809523809524}}"
      ]
     },
     "execution_count": 98,
     "metadata": {},
     "output_type": "execute_result"
    }
   ],
   "source": [
    "results"
   ]
  },
  {
   "cell_type": "markdown",
   "metadata": {},
   "source": [
    "## more specified hyperparameter optimization\n",
    "From those parameter dicts we can make the parameter space smaller and more specifically find the optimal parameters for each aspect of the model. We'll use a random search still to decrease the compute time, but increase the iterations and decrease the ranges for each parameter.\n",
    "\n",
    "We can then use the optimized hyperparameters and evaluate the accuracy score of the final model.\n",
    "\n",
    "We'll use RMSE because we're interested in generally predicting the area of the depression score each subject is in."
   ]
  },
  {
   "cell_type": "code",
   "execution_count": 101,
   "metadata": {},
   "outputs": [
    {
     "name": "stdout",
     "output_type": "stream",
     "text": [
      "--- Dataset: v1_day ---\n",
      "{'best_params': {'subsample': 0.651503006012024, 'n_estimators': 52, 'learning_rate': 0.0001}, 'best_score': 0.673939393939394}\n",
      "--- Dataset: v2_day ---\n",
      "{'best_params': {'subsample': 0.999, 'n_estimators': 152, 'learning_rate': 0.0001}, 'best_score': 0.522673031026253}\n",
      "--- Dataset: v1_week ---\n",
      "{'best_params': {'subsample': 0.676753507014028, 'n_estimators': 52, 'learning_rate': 0.0001}, 'best_score': 0.24285714285714285}\n"
     ]
    }
   ],
   "source": [
    "optimized_results = {}\n",
    "for name in df_names:\n",
    "    print(f\"--- Dataset: {name} ---\")\n",
    "    X_train_unclean = pd.read_csv(os.path.join(brighten_dir, f'{name}_X_train.csv'))\n",
    "    y_train_unclean = pd.read_csv(os.path.join(brighten_dir, f'{name}_y_train.csv'))\n",
    "    # test\n",
    "    X_test_unclean = pd.read_csv(os.path.join(brighten_dir, f'{name}_X_test.csv'))\n",
    "    y_test_unclean = pd.read_csv(os.path.join(brighten_dir, f'{name}_y_test.csv'))\n",
    "\n",
    "    X_train = X_train_unclean.drop(columns=[col for col in X_train_unclean.columns if col in id_columns or 'Unnamed' in col])\n",
    "    y_train = y_train_unclean.drop(columns=[col for col in y_train_unclean.columns if 'Unnamed' in col]).squeeze()\n",
    "    X_test = X_test_unclean.drop(columns=[col for col in X_test_unclean.columns if col in id_columns or 'Unnamed' in col])\n",
    "    y_test = y_test_unclean.drop(columns=[col for col in y_test_unclean.columns if 'Unnamed' in col]).squeeze()\n",
    "\n",
    "    # Define parameter grid based on dataset\n",
    "    if name == \"v1_day\":\n",
    "        param_grid = {\n",
    "                'n_estimators': [i for i in range(40, 60)],\n",
    "                'learning_rate': [x for x in np.arange(0.0001, 0.3, 500)],\n",
    "                'subsample': [i for i in np.linspace(0.50, 0.80, 500)],\n",
    "            }\n",
    "    elif name == \"v2_day\":\n",
    "        param_grid = {\n",
    "                'n_estimators': [i for i in range(130, 160)],\n",
    "                'learning_rate': [x for x in np.arange(0.0001, 0.3, 500)],\n",
    "                'subsample': [i for i in np.linspace(0.75, 0.999, 500)],\n",
    "        }\n",
    "    elif name == \"v1_week\":\n",
    "        param_grid = {\n",
    "                'n_estimators': [i for i in range(40, 60)],\n",
    "                'learning_rate': [x for x in np.arange(0.0001, 0.3, 500)],\n",
    "                'subsample': [i for i in np.linspace(0.5, 0.85, 500)],\n",
    "        }\n",
    "    \n",
    "    # Initialize the CatBoostClassifier\n",
    "    model = GradientBoostingClassifier(random_state=42, verbose=0)\n",
    "\n",
    "    # Perform grid search\n",
    "    grid = RandomizedSearchCV(\n",
    "        estimator=model,\n",
    "        param_distributions=param_grid,\n",
    "        n_iter=500,\n",
    "        scoring='accuracy',\n",
    "        n_jobs=-1,\n",
    "        random_state=42\n",
    "    )\n",
    "\n",
    "    # Log best results\n",
    "    grid.fit(X_train, y_train)\n",
    "\n",
    "    best_params = grid.best_params_\n",
    "    optimized_results[name] = {\"best_params\": best_params}\n",
    "\n",
    "    final_model = GradientBoostingClassifier(**best_params, random_state=42)\n",
    "\n",
    "    final_model.fit(X_train, y_train)\n",
    "    score = final_model.score(X_test, y_test)\n",
    "\n",
    "    optimized_results[name] = {\n",
    "        \"best_params\": best_params,\n",
    "        \"best_score\": score\n",
    "        }\n",
    "\n",
    "    print(optimized_results[name])\n",
    "\n"
   ]
  },
  {
   "cell_type": "markdown",
   "metadata": {},
   "source": [
    "#### Increased random search results\n",
    "Now we can see the best parameters for each dataset, as well as the accuracy over all crossfolds. \n",
    "\n",
    "v1_day_predictions.json:\n",
    "{\n",
    "    \"accuracy\": 0.674\n",
    "}  \n",
    "\n",
    "v2_day_predictions.json:\n",
    "{\n",
    "    \"accuracy\": 0.523\n",
    "}  \n",
    "\n",
    "v1_week_predictions.json:\n",
    "{\n",
    "    \"accuracy\": 0.243\n",
    "}\n"
   ]
  },
  {
   "cell_type": "markdown",
   "metadata": {},
   "source": [
    "### Evaluating results\n",
    "We can now see the accuracy of each loosely-optimized hyperparameter model and increased-optimized hyperparameter model. We compare the accuracies in this below chart: "
   ]
  },
  {
   "cell_type": "code",
   "execution_count": 106,
   "metadata": {},
   "outputs": [
    {
     "data": {
      "application/vnd.plotly.v1+json": {
       "config": {
        "plotlyServerURL": "https://plot.ly"
       },
       "data": [
        {
         "alignmentgroup": "True",
         "hovertemplate": "model=loose_model<br>Dataset=%{x}<br>Accuracy Score=%{text}<extra></extra>",
         "legendgroup": "loose_model",
         "marker": {
          "color": "#636efa",
          "pattern": {
           "shape": ""
          }
         },
         "name": "loose_model",
         "offsetgroup": "loose_model",
         "orientation": "v",
         "showlegend": true,
         "text": [
          0.673939393939394,
          0.5548926014319809,
          0.19523809523809524
         ],
         "textposition": "auto",
         "type": "bar",
         "x": [
          "v1_day",
          "v2_day",
          "v1_week"
         ],
         "xaxis": "x",
         "y": [
          0.673939393939394,
          0.5548926014319809,
          0.19523809523809524
         ],
         "yaxis": "y"
        },
        {
         "alignmentgroup": "True",
         "hovertemplate": "model=optimized_model<br>Dataset=%{x}<br>Accuracy Score=%{text}<extra></extra>",
         "legendgroup": "optimized_model",
         "marker": {
          "color": "#EF553B",
          "pattern": {
           "shape": ""
          }
         },
         "name": "optimized_model",
         "offsetgroup": "optimized_model",
         "orientation": "v",
         "showlegend": true,
         "text": [
          0.673939393939394,
          0.522673031026253,
          0.24285714285714285
         ],
         "textposition": "auto",
         "type": "bar",
         "x": [
          "v1_day",
          "v2_day",
          "v1_week"
         ],
         "xaxis": "x",
         "y": [
          0.673939393939394,
          0.522673031026253,
          0.24285714285714285
         ],
         "yaxis": "y"
        }
       ],
       "layout": {
        "barmode": "group",
        "legend": {
         "title": {
          "text": "model"
         },
         "tracegroupgap": 0
        },
        "template": {
         "data": {
          "bar": [
           {
            "error_x": {
             "color": "#2a3f5f"
            },
            "error_y": {
             "color": "#2a3f5f"
            },
            "marker": {
             "line": {
              "color": "#E5ECF6",
              "width": 0.5
             },
             "pattern": {
              "fillmode": "overlay",
              "size": 10,
              "solidity": 0.2
             }
            },
            "type": "bar"
           }
          ],
          "barpolar": [
           {
            "marker": {
             "line": {
              "color": "#E5ECF6",
              "width": 0.5
             },
             "pattern": {
              "fillmode": "overlay",
              "size": 10,
              "solidity": 0.2
             }
            },
            "type": "barpolar"
           }
          ],
          "carpet": [
           {
            "aaxis": {
             "endlinecolor": "#2a3f5f",
             "gridcolor": "white",
             "linecolor": "white",
             "minorgridcolor": "white",
             "startlinecolor": "#2a3f5f"
            },
            "baxis": {
             "endlinecolor": "#2a3f5f",
             "gridcolor": "white",
             "linecolor": "white",
             "minorgridcolor": "white",
             "startlinecolor": "#2a3f5f"
            },
            "type": "carpet"
           }
          ],
          "choropleth": [
           {
            "colorbar": {
             "outlinewidth": 0,
             "ticks": ""
            },
            "type": "choropleth"
           }
          ],
          "contour": [
           {
            "colorbar": {
             "outlinewidth": 0,
             "ticks": ""
            },
            "colorscale": [
             [
              0,
              "#0d0887"
             ],
             [
              0.1111111111111111,
              "#46039f"
             ],
             [
              0.2222222222222222,
              "#7201a8"
             ],
             [
              0.3333333333333333,
              "#9c179e"
             ],
             [
              0.4444444444444444,
              "#bd3786"
             ],
             [
              0.5555555555555556,
              "#d8576b"
             ],
             [
              0.6666666666666666,
              "#ed7953"
             ],
             [
              0.7777777777777778,
              "#fb9f3a"
             ],
             [
              0.8888888888888888,
              "#fdca26"
             ],
             [
              1,
              "#f0f921"
             ]
            ],
            "type": "contour"
           }
          ],
          "contourcarpet": [
           {
            "colorbar": {
             "outlinewidth": 0,
             "ticks": ""
            },
            "type": "contourcarpet"
           }
          ],
          "heatmap": [
           {
            "colorbar": {
             "outlinewidth": 0,
             "ticks": ""
            },
            "colorscale": [
             [
              0,
              "#0d0887"
             ],
             [
              0.1111111111111111,
              "#46039f"
             ],
             [
              0.2222222222222222,
              "#7201a8"
             ],
             [
              0.3333333333333333,
              "#9c179e"
             ],
             [
              0.4444444444444444,
              "#bd3786"
             ],
             [
              0.5555555555555556,
              "#d8576b"
             ],
             [
              0.6666666666666666,
              "#ed7953"
             ],
             [
              0.7777777777777778,
              "#fb9f3a"
             ],
             [
              0.8888888888888888,
              "#fdca26"
             ],
             [
              1,
              "#f0f921"
             ]
            ],
            "type": "heatmap"
           }
          ],
          "histogram": [
           {
            "marker": {
             "pattern": {
              "fillmode": "overlay",
              "size": 10,
              "solidity": 0.2
             }
            },
            "type": "histogram"
           }
          ],
          "histogram2d": [
           {
            "colorbar": {
             "outlinewidth": 0,
             "ticks": ""
            },
            "colorscale": [
             [
              0,
              "#0d0887"
             ],
             [
              0.1111111111111111,
              "#46039f"
             ],
             [
              0.2222222222222222,
              "#7201a8"
             ],
             [
              0.3333333333333333,
              "#9c179e"
             ],
             [
              0.4444444444444444,
              "#bd3786"
             ],
             [
              0.5555555555555556,
              "#d8576b"
             ],
             [
              0.6666666666666666,
              "#ed7953"
             ],
             [
              0.7777777777777778,
              "#fb9f3a"
             ],
             [
              0.8888888888888888,
              "#fdca26"
             ],
             [
              1,
              "#f0f921"
             ]
            ],
            "type": "histogram2d"
           }
          ],
          "histogram2dcontour": [
           {
            "colorbar": {
             "outlinewidth": 0,
             "ticks": ""
            },
            "colorscale": [
             [
              0,
              "#0d0887"
             ],
             [
              0.1111111111111111,
              "#46039f"
             ],
             [
              0.2222222222222222,
              "#7201a8"
             ],
             [
              0.3333333333333333,
              "#9c179e"
             ],
             [
              0.4444444444444444,
              "#bd3786"
             ],
             [
              0.5555555555555556,
              "#d8576b"
             ],
             [
              0.6666666666666666,
              "#ed7953"
             ],
             [
              0.7777777777777778,
              "#fb9f3a"
             ],
             [
              0.8888888888888888,
              "#fdca26"
             ],
             [
              1,
              "#f0f921"
             ]
            ],
            "type": "histogram2dcontour"
           }
          ],
          "mesh3d": [
           {
            "colorbar": {
             "outlinewidth": 0,
             "ticks": ""
            },
            "type": "mesh3d"
           }
          ],
          "parcoords": [
           {
            "line": {
             "colorbar": {
              "outlinewidth": 0,
              "ticks": ""
             }
            },
            "type": "parcoords"
           }
          ],
          "pie": [
           {
            "automargin": true,
            "type": "pie"
           }
          ],
          "scatter": [
           {
            "fillpattern": {
             "fillmode": "overlay",
             "size": 10,
             "solidity": 0.2
            },
            "type": "scatter"
           }
          ],
          "scatter3d": [
           {
            "line": {
             "colorbar": {
              "outlinewidth": 0,
              "ticks": ""
             }
            },
            "marker": {
             "colorbar": {
              "outlinewidth": 0,
              "ticks": ""
             }
            },
            "type": "scatter3d"
           }
          ],
          "scattercarpet": [
           {
            "marker": {
             "colorbar": {
              "outlinewidth": 0,
              "ticks": ""
             }
            },
            "type": "scattercarpet"
           }
          ],
          "scattergeo": [
           {
            "marker": {
             "colorbar": {
              "outlinewidth": 0,
              "ticks": ""
             }
            },
            "type": "scattergeo"
           }
          ],
          "scattergl": [
           {
            "marker": {
             "colorbar": {
              "outlinewidth": 0,
              "ticks": ""
             }
            },
            "type": "scattergl"
           }
          ],
          "scattermap": [
           {
            "marker": {
             "colorbar": {
              "outlinewidth": 0,
              "ticks": ""
             }
            },
            "type": "scattermap"
           }
          ],
          "scattermapbox": [
           {
            "marker": {
             "colorbar": {
              "outlinewidth": 0,
              "ticks": ""
             }
            },
            "type": "scattermapbox"
           }
          ],
          "scatterpolar": [
           {
            "marker": {
             "colorbar": {
              "outlinewidth": 0,
              "ticks": ""
             }
            },
            "type": "scatterpolar"
           }
          ],
          "scatterpolargl": [
           {
            "marker": {
             "colorbar": {
              "outlinewidth": 0,
              "ticks": ""
             }
            },
            "type": "scatterpolargl"
           }
          ],
          "scatterternary": [
           {
            "marker": {
             "colorbar": {
              "outlinewidth": 0,
              "ticks": ""
             }
            },
            "type": "scatterternary"
           }
          ],
          "surface": [
           {
            "colorbar": {
             "outlinewidth": 0,
             "ticks": ""
            },
            "colorscale": [
             [
              0,
              "#0d0887"
             ],
             [
              0.1111111111111111,
              "#46039f"
             ],
             [
              0.2222222222222222,
              "#7201a8"
             ],
             [
              0.3333333333333333,
              "#9c179e"
             ],
             [
              0.4444444444444444,
              "#bd3786"
             ],
             [
              0.5555555555555556,
              "#d8576b"
             ],
             [
              0.6666666666666666,
              "#ed7953"
             ],
             [
              0.7777777777777778,
              "#fb9f3a"
             ],
             [
              0.8888888888888888,
              "#fdca26"
             ],
             [
              1,
              "#f0f921"
             ]
            ],
            "type": "surface"
           }
          ],
          "table": [
           {
            "cells": {
             "fill": {
              "color": "#EBF0F8"
             },
             "line": {
              "color": "white"
             }
            },
            "header": {
             "fill": {
              "color": "#C8D4E3"
             },
             "line": {
              "color": "white"
             }
            },
            "type": "table"
           }
          ]
         },
         "layout": {
          "annotationdefaults": {
           "arrowcolor": "#2a3f5f",
           "arrowhead": 0,
           "arrowwidth": 1
          },
          "autotypenumbers": "strict",
          "coloraxis": {
           "colorbar": {
            "outlinewidth": 0,
            "ticks": ""
           }
          },
          "colorscale": {
           "diverging": [
            [
             0,
             "#8e0152"
            ],
            [
             0.1,
             "#c51b7d"
            ],
            [
             0.2,
             "#de77ae"
            ],
            [
             0.3,
             "#f1b6da"
            ],
            [
             0.4,
             "#fde0ef"
            ],
            [
             0.5,
             "#f7f7f7"
            ],
            [
             0.6,
             "#e6f5d0"
            ],
            [
             0.7,
             "#b8e186"
            ],
            [
             0.8,
             "#7fbc41"
            ],
            [
             0.9,
             "#4d9221"
            ],
            [
             1,
             "#276419"
            ]
           ],
           "sequential": [
            [
             0,
             "#0d0887"
            ],
            [
             0.1111111111111111,
             "#46039f"
            ],
            [
             0.2222222222222222,
             "#7201a8"
            ],
            [
             0.3333333333333333,
             "#9c179e"
            ],
            [
             0.4444444444444444,
             "#bd3786"
            ],
            [
             0.5555555555555556,
             "#d8576b"
            ],
            [
             0.6666666666666666,
             "#ed7953"
            ],
            [
             0.7777777777777778,
             "#fb9f3a"
            ],
            [
             0.8888888888888888,
             "#fdca26"
            ],
            [
             1,
             "#f0f921"
            ]
           ],
           "sequentialminus": [
            [
             0,
             "#0d0887"
            ],
            [
             0.1111111111111111,
             "#46039f"
            ],
            [
             0.2222222222222222,
             "#7201a8"
            ],
            [
             0.3333333333333333,
             "#9c179e"
            ],
            [
             0.4444444444444444,
             "#bd3786"
            ],
            [
             0.5555555555555556,
             "#d8576b"
            ],
            [
             0.6666666666666666,
             "#ed7953"
            ],
            [
             0.7777777777777778,
             "#fb9f3a"
            ],
            [
             0.8888888888888888,
             "#fdca26"
            ],
            [
             1,
             "#f0f921"
            ]
           ]
          },
          "colorway": [
           "#636efa",
           "#EF553B",
           "#00cc96",
           "#ab63fa",
           "#FFA15A",
           "#19d3f3",
           "#FF6692",
           "#B6E880",
           "#FF97FF",
           "#FECB52"
          ],
          "font": {
           "color": "#2a3f5f"
          },
          "geo": {
           "bgcolor": "white",
           "lakecolor": "white",
           "landcolor": "#E5ECF6",
           "showlakes": true,
           "showland": true,
           "subunitcolor": "white"
          },
          "hoverlabel": {
           "align": "left"
          },
          "hovermode": "closest",
          "mapbox": {
           "style": "light"
          },
          "paper_bgcolor": "white",
          "plot_bgcolor": "#E5ECF6",
          "polar": {
           "angularaxis": {
            "gridcolor": "white",
            "linecolor": "white",
            "ticks": ""
           },
           "bgcolor": "#E5ECF6",
           "radialaxis": {
            "gridcolor": "white",
            "linecolor": "white",
            "ticks": ""
           }
          },
          "scene": {
           "xaxis": {
            "backgroundcolor": "#E5ECF6",
            "gridcolor": "white",
            "gridwidth": 2,
            "linecolor": "white",
            "showbackground": true,
            "ticks": "",
            "zerolinecolor": "white"
           },
           "yaxis": {
            "backgroundcolor": "#E5ECF6",
            "gridcolor": "white",
            "gridwidth": 2,
            "linecolor": "white",
            "showbackground": true,
            "ticks": "",
            "zerolinecolor": "white"
           },
           "zaxis": {
            "backgroundcolor": "#E5ECF6",
            "gridcolor": "white",
            "gridwidth": 2,
            "linecolor": "white",
            "showbackground": true,
            "ticks": "",
            "zerolinecolor": "white"
           }
          },
          "shapedefaults": {
           "line": {
            "color": "#2a3f5f"
           }
          },
          "ternary": {
           "aaxis": {
            "gridcolor": "white",
            "linecolor": "white",
            "ticks": ""
           },
           "baxis": {
            "gridcolor": "white",
            "linecolor": "white",
            "ticks": ""
           },
           "bgcolor": "#E5ECF6",
           "caxis": {
            "gridcolor": "white",
            "linecolor": "white",
            "ticks": ""
           }
          },
          "title": {
           "x": 0.05
          },
          "xaxis": {
           "automargin": true,
           "gridcolor": "white",
           "linecolor": "white",
           "ticks": "",
           "title": {
            "standoff": 15
           },
           "zerolinecolor": "white",
           "zerolinewidth": 2
          },
          "yaxis": {
           "automargin": true,
           "gridcolor": "white",
           "linecolor": "white",
           "ticks": "",
           "title": {
            "standoff": 15
           },
           "zerolinecolor": "white",
           "zerolinewidth": 2
          }
         }
        },
        "title": {
         "text": "Model Comparison Across v1_day, v2_day, and v1_week"
        },
        "xaxis": {
         "anchor": "y",
         "domain": [
          0,
          1
         ],
         "title": {
          "text": "Dataset"
         }
        },
        "yaxis": {
         "anchor": "x",
         "domain": [
          0,
          1
         ],
         "title": {
          "text": "Accuracy Score"
         }
        }
       }
      }
     },
     "metadata": {},
     "output_type": "display_data"
    }
   ],
   "source": [
    "results_df = pd.DataFrame(results).reset_index()\n",
    "results_df['loose_model'] = 'loose_model'\n",
    "opt_results_df = pd.DataFrame(optimized_results).reset_index()\n",
    "opt_results_df['optimized_model'] = 'optimized_model'\n",
    "total = pd.concat([results_df, opt_results_df], axis=0)\n",
    "total = total[total['index']=='best_score']\n",
    "total['model'] = total['loose_model'].astype(str).replace('nan','') + total['optimized_model'].astype(str).replace('nan','')\n",
    "total = total.drop(columns=['optimized_model','loose_model'])\n",
    "df_melted = total.melt( # Melt the DataFrame\n",
    "    id_vars=['model'],\n",
    "    value_vars=['v1_day', 'v2_day', 'v1_week'],\n",
    "    var_name='variable',\n",
    "    value_name='score'\n",
    ")\n",
    "fig = px.bar(\n",
    "    df_melted,\n",
    "    x='variable',    # x-axis: v1_day, v2_day, v1_week\n",
    "    y='score',       # y-axis: score value\n",
    "    color='model',   # bar color: loose_model vs optimized_model\n",
    "    barmode='group', # grouped bars next to each other\n",
    "    text='score',    # show value labels\n",
    "    title='Model Comparison Across v1_day, v2_day, and v1_week',\n",
    "    labels={'variable': 'Dataset', 'score': 'Accuracy Score'}\n",
    ")\n",
    "\n",
    "fig.show()\n"
   ]
  },
  {
   "cell_type": "markdown",
   "metadata": {},
   "source": [
    "Tuning the hyperparameters further gave us an increase in accuracy for v1_week by about 5%. For v1_day it didn't change and for v1_week it deceased around 3%."
   ]
  },
  {
   "cell_type": "code",
   "execution_count": null,
   "metadata": {},
   "outputs": [],
   "source": []
  },
  {
   "cell_type": "markdown",
   "metadata": {},
   "source": [
    "### Bayesian Hyperparameter Optimization\n",
    "This took over 9 hours and still didn't converge, so let's try another method. \n",
    "\n",
    "First we'll try to optimize hyperparameters for KNN."
   ]
  },
  {
   "cell_type": "code",
   "execution_count": 30,
   "metadata": {},
   "outputs": [
    {
     "name": "stdout",
     "output_type": "stream",
     "text": [
      "  0%|          | 0/100 [00:00<?, ?trial/s, best loss=?]"
     ]
    },
    {
     "name": "stderr",
     "output_type": "stream",
     "text": [
      "job exception: ('switch argument was', 1)\n",
      "\n"
     ]
    },
    {
     "name": "stdout",
     "output_type": "stream",
     "text": [
      "  0%|          | 0/100 [00:00<?, ?trial/s, best loss=?]\n"
     ]
    },
    {
     "ename": "TypeError",
     "evalue": "('switch argument was', 1)",
     "output_type": "error",
     "traceback": [
      "\u001b[0;31m---------------------------------------------------------------------------\u001b[0m",
      "\u001b[0;31mTypeError\u001b[0m                                 Traceback (most recent call last)",
      "Cell \u001b[0;32mIn[30], line 49\u001b[0m\n\u001b[1;32m     46\u001b[0m     \u001b[38;5;66;03m# acc = cross_val_score(clf, X_train, y_train, cv=5).mean()  # Use cross-validation    return {'loss': -acc, 'status': STATUS_OK}\u001b[39;00m\n\u001b[1;32m     48\u001b[0m trials \u001b[38;5;241m=\u001b[39m Trials()\n\u001b[0;32m---> 49\u001b[0m best \u001b[38;5;241m=\u001b[39m fmin(f, space4knn, algo\u001b[38;5;241m=\u001b[39mtpe\u001b[38;5;241m.\u001b[39msuggest, max_evals\u001b[38;5;241m=\u001b[39m\u001b[38;5;241m100\u001b[39m, trials\u001b[38;5;241m=\u001b[39mtrials)\n\u001b[1;32m     50\u001b[0m \u001b[38;5;28mprint\u001b[39m(\u001b[38;5;124mf\u001b[39m\u001b[38;5;124m'\u001b[39m\u001b[38;5;124mbest: \u001b[39m\u001b[38;5;132;01m{\u001b[39;00mbest\u001b[38;5;132;01m}\u001b[39;00m\u001b[38;5;124m'\u001b[39m)\n",
      "File \u001b[0;32m~/Library/CloudStorage/Box-Box/Holmes_lab_kaley/git_repos/hyperopt_repo/hyperopt/fmin.py:536\u001b[0m, in \u001b[0;36mfmin\u001b[0;34m(fn, space, algo, max_evals, timeout, loss_threshold, trials, rstate, allow_trials_fmin, pass_expr_memo_ctrl, catch_eval_exceptions, verbose, return_argmin, points_to_evaluate, max_queue_len, show_progressbar, early_stop_fn, trials_save_file)\u001b[0m\n\u001b[1;32m    533\u001b[0m     fn \u001b[38;5;241m=\u001b[39m __objective_fmin_wrapper(fn)\n\u001b[1;32m    535\u001b[0m \u001b[38;5;28;01mif\u001b[39;00m allow_trials_fmin \u001b[38;5;129;01mand\u001b[39;00m \u001b[38;5;28mhasattr\u001b[39m(trials, \u001b[38;5;124m\"\u001b[39m\u001b[38;5;124mfmin\u001b[39m\u001b[38;5;124m\"\u001b[39m):\n\u001b[0;32m--> 536\u001b[0m     \u001b[38;5;28;01mreturn\u001b[39;00m trials\u001b[38;5;241m.\u001b[39mfmin(\n\u001b[1;32m    537\u001b[0m         fn,\n\u001b[1;32m    538\u001b[0m         space,\n\u001b[1;32m    539\u001b[0m         algo\u001b[38;5;241m=\u001b[39malgo,\n\u001b[1;32m    540\u001b[0m         max_evals\u001b[38;5;241m=\u001b[39mmax_evals,\n\u001b[1;32m    541\u001b[0m         timeout\u001b[38;5;241m=\u001b[39mtimeout,\n\u001b[1;32m    542\u001b[0m         loss_threshold\u001b[38;5;241m=\u001b[39mloss_threshold,\n\u001b[1;32m    543\u001b[0m         max_queue_len\u001b[38;5;241m=\u001b[39mmax_queue_len,\n\u001b[1;32m    544\u001b[0m         rstate\u001b[38;5;241m=\u001b[39mrstate,\n\u001b[1;32m    545\u001b[0m         pass_expr_memo_ctrl\u001b[38;5;241m=\u001b[39mpass_expr_memo_ctrl,\n\u001b[1;32m    546\u001b[0m         verbose\u001b[38;5;241m=\u001b[39mverbose,\n\u001b[1;32m    547\u001b[0m         catch_eval_exceptions\u001b[38;5;241m=\u001b[39mcatch_eval_exceptions,\n\u001b[1;32m    548\u001b[0m         return_argmin\u001b[38;5;241m=\u001b[39mreturn_argmin,\n\u001b[1;32m    549\u001b[0m         show_progressbar\u001b[38;5;241m=\u001b[39mshow_progressbar,\n\u001b[1;32m    550\u001b[0m         early_stop_fn\u001b[38;5;241m=\u001b[39mearly_stop_fn,\n\u001b[1;32m    551\u001b[0m         trials_save_file\u001b[38;5;241m=\u001b[39mtrials_save_file,\n\u001b[1;32m    552\u001b[0m     )\n\u001b[1;32m    554\u001b[0m \u001b[38;5;28;01mif\u001b[39;00m trials \u001b[38;5;129;01mis\u001b[39;00m \u001b[38;5;28;01mNone\u001b[39;00m:\n\u001b[1;32m    555\u001b[0m     \u001b[38;5;28;01mif\u001b[39;00m os\u001b[38;5;241m.\u001b[39mpath\u001b[38;5;241m.\u001b[39mexists(trials_save_file):\n",
      "File \u001b[0;32m~/Library/CloudStorage/Box-Box/Holmes_lab_kaley/git_repos/hyperopt_repo/hyperopt/base.py:670\u001b[0m, in \u001b[0;36mTrials.fmin\u001b[0;34m(self, fn, space, algo, max_evals, timeout, loss_threshold, max_queue_len, rstate, verbose, pass_expr_memo_ctrl, catch_eval_exceptions, return_argmin, show_progressbar, early_stop_fn, trials_save_file)\u001b[0m\n\u001b[1;32m    665\u001b[0m \u001b[38;5;66;03m# -- Stop-gap implementation!\u001b[39;00m\n\u001b[1;32m    666\u001b[0m \u001b[38;5;66;03m#    fmin should have been a Trials method in the first place\u001b[39;00m\n\u001b[1;32m    667\u001b[0m \u001b[38;5;66;03m#    but for now it's still sitting in another file.\u001b[39;00m\n\u001b[1;32m    668\u001b[0m \u001b[38;5;28;01mfrom\u001b[39;00m \u001b[38;5;21;01m.\u001b[39;00m\u001b[38;5;21;01mfmin\u001b[39;00m \u001b[38;5;28;01mimport\u001b[39;00m fmin\n\u001b[0;32m--> 670\u001b[0m \u001b[38;5;28;01mreturn\u001b[39;00m fmin(\n\u001b[1;32m    671\u001b[0m     fn,\n\u001b[1;32m    672\u001b[0m     space,\n\u001b[1;32m    673\u001b[0m     algo\u001b[38;5;241m=\u001b[39malgo,\n\u001b[1;32m    674\u001b[0m     max_evals\u001b[38;5;241m=\u001b[39mmax_evals,\n\u001b[1;32m    675\u001b[0m     timeout\u001b[38;5;241m=\u001b[39mtimeout,\n\u001b[1;32m    676\u001b[0m     loss_threshold\u001b[38;5;241m=\u001b[39mloss_threshold,\n\u001b[1;32m    677\u001b[0m     trials\u001b[38;5;241m=\u001b[39m\u001b[38;5;28mself\u001b[39m,\n\u001b[1;32m    678\u001b[0m     rstate\u001b[38;5;241m=\u001b[39mrstate,\n\u001b[1;32m    679\u001b[0m     verbose\u001b[38;5;241m=\u001b[39mverbose,\n\u001b[1;32m    680\u001b[0m     max_queue_len\u001b[38;5;241m=\u001b[39mmax_queue_len,\n\u001b[1;32m    681\u001b[0m     allow_trials_fmin\u001b[38;5;241m=\u001b[39m\u001b[38;5;28;01mFalse\u001b[39;00m,  \u001b[38;5;66;03m# -- prevent recursion\u001b[39;00m\n\u001b[1;32m    682\u001b[0m     pass_expr_memo_ctrl\u001b[38;5;241m=\u001b[39mpass_expr_memo_ctrl,\n\u001b[1;32m    683\u001b[0m     catch_eval_exceptions\u001b[38;5;241m=\u001b[39mcatch_eval_exceptions,\n\u001b[1;32m    684\u001b[0m     return_argmin\u001b[38;5;241m=\u001b[39mreturn_argmin,\n\u001b[1;32m    685\u001b[0m     show_progressbar\u001b[38;5;241m=\u001b[39mshow_progressbar,\n\u001b[1;32m    686\u001b[0m     early_stop_fn\u001b[38;5;241m=\u001b[39mearly_stop_fn,\n\u001b[1;32m    687\u001b[0m     trials_save_file\u001b[38;5;241m=\u001b[39mtrials_save_file,\n\u001b[1;32m    688\u001b[0m )\n",
      "File \u001b[0;32m~/Library/CloudStorage/Box-Box/Holmes_lab_kaley/git_repos/hyperopt_repo/hyperopt/fmin.py:582\u001b[0m, in \u001b[0;36mfmin\u001b[0;34m(fn, space, algo, max_evals, timeout, loss_threshold, trials, rstate, allow_trials_fmin, pass_expr_memo_ctrl, catch_eval_exceptions, verbose, return_argmin, points_to_evaluate, max_queue_len, show_progressbar, early_stop_fn, trials_save_file)\u001b[0m\n\u001b[1;32m    579\u001b[0m rval\u001b[38;5;241m.\u001b[39mcatch_eval_exceptions \u001b[38;5;241m=\u001b[39m catch_eval_exceptions\n\u001b[1;32m    581\u001b[0m \u001b[38;5;66;03m# next line is where the fmin is actually executed\u001b[39;00m\n\u001b[0;32m--> 582\u001b[0m rval\u001b[38;5;241m.\u001b[39mexhaust()\n\u001b[1;32m    584\u001b[0m \u001b[38;5;28;01mif\u001b[39;00m return_argmin:\n\u001b[1;32m    585\u001b[0m     \u001b[38;5;28;01mif\u001b[39;00m \u001b[38;5;28mlen\u001b[39m(trials\u001b[38;5;241m.\u001b[39mtrials) \u001b[38;5;241m==\u001b[39m \u001b[38;5;241m0\u001b[39m:\n",
      "File \u001b[0;32m~/Library/CloudStorage/Box-Box/Holmes_lab_kaley/git_repos/hyperopt_repo/hyperopt/fmin.py:360\u001b[0m, in \u001b[0;36mFMinIter.exhaust\u001b[0;34m(self)\u001b[0m\n\u001b[1;32m    358\u001b[0m \u001b[38;5;28;01mdef\u001b[39;00m \u001b[38;5;21mexhaust\u001b[39m(\u001b[38;5;28mself\u001b[39m):\n\u001b[1;32m    359\u001b[0m     n_done \u001b[38;5;241m=\u001b[39m \u001b[38;5;28mlen\u001b[39m(\u001b[38;5;28mself\u001b[39m\u001b[38;5;241m.\u001b[39mtrials)\n\u001b[0;32m--> 360\u001b[0m     \u001b[38;5;28mself\u001b[39m\u001b[38;5;241m.\u001b[39mrun(\u001b[38;5;28mself\u001b[39m\u001b[38;5;241m.\u001b[39mmax_evals \u001b[38;5;241m-\u001b[39m n_done, block_until_done\u001b[38;5;241m=\u001b[39m\u001b[38;5;28mself\u001b[39m\u001b[38;5;241m.\u001b[39masynchronous)\n\u001b[1;32m    361\u001b[0m     \u001b[38;5;28mself\u001b[39m\u001b[38;5;241m.\u001b[39mtrials\u001b[38;5;241m.\u001b[39mrefresh()\n\u001b[1;32m    362\u001b[0m     \u001b[38;5;28;01mreturn\u001b[39;00m \u001b[38;5;28mself\u001b[39m\n",
      "File \u001b[0;32m~/Library/CloudStorage/Box-Box/Holmes_lab_kaley/git_repos/hyperopt_repo/hyperopt/fmin.py:296\u001b[0m, in \u001b[0;36mFMinIter.run\u001b[0;34m(self, N, block_until_done)\u001b[0m\n\u001b[1;32m    293\u001b[0m     time\u001b[38;5;241m.\u001b[39msleep(\u001b[38;5;28mself\u001b[39m\u001b[38;5;241m.\u001b[39mpoll_interval_secs)\n\u001b[1;32m    294\u001b[0m \u001b[38;5;28;01melse\u001b[39;00m:\n\u001b[1;32m    295\u001b[0m     \u001b[38;5;66;03m# -- loop over trials and do the jobs directly\u001b[39;00m\n\u001b[0;32m--> 296\u001b[0m     \u001b[38;5;28mself\u001b[39m\u001b[38;5;241m.\u001b[39mserial_evaluate()\n\u001b[1;32m    298\u001b[0m \u001b[38;5;28mself\u001b[39m\u001b[38;5;241m.\u001b[39mtrials\u001b[38;5;241m.\u001b[39mrefresh()\n\u001b[1;32m    299\u001b[0m \u001b[38;5;28;01mif\u001b[39;00m \u001b[38;5;28mself\u001b[39m\u001b[38;5;241m.\u001b[39mtrials_save_file \u001b[38;5;241m!=\u001b[39m \u001b[38;5;124m\"\u001b[39m\u001b[38;5;124m\"\u001b[39m:\n",
      "File \u001b[0;32m~/Library/CloudStorage/Box-Box/Holmes_lab_kaley/git_repos/hyperopt_repo/hyperopt/fmin.py:175\u001b[0m, in \u001b[0;36mFMinIter.serial_evaluate\u001b[0;34m(self, N)\u001b[0m\n\u001b[1;32m    173\u001b[0m ctrl \u001b[38;5;241m=\u001b[39m base\u001b[38;5;241m.\u001b[39mCtrl(\u001b[38;5;28mself\u001b[39m\u001b[38;5;241m.\u001b[39mtrials, current_trial\u001b[38;5;241m=\u001b[39mtrial)\n\u001b[1;32m    174\u001b[0m \u001b[38;5;28;01mtry\u001b[39;00m:\n\u001b[0;32m--> 175\u001b[0m     result \u001b[38;5;241m=\u001b[39m \u001b[38;5;28mself\u001b[39m\u001b[38;5;241m.\u001b[39mdomain\u001b[38;5;241m.\u001b[39mevaluate(spec, ctrl)\n\u001b[1;32m    176\u001b[0m \u001b[38;5;28;01mexcept\u001b[39;00m \u001b[38;5;167;01mException\u001b[39;00m \u001b[38;5;28;01mas\u001b[39;00m e:\n\u001b[1;32m    177\u001b[0m     logger\u001b[38;5;241m.\u001b[39merror(\u001b[38;5;124m\"\u001b[39m\u001b[38;5;124mjob exception: \u001b[39m\u001b[38;5;132;01m%s\u001b[39;00m\u001b[38;5;124m\"\u001b[39m \u001b[38;5;241m%\u001b[39m \u001b[38;5;28mstr\u001b[39m(e))\n",
      "File \u001b[0;32m~/Library/CloudStorage/Box-Box/Holmes_lab_kaley/git_repos/hyperopt_repo/hyperopt/base.py:886\u001b[0m, in \u001b[0;36mDomain.evaluate\u001b[0;34m(self, config, ctrl, attach_attachments)\u001b[0m\n\u001b[1;32m    881\u001b[0m     rval \u001b[38;5;241m=\u001b[39m \u001b[38;5;28mself\u001b[39m\u001b[38;5;241m.\u001b[39mfn(expr\u001b[38;5;241m=\u001b[39m\u001b[38;5;28mself\u001b[39m\u001b[38;5;241m.\u001b[39mexpr, memo\u001b[38;5;241m=\u001b[39mmemo, ctrl\u001b[38;5;241m=\u001b[39mctrl)\n\u001b[1;32m    882\u001b[0m \u001b[38;5;28;01melse\u001b[39;00m:\n\u001b[1;32m    883\u001b[0m     \u001b[38;5;66;03m# -- the \"work\" of evaluating `config` can be written\u001b[39;00m\n\u001b[1;32m    884\u001b[0m     \u001b[38;5;66;03m#    either into the pyll part (self.expr)\u001b[39;00m\n\u001b[1;32m    885\u001b[0m     \u001b[38;5;66;03m#    or the normal Python part (self.fn)\u001b[39;00m\n\u001b[0;32m--> 886\u001b[0m     pyll_rval \u001b[38;5;241m=\u001b[39m pyll\u001b[38;5;241m.\u001b[39mrec_eval(\n\u001b[1;32m    887\u001b[0m         \u001b[38;5;28mself\u001b[39m\u001b[38;5;241m.\u001b[39mexpr,\n\u001b[1;32m    888\u001b[0m         memo\u001b[38;5;241m=\u001b[39mmemo,\n\u001b[1;32m    889\u001b[0m         print_node_on_error\u001b[38;5;241m=\u001b[39m\u001b[38;5;28mself\u001b[39m\u001b[38;5;241m.\u001b[39mrec_eval_print_node_on_error,\n\u001b[1;32m    890\u001b[0m     )\n\u001b[1;32m    891\u001b[0m     rval \u001b[38;5;241m=\u001b[39m \u001b[38;5;28mself\u001b[39m\u001b[38;5;241m.\u001b[39mfn(pyll_rval)\n\u001b[1;32m    893\u001b[0m \u001b[38;5;28;01mif\u001b[39;00m \u001b[38;5;28misinstance\u001b[39m(rval, (\u001b[38;5;28mfloat\u001b[39m, \u001b[38;5;28mint\u001b[39m, np\u001b[38;5;241m.\u001b[39mnumber)):\n",
      "File \u001b[0;32m~/Library/CloudStorage/Box-Box/Holmes_lab_kaley/git_repos/hyperopt_repo/hyperopt/pyll/base.py:863\u001b[0m, in \u001b[0;36mrec_eval\u001b[0;34m(expr, deepcopy_inputs, memo, max_program_len, memo_gc, print_trace, print_node_on_error)\u001b[0m\n\u001b[1;32m    861\u001b[0m         \u001b[38;5;28;01mraise\u001b[39;00m \u001b[38;5;167;01mValueError\u001b[39;00m(\u001b[38;5;124m\"\u001b[39m\u001b[38;5;124mswitch pos must be positive int\u001b[39m\u001b[38;5;124m\"\u001b[39m, switch_i)\n\u001b[1;32m    862\u001b[0m \u001b[38;5;28;01melse\u001b[39;00m:\n\u001b[0;32m--> 863\u001b[0m     \u001b[38;5;28;01mraise\u001b[39;00m \u001b[38;5;167;01mTypeError\u001b[39;00m(\u001b[38;5;124m\"\u001b[39m\u001b[38;5;124mswitch argument was\u001b[39m\u001b[38;5;124m\"\u001b[39m, switch_i)\n\u001b[1;32m    864\u001b[0m rval_var \u001b[38;5;241m=\u001b[39m node\u001b[38;5;241m.\u001b[39mpos_args[switch_i \u001b[38;5;241m+\u001b[39m \u001b[38;5;241m1\u001b[39m]\n\u001b[1;32m    865\u001b[0m \u001b[38;5;28;01mif\u001b[39;00m rval_var \u001b[38;5;129;01min\u001b[39;00m memo:\n",
      "\u001b[0;31mTypeError\u001b[0m: ('switch argument was', 1)"
     ]
    }
   ],
   "source": [
    "from sklearn.metrics import accuracy_score\n",
    "name = 'v1_day'\n",
    "X_train_df = pd.read_csv(os.path.join(brighten_dir, f'{name}_X_train.csv'))\n",
    "X_train_cleaned = X_train_df.drop(columns=[col for col in X_train_df.columns if col in id_columns or 'Unnamed' in col])\n",
    "y_train_df = pd.read_csv(os.path.join(brighten_dir, f'{name}_y_train.csv'))\n",
    "y_train_cleaned = y_train_df.drop(columns=[col for col in y_train_df.columns if 'Unnamed' in col]).squeeze()\n",
    "\n",
    "X_test_df = pd.read_csv(os.path.join(brighten_dir, f'{name}_X_test.csv'))\n",
    "X_test_cleaned = X_test_df.drop(columns=[col for col in X_test_df.columns if col in id_columns or 'Unnamed' in col])\n",
    "y_test_df = pd.read_csv(os.path.join(brighten_dir, f'{name}_y_test.csv'))\n",
    "y_test_cleaned = y_test_df.drop(columns=[col for col in y_test_df.columns if 'Unnamed' in col]).squeeze()\n",
    "\n",
    "X_df = pd.concat([X_train_cleaned, X_test_cleaned], axis=0)\n",
    "y_df = pd.concat([y_train_cleaned, y_test_cleaned], axis=0)\n",
    "\n",
    "X = X_df.to_numpy()\n",
    "y = y_df.to_numpy()\n",
    "X_train = X_train_cleaned.to_numpy()\n",
    "y_train = y_train_cleaned.to_numpy()\n",
    "X_test = X_test_cleaned.to_numpy()\n",
    "y_test = y_test_cleaned.to_numpy()\n",
    "\n",
    "\n",
    "def hyperopt_train_test(params):\n",
    "    clf = KNeighborsClassifier(**params)\n",
    "    return cross_val_score(clf, X, y).mean()\n",
    "\n",
    "space4knn = {\n",
    "    'n_neighbors': hp.choice('n_neighbors', range(1, 31)),  # 30 values\n",
    "    'weights': hp.choice('weights', ['uniform', 'distance']),\n",
    "    'algorithm': hp.choice('algorithm', ['auto', 'ball_tree', 'kd_tree', 'brute']),\n",
    "    'leaf_size': hp.quniform('leaf_size', 10, 50, 1)\n",
    "}\n",
    "\n",
    "def f(params):\n",
    "    clf = KNeighborsClassifier(\n",
    "        n_neighbors=params['n_neighbors'],\n",
    "        weights=params['weights'],\n",
    "        algorithm=params['algorithm'],\n",
    "        leaf_size=int(params['leaf_size'])\n",
    "    )\n",
    "    clf.fit(X_train, y_train)\n",
    "    preds = clf.predict(X_test)\n",
    "    acc = accuracy_score(y_test, preds)\n",
    "    return {'loss': -acc, 'status': STATUS_OK}\n",
    "    # acc = cross_val_score(clf, X_train, y_train, cv=5).mean()  # Use cross-validation    return {'loss': -acc, 'status': STATUS_OK}\n",
    "\n",
    "trials = Trials()\n",
    "best = fmin(f, space4knn, algo=tpe.suggest, max_evals=100, trials=trials)\n",
    "print(f'best: {best}')\n"
   ]
  },
  {
   "cell_type": "code",
   "execution_count": null,
   "metadata": {},
   "outputs": [],
   "source": [
    "f, ax = plt.subplots(1)#, figsize=(10,10))\n",
    "xs = [t['misc']['vals']['n'] for t in trials.trials]\n",
    "ys = [-t['result']['loss'] for t in trials.trials]\n",
    "ax.scatter(xs, ys, s=20, linewidth=0.01, alpha=0.5)\n",
    "ax.set_title('Iris Dataset - KNN', fontsize=18)\n",
    "ax.set_xlabel('n_neighbors', fontsize=12)\n",
    "ax.set_ylabel('cross validation accuracy', fontsize=12)"
   ]
  },
  {
   "cell_type": "code",
   "execution_count": 27,
   "metadata": {},
   "outputs": [
    {
     "name": "stdout",
     "output_type": "stream",
     "text": [
      "<class 'numpy.ndarray'>\n",
      "<class 'numpy.ndarray'>\n"
     ]
    }
   ],
   "source": [
    "from sklearn import datasets\n",
    "iris = datasets.load_iris()\n",
    "X = iris.data\n",
    "print(type(X))\n",
    "y = iris.target\n",
    "print(type(y))\n"
   ]
  }
 ],
 "metadata": {
  "kernelspec": {
   "display_name": "base",
   "language": "python",
   "name": "python3"
  },
  "language_info": {
   "codemirror_mode": {
    "name": "ipython",
    "version": 3
   },
   "file_extension": ".py",
   "mimetype": "text/x-python",
   "name": "python",
   "nbconvert_exporter": "python",
   "pygments_lexer": "ipython3",
   "version": "3.12.7"
  }
 },
 "nbformat": 4,
 "nbformat_minor": 2
}

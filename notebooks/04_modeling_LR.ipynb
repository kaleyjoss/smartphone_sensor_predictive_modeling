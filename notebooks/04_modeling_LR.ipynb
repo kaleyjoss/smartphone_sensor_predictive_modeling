{
 "cells": [
  {
   "cell_type": "code",
   "execution_count": 56,
   "metadata": {},
   "outputs": [
    {
     "name": "stdout",
     "output_type": "stream",
     "text": [
      "/Users/demo/Library/CloudStorage/Box-Box/Holmes_lab_kaley/git_repos/hyperopt_repo/hyperopt/__init__.py\n"
     ]
    }
   ],
   "source": [
    "import sys\n",
    "import os\n",
    "import pandas as pd\n",
    "import matplotlib.pyplot as plt\n",
    "import importlib\n",
    "import pandas as pd\n",
    "import numpy as np\n",
    "import seaborn as sns\n",
    "import matplotlib.pyplot as plt\n",
    "import json\n",
    "\n",
    "from statsmodels.regression.mixed_linear_model import MixedLM\n",
    "import statsmodels.api as sm\n",
    "import statsmodels.formula.api as smf\n",
    "from statsmodels.stats.outliers_influence import variance_inflation_factor\n",
    "import pandas as pd\n",
    "\n",
    "import sklearn\n",
    "from sklearn.pipeline import Pipeline\n",
    "from sklearn.preprocessing import OneHotEncoder, OrdinalEncoder, StandardScaler\n",
    "from sklearn.impute import SimpleImputer, KNNImputer\n",
    "from sklearn.base import BaseEstimator, TransformerMixin\n",
    "from sklearn.compose import ColumnTransformer\n",
    "from sklearn.model_selection import train_test_split, cross_val_score, RandomizedSearchCV, GridSearchCV, KFold\n",
    "from sklearn.linear_model import LogisticRegression, LinearRegression, SGDRegressor\n",
    "from sklearn.ensemble import RandomForestClassifier, AdaBoostClassifier, GradientBoostingClassifier, BaggingClassifier, RandomForestRegressor\n",
    "from sklearn.neighbors import KNeighborsClassifier, KNeighborsRegressor\n",
    "from sklearn.svm import LinearSVC, SVR\n",
    "from sklearn.tree import DecisionTreeClassifier, DecisionTreeRegressor\n",
    "from sklearn.metrics import ConfusionMatrixDisplay, f1_score, make_scorer, confusion_matrix, mean_squared_error, mean_absolute_error\n",
    "\n",
    "from statsmodels.stats.outliers_influence import variance_inflation_factor\n",
    "from statsmodels.tools.tools import add_constant\n",
    "from scipy.stats import randint, uniform\n",
    "\n",
    "from xgboost import XGBClassifier, XGBRegressor\n",
    "from catboost import CatBoostClassifier\n",
    "from catboost import Pool\n",
    "import catboost as cb\n",
    "from sklearn.model_selection import GridSearchCV\n",
    "from sklearn.model_selection import KFold\n",
    "from itertools import product,chain\n",
    "\n",
    "import plotly.express as px\n",
    "\n",
    "\n",
    "# Get the absolute path of the project root\n",
    "project_root = os.path.abspath(os.path.join(os.getcwd(), \"..\"))\n",
    "# Add project root to sys.path\n",
    "sys.path.append(project_root)\n",
    "# Define data directory\n",
    "brighten_dir = os.path.join(project_root, 'BRIGHTEN_data')\n",
    "\n",
    "# Import and reload my custom scripts\n",
    "from scripts import preprocessing as pre\n",
    "from scripts import visualization as vis\n",
    "from scripts import feature_selection as fs\n",
    "from scripts import clustering as cl\n",
    "from scripts import variables as var\n",
    "importlib.reload(pre)\n",
    "importlib.reload(vis)\n",
    "importlib.reload(fs)\n",
    "importlib.reload(cl)\n",
    "importlib.reload(var)\n",
    "\n",
    "\n",
    "# Import from cloned github repos\n",
    "import hyperopt\n",
    "print(hyperopt.__file__)\n",
    "from hyperopt import tpe, hp, fmin, STATUS_OK, Trials\n",
    "from hyperopt import tpe, hp, fmin, STATUS_OK, Trials\n",
    "import hyperopt.pyll.stochastic\n",
    "################ DEFINE column variables from data ###################\n",
    "from scripts.variables import id_columns, daily_cols_v1, daily_v2_common \n",
    "from scripts.variables import phq2_cols, phq9_cols, weekly_cols, passive_cols, survey_cols\n",
    "\n",
    "## Load in dfs scaled\n",
    "df_names = ['v1_day', 'v2_day', 'v1_week']\n",
    "df_pca = ['v1_day_pca', 'v1_week_pca']\n",
    "df_all = df_names + df_pca"
   ]
  },
  {
   "cell_type": "code",
   "execution_count": null,
   "metadata": {},
   "outputs": [
    {
     "name": "stdout",
     "output_type": "stream",
     "text": [
      "0.0032143094652498094\n",
      "[[0.00429332 0.00113432 0.09436832]]\n",
      "[0.0440816]\n"
     ]
    }
   ],
   "source": [
    "#### Simple linear regression\n",
    "from sklearn.linear_model import LinearRegression\n",
    "# Step 1: Set x_cols to the various V1 PCs\n",
    "y_var = 'pc_depression_phq2'\n",
    "data = pd.read_csv(os.path.join(brighten_dir, 'v1_day_pca.csv'))\n",
    "#print(data.columns.to_list())\n",
    "results = pd.DataFrame()\n",
    "count=0\n",
    "x_cols = [col for col in data.columns.to_list() if 'pc_' in col and col!=y_var]\n",
    "y_col = [y_var]\n",
    "\n",
    "reg = LinearRegression().fit(data[x_cols], data[y_col])\n",
    "print(reg.score(data[x_cols], data[y_col]))\n",
    "print(reg.coef_)\n",
    "print(reg.intercept_)"
   ]
  },
  {
   "cell_type": "code",
   "execution_count": 39,
   "metadata": {},
   "outputs": [
    {
     "data": {
      "text/plain": [
       "Index(['Unnamed: 0', 'num_id', 'week', 'day', 'dt', 'idx',\n",
       "       'distance_walking_hr', 'hours_active_hr', 'distance_active_hr',\n",
       "       'distance_powered_vehicle_hr', 'hours_of_sleep_hr',\n",
       "       'hours_stationary_hr', 'hours_stationary_nhw_hr',\n",
       "       'location_variance_hr', 'callDuration_incoming_indicator',\n",
       "       'callDuration_outgoing_indicator', 'phq2_missing', 'cloud_cover_mean',\n",
       "       'dew_point_mean', 'humidity_mean', 'temp_mean', 'dew_point_IQR',\n",
       "       'humidity_IQR', 'temp_IQR', 'cloud_cover_IQR', 'cloud_cover_std',\n",
       "       'dew_point_std', 'humidity_std', 'temp_std', 'cloud_cover_median',\n",
       "       'dew_point_median', 'humidity_median', 'temp_median', 'phq2_2',\n",
       "       'phq2_sum'],\n",
       "      dtype='object')"
      ]
     },
     "metadata": {},
     "output_type": "display_data"
    }
   ],
   "source": [
    "data = pd.read_csv(os.path.join(brighten_dir, 'v2_day_clean.csv'))\n",
    "display(data.columns)\n"
   ]
  },
  {
   "cell_type": "code",
   "execution_count": 48,
   "metadata": {},
   "outputs": [
    {
     "name": "stdout",
     "output_type": "stream",
     "text": [
      "Relationship to y_col phq2_sum, Nested Linear Regression on \"num_id\"\n",
      "                  Mixed Linear Model Regression Results\n",
      "==========================================================================\n",
      "Model:                  MixedLM       Dependent Variable:       phq2_sum  \n",
      "No. Observations:       8776          Method:                   REML      \n",
      "No. Groups:             282           Scale:                    0.2785    \n",
      "Min. group size:        1             Log-Likelihood:           -7200.1613\n",
      "Max. group size:        138           Converged:                Yes       \n",
      "Mean group size:        31.1                                              \n",
      "--------------------------------------------------------------------------\n",
      "                                Coef.  Std.Err.   z    P>|z| [0.025 0.975]\n",
      "--------------------------------------------------------------------------\n",
      "Intercept                       -0.208    0.025 -8.211 0.000 -0.258 -0.159\n",
      "hours_active_hr                  0.005    0.007  0.611 0.541 -0.010  0.019\n",
      "hours_stationary_nhw_hr         -0.012    0.008 -1.450 0.147 -0.028  0.004\n",
      "hours_of_sleep_hr                0.006    0.007  0.879 0.379 -0.007  0.019\n",
      "location_variance_hr            -0.001    0.009 -0.174 0.862 -0.018  0.015\n",
      "callDuration_incoming_indicator -0.002    0.044 -0.042 0.967 -0.088  0.084\n",
      "callDuration_outgoing_indicator -0.032    0.047 -0.682 0.495 -0.124  0.060\n",
      "temp_mean                        0.043    0.010  4.382 0.000  0.023  0.062\n",
      "humidity_IQR                     0.002    0.006  0.307 0.759 -0.011  0.014\n",
      "Group Var                        0.147    0.030                           \n",
      "==========================================================================\n",
      "\n"
     ]
    }
   ],
   "source": [
    "######### Mixed LM Model V1 vs phq2_sum #########\n",
    "y_var = 'phq2_sum'\n",
    "data = pd.read_csv(os.path.join(brighten_dir, 'v2_day_clean.csv'))\n",
    "data[\"num_id\"] = data[\"num_id\"].astype(\"category\")\n",
    "model = smf.mixedlm(f\"{y_var} ~ hours_active_hr + hours_stationary_nhw_hr + hours_of_sleep_hr + location_variance_hr + callDuration_incoming_indicator + callDuration_outgoing_indicator + temp_mean + humidity_IQR\", \n",
    "                    data=data, \n",
    "                    groups=data[\"num_id\"])\n",
    "result = model.fit()\n",
    "print(f'Relationship to y_col {y_var}, Nested Linear Regression on \"num_id\"')\n",
    "print(result.summary())\n"
   ]
  },
  {
   "cell_type": "code",
   "execution_count": null,
   "metadata": {},
   "outputs": [
    {
     "name": "stdout",
     "output_type": "stream",
     "text": [
      "Relationship to y_col phq2_sum, Nested Linear Regression on \"num_id\"\n",
      "          Mixed Linear Model Regression Results\n",
      "==========================================================\n",
      "Model:              MixedLM Dependent Variable: phq2_sum  \n",
      "No. Observations:   9524    Method:             REML      \n",
      "No. Groups:         285     Scale:              0.4001    \n",
      "Min. group size:    1       Log-Likelihood:     -9572.4474\n",
      "Max. group size:    195     Converged:          Yes       \n",
      "Mean group size:    33.4                                  \n",
      "----------------------------------------------------------\n",
      "                Coef.  Std.Err.   z    P>|z| [0.025 0.975]\n",
      "----------------------------------------------------------\n",
      "Intercept       -0.077    0.033 -2.301 0.021 -0.142 -0.011\n",
      "mobility        -0.026    0.009 -2.870 0.004 -0.043 -0.008\n",
      "mobility_radius -0.011    0.008 -1.397 0.163 -0.026  0.004\n",
      "call_count      -0.010    0.016 -0.637 0.524 -0.042  0.021\n",
      "call_duration    0.016    0.015  1.058 0.290 -0.013  0.045\n",
      "sms_count        0.001    0.010  0.136 0.892 -0.018  0.021\n",
      "Group Var        0.282    0.042                           \n",
      "==========================================================\n",
      "\n"
     ]
    }
   ],
   "source": [
    "######### Mixed LM Model V1 vs phq2_sum #########\n",
    "y_var = 'phq2_sum'\n",
    "data = pd.read_csv(os.path.join(brighten_dir, 'v1_day_clean.csv'))\n",
    "data[y_var] = data[y_var].astype(float)\n",
    "data[\"num_id\"] = data[\"num_id\"].astype(\"category\")\n",
    "model = smf.mixedlm(f\"{y_var} ~ mobility + mobility_radius + call_count + call_duration + sms_count\", \n",
    "                    data=data, \n",
    "                    groups=data[\"num_id\"])\n",
    "result = model.fit()\n",
    "print(f'Relationship to y_col {y_var}, Nested Linear Regression on \"num_id\"')\n",
    "print(result.summary())\n"
   ]
  },
  {
   "cell_type": "code",
   "execution_count": 42,
   "metadata": {},
   "outputs": [
    {
     "name": "stdout",
     "output_type": "stream",
     "text": [
      "Relationship to y_col phq9_sum, Nested Linear Regression on \"num_id\"\n",
      "           Mixed Linear Model Regression Results\n",
      "===========================================================\n",
      "Model:              MixedLM  Dependent Variable:  phq9_sum \n",
      "No. Observations:   710      Method:              REML     \n",
      "No. Groups:         194      Scale:               0.2194   \n",
      "Min. group size:    1        Log-Likelihood:      -625.2087\n",
      "Max. group size:    8        Converged:           Yes      \n",
      "Mean group size:    3.7                                    \n",
      "-----------------------------------------------------------\n",
      "                 Coef.  Std.Err.   z    P>|z| [0.025 0.975]\n",
      "-----------------------------------------------------------\n",
      "Intercept        -0.183    0.042 -4.400 0.000 -0.265 -0.102\n",
      "mobility         -0.076    0.031 -2.447 0.014 -0.136 -0.015\n",
      "mobility_radius   0.010    0.026  0.375 0.707 -0.041  0.061\n",
      "sms_count         0.039    0.033  1.183 0.237 -0.025  0.103\n",
      "unreturned_calls  0.011    0.025  0.438 0.661 -0.038  0.059\n",
      "phq2_sum          0.444    0.033 13.397 0.000  0.379  0.509\n",
      "Group Var         0.236    0.089                           \n",
      "===========================================================\n",
      "\n"
     ]
    }
   ],
   "source": [
    "######### Mixed LM Model V1 vs phq2_sum #########\n",
    "y_var = 'phq9_sum'\n",
    "data = pd.read_csv(os.path.join(brighten_dir, 'v1_week_clean.csv'))\n",
    "data[\"num_id\"] = data[\"num_id\"].astype(\"category\")\n",
    "model = smf.mixedlm(f\"{y_var} ~ mobility  + mobility_radius + sms_count + unreturned_calls + phq2_sum\", \n",
    "                    data=data, \n",
    "                    groups=data[\"num_id\"])\n",
    "result = model.fit()\n",
    "print(f'Relationship to y_col {y_var}, Nested Linear Regression on \"num_id\"')\n",
    "print(result.summary())\n",
    "\n"
   ]
  },
  {
   "cell_type": "code",
   "execution_count": 49,
   "metadata": {},
   "outputs": [
    {
     "name": "stdout",
     "output_type": "stream",
     "text": [
      "Relationship to y_col phq9_sum, Nested Linear Regression on \"num_id\"\n",
      "                  Mixed Linear Model Regression Results\n",
      "==========================================================================\n",
      "Model:                   MixedLM       Dependent Variable:       phq9_sum \n",
      "No. Observations:        777           Method:                   REML     \n",
      "No. Groups:              216           Scale:                    0.2539   \n",
      "Min. group size:         1             Log-Likelihood:           -753.4925\n",
      "Max. group size:         12            Converged:                Yes      \n",
      "Mean group size:         3.6                                              \n",
      "--------------------------------------------------------------------------\n",
      "                                Coef.  Std.Err.   z    P>|z| [0.025 0.975]\n",
      "--------------------------------------------------------------------------\n",
      "Intercept                        0.016    0.047  0.341 0.733 -0.076  0.109\n",
      "hours_active_hr                 -0.016    0.033 -0.483 0.629 -0.080  0.048\n",
      "hours_stationary_nhw_hr         -0.093    0.034 -2.768 0.006 -0.159 -0.027\n",
      "hours_of_sleep_hr                0.006    0.027  0.212 0.832 -0.048  0.060\n",
      "location_variance_hr            -0.052    0.032 -1.625 0.104 -0.115  0.011\n",
      "phq2_sum                         0.459    0.034 13.457 0.000  0.392  0.526\n",
      "callDuration_incoming_indicator -0.134    0.172 -0.782 0.435 -0.471  0.202\n",
      "temp_mean                        0.062    0.036  1.730 0.084 -0.008  0.133\n",
      "Group Var                        0.331    0.104                           \n",
      "==========================================================================\n",
      "\n"
     ]
    }
   ],
   "source": [
    "######### Mixed LM Model V1 vs phq2_sum #########\n",
    "y_var = 'phq9_sum'\n",
    "data = pd.read_csv(os.path.join(brighten_dir, 'v2_week_clean.csv'))\n",
    "data[\"num_id\"] = data[\"num_id\"].astype(\"category\")\n",
    "model = smf.mixedlm(f\"{y_var} ~ hours_active_hr + hours_stationary_nhw_hr + hours_of_sleep_hr + location_variance_hr + phq2_sum + callDuration_incoming_indicator + temp_mean\", \n",
    "                    data=data, \n",
    "                    groups=data[\"num_id\"])\n",
    "result = model.fit()\n",
    "print(f'Relationship to y_col {y_var}, Nested Linear Regression on \"num_id\"')\n",
    "print(result.summary())\n"
   ]
  },
  {
   "cell_type": "markdown",
   "metadata": {},
   "source": [
    "### Model Selection - Classfication\n",
    "\n",
    "We'll start by using several of the most popular classifiers with default parameters and compare how well they perform to indentify which might be best to proceed with.\n"
   ]
  },
  {
   "cell_type": "code",
   "execution_count": 57,
   "metadata": {},
   "outputs": [],
   "source": [
    "from sklearn.linear_model import LogisticRegression\n",
    "from sklearn.neighbors import KNeighborsClassifier, KNeighborsRegressor\n",
    "from sklearn.tree import DecisionTreeClassifier, DecisionTreeRegressor\n",
    "from sklearn.ensemble import RandomForestClassifier, AdaBoostClassifier, GradientBoostingClassifier, BaggingClassifier\n",
    "from sklearn.ensemble import RandomForestRegressor, AdaBoostRegressor, GradientBoostingRegressor, BaggingRegressor\n",
    "from sklearn.ensemble import HistGradientBoostingRegressor\n",
    "from sklearn.svm import LinearSVC, LinearSVR\n",
    "from xgboost import XGBClassifier, XGBRegressor\n",
    "from catboost import CatBoostClassifier, CatBoostRegressor\n",
    "import xgboost as xgb\n",
    "\n",
    "regs = [\n",
    "    ('Decision Tree', DecisionTreeRegressor()),\n",
    "    ('Linear SVM', LinearSVR(random_state=42, max_iter=10000, dual='auto')),\n",
    "    ('Hist Gradient Tree', HistGradientBoostingRegressor()),\n",
    "    ('Random Forest', RandomForestRegressor(random_state=42)),\n",
    "    ('XGBoost', XGBRegressor(objective='reg:squarederror', random_state=42)),\n",
    "    ('AdaBoost', AdaBoostRegressor(random_state=42)),\n",
    "    ('Gradient Boost', GradientBoostingRegressor(random_state=42)),\n",
    "    ('Bagging', BaggingRegressor(random_state=42)),\n",
    "    ('CatBoost', CatBoostRegressor(random_state=42, verbose=0))\n",
    "]\n",
    "\n",
    "regs_full = [\n",
    "    ('Decision Tree', DecisionTreeRegressor()),\n",
    "    ('Linear SVM', LinearSVR(random_state=42, max_iter=10000, dual='auto')),\n",
    "]\n",
    "regs_someNA = [\n",
    "    ('Hist Gradient Tree', HistGradientBoostingRegressor()),\n",
    "    ('Random Forest', RandomForestRegressor(random_state=42)),\n",
    "    ('XGBoost', XGBRegressor(objective='reg:squarederror', random_state=42)),\n",
    "    ('AdaBoost', AdaBoostRegressor(random_state=42)),\n",
    "    ('Gradient Boost', GradientBoostingRegressor(random_state=42)),\n",
    "    ('Bagging', BaggingRegressor(random_state=42)),\n",
    "    ('CatBoost', CatBoostRegressor(random_state=42, verbose=0))\n",
    "]\n"
   ]
  },
  {
   "cell_type": "markdown",
   "metadata": {},
   "source": [
    "We'll use cross-validation to get a better understanding of each models performance, rather than just a single test. Let's create a KFold object so we can use the same folds for each classifier.\n"
   ]
  },
  {
   "cell_type": "markdown",
   "metadata": {},
   "source": [
    "## Run the classifiers (binary variable targets-- V1 Day and V2 Day)"
   ]
  },
  {
   "cell_type": "code",
   "execution_count": null,
   "metadata": {},
   "outputs": [],
   "source": [
    "# results = {}\n",
    "# for name in df_names:\n",
    "#     if 'day' in name:\n",
    "#         results[name] = {}\n",
    "#         X_train = pd.read_csv(os.path.join(brighten_dir, f'{name}_X_train.csv'))\n",
    "#         y_train= pd.read_csv(os.path.join(brighten_dir, f'{name}_y_train.csv'))\n",
    "\n",
    "#         X_train_cleaned = X_train.drop(columns=[col for col in X_train.columns if col in id_columns or 'Unnamed' in col])\n",
    "#         y_train_cleaned = y_train.drop(columns=[col for col in y_train.columns if 'Unnamed' in col]).squeeze()\n",
    "#         # Create KFold object with 10 folds\n",
    "#         kf = KFold(n_splits=10, shuffle=True, random_state=42)\n",
    "\n",
    "#         # Evaluate each classifier using cross-validation\n",
    "#         for clf_name, clf in clfs:\n",
    "#             cv_scores = cross_val_score(clf, X_train_cleaned, y_train_cleaned, cv=kf)\n",
    "#             results[name][clf_name] = cv_scores\n"
   ]
  },
  {
   "cell_type": "code",
   "execution_count": 5,
   "metadata": {},
   "outputs": [],
   "source": [
    "# # Extract data to flattened df for plotting\n",
    "# flat_results = []\n",
    "\n",
    "# for dataset_name, clf_results in results.items():\n",
    "#     for clf_name, scores in clf_results.items():\n",
    "#         for score in scores:\n",
    "#             flat_results.append({\n",
    "#                 'Dataset': dataset_name,\n",
    "#                 'Classifier': clf_name,\n",
    "#                 'Score': score\n",
    "#             })\n",
    "\n",
    "# results_df = pd.DataFrame(flat_results)\n",
    "\n",
    "# plt.figure(figsize=(14, 8))\n",
    "# sns.boxplot(x='Classifier', y='Score', hue='Dataset', data=results_df)\n",
    "# plt.xticks(rotation=45)\n",
    "# plt.title('Cross-Validation Scores by Classifier and Dataset')\n",
    "# plt.show()\n"
   ]
  },
  {
   "cell_type": "markdown",
   "metadata": {},
   "source": [
    "Using group K fold because we have subject data"
   ]
  },
  {
   "cell_type": "code",
   "execution_count": 58,
   "metadata": {},
   "outputs": [
    {
     "data": {
      "image/png": "[encoded data removed]",
      "text/plain": [
       "<Figure size 1400x800 with 1 Axes>"
      ]
     },
     "metadata": {},
     "output_type": "display_data"
    }
   ],
   "source": [
    "from sklearn.model_selection import GroupKFold, cross_val_score\n",
    "id_columns.append('idx')\n",
    "results = {}\n",
    "for name in df_names:\n",
    "    results[name] = {}\n",
    "    X_train = pd.read_csv(os.path.join(brighten_dir, f'{name}_X_train.csv'))\n",
    "    X_val = pd.read_csv(os.path.join(brighten_dir, f'{name}_X_val.csv'))\n",
    "    y_train= pd.read_csv(os.path.join(brighten_dir, f'{name}_y_train.csv'))\n",
    "    y_val= pd.read_csv(os.path.join(brighten_dir, f'{name}_y_val.csv'))\n",
    "\n",
    "    # Create KFold object which groups based on num ID\n",
    "    gkf = GroupKFold(n_splits=5)\n",
    "    groups = X_train['num_id']    # Set num_id for the groups\n",
    "    # Now drop all other id columns \n",
    "    X_train_cleaned = X_train.drop(columns=[col for col in X_train.columns if col in id_columns or 'Unnamed' in col])\n",
    "    y_train_cleaned = y_train.drop(columns=[col for col in y_train.columns if 'Unnamed' in col]).squeeze() #squeeze into a list from a series\n",
    "    # Evaluate each classifier using cross-validation\n",
    "    for reg_name, reg in regs:\n",
    "        cv_scores = cross_val_score(reg, X_train_cleaned, y_train_cleaned, groups=groups, cv=gkf, scoring='r2')\n",
    "        results[name][reg_name] = cv_scores\n",
    "\n",
    "\n",
    "# Extract data to flattened df for plotting\n",
    "flat_results = []\n",
    "\n",
    "for dataset_name, reg_results in results.items():\n",
    "    for reg_name, scores in reg_results.items():\n",
    "        for score in scores:\n",
    "            flat_results.append({\n",
    "                'Dataset': dataset_name,\n",
    "                'Regressor': reg_name,\n",
    "                'Score': score\n",
    "            })\n",
    "\n",
    "\n",
    "results_df = pd.DataFrame(flat_results)\n",
    "\n",
    "plt.figure(figsize=(14, 8))\n",
    "sns.boxplot(x='Regressor', y='Score', hue='Dataset', data=results_df)\n",
    "plt.xticks(rotation=45)\n",
    "plt.title('Cross-Validation Scores by Regressor and Dataset')\n",
    "plt.show()\n"
   ]
  },
  {
   "cell_type": "code",
   "execution_count": 59,
   "metadata": {},
   "outputs": [
    {
     "data": {
      "image/png": "[encoded data removed]",
      "text/plain": [
       "<Figure size 1400x800 with 1 Axes>"
      ]
     },
     "metadata": {},
     "output_type": "display_data"
    }
   ],
   "source": [
    "from sklearn.model_selection import GroupKFold, cross_val_score\n",
    "id_columns.append('idx')\n",
    "results = {}\n",
    "for name in df_names:\n",
    "    results[name] = {}\n",
    "    X_train = pd.read_csv(os.path.join(brighten_dir, f'{name}_pca_X_train.csv'))\n",
    "    X_val = pd.read_csv(os.path.join(brighten_dir, f'{name}_pca_X_val.csv'))\n",
    "    y_train= pd.read_csv(os.path.join(brighten_dir, f'{name}_pca_y_train.csv'))\n",
    "    y_val= pd.read_csv(os.path.join(brighten_dir, f'{name}_pca_y_val.csv'))\n",
    "\n",
    "    # Create KFold object which groups based on num ID\n",
    "    gkf = GroupKFold(n_splits=3)\n",
    "    groups = X_train['num_id']    # Set num_id for the groups\n",
    "    # Now drop all other id columns \n",
    "    X_train_cleaned = X_train.drop(columns=[col for col in X_train.columns if col in id_columns or 'Unnamed' in col])\n",
    "    y_train_cleaned = y_train.drop(columns=[col for col in y_train.columns if 'Unnamed' in col]).squeeze() #squeeze into a list from a series\n",
    "    # Evaluate each classifier using cross-validation\n",
    "    for reg_name, reg in regs:\n",
    "        cv_scores = cross_val_score(reg, X_train_cleaned, y_train_cleaned, groups=groups, cv=gkf, scoring='r2')\n",
    "        results[name][reg_name] = cv_scores\n",
    "\n",
    "\n",
    "# Extract data to flattened df for plotting\n",
    "flat_results = []\n",
    "\n",
    "for dataset_name, reg_results in results.items():\n",
    "    for reg_name, scores in reg_results.items():\n",
    "        for score in scores:\n",
    "            flat_results.append({\n",
    "                'Dataset': dataset_name,\n",
    "                'Regressor': reg_name,\n",
    "                'Score': score\n",
    "            })\n",
    "\n",
    "\n",
    "results_df = pd.DataFrame(flat_results)\n",
    "\n",
    "plt.figure(figsize=(14, 8))\n",
    "sns.boxplot(x='Regressor', y='Score', hue='Dataset', data=results_df)\n",
    "plt.xticks(rotation=45)\n",
    "plt.title('Cross-Validation Scores by Regressor and Dataset: PCA Features')\n",
    "plt.show()\n"
   ]
  },
  {
   "cell_type": "code",
   "execution_count": 60,
   "metadata": {},
   "outputs": [
    {
     "data": {
      "image/png": "[encoded data removed]",
      "text/plain": [
       "<Figure size 1400x800 with 1 Axes>"
      ]
     },
     "metadata": {},
     "output_type": "display_data"
    }
   ],
   "source": [
    "from sklearn.model_selection import GroupKFold, cross_val_score\n",
    "id_columns.append('idx')\n",
    "results = {}\n",
    "for name in df_names:\n",
    "    results[name] = {}\n",
    "    X_train = pd.read_csv(os.path.join(brighten_dir, f'{name}_wNA_X_train.csv'))\n",
    "    X_val = pd.read_csv(os.path.join(brighten_dir, f'{name}_wNA_X_val.csv'))\n",
    "    y_train= pd.read_csv(os.path.join(brighten_dir, f'{name}_wNA_y_train.csv'))\n",
    "    y_val= pd.read_csv(os.path.join(brighten_dir, f'{name}_wNA_y_val.csv'))\n",
    "\n",
    "    # Create KFold object which groups based on num ID\n",
    "    gkf = GroupKFold(n_splits=3)\n",
    "    groups = X_train['num_id']    # Set num_id for the groups\n",
    "    # Now drop all other id columns \n",
    "    X_train_cleaned = X_train.drop(columns=[col for col in X_train.columns if col in id_columns or 'Unnamed' in col])\n",
    "    y_train_cleaned = y_train.drop(columns=[col for col in y_train.columns if 'Unnamed' in col]).squeeze() #squeeze into a list from a series\n",
    "    # Evaluate each classifier using cross-validation\n",
    "    for reg_name, reg in regs_someNA:\n",
    "        cv_scores = cross_val_score(reg, X_train_cleaned, y_train_cleaned, groups=groups, cv=gkf, scoring='r2')\n",
    "        results[name][reg_name] = cv_scores\n",
    "\n",
    "\n",
    "# Extract data to flattened df for plotting\n",
    "flat_results = []\n",
    "\n",
    "for dataset_name, reg_results in results.items():\n",
    "    for reg_name, scores in reg_results.items():\n",
    "        for score in scores:\n",
    "            flat_results.append({\n",
    "                'Dataset': dataset_name,\n",
    "                'Regressor': reg_name,\n",
    "                'Score': score\n",
    "            })\n",
    "\n",
    "\n",
    "results_df = pd.DataFrame(flat_results)\n",
    "\n",
    "plt.figure(figsize=(14, 8))\n",
    "sns.boxplot(x='Regressor', y='Score', hue='Dataset', data=results_df)\n",
    "plt.xticks(rotation=45)\n",
    "plt.title('Cross-Validation Scores by Regressor and Dataset: PCA Features')\n",
    "plt.show()\n"
   ]
  },
  {
   "cell_type": "markdown",
   "metadata": {},
   "source": [
    "## From this we can see Random Forest is the best performing algorithm.\n",
    "\n",
    "Since we have much more data for V1 day than V2 day, and also have communication features in V1 day, it makes sense that it has a higher accuracy.\n",
    "\n",
    "We'll focus on the day regressors, and on randomforest, as it does well for both V1 day and V2 day."
   ]
  },
  {
   "cell_type": "code",
   "execution_count": 14,
   "metadata": {},
   "outputs": [
    {
     "name": "stdout",
     "output_type": "stream",
     "text": [
      "--- Dataset: v1_day ---\n"
     ]
    },
    {
     "name": "stderr",
     "output_type": "stream",
     "text": [
      "/opt/anaconda3/lib/python3.12/site-packages/joblib/externals/loky/process_executor.py:752: UserWarning: A worker stopped while some jobs were given to the executor. This can be caused by a too short worker timeout or by a memory leak.\n",
      "  warnings.warn(\n"
     ]
    },
    {
     "name": "stdout",
     "output_type": "stream",
     "text": [
      "{'best_params': {'n_estimators': 500, 'min_samples_split': 10, 'min_samples_leaf': 4, 'max_features': 0.75, 'max_depth': 20}, 'best_score': 0.056387154383319205}\n",
      "--- Dataset: v2_day ---\n"
     ]
    },
    {
     "name": "stderr",
     "output_type": "stream",
     "text": [
      "/opt/anaconda3/lib/python3.12/site-packages/joblib/externals/loky/process_executor.py:752: UserWarning: A worker stopped while some jobs were given to the executor. This can be caused by a too short worker timeout or by a memory leak.\n",
      "  warnings.warn(\n"
     ]
    },
    {
     "name": "stdout",
     "output_type": "stream",
     "text": [
      "{'best_params': {'n_estimators': 1000, 'min_samples_split': 2, 'min_samples_leaf': 2, 'max_features': None, 'max_depth': None}, 'best_score': 0.14606447330732053}\n",
      "--- Dataset: v1_week ---\n",
      "{'best_params': {'n_estimators': 500, 'min_samples_split': 2, 'min_samples_leaf': 10, 'max_features': 'log2', 'max_depth': 5}, 'best_score': -0.19867174660385056}\n"
     ]
    }
   ],
   "source": [
    "## Random Forest Random Search\n",
    "results = {}\n",
    "for name in df_names:\n",
    "    print(f\"--- Dataset: {name} ---\")\n",
    "    X_train_unclean = pd.read_csv(os.path.join(brighten_dir, f'{name}_X_train.csv'))\n",
    "    y_train_unclean = pd.read_csv(os.path.join(brighten_dir, f'{name}_y_train.csv'))\n",
    "    # test\n",
    "    X_test_unclean = pd.read_csv(os.path.join(brighten_dir, f'{name}_X_test.csv'))\n",
    "    y_test_unclean = pd.read_csv(os.path.join(brighten_dir, f'{name}_y_test.csv'))\n",
    "\n",
    "    X_train = X_train_unclean.drop(columns=[col for col in X_train_unclean.columns if col in id_columns or 'Unnamed' in col])\n",
    "    y_train = y_train_unclean.drop(columns=[col for col in y_train_unclean.columns if 'Unnamed' in col]).squeeze()\n",
    "    X_test = X_test_unclean.drop(columns=[col for col in X_test_unclean.columns if col in id_columns or 'Unnamed' in col])\n",
    "    y_test = y_test_unclean.drop(columns=[col for col in y_test_unclean.columns if 'Unnamed' in col]).squeeze()\n",
    "\n",
    "    # Define parameter grid based on dataset\n",
    "    param_grid = {\n",
    "            'n_estimators': [100, 200, 500, 1000],\n",
    "            'max_depth': [None, 5, 10, 20, 30, 50],\n",
    "            'min_samples_split': [2, 5, 10],\n",
    "            'min_samples_leaf': [1, 2, 4, 10],\n",
    "            'max_features': [None, \"sqrt\", \"log2\", 0.5, 0.75],\n",
    "        }\n",
    "\n",
    "    # Initialize the CatBoostClassifier\n",
    "    model = RandomForestRegressor(random_state=42)\n",
    "\n",
    "    # Perform grid search\n",
    "    grid = RandomizedSearchCV(\n",
    "        estimator=model,\n",
    "        param_distributions=param_grid,\n",
    "        n_iter=100,\n",
    "        scoring='r2',\n",
    "        n_jobs=-1,\n",
    "        random_state=42,\n",
    "        error_score='raise'\n",
    "    )\n",
    "\n",
    "    # Log best results\n",
    "    grid.fit(X_train, y_train)\n",
    "\n",
    "    best_params = grid.best_params_\n",
    "\n",
    "    final_model = RandomForestRegressor(**best_params, random_state=42)\n",
    "\n",
    "    final_model.fit(X_train, y_train)\n",
    "    score = final_model.score(X_test, y_test)\n",
    "\n",
    "    results[name] = {\n",
    "        \"best_params\": best_params,\n",
    "        \"best_score\": score\n",
    "        }\n",
    " \n",
    "    print(results[name])"
   ]
  },
  {
   "cell_type": "code",
   "execution_count": 15,
   "metadata": {},
   "outputs": [
    {
     "data": {
      "text/plain": [
       "{'v1_day': {'best_params': {'n_estimators': 500,\n",
       "   'min_samples_split': 10,\n",
       "   'min_samples_leaf': 4,\n",
       "   'max_features': 0.75,\n",
       "   'max_depth': 20},\n",
       "  'best_score': 0.056387154383319205},\n",
       " 'v2_day': {'best_params': {'n_estimators': 1000,\n",
       "   'min_samples_split': 2,\n",
       "   'min_samples_leaf': 2,\n",
       "   'max_features': None,\n",
       "   'max_depth': None},\n",
       "  'best_score': 0.14606447330732053},\n",
       " 'v1_week': {'best_params': {'n_estimators': 500,\n",
       "   'min_samples_split': 2,\n",
       "   'min_samples_leaf': 10,\n",
       "   'max_features': 'log2',\n",
       "   'max_depth': 5},\n",
       "  'best_score': -0.19867174660385056}}"
      ]
     },
     "execution_count": 15,
     "metadata": {},
     "output_type": "execute_result"
    }
   ],
   "source": [
    "results"
   ]
  },
  {
   "cell_type": "markdown",
   "metadata": {},
   "source": [
    "### Some NaN values\n",
    "Not imputed"
   ]
  },
  {
   "cell_type": "code",
   "execution_count": 4,
   "metadata": {},
   "outputs": [
    {
     "data": {
      "image/png": "[encoded data removed]",
      "text/plain": [
       "<Figure size 1400x800 with 1 Axes>"
      ]
     },
     "metadata": {},
     "output_type": "display_data"
    }
   ],
   "source": [
    "from sklearn.model_selection import GroupKFold, cross_val_score\n",
    "id_columns.append('idx')\n",
    "results = {}\n",
    "for name in df_names:\n",
    "    results[name] = {}\n",
    "    X_train = pd.read_csv(os.path.join(brighten_dir, f'{name}_wNA_X_train.csv'))\n",
    "    X_test = pd.read_csv(os.path.join(brighten_dir, f'{name}_wNA_X_test.csv'))\n",
    "    y_train= pd.read_csv(os.path.join(brighten_dir, f'{name}_wNA_y_train.csv'))\n",
    "    y_test= pd.read_csv(os.path.join(brighten_dir, f'{name}_wNA_y_test.csv'))\n",
    "\n",
    "    # Create KFold object which groups based on num ID\n",
    "    gkf = GroupKFold(n_splits=3)\n",
    "    groups = X_train['num_id']    # Set num_id for the groups\n",
    "    # Now drop all other id columns \n",
    "    X_train_cleaned = X_train.drop(columns=[col for col in X_train.columns if col in id_columns or 'Unnamed' in col])\n",
    "    y_train_cleaned = y_train.drop(columns=[col for col in y_train.columns if 'Unnamed' in col]).squeeze() #squeeze into a list from a series\n",
    "    # Evaluate each classifier using cross-validation\n",
    "    for reg_name, reg in regs_someNA:\n",
    "        cv_scores = cross_val_score(reg, X_train_cleaned, y_train_cleaned, groups=groups, cv=gkf, scoring='r2')\n",
    "        results[name][reg_name] = cv_scores\n",
    "\n",
    "\n",
    "# Extract data to flattened df for plotting\n",
    "flat_results = []\n",
    "\n",
    "for dataset_name, reg_results in results.items():\n",
    "    for reg_name, scores in reg_results.items():\n",
    "        for score in scores:\n",
    "            flat_results.append({\n",
    "                'Dataset': dataset_name,\n",
    "                'Regressor': reg_name,\n",
    "                'Score': score\n",
    "            })\n",
    "\n",
    "\n",
    "results_df = pd.DataFrame(flat_results)\n",
    "\n",
    "plt.figure(figsize=(14, 8))\n",
    "sns.boxplot(x='Regressor', y='Score', hue='Dataset', data=results_df)\n",
    "plt.xticks(rotation=45)\n",
    "plt.title('Cross-Validation Scores by Regressor and Dataset')\n",
    "plt.show()\n"
   ]
  },
  {
   "cell_type": "code",
   "execution_count": null,
   "metadata": {},
   "outputs": [],
   "source": [
    "## Catboost RandomSearch\n",
    "#results = {}\n",
    "#for name in df_names:\n",
    "print(f\"--- Dataset: {name} ---\")\n",
    "X_train_unclean = pd.read_csv(os.path.join(brighten_dir, f'{name}_X_train.csv'))\n",
    "y_train_unclean = pd.read_csv(os.path.join(brighten_dir, f'{name}_y_train.csv'))\n",
    "# test\n",
    "X_test_unclean = pd.read_csv(os.path.join(brighten_dir, f'{name}_X_test.csv'))\n",
    "y_test_unclean = pd.read_csv(os.path.join(brighten_dir, f'{name}_y_test.csv'))\n",
    "\n",
    "X_train = X_train_unclean.drop(columns=[col for col in X_train_unclean.columns if col in id_columns or 'Unnamed' in col])\n",
    "y_train = y_train_unclean.drop(columns=[col for col in y_train_unclean.columns if 'Unnamed' in col]).squeeze()\n",
    "X_test = X_test_unclean.drop(columns=[col for col in X_test_unclean.columns if col in id_columns or 'Unnamed' in col])\n",
    "y_test = y_test_unclean.drop(columns=[col for col in y_test_unclean.columns if 'Unnamed' in col]).squeeze()\n",
    "\n",
    "# Define parameter grid based on dataset\n",
    "if name == \"v1_day\":\n",
    "    param_grid = {\n",
    "            'n_estimators': [i for i in range(50, 200)],\n",
    "            'learning_rate': [round(x, 2) for x in np.arange(0.05, 1.05, 100)],\n",
    "            'subsample': [i for i in np.linspace(0.01, 0.99, 100)],\n",
    "        }\n",
    "elif name == \"v2_day\":\n",
    "    param_grid = {\n",
    "            'n_estimators': [i for i in range(50, 200)],\n",
    "            'learning_rate': [round(x, 2) for x in np.arange(0.05, 1.05, 100)],\n",
    "            'subsample': [i for i in np.linspace(0.01, 0.99, 100)],\n",
    "        }\n",
    "\n",
    "# Initialize the CatBoostClassifier\n",
    "model = GradientBoostingClassifier(random_state=42, verbose=0)\n",
    "\n",
    "# Perform grid search\n",
    "grid = RandomizedSearchCV(\n",
    "    estimator=model,\n",
    "    param_distributions=param_grid,\n",
    "    n_iter=100,\n",
    "    scoring='accuracy',\n",
    "    n_jobs=-1,\n",
    "    random_state=42,\n",
    "    error_score='raise'\n",
    ")\n",
    "\n",
    "# Log best results\n",
    "grid.fit(X_train, y_train)\n",
    "\n",
    "best_params = grid.best_params_\n",
    "\n",
    "final_model = GradientBoostingClassifier(**best_params, random_state=42)\n",
    "\n",
    "final_model.fit(X_train, y_train)\n",
    "score = final_model.score(X_test, y_test)\n",
    "\n",
    "results[name] = {\n",
    "    \"best_params\": best_params,\n",
    "    \"best_score\": score\n",
    "    }\n",
    "\n",
    "print(results[name])"
   ]
  },
  {
   "cell_type": "markdown",
   "metadata": {},
   "source": [
    "The best parameters for each model are saved into {name}_catboost_gridsearch_results.json. From this we've gotten the 'best parameters' found, as well as an accuracy score. We can use these accuracy scores to compare to the increases in accuracy from optimizing hyperparameters."
   ]
  },
  {
   "cell_type": "markdown",
   "metadata": {},
   "source": [
    "## more specified hyperparameter optimization\n",
    "From those parameter dicts we can make the parameter space smaller and more specifically find the optimal parameters for each aspect of the model. We'll use a random search still to decrease the compute time, but increase the iterations and decrease the ranges for each parameter.\n",
    "\n",
    "We can then use the optimized hyperparameters and evaluate the accuracy score of the final model.\n",
    "\n",
    "We'll use RMSE because we're interested in generally predicting the area of the depression score each subject is in."
   ]
  },
  {
   "cell_type": "code",
   "execution_count": null,
   "metadata": {},
   "outputs": [
    {
     "name": "stdout",
     "output_type": "stream",
     "text": [
      "--- Dataset: v1_day ---\n",
      "{'best_params': {'subsample': 0.651503006012024, 'n_estimators': 52, 'learning_rate': 0.0001}, 'best_score': 0.673939393939394}\n",
      "--- Dataset: v2_day ---\n",
      "{'best_params': {'subsample': 0.999, 'n_estimators': 152, 'learning_rate': 0.0001}, 'best_score': 0.522673031026253}\n",
      "--- Dataset: v1_week ---\n",
      "{'best_params': {'subsample': 0.676753507014028, 'n_estimators': 52, 'learning_rate': 0.0001}, 'best_score': 0.24285714285714285}\n"
     ]
    }
   ],
   "source": [
    "optimized_results = {}\n",
    "for name in df_names:\n",
    "    print(f\"--- Dataset: {name} ---\")\n",
    "    X_train_unclean = pd.read_csv(os.path.join(brighten_dir, f'{name}_X_train.csv'))\n",
    "    y_train_unclean = pd.read_csv(os.path.join(brighten_dir, f'{name}_y_train.csv'))\n",
    "    # test\n",
    "    X_test_unclean = pd.read_csv(os.path.join(brighten_dir, f'{name}_X_test.csv'))\n",
    "    y_test_unclean = pd.read_csv(os.path.join(brighten_dir, f'{name}_y_test.csv'))\n",
    "\n",
    "    X_train = X_train_unclean.drop(columns=[col for col in X_train_unclean.columns if col in id_columns or 'Unnamed' in col])\n",
    "    y_train = y_train_unclean.drop(columns=[col for col in y_train_unclean.columns if 'Unnamed' in col]).squeeze()\n",
    "    X_test = X_test_unclean.drop(columns=[col for col in X_test_unclean.columns if col in id_columns or 'Unnamed' in col])\n",
    "    y_test = y_test_unclean.drop(columns=[col for col in y_test_unclean.columns if 'Unnamed' in col]).squeeze()\n",
    "\n",
    "    # Define parameter grid based on dataset\n",
    "    if name == \"v1_day\":\n",
    "        param_grid = {\n",
    "            'n_estimators': [i for i in range(120, 150)],\n",
    "            'max_depth': [i for i in range(8, 20)],\n",
    "            'min_samples_split': [i for i in range(50, 100)],\n",
    "            'min_samples_leaf': [i for i in range(xx)],\n",
    "            'max_features': [i for i in range(4, 12)],\n",
    "            }\n",
    "    elif name == \"v2_day\":\n",
    "        param_grid = {\n",
    "            'n_estimators': [i for i in range(50, 200)],\n",
    "            'max_depth': [i for i in range(2, 15)],\n",
    "            'min_samples_split': [i for i in range(50, 500)],\n",
    "            'min_samples_leaf': [i for i in range(50, 500)],\n",
    "            'max_features': [i for i in range(4, 12)],\n",
    "        }\n",
    "    elif name == \"v1_week\":\n",
    "        param_grid = {\n",
    "            'n_estimators': [i for i in range(120, 150)],\n",
    "            'max_depth': [i for i in range(8, 20)],\n",
    "            'min_samples_split': [i for i in range(50, 100)],\n",
    "            'min_samples_leaf': [i for i in range(xx)],\n",
    "            'max_features': [i for i in range(4, 12)],\n",
    "        }\n",
    "    \n",
    "    # Initialize the CatBoostClassifier\n",
    "    model = GradientBoostingClassifier(random_state=42, verbose=0)\n",
    "\n",
    "    # Perform grid search\n",
    "    grid = RandomizedSearchCV(\n",
    "        estimator=model,\n",
    "        param_distributions=param_grid,\n",
    "        n_iter=500,\n",
    "        scoring='accuracy',\n",
    "        n_jobs=-1,\n",
    "        random_state=42\n",
    "    )\n",
    "\n",
    "    # Log best results\n",
    "    grid.fit(X_train, y_train)\n",
    "\n",
    "    best_params = grid.best_params_\n",
    "    optimized_results[name] = {\"best_params\": best_params}\n",
    "\n",
    "    final_model = GradientBoostingClassifier(**best_params, random_state=42)\n",
    "\n",
    "    final_model.fit(X_train, y_train)\n",
    "    score = final_model.score(X_test, y_test)\n",
    "\n",
    "    optimized_results[name] = {\n",
    "        \"best_params\": best_params,\n",
    "        \"best_score\": score\n",
    "        }\n",
    "\n",
    "    print(optimized_results[name])\n",
    "\n"
   ]
  },
  {
   "cell_type": "markdown",
   "metadata": {},
   "source": [
    "#### Increased random search results\n",
    "Now we can see the best parameters for each dataset, as well as the accuracy over all crossfolds. \n",
    "\n",
    "v1_day_predictions.json:\n",
    "{\n",
    "    \"accuracy\": 0.674\n",
    "}  \n",
    "\n",
    "v2_day_predictions.json:\n",
    "{\n",
    "    \"accuracy\": 0.523\n",
    "}  \n",
    "\n",
    "v1_week_predictions.json:\n",
    "{\n",
    "    \"accuracy\": 0.243\n",
    "}\n"
   ]
  },
  {
   "cell_type": "markdown",
   "metadata": {},
   "source": [
    "### Evaluating results\n",
    "We can now see the accuracy of each loosely-optimized hyperparameter model and increased-optimized hyperparameter model. We compare the accuracies in this below chart: "
   ]
  },
  {
   "cell_type": "code",
   "execution_count": 106,
   "metadata": {},
   "outputs": [
    {
     "data": {
      "application/vnd.plotly.v1+json": {
       "config": {
        "plotlyServerURL": "https://plot.ly"
       },
       "data": [
        {
         "alignmentgroup": "True",
         "hovertemplate": "model=loose_model<br>Dataset=%{x}<br>Accuracy Score=%{text}<extra></extra>",
         "legendgroup": "loose_model",
         "marker": {
          "color": "#636efa",
          "pattern": {
           "shape": ""
          }
         },
         "name": "loose_model",
         "offsetgroup": "loose_model",
         "orientation": "v",
         "showlegend": true,
         "text": [
          0.673939393939394,
          0.5548926014319809,
          0.19523809523809524
         ],
         "textposition": "auto",
         "type": "bar",
         "x": [
          "v1_day",
          "v2_day",
          "v1_week"
         ],
         "xaxis": "x",
         "y": [
          0.673939393939394,
          0.5548926014319809,
          0.19523809523809524
         ],
         "yaxis": "y"
        },
        {
         "alignmentgroup": "True",
         "hovertemplate": "model=optimized_model<br>Dataset=%{x}<br>Accuracy Score=%{text}<extra></extra>",
         "legendgroup": "optimized_model",
         "marker": {
          "color": "#EF553B",
          "pattern": {
           "shape": ""
          }
         },
         "name": "optimized_model",
         "offsetgroup": "optimized_model",
         "orientation": "v",
         "showlegend": true,
         "text": [
          0.673939393939394,
          0.522673031026253,
          0.24285714285714285
         ],
         "textposition": "auto",
         "type": "bar",
         "x": [
          "v1_day",
          "v2_day",
          "v1_week"
         ],
         "xaxis": "x",
         "y": [
          0.673939393939394,
          0.522673031026253,
          0.24285714285714285
         ],
         "yaxis": "y"
        }
       ],
       "layout": {
        "barmode": "group",
        "legend": {
         "title": {
          "text": "model"
         },
         "tracegroupgap": 0
        },
        "template": {
         "data": {
          "bar": [
           {
            "error_x": {
             "color": "#2a3f5f"
            },
            "error_y": {
             "color": "#2a3f5f"
            },
            "marker": {
             "line": {
              "color": "#E5ECF6",
              "width": 0.5
             },
             "pattern": {
              "fillmode": "overlay",
              "size": 10,
              "solidity": 0.2
             }
            },
            "type": "bar"
           }
          ],
          "barpolar": [
           {
            "marker": {
             "line": {
              "color": "#E5ECF6",
              "width": 0.5
             },
             "pattern": {
              "fillmode": "overlay",
              "size": 10,
              "solidity": 0.2
             }
            },
            "type": "barpolar"
           }
          ],
          "carpet": [
           {
            "aaxis": {
             "endlinecolor": "#2a3f5f",
             "gridcolor": "white",
             "linecolor": "white",
             "minorgridcolor": "white",
             "startlinecolor": "#2a3f5f"
            },
            "baxis": {
             "endlinecolor": "#2a3f5f",
             "gridcolor": "white",
             "linecolor": "white",
             "minorgridcolor": "white",
             "startlinecolor": "#2a3f5f"
            },
            "type": "carpet"
           }
          ],
          "choropleth": [
           {
            "colorbar": {
             "outlinewidth": 0,
             "ticks": ""
            },
            "type": "choropleth"
           }
          ],
          "contour": [
           {
            "colorbar": {
             "outlinewidth": 0,
             "ticks": ""
            },
            "colorscale": [
             [
              0,
              "#0d0887"
             ],
             [
              0.1111111111111111,
              "#46039f"
             ],
             [
              0.2222222222222222,
              "#7201a8"
             ],
             [
              0.3333333333333333,
              "#9c179e"
             ],
             [
              0.4444444444444444,
              "#bd3786"
             ],
             [
              0.5555555555555556,
              "#d8576b"
             ],
             [
              0.6666666666666666,
              "#ed7953"
             ],
             [
              0.7777777777777778,
              "#fb9f3a"
             ],
             [
              0.8888888888888888,
              "#fdca26"
             ],
             [
              1,
              "#f0f921"
             ]
            ],
            "type": "contour"
           }
          ],
          "contourcarpet": [
           {
            "colorbar": {
             "outlinewidth": 0,
             "ticks": ""
            },
            "type": "contourcarpet"
           }
          ],
          "heatmap": [
           {
            "colorbar": {
             "outlinewidth": 0,
             "ticks": ""
            },
            "colorscale": [
             [
              0,
              "#0d0887"
             ],
             [
              0.1111111111111111,
              "#46039f"
             ],
             [
              0.2222222222222222,
              "#7201a8"
             ],
             [
              0.3333333333333333,
              "#9c179e"
             ],
             [
              0.4444444444444444,
              "#bd3786"
             ],
             [
              0.5555555555555556,
              "#d8576b"
             ],
             [
              0.6666666666666666,
              "#ed7953"
             ],
             [
              0.7777777777777778,
              "#fb9f3a"
             ],
             [
              0.8888888888888888,
              "#fdca26"
             ],
             [
              1,
              "#f0f921"
             ]
            ],
            "type": "heatmap"
           }
          ],
          "histogram": [
           {
            "marker": {
             "pattern": {
              "fillmode": "overlay",
              "size": 10,
              "solidity": 0.2
             }
            },
            "type": "histogram"
           }
          ],
          "histogram2d": [
           {
            "colorbar": {
             "outlinewidth": 0,
             "ticks": ""
            },
            "colorscale": [
             [
              0,
              "#0d0887"
             ],
             [
              0.1111111111111111,
              "#46039f"
             ],
             [
              0.2222222222222222,
              "#7201a8"
             ],
             [
              0.3333333333333333,
              "#9c179e"
             ],
             [
              0.4444444444444444,
              "#bd3786"
             ],
             [
              0.5555555555555556,
              "#d8576b"
             ],
             [
              0.6666666666666666,
              "#ed7953"
             ],
             [
              0.7777777777777778,
              "#fb9f3a"
             ],
             [
              0.8888888888888888,
              "#fdca26"
             ],
             [
              1,
              "#f0f921"
             ]
            ],
            "type": "histogram2d"
           }
          ],
          "histogram2dcontour": [
           {
            "colorbar": {
             "outlinewidth": 0,
             "ticks": ""
            },
            "colorscale": [
             [
              0,
              "#0d0887"
             ],
             [
              0.1111111111111111,
              "#46039f"
             ],
             [
              0.2222222222222222,
              "#7201a8"
             ],
             [
              0.3333333333333333,
              "#9c179e"
             ],
             [
              0.4444444444444444,
              "#bd3786"
             ],
             [
              0.5555555555555556,
              "#d8576b"
             ],
             [
              0.6666666666666666,
              "#ed7953"
             ],
             [
              0.7777777777777778,
              "#fb9f3a"
             ],
             [
              0.8888888888888888,
              "#fdca26"
             ],
             [
              1,
              "#f0f921"
             ]
            ],
            "type": "histogram2dcontour"
           }
          ],
          "mesh3d": [
           {
            "colorbar": {
             "outlinewidth": 0,
             "ticks": ""
            },
            "type": "mesh3d"
           }
          ],
          "parcoords": [
           {
            "line": {
             "colorbar": {
              "outlinewidth": 0,
              "ticks": ""
             }
            },
            "type": "parcoords"
           }
          ],
          "pie": [
           {
            "automargin": true,
            "type": "pie"
           }
          ],
          "scatter": [
           {
            "fillpattern": {
             "fillmode": "overlay",
             "size": 10,
             "solidity": 0.2
            },
            "type": "scatter"
           }
          ],
          "scatter3d": [
           {
            "line": {
             "colorbar": {
              "outlinewidth": 0,
              "ticks": ""
             }
            },
            "marker": {
             "colorbar": {
              "outlinewidth": 0,
              "ticks": ""
             }
            },
            "type": "scatter3d"
           }
          ],
          "scattercarpet": [
           {
            "marker": {
             "colorbar": {
              "outlinewidth": 0,
              "ticks": ""
             }
            },
            "type": "scattercarpet"
           }
          ],
          "scattergeo": [
           {
            "marker": {
             "colorbar": {
              "outlinewidth": 0,
              "ticks": ""
             }
            },
            "type": "scattergeo"
           }
          ],
          "scattergl": [
           {
            "marker": {
             "colorbar": {
              "outlinewidth": 0,
              "ticks": ""
             }
            },
            "type": "scattergl"
           }
          ],
          "scattermap": [
           {
            "marker": {
             "colorbar": {
              "outlinewidth": 0,
              "ticks": ""
             }
            },
            "type": "scattermap"
           }
          ],
          "scattermapbox": [
           {
            "marker": {
             "colorbar": {
              "outlinewidth": 0,
              "ticks": ""
             }
            },
            "type": "scattermapbox"
           }
          ],
          "scatterpolar": [
           {
            "marker": {
             "colorbar": {
              "outlinewidth": 0,
              "ticks": ""
             }
            },
            "type": "scatterpolar"
           }
          ],
          "scatterpolargl": [
           {
            "marker": {
             "colorbar": {
              "outlinewidth": 0,
              "ticks": ""
             }
            },
            "type": "scatterpolargl"
           }
          ],
          "scatterternary": [
           {
            "marker": {
             "colorbar": {
              "outlinewidth": 0,
              "ticks": ""
             }
            },
            "type": "scatterternary"
           }
          ],
          "surface": [
           {
            "colorbar": {
             "outlinewidth": 0,
             "ticks": ""
            },
            "colorscale": [
             [
              0,
              "#0d0887"
             ],
             [
              0.1111111111111111,
              "#46039f"
             ],
             [
              0.2222222222222222,
              "#7201a8"
             ],
             [
              0.3333333333333333,
              "#9c179e"
             ],
             [
              0.4444444444444444,
              "#bd3786"
             ],
             [
              0.5555555555555556,
              "#d8576b"
             ],
             [
              0.6666666666666666,
              "#ed7953"
             ],
             [
              0.7777777777777778,
              "#fb9f3a"
             ],
             [
              0.8888888888888888,
              "#fdca26"
             ],
             [
              1,
              "#f0f921"
             ]
            ],
            "type": "surface"
           }
          ],
          "table": [
           {
            "cells": {
             "fill": {
              "color": "#EBF0F8"
             },
             "line": {
              "color": "white"
             }
            },
            "header": {
             "fill": {
              "color": "#C8D4E3"
             },
             "line": {
              "color": "white"
             }
            },
            "type": "table"
           }
          ]
         },
         "layout": {
          "annotationdefaults": {
           "arrowcolor": "#2a3f5f",
           "arrowhead": 0,
           "arrowwidth": 1
          },
          "autotypenumbers": "strict",
          "coloraxis": {
           "colorbar": {
            "outlinewidth": 0,
            "ticks": ""
           }
          },
          "colorscale": {
           "diverging": [
            [
             0,
             "#8e0152"
            ],
            [
             0.1,
             "#c51b7d"
            ],
            [
             0.2,
             "#de77ae"
            ],
            [
             0.3,
             "#f1b6da"
            ],
            [
             0.4,
             "#fde0ef"
            ],
            [
             0.5,
             "#f7f7f7"
            ],
            [
             0.6,
             "#e6f5d0"
            ],
            [
             0.7,
             "#b8e186"
            ],
            [
             0.8,
             "#7fbc41"
            ],
            [
             0.9,
             "#4d9221"
            ],
            [
             1,
             "#276419"
            ]
           ],
           "sequential": [
            [
             0,
             "#0d0887"
            ],
            [
             0.1111111111111111,
             "#46039f"
            ],
            [
             0.2222222222222222,
             "#7201a8"
            ],
            [
             0.3333333333333333,
             "#9c179e"
            ],
            [
             0.4444444444444444,
             "#bd3786"
            ],
            [
             0.5555555555555556,
             "#d8576b"
            ],
            [
             0.6666666666666666,
             "#ed7953"
            ],
            [
             0.7777777777777778,
             "#fb9f3a"
            ],
            [
             0.8888888888888888,
             "#fdca26"
            ],
            [
             1,
             "#f0f921"
            ]
           ],
           "sequentialminus": [
            [
             0,
             "#0d0887"
            ],
            [
             0.1111111111111111,
             "#46039f"
            ],
            [
             0.2222222222222222,
             "#7201a8"
            ],
            [
             0.3333333333333333,
             "#9c179e"
            ],
            [
             0.4444444444444444,
             "#bd3786"
            ],
            [
             0.5555555555555556,
             "#d8576b"
            ],
            [
             0.6666666666666666,
             "#ed7953"
            ],
            [
             0.7777777777777778,
             "#fb9f3a"
            ],
            [
             0.8888888888888888,
             "#fdca26"
            ],
            [
             1,
             "#f0f921"
            ]
           ]
          },
          "colorway": [
           "#636efa",
           "#EF553B",
           "#00cc96",
           "#ab63fa",
           "#FFA15A",
           "#19d3f3",
           "#FF6692",
           "#B6E880",
           "#FF97FF",
           "#FECB52"
          ],
          "font": {
           "color": "#2a3f5f"
          },
          "geo": {
           "bgcolor": "white",
           "lakecolor": "white",
           "landcolor": "#E5ECF6",
           "showlakes": true,
           "showland": true,
           "subunitcolor": "white"
          },
          "hoverlabel": {
           "align": "left"
          },
          "hovermode": "closest",
          "mapbox": {
           "style": "light"
          },
          "paper_bgcolor": "white",
          "plot_bgcolor": "#E5ECF6",
          "polar": {
           "angularaxis": {
            "gridcolor": "white",
            "linecolor": "white",
            "ticks": ""
           },
           "bgcolor": "#E5ECF6",
           "radialaxis": {
            "gridcolor": "white",
            "linecolor": "white",
            "ticks": ""
           }
          },
          "scene": {
           "xaxis": {
            "backgroundcolor": "#E5ECF6",
            "gridcolor": "white",
            "gridwidth": 2,
            "linecolor": "white",
            "showbackground": true,
            "ticks": "",
            "zerolinecolor": "white"
           },
           "yaxis": {
            "backgroundcolor": "#E5ECF6",
            "gridcolor": "white",
            "gridwidth": 2,
            "linecolor": "white",
            "showbackground": true,
            "ticks": "",
            "zerolinecolor": "white"
           },
           "zaxis": {
            "backgroundcolor": "#E5ECF6",
            "gridcolor": "white",
            "gridwidth": 2,
            "linecolor": "white",
            "showbackground": true,
            "ticks": "",
            "zerolinecolor": "white"
           }
          },
          "shapedefaults": {
           "line": {
            "color": "#2a3f5f"
           }
          },
          "ternary": {
           "aaxis": {
            "gridcolor": "white",
            "linecolor": "white",
            "ticks": ""
           },
           "baxis": {
            "gridcolor": "white",
            "linecolor": "white",
            "ticks": ""
           },
           "bgcolor": "#E5ECF6",
           "caxis": {
            "gridcolor": "white",
            "linecolor": "white",
            "ticks": ""
           }
          },
          "title": {
           "x": 0.05
          },
          "xaxis": {
           "automargin": true,
           "gridcolor": "white",
           "linecolor": "white",
           "ticks": "",
           "title": {
            "standoff": 15
           },
           "zerolinecolor": "white",
           "zerolinewidth": 2
          },
          "yaxis": {
           "automargin": true,
           "gridcolor": "white",
           "linecolor": "white",
           "ticks": "",
           "title": {
            "standoff": 15
           },
           "zerolinecolor": "white",
           "zerolinewidth": 2
          }
         }
        },
        "title": {
         "text": "Model Comparison Across v1_day, v2_day, and v1_week"
        },
        "xaxis": {
         "anchor": "y",
         "domain": [
          0,
          1
         ],
         "title": {
          "text": "Dataset"
         }
        },
        "yaxis": {
         "anchor": "x",
         "domain": [
          0,
          1
         ],
         "title": {
          "text": "Accuracy Score"
         }
        }
       }
      }
     },
     "metadata": {},
     "output_type": "display_data"
    }
   ],
   "source": [
    "results_df = pd.DataFrame(results).reset_index()\n",
    "results_df['loose_model'] = 'loose_model'\n",
    "opt_results_df = pd.DataFrame(optimized_results).reset_index()\n",
    "opt_results_df['optimized_model'] = 'optimized_model'\n",
    "total = pd.concat([results_df, opt_results_df], axis=0)\n",
    "total = total[total['index']=='best_score']\n",
    "total['model'] = total['loose_model'].astype(str).replace('nan','') + total['optimized_model'].astype(str).replace('nan','')\n",
    "total = total.drop(columns=['optimized_model','loose_model'])\n",
    "df_melted = total.melt( # Melt the DataFrame\n",
    "    id_vars=['model'],\n",
    "    value_vars=['v1_day', 'v2_day', 'v1_week'],\n",
    "    var_name='variable',\n",
    "    value_name='score'\n",
    ")\n",
    "fig = px.bar(\n",
    "    df_melted,\n",
    "    x='variable',    # x-axis: v1_day, v2_day, v1_week\n",
    "    y='score',       # y-axis: score value\n",
    "    color='model',   # bar color: loose_model vs optimized_model\n",
    "    barmode='group', # grouped bars next to each other\n",
    "    text='score',    # show value labels\n",
    "    title='Model Comparison Across v1_day, v2_day, and v1_week',\n",
    "    labels={'variable': 'Dataset', 'score': 'Accuracy Score'}\n",
    ")\n",
    "\n",
    "fig.show()\n"
   ]
  },
  {
   "cell_type": "markdown",
   "metadata": {},
   "source": [
    "Tuning the hyperparameters further gave us an increase in accuracy for v1_week by about 5%. For v1_day it didn't change and for v1_week it deceased around 3%."
   ]
  },
  {
   "cell_type": "code",
   "execution_count": null,
   "metadata": {},
   "outputs": [],
   "source": []
  },
  {
   "cell_type": "markdown",
   "metadata": {},
   "source": [
    "### Bayesian Hyperparameter Optimization\n",
    "This took over 9 hours and still didn't converge, so let's try another method. \n",
    "\n",
    "First we'll try to optimize hyperparameters for KNN."
   ]
  },
  {
   "cell_type": "code",
   "execution_count": 30,
   "metadata": {},
   "outputs": [
    {
     "name": "stdout",
     "output_type": "stream",
     "text": [
      "  0%|          | 0/100 [00:00<?, ?trial/s, best loss=?]"
     ]
    },
    {
     "name": "stderr",
     "output_type": "stream",
     "text": [
      "job exception: ('switch argument was', 1)\n",
      "\n"
     ]
    },
    {
     "name": "stdout",
     "output_type": "stream",
     "text": [
      "  0%|          | 0/100 [00:00<?, ?trial/s, best loss=?]\n"
     ]
    },
    {
     "ename": "TypeError",
     "evalue": "('switch argument was', 1)",
     "output_type": "error",
     "traceback": [
      "\u001b[0;31m---------------------------------------------------------------------------\u001b[0m",
      "\u001b[0;31mTypeError\u001b[0m                                 Traceback (most recent call last)",
      "Cell \u001b[0;32mIn[30], line 49\u001b[0m\n\u001b[1;32m     46\u001b[0m     \u001b[38;5;66;03m# acc = cross_val_score(clf, X_train, y_train, cv=5).mean()  # Use cross-validation    return {'loss': -acc, 'status': STATUS_OK}\u001b[39;00m\n\u001b[1;32m     48\u001b[0m trials \u001b[38;5;241m=\u001b[39m Trials()\n\u001b[0;32m---> 49\u001b[0m best \u001b[38;5;241m=\u001b[39m fmin(f, space4knn, algo\u001b[38;5;241m=\u001b[39mtpe\u001b[38;5;241m.\u001b[39msuggest, max_evals\u001b[38;5;241m=\u001b[39m\u001b[38;5;241m100\u001b[39m, trials\u001b[38;5;241m=\u001b[39mtrials)\n\u001b[1;32m     50\u001b[0m \u001b[38;5;28mprint\u001b[39m(\u001b[38;5;124mf\u001b[39m\u001b[38;5;124m'\u001b[39m\u001b[38;5;124mbest: \u001b[39m\u001b[38;5;132;01m{\u001b[39;00mbest\u001b[38;5;132;01m}\u001b[39;00m\u001b[38;5;124m'\u001b[39m)\n",
      "File \u001b[0;32m~/Library/CloudStorage/Box-Box/Holmes_lab_kaley/git_repos/hyperopt_repo/hyperopt/fmin.py:536\u001b[0m, in \u001b[0;36mfmin\u001b[0;34m(fn, space, algo, max_evals, timeout, loss_threshold, trials, rstate, allow_trials_fmin, pass_expr_memo_ctrl, catch_eval_exceptions, verbose, return_argmin, points_to_evaluate, max_queue_len, show_progressbar, early_stop_fn, trials_save_file)\u001b[0m\n\u001b[1;32m    533\u001b[0m     fn \u001b[38;5;241m=\u001b[39m __objective_fmin_wrapper(fn)\n\u001b[1;32m    535\u001b[0m \u001b[38;5;28;01mif\u001b[39;00m allow_trials_fmin \u001b[38;5;129;01mand\u001b[39;00m \u001b[38;5;28mhasattr\u001b[39m(trials, \u001b[38;5;124m\"\u001b[39m\u001b[38;5;124mfmin\u001b[39m\u001b[38;5;124m\"\u001b[39m):\n\u001b[0;32m--> 536\u001b[0m     \u001b[38;5;28;01mreturn\u001b[39;00m trials\u001b[38;5;241m.\u001b[39mfmin(\n\u001b[1;32m    537\u001b[0m         fn,\n\u001b[1;32m    538\u001b[0m         space,\n\u001b[1;32m    539\u001b[0m         algo\u001b[38;5;241m=\u001b[39malgo,\n\u001b[1;32m    540\u001b[0m         max_evals\u001b[38;5;241m=\u001b[39mmax_evals,\n\u001b[1;32m    541\u001b[0m         timeout\u001b[38;5;241m=\u001b[39mtimeout,\n\u001b[1;32m    542\u001b[0m         loss_threshold\u001b[38;5;241m=\u001b[39mloss_threshold,\n\u001b[1;32m    543\u001b[0m         max_queue_len\u001b[38;5;241m=\u001b[39mmax_queue_len,\n\u001b[1;32m    544\u001b[0m         rstate\u001b[38;5;241m=\u001b[39mrstate,\n\u001b[1;32m    545\u001b[0m         pass_expr_memo_ctrl\u001b[38;5;241m=\u001b[39mpass_expr_memo_ctrl,\n\u001b[1;32m    546\u001b[0m         verbose\u001b[38;5;241m=\u001b[39mverbose,\n\u001b[1;32m    547\u001b[0m         catch_eval_exceptions\u001b[38;5;241m=\u001b[39mcatch_eval_exceptions,\n\u001b[1;32m    548\u001b[0m         return_argmin\u001b[38;5;241m=\u001b[39mreturn_argmin,\n\u001b[1;32m    549\u001b[0m         show_progressbar\u001b[38;5;241m=\u001b[39mshow_progressbar,\n\u001b[1;32m    550\u001b[0m         early_stop_fn\u001b[38;5;241m=\u001b[39mearly_stop_fn,\n\u001b[1;32m    551\u001b[0m         trials_save_file\u001b[38;5;241m=\u001b[39mtrials_save_file,\n\u001b[1;32m    552\u001b[0m     )\n\u001b[1;32m    554\u001b[0m \u001b[38;5;28;01mif\u001b[39;00m trials \u001b[38;5;129;01mis\u001b[39;00m \u001b[38;5;28;01mNone\u001b[39;00m:\n\u001b[1;32m    555\u001b[0m     \u001b[38;5;28;01mif\u001b[39;00m os\u001b[38;5;241m.\u001b[39mpath\u001b[38;5;241m.\u001b[39mexists(trials_save_file):\n",
      "File \u001b[0;32m~/Library/CloudStorage/Box-Box/Holmes_lab_kaley/git_repos/hyperopt_repo/hyperopt/base.py:670\u001b[0m, in \u001b[0;36mTrials.fmin\u001b[0;34m(self, fn, space, algo, max_evals, timeout, loss_threshold, max_queue_len, rstate, verbose, pass_expr_memo_ctrl, catch_eval_exceptions, return_argmin, show_progressbar, early_stop_fn, trials_save_file)\u001b[0m\n\u001b[1;32m    665\u001b[0m \u001b[38;5;66;03m# -- Stop-gap implementation!\u001b[39;00m\n\u001b[1;32m    666\u001b[0m \u001b[38;5;66;03m#    fmin should have been a Trials method in the first place\u001b[39;00m\n\u001b[1;32m    667\u001b[0m \u001b[38;5;66;03m#    but for now it's still sitting in another file.\u001b[39;00m\n\u001b[1;32m    668\u001b[0m \u001b[38;5;28;01mfrom\u001b[39;00m \u001b[38;5;21;01m.\u001b[39;00m\u001b[38;5;21;01mfmin\u001b[39;00m \u001b[38;5;28;01mimport\u001b[39;00m fmin\n\u001b[0;32m--> 670\u001b[0m \u001b[38;5;28;01mreturn\u001b[39;00m fmin(\n\u001b[1;32m    671\u001b[0m     fn,\n\u001b[1;32m    672\u001b[0m     space,\n\u001b[1;32m    673\u001b[0m     algo\u001b[38;5;241m=\u001b[39malgo,\n\u001b[1;32m    674\u001b[0m     max_evals\u001b[38;5;241m=\u001b[39mmax_evals,\n\u001b[1;32m    675\u001b[0m     timeout\u001b[38;5;241m=\u001b[39mtimeout,\n\u001b[1;32m    676\u001b[0m     loss_threshold\u001b[38;5;241m=\u001b[39mloss_threshold,\n\u001b[1;32m    677\u001b[0m     trials\u001b[38;5;241m=\u001b[39m\u001b[38;5;28mself\u001b[39m,\n\u001b[1;32m    678\u001b[0m     rstate\u001b[38;5;241m=\u001b[39mrstate,\n\u001b[1;32m    679\u001b[0m     verbose\u001b[38;5;241m=\u001b[39mverbose,\n\u001b[1;32m    680\u001b[0m     max_queue_len\u001b[38;5;241m=\u001b[39mmax_queue_len,\n\u001b[1;32m    681\u001b[0m     allow_trials_fmin\u001b[38;5;241m=\u001b[39m\u001b[38;5;28;01mFalse\u001b[39;00m,  \u001b[38;5;66;03m# -- prevent recursion\u001b[39;00m\n\u001b[1;32m    682\u001b[0m     pass_expr_memo_ctrl\u001b[38;5;241m=\u001b[39mpass_expr_memo_ctrl,\n\u001b[1;32m    683\u001b[0m     catch_eval_exceptions\u001b[38;5;241m=\u001b[39mcatch_eval_exceptions,\n\u001b[1;32m    684\u001b[0m     return_argmin\u001b[38;5;241m=\u001b[39mreturn_argmin,\n\u001b[1;32m    685\u001b[0m     show_progressbar\u001b[38;5;241m=\u001b[39mshow_progressbar,\n\u001b[1;32m    686\u001b[0m     early_stop_fn\u001b[38;5;241m=\u001b[39mearly_stop_fn,\n\u001b[1;32m    687\u001b[0m     trials_save_file\u001b[38;5;241m=\u001b[39mtrials_save_file,\n\u001b[1;32m    688\u001b[0m )\n",
      "File \u001b[0;32m~/Library/CloudStorage/Box-Box/Holmes_lab_kaley/git_repos/hyperopt_repo/hyperopt/fmin.py:582\u001b[0m, in \u001b[0;36mfmin\u001b[0;34m(fn, space, algo, max_evals, timeout, loss_threshold, trials, rstate, allow_trials_fmin, pass_expr_memo_ctrl, catch_eval_exceptions, verbose, return_argmin, points_to_evaluate, max_queue_len, show_progressbar, early_stop_fn, trials_save_file)\u001b[0m\n\u001b[1;32m    579\u001b[0m rval\u001b[38;5;241m.\u001b[39mcatch_eval_exceptions \u001b[38;5;241m=\u001b[39m catch_eval_exceptions\n\u001b[1;32m    581\u001b[0m \u001b[38;5;66;03m# next line is where the fmin is actually executed\u001b[39;00m\n\u001b[0;32m--> 582\u001b[0m rval\u001b[38;5;241m.\u001b[39mexhaust()\n\u001b[1;32m    584\u001b[0m \u001b[38;5;28;01mif\u001b[39;00m return_argmin:\n\u001b[1;32m    585\u001b[0m     \u001b[38;5;28;01mif\u001b[39;00m \u001b[38;5;28mlen\u001b[39m(trials\u001b[38;5;241m.\u001b[39mtrials) \u001b[38;5;241m==\u001b[39m \u001b[38;5;241m0\u001b[39m:\n",
      "File \u001b[0;32m~/Library/CloudStorage/Box-Box/Holmes_lab_kaley/git_repos/hyperopt_repo/hyperopt/fmin.py:360\u001b[0m, in \u001b[0;36mFMinIter.exhaust\u001b[0;34m(self)\u001b[0m\n\u001b[1;32m    358\u001b[0m \u001b[38;5;28;01mdef\u001b[39;00m \u001b[38;5;21mexhaust\u001b[39m(\u001b[38;5;28mself\u001b[39m):\n\u001b[1;32m    359\u001b[0m     n_done \u001b[38;5;241m=\u001b[39m \u001b[38;5;28mlen\u001b[39m(\u001b[38;5;28mself\u001b[39m\u001b[38;5;241m.\u001b[39mtrials)\n\u001b[0;32m--> 360\u001b[0m     \u001b[38;5;28mself\u001b[39m\u001b[38;5;241m.\u001b[39mrun(\u001b[38;5;28mself\u001b[39m\u001b[38;5;241m.\u001b[39mmax_evals \u001b[38;5;241m-\u001b[39m n_done, block_until_done\u001b[38;5;241m=\u001b[39m\u001b[38;5;28mself\u001b[39m\u001b[38;5;241m.\u001b[39masynchronous)\n\u001b[1;32m    361\u001b[0m     \u001b[38;5;28mself\u001b[39m\u001b[38;5;241m.\u001b[39mtrials\u001b[38;5;241m.\u001b[39mrefresh()\n\u001b[1;32m    362\u001b[0m     \u001b[38;5;28;01mreturn\u001b[39;00m \u001b[38;5;28mself\u001b[39m\n",
      "File \u001b[0;32m~/Library/CloudStorage/Box-Box/Holmes_lab_kaley/git_repos/hyperopt_repo/hyperopt/fmin.py:296\u001b[0m, in \u001b[0;36mFMinIter.run\u001b[0;34m(self, N, block_until_done)\u001b[0m\n\u001b[1;32m    293\u001b[0m     time\u001b[38;5;241m.\u001b[39msleep(\u001b[38;5;28mself\u001b[39m\u001b[38;5;241m.\u001b[39mpoll_interval_secs)\n\u001b[1;32m    294\u001b[0m \u001b[38;5;28;01melse\u001b[39;00m:\n\u001b[1;32m    295\u001b[0m     \u001b[38;5;66;03m# -- loop over trials and do the jobs directly\u001b[39;00m\n\u001b[0;32m--> 296\u001b[0m     \u001b[38;5;28mself\u001b[39m\u001b[38;5;241m.\u001b[39mserial_evaluate()\n\u001b[1;32m    298\u001b[0m \u001b[38;5;28mself\u001b[39m\u001b[38;5;241m.\u001b[39mtrials\u001b[38;5;241m.\u001b[39mrefresh()\n\u001b[1;32m    299\u001b[0m \u001b[38;5;28;01mif\u001b[39;00m \u001b[38;5;28mself\u001b[39m\u001b[38;5;241m.\u001b[39mtrials_save_file \u001b[38;5;241m!=\u001b[39m \u001b[38;5;124m\"\u001b[39m\u001b[38;5;124m\"\u001b[39m:\n",
      "File \u001b[0;32m~/Library/CloudStorage/Box-Box/Holmes_lab_kaley/git_repos/hyperopt_repo/hyperopt/fmin.py:175\u001b[0m, in \u001b[0;36mFMinIter.serial_evaluate\u001b[0;34m(self, N)\u001b[0m\n\u001b[1;32m    173\u001b[0m ctrl \u001b[38;5;241m=\u001b[39m base\u001b[38;5;241m.\u001b[39mCtrl(\u001b[38;5;28mself\u001b[39m\u001b[38;5;241m.\u001b[39mtrials, current_trial\u001b[38;5;241m=\u001b[39mtrial)\n\u001b[1;32m    174\u001b[0m \u001b[38;5;28;01mtry\u001b[39;00m:\n\u001b[0;32m--> 175\u001b[0m     result \u001b[38;5;241m=\u001b[39m \u001b[38;5;28mself\u001b[39m\u001b[38;5;241m.\u001b[39mdomain\u001b[38;5;241m.\u001b[39mevaluate(spec, ctrl)\n\u001b[1;32m    176\u001b[0m \u001b[38;5;28;01mexcept\u001b[39;00m \u001b[38;5;167;01mException\u001b[39;00m \u001b[38;5;28;01mas\u001b[39;00m e:\n\u001b[1;32m    177\u001b[0m     logger\u001b[38;5;241m.\u001b[39merror(\u001b[38;5;124m\"\u001b[39m\u001b[38;5;124mjob exception: \u001b[39m\u001b[38;5;132;01m%s\u001b[39;00m\u001b[38;5;124m\"\u001b[39m \u001b[38;5;241m%\u001b[39m \u001b[38;5;28mstr\u001b[39m(e))\n",
      "File \u001b[0;32m~/Library/CloudStorage/Box-Box/Holmes_lab_kaley/git_repos/hyperopt_repo/hyperopt/base.py:886\u001b[0m, in \u001b[0;36mDomain.evaluate\u001b[0;34m(self, config, ctrl, attach_attachments)\u001b[0m\n\u001b[1;32m    881\u001b[0m     rval \u001b[38;5;241m=\u001b[39m \u001b[38;5;28mself\u001b[39m\u001b[38;5;241m.\u001b[39mfn(expr\u001b[38;5;241m=\u001b[39m\u001b[38;5;28mself\u001b[39m\u001b[38;5;241m.\u001b[39mexpr, memo\u001b[38;5;241m=\u001b[39mmemo, ctrl\u001b[38;5;241m=\u001b[39mctrl)\n\u001b[1;32m    882\u001b[0m \u001b[38;5;28;01melse\u001b[39;00m:\n\u001b[1;32m    883\u001b[0m     \u001b[38;5;66;03m# -- the \"work\" of evaluating `config` can be written\u001b[39;00m\n\u001b[1;32m    884\u001b[0m     \u001b[38;5;66;03m#    either into the pyll part (self.expr)\u001b[39;00m\n\u001b[1;32m    885\u001b[0m     \u001b[38;5;66;03m#    or the normal Python part (self.fn)\u001b[39;00m\n\u001b[0;32m--> 886\u001b[0m     pyll_rval \u001b[38;5;241m=\u001b[39m pyll\u001b[38;5;241m.\u001b[39mrec_eval(\n\u001b[1;32m    887\u001b[0m         \u001b[38;5;28mself\u001b[39m\u001b[38;5;241m.\u001b[39mexpr,\n\u001b[1;32m    888\u001b[0m         memo\u001b[38;5;241m=\u001b[39mmemo,\n\u001b[1;32m    889\u001b[0m         print_node_on_error\u001b[38;5;241m=\u001b[39m\u001b[38;5;28mself\u001b[39m\u001b[38;5;241m.\u001b[39mrec_eval_print_node_on_error,\n\u001b[1;32m    890\u001b[0m     )\n\u001b[1;32m    891\u001b[0m     rval \u001b[38;5;241m=\u001b[39m \u001b[38;5;28mself\u001b[39m\u001b[38;5;241m.\u001b[39mfn(pyll_rval)\n\u001b[1;32m    893\u001b[0m \u001b[38;5;28;01mif\u001b[39;00m \u001b[38;5;28misinstance\u001b[39m(rval, (\u001b[38;5;28mfloat\u001b[39m, \u001b[38;5;28mint\u001b[39m, np\u001b[38;5;241m.\u001b[39mnumber)):\n",
      "File \u001b[0;32m~/Library/CloudStorage/Box-Box/Holmes_lab_kaley/git_repos/hyperopt_repo/hyperopt/pyll/base.py:863\u001b[0m, in \u001b[0;36mrec_eval\u001b[0;34m(expr, deepcopy_inputs, memo, max_program_len, memo_gc, print_trace, print_node_on_error)\u001b[0m\n\u001b[1;32m    861\u001b[0m         \u001b[38;5;28;01mraise\u001b[39;00m \u001b[38;5;167;01mValueError\u001b[39;00m(\u001b[38;5;124m\"\u001b[39m\u001b[38;5;124mswitch pos must be positive int\u001b[39m\u001b[38;5;124m\"\u001b[39m, switch_i)\n\u001b[1;32m    862\u001b[0m \u001b[38;5;28;01melse\u001b[39;00m:\n\u001b[0;32m--> 863\u001b[0m     \u001b[38;5;28;01mraise\u001b[39;00m \u001b[38;5;167;01mTypeError\u001b[39;00m(\u001b[38;5;124m\"\u001b[39m\u001b[38;5;124mswitch argument was\u001b[39m\u001b[38;5;124m\"\u001b[39m, switch_i)\n\u001b[1;32m    864\u001b[0m rval_var \u001b[38;5;241m=\u001b[39m node\u001b[38;5;241m.\u001b[39mpos_args[switch_i \u001b[38;5;241m+\u001b[39m \u001b[38;5;241m1\u001b[39m]\n\u001b[1;32m    865\u001b[0m \u001b[38;5;28;01mif\u001b[39;00m rval_var \u001b[38;5;129;01min\u001b[39;00m memo:\n",
      "\u001b[0;31mTypeError\u001b[0m: ('switch argument was', 1)"
     ]
    }
   ],
   "source": [
    "from sklearn.metrics import accuracy_score\n",
    "name = 'v1_day'\n",
    "X_train_df = pd.read_csv(os.path.join(brighten_dir, f'{name}_X_train.csv'))\n",
    "X_train_cleaned = X_train_df.drop(columns=[col for col in X_train_df.columns if col in id_columns or 'Unnamed' in col])\n",
    "y_train_df = pd.read_csv(os.path.join(brighten_dir, f'{name}_y_train.csv'))\n",
    "y_train_cleaned = y_train_df.drop(columns=[col for col in y_train_df.columns if 'Unnamed' in col]).squeeze()\n",
    "\n",
    "X_test_df = pd.read_csv(os.path.join(brighten_dir, f'{name}_X_test.csv'))\n",
    "X_test_cleaned = X_test_df.drop(columns=[col for col in X_test_df.columns if col in id_columns or 'Unnamed' in col])\n",
    "y_test_df = pd.read_csv(os.path.join(brighten_dir, f'{name}_y_test.csv'))\n",
    "y_test_cleaned = y_test_df.drop(columns=[col for col in y_test_df.columns if 'Unnamed' in col]).squeeze()\n",
    "\n",
    "X_df = pd.concat([X_train_cleaned, X_test_cleaned], axis=0)\n",
    "y_df = pd.concat([y_train_cleaned, y_test_cleaned], axis=0)\n",
    "\n",
    "X = X_df.to_numpy()\n",
    "y = y_df.to_numpy()\n",
    "X_train = X_train_cleaned.to_numpy()\n",
    "y_train = y_train_cleaned.to_numpy()\n",
    "X_test = X_test_cleaned.to_numpy()\n",
    "y_test = y_test_cleaned.to_numpy()\n",
    "\n",
    "\n",
    "def hyperopt_train_test(params):\n",
    "    clf = KNeighborsClassifier(**params)\n",
    "    return cross_val_score(clf, X, y).mean()\n",
    "\n",
    "space4knn = {\n",
    "    'n_neighbors': hp.choice('n_neighbors', range(1, 31)),  # 30 values\n",
    "    'weights': hp.choice('weights', ['uniform', 'distance']),\n",
    "    'algorithm': hp.choice('algorithm', ['auto', 'ball_tree', 'kd_tree', 'brute']),\n",
    "    'leaf_size': hp.quniform('leaf_size', 10, 50, 1)\n",
    "}\n",
    "\n",
    "def f(params):\n",
    "    clf = KNeighborsClassifier(\n",
    "        n_neighbors=params['n_neighbors'],\n",
    "        weights=params['weights'],\n",
    "        algorithm=params['algorithm'],\n",
    "        leaf_size=int(params['leaf_size'])\n",
    "    )\n",
    "    clf.fit(X_train, y_train)\n",
    "    preds = clf.predict(X_test)\n",
    "    acc = accuracy_score(y_test, preds)\n",
    "    return {'loss': -acc, 'status': STATUS_OK}\n",
    "    # acc = cross_val_score(clf, X_train, y_train, cv=5).mean()  # Use cross-validation    return {'loss': -acc, 'status': STATUS_OK}\n",
    "\n",
    "trials = Trials()\n",
    "best = fmin(f, space4knn, algo=tpe.suggest, max_evals=100, trials=trials)\n",
    "print(f'best: {best}')\n"
   ]
  },
  {
   "cell_type": "code",
   "execution_count": null,
   "metadata": {},
   "outputs": [],
   "source": [
    "f, ax = plt.subplots(1)#, figsize=(10,10))\n",
    "xs = [t['misc']['vals']['n'] for t in trials.trials]\n",
    "ys = [-t['result']['loss'] for t in trials.trials]\n",
    "ax.scatter(xs, ys, s=20, linewidth=0.01, alpha=0.5)\n",
    "ax.set_title('Iris Dataset - KNN', fontsize=18)\n",
    "ax.set_xlabel('n_neighbors', fontsize=12)\n",
    "ax.set_ylabel('cross validation accuracy', fontsize=12)"
   ]
  },
  {
   "cell_type": "code",
   "execution_count": 27,
   "metadata": {},
   "outputs": [
    {
     "name": "stdout",
     "output_type": "stream",
     "text": [
      "<class 'numpy.ndarray'>\n",
      "<class 'numpy.ndarray'>\n"
     ]
    }
   ],
   "source": [
    "from sklearn import datasets\n",
    "iris = datasets.load_iris()\n",
    "X = iris.data\n",
    "print(type(X))\n",
    "y = iris.target\n",
    "print(type(y))\n"
   ]
  }
 ],
 "metadata": {
  "kernelspec": {
   "display_name": "base",
   "language": "python",
   "name": "python3"
  },
  "language_info": {
   "codemirror_mode": {
    "name": "ipython",
    "version": 3
   },
   "file_extension": ".py",
   "mimetype": "text/x-python",
   "name": "python",
   "nbconvert_exporter": "python",
   "pygments_lexer": "ipython3",
   "version": "3.12.7"
  }
 },
 "nbformat": 4,
 "nbformat_minor": 2
}
